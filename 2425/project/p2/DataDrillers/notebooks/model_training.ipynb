{
  "nbformat": 4,
  "nbformat_minor": 0,
  "metadata": {
    "colab": {
      "provenance": []
    },
    "kernelspec": {
      "name": "python3",
      "display_name": "Python 3"
    },
    "language_info": {
      "name": "python"
    }
  },
  "cells": [
    {
      "cell_type": "markdown",
      "source": [
        "#🤖 **Sentiment Classification Model (Training)**\n",
        "\n",
        "This section uses a TF-IDF vectorizer to transform cleaned text into features and trains a Logistic Regression model to classify sentiments (positive, neutral, negative)."
      ],
      "metadata": {
        "id": "KYP997YVG4DT"
      }
    },
    {
      "cell_type": "markdown",
      "source": [
        "**📘 Subject Details**  \n",
        "**Subject Code:** SECP3133  \n",
        "**Subject Name:** HIGH PERFORMANCE DATA PROCESSING  \n",
        "**Session-Sem:** 24/25-2  \n",
        "\n",
        "---\n",
        "\n",
        "**👥 Group B - Data Drillers**\n",
        "\n",
        "| No. | Name                                  | Matric No       |\n",
        "|-----|---------------------------------------|-----------------|\n",
        "| 1   | MUHAMMAD ANAS BIN MOHD PIKRI         | A21SC0464       |\n",
        "| 2   | MULYANI BINTI SARIPUDDIN             | A22EC0223       |\n",
        "| 3   | ALIATUL IZZAH BINTI JASMAN           | A22EC0136       |\n",
        "| 4   | THEVAN RAJU A/L JEGANATH             | A22EC0286       |"
      ],
      "metadata": {
        "id": "hr-836sxNbQA"
      }
    },
    {
      "cell_type": "markdown",
      "source": [
        "## 🔗 **Connect to Google Drive**"
      ],
      "metadata": {
        "id": "o-2E0q3MInFY"
      }
    },
    {
      "cell_type": "code",
      "source": [
        "from google.colab import drive\n",
        "import os\n",
        "\n",
        "# Mount Google Drive\n",
        "drive.mount('/content/drive')"
      ],
      "metadata": {
        "colab": {
          "base_uri": "https://localhost:8080/"
        },
        "id": "0wAr2dy2IUss",
        "outputId": "04085a5f-9903-42f1-a5d6-c7332305b7ba"
      },
      "execution_count": 1,
      "outputs": [
        {
          "output_type": "stream",
          "name": "stdout",
          "text": [
            "Mounted at /content/drive\n"
          ]
        }
      ]
    },
    {
      "cell_type": "markdown",
      "source": [
        "## **1. 🤖 Model Training & Evaluation (Naive Bayes)**\n",
        "This section trains a Multinomial Naive Bayes classifier to predict the sentiment of app reviews (positive, neutral, negative). The cleaned review texts are vectorized using TF-IDF, and the model’s performance is evaluated using accuracy and a classification report."
      ],
      "metadata": {
        "id": "iaVW_j3-I308"
      }
    },
    {
      "cell_type": "markdown",
      "source": [
        "### **⚙️ Install Required Libraries**\n",
        "\n",
        "Installs libraries needed for machine learning (scikit-learn) and natural language processing (nltk) tasks like sentiment classification and text preprocessing."
      ],
      "metadata": {
        "id": "K80NMR4eJe2w"
      }
    },
    {
      "cell_type": "code",
      "source": [
        "!pip install scikit-learn\n",
        "!pip install nltk"
      ],
      "metadata": {
        "id": "MUy9Ic_6JtZd",
        "colab": {
          "base_uri": "https://localhost:8080/"
        },
        "outputId": "12645bc6-8e67-48b5-a299-d7fa9c12f355"
      },
      "execution_count": 2,
      "outputs": [
        {
          "output_type": "stream",
          "name": "stdout",
          "text": [
            "Requirement already satisfied: scikit-learn in /usr/local/lib/python3.11/dist-packages (1.6.1)\n",
            "Requirement already satisfied: numpy>=1.19.5 in /usr/local/lib/python3.11/dist-packages (from scikit-learn) (2.0.2)\n",
            "Requirement already satisfied: scipy>=1.6.0 in /usr/local/lib/python3.11/dist-packages (from scikit-learn) (1.15.3)\n",
            "Requirement already satisfied: joblib>=1.2.0 in /usr/local/lib/python3.11/dist-packages (from scikit-learn) (1.5.1)\n",
            "Requirement already satisfied: threadpoolctl>=3.1.0 in /usr/local/lib/python3.11/dist-packages (from scikit-learn) (3.6.0)\n",
            "Requirement already satisfied: nltk in /usr/local/lib/python3.11/dist-packages (3.9.1)\n",
            "Requirement already satisfied: click in /usr/local/lib/python3.11/dist-packages (from nltk) (8.2.1)\n",
            "Requirement already satisfied: joblib in /usr/local/lib/python3.11/dist-packages (from nltk) (1.5.1)\n",
            "Requirement already satisfied: regex>=2021.8.3 in /usr/local/lib/python3.11/dist-packages (from nltk) (2024.11.6)\n",
            "Requirement already satisfied: tqdm in /usr/local/lib/python3.11/dist-packages (from nltk) (4.67.1)\n"
          ]
        }
      ]
    },
    {
      "cell_type": "markdown",
      "source": [
        "### **📦 Main Code**\n"
      ],
      "metadata": {
        "id": "VtAd93_JKW6Q"
      }
    },
    {
      "cell_type": "code",
      "source": [
        "import pandas as pd\n",
        "from sklearn.model_selection import train_test_split\n",
        "from sklearn.feature_extraction.text import TfidfVectorizer\n",
        "from sklearn.naive_bayes import MultinomialNB\n",
        "from sklearn.metrics import classification_report, accuracy_score\n",
        "import nltk\n",
        "\n",
        "# Step 1: Load cleaned reviews\n",
        "df = pd.read_csv('/content/drive/MyDrive/Project2/cleaned_reviews.csv')\n",
        "\n",
        "# Step 2: Prepare data\n",
        "X = df['review'].fillna('')  # Also handles nulls\n",
        "y = df['sentiment']\n",
        "\n",
        "# Step 3: Split into train/test sets\n",
        "X_train_nb, X_test_nb, y_train_nb, y_test_nb = train_test_split(X, y, test_size=0.2, random_state=42)\n",
        "\n",
        "# Step 4: TF-IDF Vectorization\n",
        "vectorizer_nb = TfidfVectorizer(max_features=5000)\n",
        "X_train_vec_nb = vectorizer_nb.fit_transform(X_train_nb)\n",
        "X_test_vec_nb = vectorizer_nb.transform(X_test_nb)\n",
        "\n",
        "# Step 5: Train Naive Bayes classifier\n",
        "nb_model = MultinomialNB()\n",
        "nb_model.fit(X_train_vec_nb, y_train_nb)\n",
        "\n",
        "# Step 6: Predict and evaluate\n",
        "y_pred_nb = nb_model.predict(X_test_vec_nb)\n",
        "y_pred_nb_decoded = y_pred_nb\n",
        "\n",
        "# Capture Naive Bayes metrics\n",
        "report_nb = classification_report(y_test_nb, y_pred_nb, output_dict=True)\n",
        "acc_nb = accuracy_score(y_test_nb, y_pred_nb)\n",
        "\n",
        "print(\"✅ NB Classification Report:\\n\", classification_report(y_test_nb, y_pred_nb))\n",
        "print(\"🎯 NB Accuracy: {:.2f}%\".format(acc_nb * 100))"
      ],
      "metadata": {
        "colab": {
          "base_uri": "https://localhost:8080/"
        },
        "id": "a6LmA1q8I_sq",
        "outputId": "823594cb-a43f-41bb-919d-45b8cbaeb35e"
      },
      "execution_count": 3,
      "outputs": [
        {
          "output_type": "stream",
          "name": "stdout",
          "text": [
            "✅ NB Classification Report:\n",
            "               precision    recall  f1-score   support\n",
            "\n",
            "    negative       0.66      0.78      0.72      3199\n",
            "     neutral       0.43      0.00      0.01       883\n",
            "    positive       0.92      0.94      0.93     16074\n",
            "\n",
            "    accuracy                           0.87     20156\n",
            "   macro avg       0.67      0.57      0.55     20156\n",
            "weighted avg       0.86      0.87      0.86     20156\n",
            "\n",
            "🎯 NB Accuracy: 87.45%\n"
          ]
        }
      ]
    },
    {
      "cell_type": "markdown",
      "source": [
        "## 🔮 **Deep Learning Model (LSTM)**\n",
        "This section builds a Long Short-Term Memory (LSTM) neural network using TensorFlow/Keras to classify sentiments in e-wallet app reviews. It uses tokenized and padded sequences from the cleaned text and trains a model to predict positive, neutral, or negative sentiments. The model is evaluated using a classification report."
      ],
      "metadata": {
        "id": "Zk5C4rj4JMa4"
      }
    },
    {
      "cell_type": "markdown",
      "source": [
        "### ⚙️ **Install Required Libraries**"
      ],
      "metadata": {
        "id": "lKyg2bwbKh6d"
      }
    },
    {
      "cell_type": "code",
      "source": [
        "!pip install tensorflow\n",
        "!pip install nltk\n",
        "!pip install emoji"
      ],
      "metadata": {
        "id": "Wutd5aY9JS8_",
        "colab": {
          "base_uri": "https://localhost:8080/"
        },
        "outputId": "15bc0229-b99b-4e61-b9b4-354435351b5f"
      },
      "execution_count": 4,
      "outputs": [
        {
          "output_type": "stream",
          "name": "stdout",
          "text": [
            "Requirement already satisfied: tensorflow in /usr/local/lib/python3.11/dist-packages (2.18.0)\n",
            "Requirement already satisfied: absl-py>=1.0.0 in /usr/local/lib/python3.11/dist-packages (from tensorflow) (1.4.0)\n",
            "Requirement already satisfied: astunparse>=1.6.0 in /usr/local/lib/python3.11/dist-packages (from tensorflow) (1.6.3)\n",
            "Requirement already satisfied: flatbuffers>=24.3.25 in /usr/local/lib/python3.11/dist-packages (from tensorflow) (25.2.10)\n",
            "Requirement already satisfied: gast!=0.5.0,!=0.5.1,!=0.5.2,>=0.2.1 in /usr/local/lib/python3.11/dist-packages (from tensorflow) (0.6.0)\n",
            "Requirement already satisfied: google-pasta>=0.1.1 in /usr/local/lib/python3.11/dist-packages (from tensorflow) (0.2.0)\n",
            "Requirement already satisfied: libclang>=13.0.0 in /usr/local/lib/python3.11/dist-packages (from tensorflow) (18.1.1)\n",
            "Requirement already satisfied: opt-einsum>=2.3.2 in /usr/local/lib/python3.11/dist-packages (from tensorflow) (3.4.0)\n",
            "Requirement already satisfied: packaging in /usr/local/lib/python3.11/dist-packages (from tensorflow) (24.2)\n",
            "Requirement already satisfied: protobuf!=4.21.0,!=4.21.1,!=4.21.2,!=4.21.3,!=4.21.4,!=4.21.5,<6.0.0dev,>=3.20.3 in /usr/local/lib/python3.11/dist-packages (from tensorflow) (5.29.5)\n",
            "Requirement already satisfied: requests<3,>=2.21.0 in /usr/local/lib/python3.11/dist-packages (from tensorflow) (2.32.3)\n",
            "Requirement already satisfied: setuptools in /usr/local/lib/python3.11/dist-packages (from tensorflow) (75.2.0)\n",
            "Requirement already satisfied: six>=1.12.0 in /usr/local/lib/python3.11/dist-packages (from tensorflow) (1.17.0)\n",
            "Requirement already satisfied: termcolor>=1.1.0 in /usr/local/lib/python3.11/dist-packages (from tensorflow) (3.1.0)\n",
            "Requirement already satisfied: typing-extensions>=3.6.6 in /usr/local/lib/python3.11/dist-packages (from tensorflow) (4.14.0)\n",
            "Requirement already satisfied: wrapt>=1.11.0 in /usr/local/lib/python3.11/dist-packages (from tensorflow) (1.17.2)\n",
            "Requirement already satisfied: grpcio<2.0,>=1.24.3 in /usr/local/lib/python3.11/dist-packages (from tensorflow) (1.73.1)\n",
            "Requirement already satisfied: tensorboard<2.19,>=2.18 in /usr/local/lib/python3.11/dist-packages (from tensorflow) (2.18.0)\n",
            "Requirement already satisfied: keras>=3.5.0 in /usr/local/lib/python3.11/dist-packages (from tensorflow) (3.8.0)\n",
            "Requirement already satisfied: numpy<2.1.0,>=1.26.0 in /usr/local/lib/python3.11/dist-packages (from tensorflow) (2.0.2)\n",
            "Requirement already satisfied: h5py>=3.11.0 in /usr/local/lib/python3.11/dist-packages (from tensorflow) (3.14.0)\n",
            "Requirement already satisfied: ml-dtypes<0.5.0,>=0.4.0 in /usr/local/lib/python3.11/dist-packages (from tensorflow) (0.4.1)\n",
            "Requirement already satisfied: tensorflow-io-gcs-filesystem>=0.23.1 in /usr/local/lib/python3.11/dist-packages (from tensorflow) (0.37.1)\n",
            "Requirement already satisfied: wheel<1.0,>=0.23.0 in /usr/local/lib/python3.11/dist-packages (from astunparse>=1.6.0->tensorflow) (0.45.1)\n",
            "Requirement already satisfied: rich in /usr/local/lib/python3.11/dist-packages (from keras>=3.5.0->tensorflow) (13.9.4)\n",
            "Requirement already satisfied: namex in /usr/local/lib/python3.11/dist-packages (from keras>=3.5.0->tensorflow) (0.1.0)\n",
            "Requirement already satisfied: optree in /usr/local/lib/python3.11/dist-packages (from keras>=3.5.0->tensorflow) (0.16.0)\n",
            "Requirement already satisfied: charset-normalizer<4,>=2 in /usr/local/lib/python3.11/dist-packages (from requests<3,>=2.21.0->tensorflow) (3.4.2)\n",
            "Requirement already satisfied: idna<4,>=2.5 in /usr/local/lib/python3.11/dist-packages (from requests<3,>=2.21.0->tensorflow) (3.10)\n",
            "Requirement already satisfied: urllib3<3,>=1.21.1 in /usr/local/lib/python3.11/dist-packages (from requests<3,>=2.21.0->tensorflow) (2.4.0)\n",
            "Requirement already satisfied: certifi>=2017.4.17 in /usr/local/lib/python3.11/dist-packages (from requests<3,>=2.21.0->tensorflow) (2025.6.15)\n",
            "Requirement already satisfied: markdown>=2.6.8 in /usr/local/lib/python3.11/dist-packages (from tensorboard<2.19,>=2.18->tensorflow) (3.8.2)\n",
            "Requirement already satisfied: tensorboard-data-server<0.8.0,>=0.7.0 in /usr/local/lib/python3.11/dist-packages (from tensorboard<2.19,>=2.18->tensorflow) (0.7.2)\n",
            "Requirement already satisfied: werkzeug>=1.0.1 in /usr/local/lib/python3.11/dist-packages (from tensorboard<2.19,>=2.18->tensorflow) (3.1.3)\n",
            "Requirement already satisfied: MarkupSafe>=2.1.1 in /usr/local/lib/python3.11/dist-packages (from werkzeug>=1.0.1->tensorboard<2.19,>=2.18->tensorflow) (3.0.2)\n",
            "Requirement already satisfied: markdown-it-py>=2.2.0 in /usr/local/lib/python3.11/dist-packages (from rich->keras>=3.5.0->tensorflow) (3.0.0)\n",
            "Requirement already satisfied: pygments<3.0.0,>=2.13.0 in /usr/local/lib/python3.11/dist-packages (from rich->keras>=3.5.0->tensorflow) (2.19.2)\n",
            "Requirement already satisfied: mdurl~=0.1 in /usr/local/lib/python3.11/dist-packages (from markdown-it-py>=2.2.0->rich->keras>=3.5.0->tensorflow) (0.1.2)\n",
            "Requirement already satisfied: nltk in /usr/local/lib/python3.11/dist-packages (3.9.1)\n",
            "Requirement already satisfied: click in /usr/local/lib/python3.11/dist-packages (from nltk) (8.2.1)\n",
            "Requirement already satisfied: joblib in /usr/local/lib/python3.11/dist-packages (from nltk) (1.5.1)\n",
            "Requirement already satisfied: regex>=2021.8.3 in /usr/local/lib/python3.11/dist-packages (from nltk) (2024.11.6)\n",
            "Requirement already satisfied: tqdm in /usr/local/lib/python3.11/dist-packages (from nltk) (4.67.1)\n",
            "Collecting emoji\n",
            "  Downloading emoji-2.14.1-py3-none-any.whl.metadata (5.7 kB)\n",
            "Downloading emoji-2.14.1-py3-none-any.whl (590 kB)\n",
            "\u001b[2K   \u001b[90m━━━━━━━━━━━━━━━━━━━━━━━━━━━━━━━━━━━━━━━━\u001b[0m \u001b[32m590.6/590.6 kB\u001b[0m \u001b[31m7.8 MB/s\u001b[0m eta \u001b[36m0:00:00\u001b[0m\n",
            "\u001b[?25hInstalling collected packages: emoji\n",
            "Successfully installed emoji-2.14.1\n"
          ]
        }
      ]
    },
    {
      "cell_type": "markdown",
      "source": [
        "### **📦 Main Code**\n"
      ],
      "metadata": {
        "id": "3qH9RRAgKpIt"
      }
    },
    {
      "cell_type": "code",
      "source": [
        "import pandas as pd\n",
        "import numpy as np\n",
        "import nltk\n",
        "import re\n",
        "import emoji\n",
        "import tensorflow as tf\n",
        "from nltk.corpus import stopwords\n",
        "from tensorflow.keras.preprocessing.text import Tokenizer\n",
        "from tensorflow.keras.preprocessing.sequence import pad_sequences\n",
        "from sklearn.preprocessing import LabelEncoder\n",
        "from sklearn.model_selection import train_test_split\n",
        "from sklearn.metrics import classification_report\n",
        "\n",
        "# ✅ Download stopwords\n",
        "nltk.download('stopwords')\n",
        "\n",
        "# ✅ Load cleaned dataset\n",
        "df = pd.read_csv('/content/drive/MyDrive/Project2/cleaned_reviews.csv')\n",
        "\n",
        "# ✅ Optional: balance dataset if too skewed\n",
        "# You can add a step later if needed\n",
        "\n",
        "# ✅ Tokenization parameters\n",
        "MAX_NUM_WORDS = 10000\n",
        "MAX_SEQUENCE_LENGTH = 100\n",
        "\n",
        "# ✅ Prepare text and labels\n",
        "texts = df['review'].astype(str).tolist()\n",
        "labels = df['sentiment'].tolist()\n",
        "\n",
        "# ✅ Encode sentiment labels to integers\n",
        "label_encoder = LabelEncoder()\n",
        "y = label_encoder.fit_transform(labels)  # positive:2, neutral:1, negative:0\n",
        "\n",
        "# ✅ Tokenize text\n",
        "tokenizer = Tokenizer(num_words=MAX_NUM_WORDS, oov_token='<OOV>')\n",
        "tokenizer.fit_on_texts(texts)\n",
        "sequences = tokenizer.texts_to_sequences(texts)\n",
        "\n",
        "# ✅ Pad sequences\n",
        "X = pad_sequences(sequences, maxlen=MAX_SEQUENCE_LENGTH)\n",
        "\n",
        "# ✅ Train-test split\n",
        "X_train, X_test, y_train, y_test = train_test_split(X, y, test_size=0.2, random_state=42)\n",
        "\n",
        "# ✅ Build LSTM model\n",
        "model = tf.keras.Sequential([\n",
        "    tf.keras.layers.Embedding(input_dim=MAX_NUM_WORDS, output_dim=64, input_length=MAX_SEQUENCE_LENGTH),\n",
        "    tf.keras.layers.LSTM(64, return_sequences=False),\n",
        "    tf.keras.layers.Dense(64, activation='relu'),\n",
        "    tf.keras.layers.Dropout(0.5),\n",
        "    tf.keras.layers.Dense(3, activation='softmax')  # 3 classes\n",
        "])\n",
        "\n",
        "model.compile(loss='sparse_categorical_crossentropy', optimizer='adam', metrics=['accuracy'])\n",
        "\n",
        "# ✅ Train model\n",
        "history = model.fit(X_train, y_train, epochs=5, batch_size=128, validation_split=0.2)\n",
        "\n",
        "lstm_model = model\n",
        "\n",
        "# ✅ Evaluate\n",
        "y_pred = model.predict(X_test)\n",
        "y_pred_classes = np.argmax(y_pred, axis=1)\n",
        "\n",
        "y_pred_lstm = y_pred_classes\n",
        "\n",
        "# Capture LSTM metrics\n",
        "report_lstm = classification_report(y_test, y_pred_classes, target_names=label_encoder.classes_, output_dict=True)\n",
        "acc_lstm = accuracy_score(y_test, y_pred_classes)\n",
        "\n",
        "# ✅ Print report\n",
        "print(\"\\n📊 Classification Report:\\n\")\n",
        "print(classification_report(y_test, y_pred_classes, target_names=label_encoder.classes_))"
      ],
      "metadata": {
        "id": "IPINF_N3LGil",
        "colab": {
          "base_uri": "https://localhost:8080/"
        },
        "outputId": "0c5d27ed-2dbd-432f-ae9d-bc8d957b7be3"
      },
      "execution_count": 5,
      "outputs": [
        {
          "metadata": {
            "tags": null
          },
          "name": "stderr",
          "output_type": "stream",
          "text": [
            "[nltk_data] Downloading package stopwords to /root/nltk_data...\n",
            "[nltk_data]   Unzipping corpora/stopwords.zip.\n",
            "/usr/local/lib/python3.11/dist-packages/keras/src/layers/core/embedding.py:90: UserWarning: Argument `input_length` is deprecated. Just remove it.\n",
            "  warnings.warn(\n"
          ]
        },
        {
          "output_type": "stream",
          "name": "stdout",
          "text": [
            "Epoch 1/5\n",
            "\u001b[1m504/504\u001b[0m \u001b[32m━━━━━━━━━━━━━━━━━━━━\u001b[0m\u001b[37m\u001b[0m \u001b[1m134s\u001b[0m 245ms/step - accuracy: 0.8362 - loss: 0.4980 - val_accuracy: 0.8828 - val_loss: 0.3611\n",
            "Epoch 2/5\n",
            "\u001b[1m504/504\u001b[0m \u001b[32m━━━━━━━━━━━━━━━━━━━━\u001b[0m\u001b[37m\u001b[0m \u001b[1m102s\u001b[0m 203ms/step - accuracy: 0.8933 - loss: 0.3413 - val_accuracy: 0.8842 - val_loss: 0.3577\n",
            "Epoch 3/5\n",
            "\u001b[1m504/504\u001b[0m \u001b[32m━━━━━━━━━━━━━━━━━━━━\u001b[0m\u001b[37m\u001b[0m \u001b[1m104s\u001b[0m 205ms/step - accuracy: 0.8999 - loss: 0.3166 - val_accuracy: 0.8835 - val_loss: 0.3691\n",
            "Epoch 4/5\n",
            "\u001b[1m504/504\u001b[0m \u001b[32m━━━━━━━━━━━━━━━━━━━━\u001b[0m\u001b[37m\u001b[0m \u001b[1m144s\u001b[0m 209ms/step - accuracy: 0.9061 - loss: 0.3025 - val_accuracy: 0.8813 - val_loss: 0.3812\n",
            "Epoch 5/5\n",
            "\u001b[1m504/504\u001b[0m \u001b[32m━━━━━━━━━━━━━━━━━━━━\u001b[0m\u001b[37m\u001b[0m \u001b[1m103s\u001b[0m 205ms/step - accuracy: 0.9119 - loss: 0.2830 - val_accuracy: 0.8800 - val_loss: 0.4194\n",
            "\u001b[1m630/630\u001b[0m \u001b[32m━━━━━━━━━━━━━━━━━━━━\u001b[0m\u001b[37m\u001b[0m \u001b[1m13s\u001b[0m 21ms/step\n",
            "\n",
            "📊 Classification Report:\n",
            "\n",
            "              precision    recall  f1-score   support\n",
            "\n",
            "    negative       0.70      0.74      0.72      3199\n",
            "     neutral       0.21      0.02      0.03       883\n",
            "    positive       0.92      0.95      0.93     16074\n",
            "\n",
            "    accuracy                           0.88     20156\n",
            "   macro avg       0.61      0.57      0.56     20156\n",
            "weighted avg       0.85      0.88      0.86     20156\n",
            "\n"
          ]
        }
      ]
    },
    {
      "cell_type": "code",
      "source": [
        "import matplotlib.pyplot as plt\n",
        "\n",
        "# ✅ Metrics\n",
        "metrics = {\n",
        "    \"Accuracy\": [\n",
        "        acc_nb,\n",
        "        acc_lstm\n",
        "    ],\n",
        "    \"Macro Precision\": [\n",
        "        report_nb[\"macro avg\"][\"precision\"],\n",
        "        report_lstm[\"macro avg\"][\"precision\"]\n",
        "    ],\n",
        "    \"Macro Recall\": [\n",
        "        report_nb[\"macro avg\"][\"recall\"],\n",
        "        report_lstm[\"macro avg\"][\"recall\"]\n",
        "    ],\n",
        "    \"Macro F1‑Score\": [\n",
        "        report_nb[\"macro avg\"][\"f1-score\"],\n",
        "        report_lstm[\"macro avg\"][\"f1-score\"]\n",
        "    ]\n",
        "}\n",
        "\n",
        "models = [\"Naive Bayes\", \"LSTM\"]\n",
        "colors = [\"#4e79a7\", \"#f28e2c\"]\n",
        "\n",
        "# ✅ Create 2x2 grid layout\n",
        "fig, axs = plt.subplots(2, 2, figsize=(12, 8))\n",
        "fig.suptitle(\"Model Performance Comparison\", fontsize=16, fontweight='bold')\n",
        "\n",
        "# ✅ Loop through each metric and subplot index\n",
        "for idx, (metric, values) in enumerate(metrics.items()):\n",
        "    row = idx // 2\n",
        "    col = idx % 2\n",
        "    ax = axs[row][col]\n",
        "\n",
        "    bars = ax.bar(models, values, color=colors)\n",
        "    ax.set_ylim(0, 1)\n",
        "    ax.set_ylabel(metric)\n",
        "    ax.set_title(metric)\n",
        "    ax.grid(axis='y', linestyle='--', alpha=0.5)\n",
        "\n",
        "    for bar in bars:\n",
        "        yval = bar.get_height()\n",
        "        ax.text(bar.get_x() + bar.get_width() / 2, yval + 0.02, f\"{yval:.3f}\",\n",
        "                ha=\"center\", va=\"bottom\", fontweight=\"bold\")\n",
        "\n",
        "plt.tight_layout(rect=[0, 0, 1, 0.95])  # leave space for title\n",
        "plt.show()"
      ],
      "metadata": {
        "colab": {
          "base_uri": "https://localhost:8080/",
          "height": 755
        },
        "id": "OeRtLI_FL4n7",
        "outputId": "1839024e-6dc7-45ae-c795-9679da4c0ba9"
      },
      "execution_count": 6,
      "outputs": [
        {
          "output_type": "display_data",
          "data": {
            "text/plain": [
              "<Figure size 1200x800 with 4 Axes>"
            ],
            "image/png": "[encoded data removed]"
          },
          "metadata": {}
        }
      ]
    },
    {
      "cell_type": "markdown",
      "source": [
        "## 💾 **Save Trained Model & Tools**\n",
        "This step saves the trained LSTM model, tokenizer, and label encoder to Google Drive for future use."
      ],
      "metadata": {
        "id": "5_hx0GKyLWAZ"
      }
    },
    {
      "cell_type": "code",
      "source": [
        "# ✅ Save LSTM model\n",
        "model.save('/content/drive/MyDrive/Project2/sentiment_lstm_model.h5')\n",
        "\n",
        "# ✅ Save tokenizer\n",
        "import pickle\n",
        "with open('/content/drive/MyDrive/Project2/tokenizer.pkl', 'wb') as f:\n",
        "    pickle.dump(tokenizer, f)\n",
        "\n",
        "# ✅ Save label encoder\n",
        "with open('/content/drive/MyDrive/Project2/label_encoder.pkl', 'wb') as f:\n",
        "    pickle.dump(label_encoder, f)\n",
        "\n",
        "print(\"✅ Model, tokenizer, and label encoder saved to Google Drive.\")\n"
      ],
      "metadata": {
        "id": "V0eGTGHoLZLx",
        "colab": {
          "base_uri": "https://localhost:8080/"
        },
        "outputId": "665a7511-60b5-4af1-a485-055939af9f67"
      },
      "execution_count": 10,
      "outputs": [
        {
          "output_type": "stream",
          "name": "stderr",
          "text": [
            "WARNING:absl:You are saving your model as an HDF5 file via `model.save()` or `keras.saving.save_model(model)`. This file format is considered legacy. We recommend using instead the native Keras format, e.g. `model.save('my_model.keras')` or `keras.saving.save_model(model, 'my_model.keras')`. \n"
          ]
        },
        {
          "output_type": "stream",
          "name": "stdout",
          "text": [
            "✅ Model, tokenizer, and label encoder saved to Google Drive.\n"
          ]
        }
      ]
    }
  ]
}