{
  "nbformat": 4,
  "nbformat_minor": 0,
  "metadata": {
    "colab": {
      "provenance": []
    },
    "kernelspec": {
      "name": "python3",
      "display_name": "Python 3"
    },
    "language_info": {
      "name": "python"
    }
  },
  "cells": [
    {
      "cell_type": "markdown",
      "source": [
        "✅ Step 1: Import Required Libraries\n",
        "python\n",
        "Copy code\n"
      ],
      "metadata": {
        "id": "jj7FmIGIiqY_"
      }
    },
    {
      "cell_type": "code",
      "execution_count": 1,
      "metadata": {
        "id": "x0_rDo0fimuX"
      },
      "outputs": [],
      "source": [
        "import requests\n",
        "import pandas as pd\n",
        "import time\n",
        "from textblob import TextBlob\n",
        "import matplotlib.pyplot as plt\n"
      ]
    },
    {
      "cell_type": "markdown",
      "source": [
        "✅ Step 2: Define Popular Steam Games with App IDs\n",
        "python\n",
        "Copy code\n"
      ],
      "metadata": {
        "id": "K_I789OSi4Lq"
      }
    },
    {
      "cell_type": "code",
      "source": [
        "games = {\n",
        "    \"Counter-Strike 2\": \"730\",\n",
        "    \"Dota 2\": \"570\",\n",
        "    \"PUBG: Battlegrounds\": \"578080\",\n",
        "    \"Apex Legends\": \"1172470\",\n",
        "    \"GTA V\": \"271590\",\n",
        "    \"The Witcher 3\": \"292030\",\n",
        "    \"Cyberpunk 2077\": \"1091500\",\n",
        "    \"Rust\": \"252490\",\n",
        "    \"Elden Ring\": \"1245620\",\n",
        "    \"ARK: Survival Evolved\": \"346110\",\n",
        "    \"Left 4 Dead 2\": \"550\",\n",
        "    \"Team Fortress 2\": \"440\",\n",
        "    \"DayZ\": \"221100\",\n",
        "    \"Stardew Valley\": \"413150\",\n",
        "    \"Among Us\": \"945360\",\n",
        "    \"Red Dead Redemption 2\": \"1174180\",\n",
        "    \"Terraria\": \"105600\",\n",
        "    \"PAYDAY 2\": \"218620\",\n",
        "    \"Don't Starve Together\": \"322330\",\n",
        "    \"Rainbow Six Siege\": \"359550\",\n",
        "    \"No Man's Sky\": \"275850\",\n",
        "    \"Hogwarts Legacy\": \"990080\",\n",
        "    \"Lethal Company\": \"1966720\",\n",
        "    \"Palworld\": \"1623730\",\n",
        "    \"Baldur's Gate 3\": \"1086940\",\n",
        "    \"Hades\": \"1145360\",\n",
        "    \"Sea of Thieves\": \"1172620\",\n",
        "    \"Phasmophobia\": \"739630\",\n",
        "    \"The Forest\": \"242760\",\n",
        "    \"Project Zomboid\": \"108600\"\n",
        "}\n"
      ],
      "metadata": {
        "id": "sibFc_v0i68g"
      },
      "execution_count": 9,
      "outputs": []
    },
    {
      "cell_type": "markdown",
      "source": [
        "✅ Step 3: Function to Fetch All Reviews (Paginated)"
      ],
      "metadata": {
        "id": "Usr6rwFJi886"
      }
    },
    {
      "cell_type": "code",
      "source": [
        "def fetch_all_reviews(app_id, game_name, max_reviews=1000):\n",
        "    reviews = []\n",
        "    cursor = '*'\n",
        "    count = 0\n",
        "\n",
        "    while count < max_reviews:\n",
        "        url = f\"https://store.steampowered.com/appreviews/{app_id}?json=1&num_per_page=100&cursor={cursor}&filter=recent&language=english\"\n",
        "        response = requests.get(url)\n",
        "        if response.status_code != 200:\n",
        "            print(f\"[ERROR] Status code {response.status_code} for {game_name}\")\n",
        "            break\n",
        "\n",
        "        data = response.json()\n",
        "        new_reviews = data.get(\"reviews\", [])\n",
        "        if not new_reviews:\n",
        "            break\n",
        "\n",
        "        for r in new_reviews:\n",
        "            if r[\"review\"].strip():\n",
        "                reviews.append({\n",
        "                    \"game\": game_name,\n",
        "                    \"review\": r[\"review\"],\n",
        "                    \"voted_up\": r[\"voted_up\"],\n",
        "                    \"timestamp\": pd.to_datetime(r[\"timestamp_created\"], unit='s'),\n",
        "                    \"platform\": \"Steam\"\n",
        "                })\n",
        "\n",
        "        cursor = data.get(\"cursor\", \"\")\n",
        "        count += len(new_reviews)\n",
        "        time.sleep(0.5)  # Avoid rate-limiting\n",
        "\n",
        "    return reviews\n"
      ],
      "metadata": {
        "id": "Ib1joSitjBPQ"
      },
      "execution_count": 10,
      "outputs": []
    },
    {
      "cell_type": "markdown",
      "source": [
        "✅ Step 4: Collect Reviews for All Games"
      ],
      "metadata": {
        "id": "WG0964egjEcr"
      }
    },
    {
      "cell_type": "code",
      "source": [
        "all_reviews = []\n",
        "\n",
        "for game, app_id in games.items():\n",
        "    print(f\"[INFO] Scraping reviews for {game}\")\n",
        "    game_reviews = fetch_all_reviews(app_id, game, max_reviews=1000)\n",
        "    all_reviews.extend(game_reviews)\n",
        "\n",
        "print(f\"[INFO] Total reviews collected: {len(all_reviews)}\")\n"
      ],
      "metadata": {
        "colab": {
          "base_uri": "https://localhost:8080/"
        },
        "id": "DAUSbClKjGE3",
        "outputId": "c6f9e5a1-d926-4064-dbbe-3eacd898b92c"
      },
      "execution_count": 11,
      "outputs": [
        {
          "output_type": "stream",
          "name": "stdout",
          "text": [
            "[INFO] Scraping reviews for Counter-Strike 2\n",
            "[INFO] Scraping reviews for Dota 2\n",
            "[INFO] Scraping reviews for PUBG: Battlegrounds\n",
            "[INFO] Scraping reviews for Apex Legends\n",
            "[INFO] Scraping reviews for GTA V\n",
            "[INFO] Scraping reviews for The Witcher 3\n",
            "[INFO] Scraping reviews for Cyberpunk 2077\n",
            "[INFO] Scraping reviews for Rust\n",
            "[INFO] Scraping reviews for Elden Ring\n",
            "[INFO] Scraping reviews for ARK: Survival Evolved\n",
            "[INFO] Scraping reviews for Left 4 Dead 2\n",
            "[INFO] Scraping reviews for Team Fortress 2\n",
            "[INFO] Scraping reviews for DayZ\n",
            "[INFO] Scraping reviews for Stardew Valley\n",
            "[INFO] Scraping reviews for Among Us\n",
            "[INFO] Scraping reviews for Red Dead Redemption 2\n",
            "[INFO] Scraping reviews for Terraria\n",
            "[INFO] Scraping reviews for PAYDAY 2\n",
            "[INFO] Scraping reviews for Don't Starve Together\n",
            "[INFO] Scraping reviews for Rainbow Six Siege\n",
            "[INFO] Scraping reviews for No Man's Sky\n",
            "[INFO] Scraping reviews for Hogwarts Legacy\n",
            "[INFO] Scraping reviews for Lethal Company\n",
            "[INFO] Scraping reviews for Palworld\n",
            "[INFO] Scraping reviews for Baldur's Gate 3\n",
            "[INFO] Scraping reviews for Hades\n",
            "[INFO] Scraping reviews for Sea of Thieves\n",
            "[INFO] Scraping reviews for Phasmophobia\n",
            "[INFO] Scraping reviews for The Forest\n",
            "[INFO] Scraping reviews for Project Zomboid\n",
            "[INFO] Total reviews collected: 14732\n"
          ]
        }
      ]
    },
    {
      "cell_type": "markdown",
      "source": [
        "✅ Step 5: Create DataFrame and Clean Review Data"
      ],
      "metadata": {
        "id": "nbT9Jz6ajZe-"
      }
    },
    {
      "cell_type": "code",
      "source": [
        "steam_df = pd.DataFrame(all_reviews)\n",
        "steam_df.dropna(subset=[\"review\"], inplace=True)\n",
        "steam_df = steam_df[steam_df[\"review\"].str.strip().astype(bool)]\n",
        "steam_df.reset_index(drop=True, inplace=True)\n",
        "steam_df.head()\n"
      ],
      "metadata": {
        "colab": {
          "base_uri": "https://localhost:8080/",
          "height": 206
        },
        "id": "6XTzAKwDjbPk",
        "outputId": "3551a854-2350-40db-899b-d6ca5043ea11"
      },
      "execution_count": 12,
      "outputs": [
        {
          "output_type": "execute_result",
          "data": {
            "text/plain": [
              "               game                                             review  \\\n",
              "0  Counter-Strike 2  Let's be honest, who hasn't heard of CS2? You ...   \n",
              "1  Counter-Strike 2  Before I played:\\n＼＼ ＿\\n　　 ＼( ͡° ͜ʖ ͡°)\\n　　　 <...   \n",
              "2  Counter-Strike 2                                          i love cs   \n",
              "3  Counter-Strike 2                                          good game   \n",
              "4  Counter-Strike 2                                             i like   \n",
              "\n",
              "   voted_up           timestamp platform  \n",
              "0      True 2025-07-05 16:37:53    Steam  \n",
              "1      True 2025-07-05 16:36:48    Steam  \n",
              "2      True 2025-07-05 16:36:36    Steam  \n",
              "3      True 2025-07-05 16:35:38    Steam  \n",
              "4      True 2025-07-05 16:33:07    Steam  "
            ],
            "text/html": [
              "\n",
              "  <div id=\"df-693ca3a6-700b-4e30-8977-7401c181fc27\" class=\"colab-df-container\">\n",
              "    <div>\n",
              "<style scoped>\n",
              "    .dataframe tbody tr th:only-of-type {\n",
              "        vertical-align: middle;\n",
              "    }\n",
              "\n",
              "    .dataframe tbody tr th {\n",
              "        vertical-align: top;\n",
              "    }\n",
              "\n",
              "    .dataframe thead th {\n",
              "        text-align: right;\n",
              "    }\n",
              "</style>\n",
              "<table border=\"1\" class=\"dataframe\">\n",
              "  <thead>\n",
              "    <tr style=\"text-align: right;\">\n",
              "      <th></th>\n",
              "      <th>game</th>\n",
              "      <th>review</th>\n",
              "      <th>voted_up</th>\n",
              "      <th>timestamp</th>\n",
              "      <th>platform</th>\n",
              "    </tr>\n",
              "  </thead>\n",
              "  <tbody>\n",
              "    <tr>\n",
              "      <th>0</th>\n",
              "      <td>Counter-Strike 2</td>\n",
              "      <td>Let's be honest, who hasn't heard of CS2? You ...</td>\n",
              "      <td>True</td>\n",
              "      <td>2025-07-05 16:37:53</td>\n",
              "      <td>Steam</td>\n",
              "    </tr>\n",
              "    <tr>\n",
              "      <th>1</th>\n",
              "      <td>Counter-Strike 2</td>\n",
              "      <td>Before I played:\\n＼＼ ＿\\n　　 ＼( ͡° ͜ʖ ͡°)\\n　　　 &lt;...</td>\n",
              "      <td>True</td>\n",
              "      <td>2025-07-05 16:36:48</td>\n",
              "      <td>Steam</td>\n",
              "    </tr>\n",
              "    <tr>\n",
              "      <th>2</th>\n",
              "      <td>Counter-Strike 2</td>\n",
              "      <td>i love cs</td>\n",
              "      <td>True</td>\n",
              "      <td>2025-07-05 16:36:36</td>\n",
              "      <td>Steam</td>\n",
              "    </tr>\n",
              "    <tr>\n",
              "      <th>3</th>\n",
              "      <td>Counter-Strike 2</td>\n",
              "      <td>good game</td>\n",
              "      <td>True</td>\n",
              "      <td>2025-07-05 16:35:38</td>\n",
              "      <td>Steam</td>\n",
              "    </tr>\n",
              "    <tr>\n",
              "      <th>4</th>\n",
              "      <td>Counter-Strike 2</td>\n",
              "      <td>i like</td>\n",
              "      <td>True</td>\n",
              "      <td>2025-07-05 16:33:07</td>\n",
              "      <td>Steam</td>\n",
              "    </tr>\n",
              "  </tbody>\n",
              "</table>\n",
              "</div>\n",
              "    <div class=\"colab-df-buttons\">\n",
              "\n",
              "  <div class=\"colab-df-container\">\n",
              "    <button class=\"colab-df-convert\" onclick=\"convertToInteractive('df-693ca3a6-700b-4e30-8977-7401c181fc27')\"\n",
              "            title=\"Convert this dataframe to an interactive table.\"\n",
              "            style=\"display:none;\">\n",
              "\n",
              "  <svg xmlns=\"http://www.w3.org/2000/svg\" height=\"24px\" viewBox=\"0 -960 960 960\">\n",
              "    <path d=\"M120-120v-720h720v720H120Zm60-500h600v-160H180v160Zm220 220h160v-160H400v160Zm0 220h160v-160H400v160ZM180-400h160v-160H180v160Zm440 0h160v-160H620v160ZM180-180h160v-160H180v160Zm440 0h160v-160H620v160Z\"/>\n",
              "  </svg>\n",
              "    </button>\n",
              "\n",
              "  <style>\n",
              "    .colab-df-container {\n",
              "      display:flex;\n",
              "      gap: 12px;\n",
              "    }\n",
              "\n",
              "    .colab-df-convert {\n",
              "      background-color: #E8F0FE;\n",
              "      border: none;\n",
              "      border-radius: 50%;\n",
              "      cursor: pointer;\n",
              "      display: none;\n",
              "      fill: #1967D2;\n",
              "      height: 32px;\n",
              "      padding: 0 0 0 0;\n",
              "      width: 32px;\n",
              "    }\n",
              "\n",
              "    .colab-df-convert:hover {\n",
              "      background-color: #E2EBFA;\n",
              "      box-shadow: 0px 1px 2px rgba(60, 64, 67, 0.3), 0px 1px 3px 1px rgba(60, 64, 67, 0.15);\n",
              "      fill: #174EA6;\n",
              "    }\n",
              "\n",
              "    .colab-df-buttons div {\n",
              "      margin-bottom: 4px;\n",
              "    }\n",
              "\n",
              "    [theme=dark] .colab-df-convert {\n",
              "      background-color: #3B4455;\n",
              "      fill: #D2E3FC;\n",
              "    }\n",
              "\n",
              "    [theme=dark] .colab-df-convert:hover {\n",
              "      background-color: #434B5C;\n",
              "      box-shadow: 0px 1px 3px 1px rgba(0, 0, 0, 0.15);\n",
              "      filter: drop-shadow(0px 1px 2px rgba(0, 0, 0, 0.3));\n",
              "      fill: #FFFFFF;\n",
              "    }\n",
              "  </style>\n",
              "\n",
              "    <script>\n",
              "      const buttonEl =\n",
              "        document.querySelector('#df-693ca3a6-700b-4e30-8977-7401c181fc27 button.colab-df-convert');\n",
              "      buttonEl.style.display =\n",
              "        google.colab.kernel.accessAllowed ? 'block' : 'none';\n",
              "\n",
              "      async function convertToInteractive(key) {\n",
              "        const element = document.querySelector('#df-693ca3a6-700b-4e30-8977-7401c181fc27');\n",
              "        const dataTable =\n",
              "          await google.colab.kernel.invokeFunction('convertToInteractive',\n",
              "                                                    [key], {});\n",
              "        if (!dataTable) return;\n",
              "\n",
              "        const docLinkHtml = 'Like what you see? Visit the ' +\n",
              "          '<a target=\"_blank\" href=https://colab.research.google.com/notebooks/data_table.ipynb>data table notebook</a>'\n",
              "          + ' to learn more about interactive tables.';\n",
              "        element.innerHTML = '';\n",
              "        dataTable['output_type'] = 'display_data';\n",
              "        await google.colab.output.renderOutput(dataTable, element);\n",
              "        const docLink = document.createElement('div');\n",
              "        docLink.innerHTML = docLinkHtml;\n",
              "        element.appendChild(docLink);\n",
              "      }\n",
              "    </script>\n",
              "  </div>\n",
              "\n",
              "\n",
              "    <div id=\"df-ca7f144b-2484-4ee7-9ffc-2b91df20ca7c\">\n",
              "      <button class=\"colab-df-quickchart\" onclick=\"quickchart('df-ca7f144b-2484-4ee7-9ffc-2b91df20ca7c')\"\n",
              "                title=\"Suggest charts\"\n",
              "                style=\"display:none;\">\n",
              "\n",
              "<svg xmlns=\"http://www.w3.org/2000/svg\" height=\"24px\"viewBox=\"0 0 24 24\"\n",
              "     width=\"24px\">\n",
              "    <g>\n",
              "        <path d=\"M19 3H5c-1.1 0-2 .9-2 2v14c0 1.1.9 2 2 2h14c1.1 0 2-.9 2-2V5c0-1.1-.9-2-2-2zM9 17H7v-7h2v7zm4 0h-2V7h2v10zm4 0h-2v-4h2v4z\"/>\n",
              "    </g>\n",
              "</svg>\n",
              "      </button>\n",
              "\n",
              "<style>\n",
              "  .colab-df-quickchart {\n",
              "      --bg-color: #E8F0FE;\n",
              "      --fill-color: #1967D2;\n",
              "      --hover-bg-color: #E2EBFA;\n",
              "      --hover-fill-color: #174EA6;\n",
              "      --disabled-fill-color: #AAA;\n",
              "      --disabled-bg-color: #DDD;\n",
              "  }\n",
              "\n",
              "  [theme=dark] .colab-df-quickchart {\n",
              "      --bg-color: #3B4455;\n",
              "      --fill-color: #D2E3FC;\n",
              "      --hover-bg-color: #434B5C;\n",
              "      --hover-fill-color: #FFFFFF;\n",
              "      --disabled-bg-color: #3B4455;\n",
              "      --disabled-fill-color: #666;\n",
              "  }\n",
              "\n",
              "  .colab-df-quickchart {\n",
              "    background-color: var(--bg-color);\n",
              "    border: none;\n",
              "    border-radius: 50%;\n",
              "    cursor: pointer;\n",
              "    display: none;\n",
              "    fill: var(--fill-color);\n",
              "    height: 32px;\n",
              "    padding: 0;\n",
              "    width: 32px;\n",
              "  }\n",
              "\n",
              "  .colab-df-quickchart:hover {\n",
              "    background-color: var(--hover-bg-color);\n",
              "    box-shadow: 0 1px 2px rgba(60, 64, 67, 0.3), 0 1px 3px 1px rgba(60, 64, 67, 0.15);\n",
              "    fill: var(--button-hover-fill-color);\n",
              "  }\n",
              "\n",
              "  .colab-df-quickchart-complete:disabled,\n",
              "  .colab-df-quickchart-complete:disabled:hover {\n",
              "    background-color: var(--disabled-bg-color);\n",
              "    fill: var(--disabled-fill-color);\n",
              "    box-shadow: none;\n",
              "  }\n",
              "\n",
              "  .colab-df-spinner {\n",
              "    border: 2px solid var(--fill-color);\n",
              "    border-color: transparent;\n",
              "    border-bottom-color: var(--fill-color);\n",
              "    animation:\n",
              "      spin 1s steps(1) infinite;\n",
              "  }\n",
              "\n",
              "  @keyframes spin {\n",
              "    0% {\n",
              "      border-color: transparent;\n",
              "      border-bottom-color: var(--fill-color);\n",
              "      border-left-color: var(--fill-color);\n",
              "    }\n",
              "    20% {\n",
              "      border-color: transparent;\n",
              "      border-left-color: var(--fill-color);\n",
              "      border-top-color: var(--fill-color);\n",
              "    }\n",
              "    30% {\n",
              "      border-color: transparent;\n",
              "      border-left-color: var(--fill-color);\n",
              "      border-top-color: var(--fill-color);\n",
              "      border-right-color: var(--fill-color);\n",
              "    }\n",
              "    40% {\n",
              "      border-color: transparent;\n",
              "      border-right-color: var(--fill-color);\n",
              "      border-top-color: var(--fill-color);\n",
              "    }\n",
              "    60% {\n",
              "      border-color: transparent;\n",
              "      border-right-color: var(--fill-color);\n",
              "    }\n",
              "    80% {\n",
              "      border-color: transparent;\n",
              "      border-right-color: var(--fill-color);\n",
              "      border-bottom-color: var(--fill-color);\n",
              "    }\n",
              "    90% {\n",
              "      border-color: transparent;\n",
              "      border-bottom-color: var(--fill-color);\n",
              "    }\n",
              "  }\n",
              "</style>\n",
              "\n",
              "      <script>\n",
              "        async function quickchart(key) {\n",
              "          const quickchartButtonEl =\n",
              "            document.querySelector('#' + key + ' button');\n",
              "          quickchartButtonEl.disabled = true;  // To prevent multiple clicks.\n",
              "          quickchartButtonEl.classList.add('colab-df-spinner');\n",
              "          try {\n",
              "            const charts = await google.colab.kernel.invokeFunction(\n",
              "                'suggestCharts', [key], {});\n",
              "          } catch (error) {\n",
              "            console.error('Error during call to suggestCharts:', error);\n",
              "          }\n",
              "          quickchartButtonEl.classList.remove('colab-df-spinner');\n",
              "          quickchartButtonEl.classList.add('colab-df-quickchart-complete');\n",
              "        }\n",
              "        (() => {\n",
              "          let quickchartButtonEl =\n",
              "            document.querySelector('#df-ca7f144b-2484-4ee7-9ffc-2b91df20ca7c button');\n",
              "          quickchartButtonEl.style.display =\n",
              "            google.colab.kernel.accessAllowed ? 'block' : 'none';\n",
              "        })();\n",
              "      </script>\n",
              "    </div>\n",
              "\n",
              "    </div>\n",
              "  </div>\n"
            ],
            "application/vnd.google.colaboratory.intrinsic+json": {
              "type": "dataframe",
              "variable_name": "steam_df",
              "summary": "{\n  \"name\": \"steam_df\",\n  \"rows\": 14732,\n  \"fields\": [\n    {\n      \"column\": \"game\",\n      \"properties\": {\n        \"dtype\": \"category\",\n        \"num_unique_values\": 30,\n        \"samples\": [\n          \"Phasmophobia\",\n          \"Red Dead Redemption 2\",\n          \"Palworld\"\n        ],\n        \"semantic_type\": \"\",\n        \"description\": \"\"\n      }\n    },\n    {\n      \"column\": \"review\",\n      \"properties\": {\n        \"dtype\": \"string\",\n        \"num_unique_values\": 12527,\n        \"samples\": [\n          \"its free real estate\\n10/10\",\n          \"I Goon to valk\",\n          \"Fahsureeee get!\"\n        ],\n        \"semantic_type\": \"\",\n        \"description\": \"\"\n      }\n    },\n    {\n      \"column\": \"voted_up\",\n      \"properties\": {\n        \"dtype\": \"boolean\",\n        \"num_unique_values\": 2,\n        \"samples\": [\n          false,\n          true\n        ],\n        \"semantic_type\": \"\",\n        \"description\": \"\"\n      }\n    },\n    {\n      \"column\": \"timestamp\",\n      \"properties\": {\n        \"dtype\": \"date\",\n        \"min\": \"2017-02-25 18:08:10\",\n        \"max\": \"2025-07-05 16:37:53\",\n        \"num_unique_values\": 14649,\n        \"samples\": [\n          \"2025-07-02 09:22:35\",\n          \"2025-07-05 06:50:45\"\n        ],\n        \"semantic_type\": \"\",\n        \"description\": \"\"\n      }\n    },\n    {\n      \"column\": \"platform\",\n      \"properties\": {\n        \"dtype\": \"category\",\n        \"num_unique_values\": 1,\n        \"samples\": [\n          \"Steam\"\n        ],\n        \"semantic_type\": \"\",\n        \"description\": \"\"\n      }\n    }\n  ]\n}"
            }
          },
          "metadata": {},
          "execution_count": 12
        }
      ]
    },
    {
      "cell_type": "markdown",
      "source": [
        "✅ Step 6: Perform Sentiment Analysis with TextBlob"
      ],
      "metadata": {
        "id": "NZUCmiqljfk3"
      }
    },
    {
      "cell_type": "code",
      "source": [
        "def get_sentiment(text):\n",
        "    polarity = TextBlob(text).sentiment.polarity\n",
        "    if polarity > 0.1:\n",
        "        return \"positive\"\n",
        "    elif polarity < -0.1:\n",
        "        return \"negative\"\n",
        "    else:\n",
        "        return \"neutral\"\n",
        "\n",
        "steam_df[\"sentiment\"] = steam_df[\"review\"].apply(get_sentiment)\n",
        "steam_df.head()\n"
      ],
      "metadata": {
        "colab": {
          "base_uri": "https://localhost:8080/",
          "height": 206
        },
        "id": "FsrRO0Ibjgj4",
        "outputId": "2a9a4077-8f9e-4d4e-a694-dc70e8c5aaa3"
      },
      "execution_count": 13,
      "outputs": [
        {
          "output_type": "execute_result",
          "data": {
            "text/plain": [
              "               game                                             review  \\\n",
              "0  Counter-Strike 2  Let's be honest, who hasn't heard of CS2? You ...   \n",
              "1  Counter-Strike 2  Before I played:\\n＼＼ ＿\\n　　 ＼( ͡° ͜ʖ ͡°)\\n　　　 <...   \n",
              "2  Counter-Strike 2                                          i love cs   \n",
              "3  Counter-Strike 2                                          good game   \n",
              "4  Counter-Strike 2                                             i like   \n",
              "\n",
              "   voted_up           timestamp platform sentiment  \n",
              "0      True 2025-07-05 16:37:53    Steam  positive  \n",
              "1      True 2025-07-05 16:36:48    Steam   neutral  \n",
              "2      True 2025-07-05 16:36:36    Steam  positive  \n",
              "3      True 2025-07-05 16:35:38    Steam  positive  \n",
              "4      True 2025-07-05 16:33:07    Steam   neutral  "
            ],
            "text/html": [
              "\n",
              "  <div id=\"df-dff70fcb-171b-4a8a-93ef-c73357eb0272\" class=\"colab-df-container\">\n",
              "    <div>\n",
              "<style scoped>\n",
              "    .dataframe tbody tr th:only-of-type {\n",
              "        vertical-align: middle;\n",
              "    }\n",
              "\n",
              "    .dataframe tbody tr th {\n",
              "        vertical-align: top;\n",
              "    }\n",
              "\n",
              "    .dataframe thead th {\n",
              "        text-align: right;\n",
              "    }\n",
              "</style>\n",
              "<table border=\"1\" class=\"dataframe\">\n",
              "  <thead>\n",
              "    <tr style=\"text-align: right;\">\n",
              "      <th></th>\n",
              "      <th>game</th>\n",
              "      <th>review</th>\n",
              "      <th>voted_up</th>\n",
              "      <th>timestamp</th>\n",
              "      <th>platform</th>\n",
              "      <th>sentiment</th>\n",
              "    </tr>\n",
              "  </thead>\n",
              "  <tbody>\n",
              "    <tr>\n",
              "      <th>0</th>\n",
              "      <td>Counter-Strike 2</td>\n",
              "      <td>Let's be honest, who hasn't heard of CS2? You ...</td>\n",
              "      <td>True</td>\n",
              "      <td>2025-07-05 16:37:53</td>\n",
              "      <td>Steam</td>\n",
              "      <td>positive</td>\n",
              "    </tr>\n",
              "    <tr>\n",
              "      <th>1</th>\n",
              "      <td>Counter-Strike 2</td>\n",
              "      <td>Before I played:\\n＼＼ ＿\\n　　 ＼( ͡° ͜ʖ ͡°)\\n　　　 &lt;...</td>\n",
              "      <td>True</td>\n",
              "      <td>2025-07-05 16:36:48</td>\n",
              "      <td>Steam</td>\n",
              "      <td>neutral</td>\n",
              "    </tr>\n",
              "    <tr>\n",
              "      <th>2</th>\n",
              "      <td>Counter-Strike 2</td>\n",
              "      <td>i love cs</td>\n",
              "      <td>True</td>\n",
              "      <td>2025-07-05 16:36:36</td>\n",
              "      <td>Steam</td>\n",
              "      <td>positive</td>\n",
              "    </tr>\n",
              "    <tr>\n",
              "      <th>3</th>\n",
              "      <td>Counter-Strike 2</td>\n",
              "      <td>good game</td>\n",
              "      <td>True</td>\n",
              "      <td>2025-07-05 16:35:38</td>\n",
              "      <td>Steam</td>\n",
              "      <td>positive</td>\n",
              "    </tr>\n",
              "    <tr>\n",
              "      <th>4</th>\n",
              "      <td>Counter-Strike 2</td>\n",
              "      <td>i like</td>\n",
              "      <td>True</td>\n",
              "      <td>2025-07-05 16:33:07</td>\n",
              "      <td>Steam</td>\n",
              "      <td>neutral</td>\n",
              "    </tr>\n",
              "  </tbody>\n",
              "</table>\n",
              "</div>\n",
              "    <div class=\"colab-df-buttons\">\n",
              "\n",
              "  <div class=\"colab-df-container\">\n",
              "    <button class=\"colab-df-convert\" onclick=\"convertToInteractive('df-dff70fcb-171b-4a8a-93ef-c73357eb0272')\"\n",
              "            title=\"Convert this dataframe to an interactive table.\"\n",
              "            style=\"display:none;\">\n",
              "\n",
              "  <svg xmlns=\"http://www.w3.org/2000/svg\" height=\"24px\" viewBox=\"0 -960 960 960\">\n",
              "    <path d=\"M120-120v-720h720v720H120Zm60-500h600v-160H180v160Zm220 220h160v-160H400v160Zm0 220h160v-160H400v160ZM180-400h160v-160H180v160Zm440 0h160v-160H620v160ZM180-180h160v-160H180v160Zm440 0h160v-160H620v160Z\"/>\n",
              "  </svg>\n",
              "    </button>\n",
              "\n",
              "  <style>\n",
              "    .colab-df-container {\n",
              "      display:flex;\n",
              "      gap: 12px;\n",
              "    }\n",
              "\n",
              "    .colab-df-convert {\n",
              "      background-color: #E8F0FE;\n",
              "      border: none;\n",
              "      border-radius: 50%;\n",
              "      cursor: pointer;\n",
              "      display: none;\n",
              "      fill: #1967D2;\n",
              "      height: 32px;\n",
              "      padding: 0 0 0 0;\n",
              "      width: 32px;\n",
              "    }\n",
              "\n",
              "    .colab-df-convert:hover {\n",
              "      background-color: #E2EBFA;\n",
              "      box-shadow: 0px 1px 2px rgba(60, 64, 67, 0.3), 0px 1px 3px 1px rgba(60, 64, 67, 0.15);\n",
              "      fill: #174EA6;\n",
              "    }\n",
              "\n",
              "    .colab-df-buttons div {\n",
              "      margin-bottom: 4px;\n",
              "    }\n",
              "\n",
              "    [theme=dark] .colab-df-convert {\n",
              "      background-color: #3B4455;\n",
              "      fill: #D2E3FC;\n",
              "    }\n",
              "\n",
              "    [theme=dark] .colab-df-convert:hover {\n",
              "      background-color: #434B5C;\n",
              "      box-shadow: 0px 1px 3px 1px rgba(0, 0, 0, 0.15);\n",
              "      filter: drop-shadow(0px 1px 2px rgba(0, 0, 0, 0.3));\n",
              "      fill: #FFFFFF;\n",
              "    }\n",
              "  </style>\n",
              "\n",
              "    <script>\n",
              "      const buttonEl =\n",
              "        document.querySelector('#df-dff70fcb-171b-4a8a-93ef-c73357eb0272 button.colab-df-convert');\n",
              "      buttonEl.style.display =\n",
              "        google.colab.kernel.accessAllowed ? 'block' : 'none';\n",
              "\n",
              "      async function convertToInteractive(key) {\n",
              "        const element = document.querySelector('#df-dff70fcb-171b-4a8a-93ef-c73357eb0272');\n",
              "        const dataTable =\n",
              "          await google.colab.kernel.invokeFunction('convertToInteractive',\n",
              "                                                    [key], {});\n",
              "        if (!dataTable) return;\n",
              "\n",
              "        const docLinkHtml = 'Like what you see? Visit the ' +\n",
              "          '<a target=\"_blank\" href=https://colab.research.google.com/notebooks/data_table.ipynb>data table notebook</a>'\n",
              "          + ' to learn more about interactive tables.';\n",
              "        element.innerHTML = '';\n",
              "        dataTable['output_type'] = 'display_data';\n",
              "        await google.colab.output.renderOutput(dataTable, element);\n",
              "        const docLink = document.createElement('div');\n",
              "        docLink.innerHTML = docLinkHtml;\n",
              "        element.appendChild(docLink);\n",
              "      }\n",
              "    </script>\n",
              "  </div>\n",
              "\n",
              "\n",
              "    <div id=\"df-162dbdd7-01e7-497e-a3e3-8780d794b8fb\">\n",
              "      <button class=\"colab-df-quickchart\" onclick=\"quickchart('df-162dbdd7-01e7-497e-a3e3-8780d794b8fb')\"\n",
              "                title=\"Suggest charts\"\n",
              "                style=\"display:none;\">\n",
              "\n",
              "<svg xmlns=\"http://www.w3.org/2000/svg\" height=\"24px\"viewBox=\"0 0 24 24\"\n",
              "     width=\"24px\">\n",
              "    <g>\n",
              "        <path d=\"M19 3H5c-1.1 0-2 .9-2 2v14c0 1.1.9 2 2 2h14c1.1 0 2-.9 2-2V5c0-1.1-.9-2-2-2zM9 17H7v-7h2v7zm4 0h-2V7h2v10zm4 0h-2v-4h2v4z\"/>\n",
              "    </g>\n",
              "</svg>\n",
              "      </button>\n",
              "\n",
              "<style>\n",
              "  .colab-df-quickchart {\n",
              "      --bg-color: #E8F0FE;\n",
              "      --fill-color: #1967D2;\n",
              "      --hover-bg-color: #E2EBFA;\n",
              "      --hover-fill-color: #174EA6;\n",
              "      --disabled-fill-color: #AAA;\n",
              "      --disabled-bg-color: #DDD;\n",
              "  }\n",
              "\n",
              "  [theme=dark] .colab-df-quickchart {\n",
              "      --bg-color: #3B4455;\n",
              "      --fill-color: #D2E3FC;\n",
              "      --hover-bg-color: #434B5C;\n",
              "      --hover-fill-color: #FFFFFF;\n",
              "      --disabled-bg-color: #3B4455;\n",
              "      --disabled-fill-color: #666;\n",
              "  }\n",
              "\n",
              "  .colab-df-quickchart {\n",
              "    background-color: var(--bg-color);\n",
              "    border: none;\n",
              "    border-radius: 50%;\n",
              "    cursor: pointer;\n",
              "    display: none;\n",
              "    fill: var(--fill-color);\n",
              "    height: 32px;\n",
              "    padding: 0;\n",
              "    width: 32px;\n",
              "  }\n",
              "\n",
              "  .colab-df-quickchart:hover {\n",
              "    background-color: var(--hover-bg-color);\n",
              "    box-shadow: 0 1px 2px rgba(60, 64, 67, 0.3), 0 1px 3px 1px rgba(60, 64, 67, 0.15);\n",
              "    fill: var(--button-hover-fill-color);\n",
              "  }\n",
              "\n",
              "  .colab-df-quickchart-complete:disabled,\n",
              "  .colab-df-quickchart-complete:disabled:hover {\n",
              "    background-color: var(--disabled-bg-color);\n",
              "    fill: var(--disabled-fill-color);\n",
              "    box-shadow: none;\n",
              "  }\n",
              "\n",
              "  .colab-df-spinner {\n",
              "    border: 2px solid var(--fill-color);\n",
              "    border-color: transparent;\n",
              "    border-bottom-color: var(--fill-color);\n",
              "    animation:\n",
              "      spin 1s steps(1) infinite;\n",
              "  }\n",
              "\n",
              "  @keyframes spin {\n",
              "    0% {\n",
              "      border-color: transparent;\n",
              "      border-bottom-color: var(--fill-color);\n",
              "      border-left-color: var(--fill-color);\n",
              "    }\n",
              "    20% {\n",
              "      border-color: transparent;\n",
              "      border-left-color: var(--fill-color);\n",
              "      border-top-color: var(--fill-color);\n",
              "    }\n",
              "    30% {\n",
              "      border-color: transparent;\n",
              "      border-left-color: var(--fill-color);\n",
              "      border-top-color: var(--fill-color);\n",
              "      border-right-color: var(--fill-color);\n",
              "    }\n",
              "    40% {\n",
              "      border-color: transparent;\n",
              "      border-right-color: var(--fill-color);\n",
              "      border-top-color: var(--fill-color);\n",
              "    }\n",
              "    60% {\n",
              "      border-color: transparent;\n",
              "      border-right-color: var(--fill-color);\n",
              "    }\n",
              "    80% {\n",
              "      border-color: transparent;\n",
              "      border-right-color: var(--fill-color);\n",
              "      border-bottom-color: var(--fill-color);\n",
              "    }\n",
              "    90% {\n",
              "      border-color: transparent;\n",
              "      border-bottom-color: var(--fill-color);\n",
              "    }\n",
              "  }\n",
              "</style>\n",
              "\n",
              "      <script>\n",
              "        async function quickchart(key) {\n",
              "          const quickchartButtonEl =\n",
              "            document.querySelector('#' + key + ' button');\n",
              "          quickchartButtonEl.disabled = true;  // To prevent multiple clicks.\n",
              "          quickchartButtonEl.classList.add('colab-df-spinner');\n",
              "          try {\n",
              "            const charts = await google.colab.kernel.invokeFunction(\n",
              "                'suggestCharts', [key], {});\n",
              "          } catch (error) {\n",
              "            console.error('Error during call to suggestCharts:', error);\n",
              "          }\n",
              "          quickchartButtonEl.classList.remove('colab-df-spinner');\n",
              "          quickchartButtonEl.classList.add('colab-df-quickchart-complete');\n",
              "        }\n",
              "        (() => {\n",
              "          let quickchartButtonEl =\n",
              "            document.querySelector('#df-162dbdd7-01e7-497e-a3e3-8780d794b8fb button');\n",
              "          quickchartButtonEl.style.display =\n",
              "            google.colab.kernel.accessAllowed ? 'block' : 'none';\n",
              "        })();\n",
              "      </script>\n",
              "    </div>\n",
              "\n",
              "    </div>\n",
              "  </div>\n"
            ],
            "application/vnd.google.colaboratory.intrinsic+json": {
              "type": "dataframe",
              "variable_name": "steam_df",
              "summary": "{\n  \"name\": \"steam_df\",\n  \"rows\": 14732,\n  \"fields\": [\n    {\n      \"column\": \"game\",\n      \"properties\": {\n        \"dtype\": \"category\",\n        \"num_unique_values\": 30,\n        \"samples\": [\n          \"Phasmophobia\",\n          \"Red Dead Redemption 2\",\n          \"Palworld\"\n        ],\n        \"semantic_type\": \"\",\n        \"description\": \"\"\n      }\n    },\n    {\n      \"column\": \"review\",\n      \"properties\": {\n        \"dtype\": \"string\",\n        \"num_unique_values\": 12527,\n        \"samples\": [\n          \"its free real estate\\n10/10\",\n          \"I Goon to valk\",\n          \"Fahsureeee get!\"\n        ],\n        \"semantic_type\": \"\",\n        \"description\": \"\"\n      }\n    },\n    {\n      \"column\": \"voted_up\",\n      \"properties\": {\n        \"dtype\": \"boolean\",\n        \"num_unique_values\": 2,\n        \"samples\": [\n          false,\n          true\n        ],\n        \"semantic_type\": \"\",\n        \"description\": \"\"\n      }\n    },\n    {\n      \"column\": \"timestamp\",\n      \"properties\": {\n        \"dtype\": \"date\",\n        \"min\": \"2017-02-25 18:08:10\",\n        \"max\": \"2025-07-05 16:37:53\",\n        \"num_unique_values\": 14649,\n        \"samples\": [\n          \"2025-07-02 09:22:35\",\n          \"2025-07-05 06:50:45\"\n        ],\n        \"semantic_type\": \"\",\n        \"description\": \"\"\n      }\n    },\n    {\n      \"column\": \"platform\",\n      \"properties\": {\n        \"dtype\": \"category\",\n        \"num_unique_values\": 1,\n        \"samples\": [\n          \"Steam\"\n        ],\n        \"semantic_type\": \"\",\n        \"description\": \"\"\n      }\n    },\n    {\n      \"column\": \"sentiment\",\n      \"properties\": {\n        \"dtype\": \"category\",\n        \"num_unique_values\": 3,\n        \"samples\": [\n          \"positive\"\n        ],\n        \"semantic_type\": \"\",\n        \"description\": \"\"\n      }\n    }\n  ]\n}"
            }
          },
          "metadata": {},
          "execution_count": 13
        }
      ]
    },
    {
      "cell_type": "markdown",
      "source": [
        "✅ Step 7: Visualize Sentiment Distribution"
      ],
      "metadata": {
        "id": "KZcbYVEWjofV"
      }
    },
    {
      "cell_type": "code",
      "source": [
        "sentiment_counts = steam_df[\"sentiment\"].value_counts()\n",
        "plt.figure(figsize=(6,4))\n",
        "sentiment_counts.plot(kind='bar', color=['green', 'red', 'gray'])\n",
        "plt.title(\"Sentiment Distribution of Steam Game Reviews\")\n",
        "plt.xlabel(\"Sentiment\")\n",
        "plt.ylabel(\"Number of Reviews\")\n",
        "plt.xticks(rotation=0)\n",
        "plt.grid(axis='y')\n",
        "plt.tight_layout()\n",
        "plt.show()\n"
      ],
      "metadata": {
        "colab": {
          "base_uri": "https://localhost:8080/",
          "height": 407
        },
        "id": "S1u7DV7Zjp4P",
        "outputId": "10144e99-6603-4149-ff61-762fc0ca2209"
      },
      "execution_count": 14,
      "outputs": [
        {
          "output_type": "display_data",
          "data": {
            "text/plain": [
              "<Figure size 600x400 with 1 Axes>"
            ],
            "image/png": "[encoded data removed]"
          },
          "metadata": {}
        }
      ]
    },
    {
      "cell_type": "markdown",
      "source": [
        "✅ Step 8: Save Reviews to CSV"
      ],
      "metadata": {
        "id": "ele910uQjxYb"
      }
    },
    {
      "cell_type": "code",
      "source": [
        "steam_df.to_csv(\"steam_game_reviews.csv\", index=False)\n",
        "print(\"[INFO] Reviews saved to 'steam_game_reviews.csv'\")\n"
      ],
      "metadata": {
        "colab": {
          "base_uri": "https://localhost:8080/"
        },
        "id": "Pli6xOj8jzRW",
        "outputId": "291347da-bf35-498d-f08d-dfdb58b4bdb2"
      },
      "execution_count": 15,
      "outputs": [
        {
          "output_type": "stream",
          "name": "stdout",
          "text": [
            "[INFO] Reviews saved to 'steam_game_reviews.csv'\n"
          ]
        }
      ]
    },
    {
      "cell_type": "markdown",
      "source": [
        "Preprocessing"
      ],
      "metadata": {
        "id": "uqq4II4MmcCC"
      }
    },
    {
      "cell_type": "markdown",
      "source": [
        "✅ Step 1: Preprocess Data Using NLP\n",
        "We'll cover:\n",
        "\n",
        "Lowercasing\n",
        "\n",
        "Removing punctuation and special characters\n",
        "\n",
        "Tokenization\n",
        "\n",
        "Stopword removal\n",
        "\n",
        "Stemming (or Lemmatization)\n",
        "\n",
        "🧼 Step 1: Clean and Tokenize Without nltk"
      ],
      "metadata": {
        "id": "x_WtnKHRmkfc"
      }
    },
    {
      "cell_type": "code",
      "source": [
        "import pandas as pd\n",
        "import re\n",
        "from sklearn.model_selection import train_test_split\n",
        "from sklearn.feature_extraction.text import TfidfVectorizer\n",
        "from sklearn.naive_bayes import MultinomialNB\n",
        "from sklearn.metrics import classification_report\n",
        "from nltk.stem import PorterStemmer\n",
        "\n",
        "# Load your data\n",
        "df = pd.read_csv(\"steam_game_reviews.csv\")\n",
        "\n",
        "# Optional: Keep only 'positive' and 'negative'\n",
        "df = df[df['sentiment'].isin(['positive', 'negative'])].copy()\n",
        "df['label'] = df['sentiment'].map({'positive': 1, 'negative': 0})\n",
        "\n",
        "# Basic tokenizer using regex and stemming\n",
        "stemmer = PorterStemmer()\n",
        "\n",
        "def clean_text(text):\n",
        "    # Lowercase, remove non-letters\n",
        "    text = re.sub(r\"[^a-zA-Z\\s]\", \"\", str(text).lower())\n",
        "    tokens = text.split()\n",
        "    # Apply stemming\n",
        "    stemmed = [stemmer.stem(word) for word in tokens if len(word) > 2]\n",
        "    return \" \".join(stemmed)\n",
        "\n",
        "# Apply to all reviews\n",
        "df[\"cleaned_review\"] = df[\"review\"].apply(clean_text)\n",
        "df[[\"review\", \"cleaned_review\"]].head()\n"
      ],
      "metadata": {
        "colab": {
          "base_uri": "https://localhost:8080/",
          "height": 206
        },
        "id": "SaGyyCiAoAIF",
        "outputId": "4c105cb6-2853-4f3b-f811-b54b3e580b20"
      },
      "execution_count": 23,
      "outputs": [
        {
          "output_type": "execute_result",
          "data": {
            "text/plain": [
              "                                               review  \\\n",
              "0   Let's be honest, who hasn't heard of CS2? You ...   \n",
              "2                                           i love cs   \n",
              "3                                           good game   \n",
              "6                                                 Fun   \n",
              "11  Fix this game now. Bullets that don't go, terr...   \n",
              "\n",
              "                                       cleaned_review  \n",
              "0   let honest who hasnt heard you buy prime get y...  \n",
              "2                                                love  \n",
              "3                                           good game  \n",
              "6                                                 fun  \n",
              "11  fix thi game now bullet that dont terribl opti...  "
            ],
            "text/html": [
              "\n",
              "  <div id=\"df-c8a03d00-51fd-4980-baea-12bf8183747e\" class=\"colab-df-container\">\n",
              "    <div>\n",
              "<style scoped>\n",
              "    .dataframe tbody tr th:only-of-type {\n",
              "        vertical-align: middle;\n",
              "    }\n",
              "\n",
              "    .dataframe tbody tr th {\n",
              "        vertical-align: top;\n",
              "    }\n",
              "\n",
              "    .dataframe thead th {\n",
              "        text-align: right;\n",
              "    }\n",
              "</style>\n",
              "<table border=\"1\" class=\"dataframe\">\n",
              "  <thead>\n",
              "    <tr style=\"text-align: right;\">\n",
              "      <th></th>\n",
              "      <th>review</th>\n",
              "      <th>cleaned_review</th>\n",
              "    </tr>\n",
              "  </thead>\n",
              "  <tbody>\n",
              "    <tr>\n",
              "      <th>0</th>\n",
              "      <td>Let's be honest, who hasn't heard of CS2? You ...</td>\n",
              "      <td>let honest who hasnt heard you buy prime get y...</td>\n",
              "    </tr>\n",
              "    <tr>\n",
              "      <th>2</th>\n",
              "      <td>i love cs</td>\n",
              "      <td>love</td>\n",
              "    </tr>\n",
              "    <tr>\n",
              "      <th>3</th>\n",
              "      <td>good game</td>\n",
              "      <td>good game</td>\n",
              "    </tr>\n",
              "    <tr>\n",
              "      <th>6</th>\n",
              "      <td>Fun</td>\n",
              "      <td>fun</td>\n",
              "    </tr>\n",
              "    <tr>\n",
              "      <th>11</th>\n",
              "      <td>Fix this game now. Bullets that don't go, terr...</td>\n",
              "      <td>fix thi game now bullet that dont terribl opti...</td>\n",
              "    </tr>\n",
              "  </tbody>\n",
              "</table>\n",
              "</div>\n",
              "    <div class=\"colab-df-buttons\">\n",
              "\n",
              "  <div class=\"colab-df-container\">\n",
              "    <button class=\"colab-df-convert\" onclick=\"convertToInteractive('df-c8a03d00-51fd-4980-baea-12bf8183747e')\"\n",
              "            title=\"Convert this dataframe to an interactive table.\"\n",
              "            style=\"display:none;\">\n",
              "\n",
              "  <svg xmlns=\"http://www.w3.org/2000/svg\" height=\"24px\" viewBox=\"0 -960 960 960\">\n",
              "    <path d=\"M120-120v-720h720v720H120Zm60-500h600v-160H180v160Zm220 220h160v-160H400v160Zm0 220h160v-160H400v160ZM180-400h160v-160H180v160Zm440 0h160v-160H620v160ZM180-180h160v-160H180v160Zm440 0h160v-160H620v160Z\"/>\n",
              "  </svg>\n",
              "    </button>\n",
              "\n",
              "  <style>\n",
              "    .colab-df-container {\n",
              "      display:flex;\n",
              "      gap: 12px;\n",
              "    }\n",
              "\n",
              "    .colab-df-convert {\n",
              "      background-color: #E8F0FE;\n",
              "      border: none;\n",
              "      border-radius: 50%;\n",
              "      cursor: pointer;\n",
              "      display: none;\n",
              "      fill: #1967D2;\n",
              "      height: 32px;\n",
              "      padding: 0 0 0 0;\n",
              "      width: 32px;\n",
              "    }\n",
              "\n",
              "    .colab-df-convert:hover {\n",
              "      background-color: #E2EBFA;\n",
              "      box-shadow: 0px 1px 2px rgba(60, 64, 67, 0.3), 0px 1px 3px 1px rgba(60, 64, 67, 0.15);\n",
              "      fill: #174EA6;\n",
              "    }\n",
              "\n",
              "    .colab-df-buttons div {\n",
              "      margin-bottom: 4px;\n",
              "    }\n",
              "\n",
              "    [theme=dark] .colab-df-convert {\n",
              "      background-color: #3B4455;\n",
              "      fill: #D2E3FC;\n",
              "    }\n",
              "\n",
              "    [theme=dark] .colab-df-convert:hover {\n",
              "      background-color: #434B5C;\n",
              "      box-shadow: 0px 1px 3px 1px rgba(0, 0, 0, 0.15);\n",
              "      filter: drop-shadow(0px 1px 2px rgba(0, 0, 0, 0.3));\n",
              "      fill: #FFFFFF;\n",
              "    }\n",
              "  </style>\n",
              "\n",
              "    <script>\n",
              "      const buttonEl =\n",
              "        document.querySelector('#df-c8a03d00-51fd-4980-baea-12bf8183747e button.colab-df-convert');\n",
              "      buttonEl.style.display =\n",
              "        google.colab.kernel.accessAllowed ? 'block' : 'none';\n",
              "\n",
              "      async function convertToInteractive(key) {\n",
              "        const element = document.querySelector('#df-c8a03d00-51fd-4980-baea-12bf8183747e');\n",
              "        const dataTable =\n",
              "          await google.colab.kernel.invokeFunction('convertToInteractive',\n",
              "                                                    [key], {});\n",
              "        if (!dataTable) return;\n",
              "\n",
              "        const docLinkHtml = 'Like what you see? Visit the ' +\n",
              "          '<a target=\"_blank\" href=https://colab.research.google.com/notebooks/data_table.ipynb>data table notebook</a>'\n",
              "          + ' to learn more about interactive tables.';\n",
              "        element.innerHTML = '';\n",
              "        dataTable['output_type'] = 'display_data';\n",
              "        await google.colab.output.renderOutput(dataTable, element);\n",
              "        const docLink = document.createElement('div');\n",
              "        docLink.innerHTML = docLinkHtml;\n",
              "        element.appendChild(docLink);\n",
              "      }\n",
              "    </script>\n",
              "  </div>\n",
              "\n",
              "\n",
              "    <div id=\"df-3c1a63e2-6806-45ed-9002-20be338dc95c\">\n",
              "      <button class=\"colab-df-quickchart\" onclick=\"quickchart('df-3c1a63e2-6806-45ed-9002-20be338dc95c')\"\n",
              "                title=\"Suggest charts\"\n",
              "                style=\"display:none;\">\n",
              "\n",
              "<svg xmlns=\"http://www.w3.org/2000/svg\" height=\"24px\"viewBox=\"0 0 24 24\"\n",
              "     width=\"24px\">\n",
              "    <g>\n",
              "        <path d=\"M19 3H5c-1.1 0-2 .9-2 2v14c0 1.1.9 2 2 2h14c1.1 0 2-.9 2-2V5c0-1.1-.9-2-2-2zM9 17H7v-7h2v7zm4 0h-2V7h2v10zm4 0h-2v-4h2v4z\"/>\n",
              "    </g>\n",
              "</svg>\n",
              "      </button>\n",
              "\n",
              "<style>\n",
              "  .colab-df-quickchart {\n",
              "      --bg-color: #E8F0FE;\n",
              "      --fill-color: #1967D2;\n",
              "      --hover-bg-color: #E2EBFA;\n",
              "      --hover-fill-color: #174EA6;\n",
              "      --disabled-fill-color: #AAA;\n",
              "      --disabled-bg-color: #DDD;\n",
              "  }\n",
              "\n",
              "  [theme=dark] .colab-df-quickchart {\n",
              "      --bg-color: #3B4455;\n",
              "      --fill-color: #D2E3FC;\n",
              "      --hover-bg-color: #434B5C;\n",
              "      --hover-fill-color: #FFFFFF;\n",
              "      --disabled-bg-color: #3B4455;\n",
              "      --disabled-fill-color: #666;\n",
              "  }\n",
              "\n",
              "  .colab-df-quickchart {\n",
              "    background-color: var(--bg-color);\n",
              "    border: none;\n",
              "    border-radius: 50%;\n",
              "    cursor: pointer;\n",
              "    display: none;\n",
              "    fill: var(--fill-color);\n",
              "    height: 32px;\n",
              "    padding: 0;\n",
              "    width: 32px;\n",
              "  }\n",
              "\n",
              "  .colab-df-quickchart:hover {\n",
              "    background-color: var(--hover-bg-color);\n",
              "    box-shadow: 0 1px 2px rgba(60, 64, 67, 0.3), 0 1px 3px 1px rgba(60, 64, 67, 0.15);\n",
              "    fill: var(--button-hover-fill-color);\n",
              "  }\n",
              "\n",
              "  .colab-df-quickchart-complete:disabled,\n",
              "  .colab-df-quickchart-complete:disabled:hover {\n",
              "    background-color: var(--disabled-bg-color);\n",
              "    fill: var(--disabled-fill-color);\n",
              "    box-shadow: none;\n",
              "  }\n",
              "\n",
              "  .colab-df-spinner {\n",
              "    border: 2px solid var(--fill-color);\n",
              "    border-color: transparent;\n",
              "    border-bottom-color: var(--fill-color);\n",
              "    animation:\n",
              "      spin 1s steps(1) infinite;\n",
              "  }\n",
              "\n",
              "  @keyframes spin {\n",
              "    0% {\n",
              "      border-color: transparent;\n",
              "      border-bottom-color: var(--fill-color);\n",
              "      border-left-color: var(--fill-color);\n",
              "    }\n",
              "    20% {\n",
              "      border-color: transparent;\n",
              "      border-left-color: var(--fill-color);\n",
              "      border-top-color: var(--fill-color);\n",
              "    }\n",
              "    30% {\n",
              "      border-color: transparent;\n",
              "      border-left-color: var(--fill-color);\n",
              "      border-top-color: var(--fill-color);\n",
              "      border-right-color: var(--fill-color);\n",
              "    }\n",
              "    40% {\n",
              "      border-color: transparent;\n",
              "      border-right-color: var(--fill-color);\n",
              "      border-top-color: var(--fill-color);\n",
              "    }\n",
              "    60% {\n",
              "      border-color: transparent;\n",
              "      border-right-color: var(--fill-color);\n",
              "    }\n",
              "    80% {\n",
              "      border-color: transparent;\n",
              "      border-right-color: var(--fill-color);\n",
              "      border-bottom-color: var(--fill-color);\n",
              "    }\n",
              "    90% {\n",
              "      border-color: transparent;\n",
              "      border-bottom-color: var(--fill-color);\n",
              "    }\n",
              "  }\n",
              "</style>\n",
              "\n",
              "      <script>\n",
              "        async function quickchart(key) {\n",
              "          const quickchartButtonEl =\n",
              "            document.querySelector('#' + key + ' button');\n",
              "          quickchartButtonEl.disabled = true;  // To prevent multiple clicks.\n",
              "          quickchartButtonEl.classList.add('colab-df-spinner');\n",
              "          try {\n",
              "            const charts = await google.colab.kernel.invokeFunction(\n",
              "                'suggestCharts', [key], {});\n",
              "          } catch (error) {\n",
              "            console.error('Error during call to suggestCharts:', error);\n",
              "          }\n",
              "          quickchartButtonEl.classList.remove('colab-df-spinner');\n",
              "          quickchartButtonEl.classList.add('colab-df-quickchart-complete');\n",
              "        }\n",
              "        (() => {\n",
              "          let quickchartButtonEl =\n",
              "            document.querySelector('#df-3c1a63e2-6806-45ed-9002-20be338dc95c button');\n",
              "          quickchartButtonEl.style.display =\n",
              "            google.colab.kernel.accessAllowed ? 'block' : 'none';\n",
              "        })();\n",
              "      </script>\n",
              "    </div>\n",
              "\n",
              "    </div>\n",
              "  </div>\n"
            ],
            "application/vnd.google.colaboratory.intrinsic+json": {
              "type": "dataframe",
              "summary": "{\n  \"name\": \"df[[\\\"review\\\", \\\"cleaned_review\\\"]]\",\n  \"rows\": 5,\n  \"fields\": [\n    {\n      \"column\": \"review\",\n      \"properties\": {\n        \"dtype\": \"string\",\n        \"num_unique_values\": 5,\n        \"samples\": [\n          \"i love cs\",\n          \"Fix this game now. Bullets that don't go, terrible optimization and signature issues, anti-cheat that doesn't work, hitbox crap and more. Sorry, new case, new skin and new army pass are here, sorry. If you care about money and don't care about loyal players, you'll never reach the bone crew. Listen to our problems and care!\",\n          \"good game\"\n        ],\n        \"semantic_type\": \"\",\n        \"description\": \"\"\n      }\n    },\n    {\n      \"column\": \"cleaned_review\",\n      \"properties\": {\n        \"dtype\": \"string\",\n        \"num_unique_values\": 5,\n        \"samples\": [\n          \"love\",\n          \"fix thi game now bullet that dont terribl optim and signatur issu anticheat that doesnt work hitbox crap and more sorri new case new skin and new armi pass are here sorri you care about money and dont care about loyal player youll never reach the bone crew listen our problem and care\",\n          \"good game\"\n        ],\n        \"semantic_type\": \"\",\n        \"description\": \"\"\n      }\n    }\n  ]\n}"
            }
          },
          "metadata": {},
          "execution_count": 23
        }
      ]
    },
    {
      "cell_type": "markdown",
      "source": [
        "✅ Step 2: Train Naive Bayes Sentiment Classifier"
      ],
      "metadata": {
        "id": "8416QvxroHOg"
      }
    },
    {
      "cell_type": "code",
      "source": [
        "# Train-test split\n",
        "X_train, X_test, y_train, y_test = train_test_split(\n",
        "    df[\"cleaned_review\"], df[\"label\"], test_size=0.2, random_state=42\n",
        ")\n",
        "\n",
        "# TF-IDF vectorization\n",
        "tfidf = TfidfVectorizer(max_features=5000)\n",
        "X_train_tfidf = tfidf.fit_transform(X_train)\n",
        "X_test_tfidf = tfidf.transform(X_test)\n",
        "\n",
        "# Naive Bayes classifier\n",
        "model_nb = MultinomialNB()\n",
        "model_nb.fit(X_train_tfidf, y_train)\n",
        "\n",
        "# Evaluation\n",
        "y_pred = model_nb.predict(X_test_tfidf)\n",
        "print(classification_report(y_test, y_pred, target_names=[\"Negative\", \"Positive\"]))\n"
      ],
      "metadata": {
        "colab": {
          "base_uri": "https://localhost:8080/"
        },
        "id": "B-vCSQyPoJOP",
        "outputId": "3c134d69-2c0f-4182-a761-b95ec33d7f78"
      },
      "execution_count": 24,
      "outputs": [
        {
          "output_type": "stream",
          "name": "stdout",
          "text": [
            "              precision    recall  f1-score   support\n",
            "\n",
            "    Negative       0.96      0.35      0.51       442\n",
            "    Positive       0.81      1.00      0.89      1229\n",
            "\n",
            "    accuracy                           0.82      1671\n",
            "   macro avg       0.89      0.67      0.70      1671\n",
            "weighted avg       0.85      0.82      0.79      1671\n",
            "\n"
          ]
        }
      ]
    },
    {
      "cell_type": "markdown",
      "source": [
        "✅ Step 3: Train an LSTM Sentiment Classifier\n",
        "We'll follow this workflow:\n",
        "\n",
        "Tokenize text into sequences\n",
        "\n",
        "Pad sequences to the same length\n",
        "\n",
        "Build LSTM model using Keras\n",
        "\n",
        "Train and evaluate the model"
      ],
      "metadata": {
        "id": "T9jrz0BrotG1"
      }
    },
    {
      "cell_type": "markdown",
      "source": [
        "📦 Step 3.1: Install and Import Required Libraries"
      ],
      "metadata": {
        "id": "Y6AMB5oDowZA"
      }
    },
    {
      "cell_type": "code",
      "source": [
        "import tensorflow as tf\n",
        "from tensorflow.keras.preprocessing.text import Tokenizer\n",
        "from tensorflow.keras.preprocessing.sequence import pad_sequences\n",
        "from tensorflow.keras.models import Sequential\n",
        "from tensorflow.keras.layers import Embedding, LSTM, Dense, Dropout\n",
        "from sklearn.metrics import classification_report\n"
      ],
      "metadata": {
        "id": "2vjDiuaDoyTP"
      },
      "execution_count": 25,
      "outputs": []
    },
    {
      "cell_type": "markdown",
      "source": [
        "🧪 Step 3.2: Tokenization and Padding"
      ],
      "metadata": {
        "id": "TRHRQqr1o1Xw"
      }
    },
    {
      "cell_type": "code",
      "source": [
        "# Prepare data\n",
        "texts = df[\"cleaned_review\"].astype(str).tolist()\n",
        "labels = df[\"label\"].tolist()\n",
        "\n",
        "# Tokenize the text\n",
        "tokenizer = Tokenizer(num_words=10000, oov_token=\"<OOV>\")\n",
        "tokenizer.fit_on_texts(texts)\n",
        "sequences = tokenizer.texts_to_sequences(texts)\n",
        "\n",
        "# Pad sequences\n",
        "padded = pad_sequences(sequences, maxlen=200, padding='post', truncating='post')\n",
        "\n",
        "# Split train-test\n",
        "X_train, X_test, y_train, y_test = train_test_split(padded, labels, test_size=0.2, random_state=42)\n"
      ],
      "metadata": {
        "id": "4RdV4aJeo3uJ"
      },
      "execution_count": 26,
      "outputs": []
    },
    {
      "cell_type": "markdown",
      "source": [
        "🧠 Step 3.3: Define and Train LSTM Model"
      ],
      "metadata": {
        "id": "tB9t0OG0o6V0"
      }
    },
    {
      "cell_type": "code",
      "source": [
        "model = Sequential([\n",
        "    Embedding(input_dim=10000, output_dim=64, input_length=200),\n",
        "    LSTM(64, return_sequences=False),\n",
        "    Dropout(0.5),\n",
        "    Dense(32, activation='relu'),\n",
        "    Dense(1, activation='sigmoid')\n",
        "])\n",
        "\n",
        "model.compile(loss='binary_crossentropy', optimizer='adam', metrics=['accuracy'])\n",
        "model.summary()\n"
      ],
      "metadata": {
        "colab": {
          "base_uri": "https://localhost:8080/",
          "height": 341
        },
        "id": "0xsnW462o9ES",
        "outputId": "3dbd8d97-cdf1-44f6-80c2-de42916adffb"
      },
      "execution_count": 27,
      "outputs": [
        {
          "output_type": "stream",
          "name": "stderr",
          "text": [
            "/usr/local/lib/python3.11/dist-packages/keras/src/layers/core/embedding.py:90: UserWarning: Argument `input_length` is deprecated. Just remove it.\n",
            "  warnings.warn(\n"
          ]
        },
        {
          "output_type": "display_data",
          "data": {
            "text/plain": [
              "\u001b[1mModel: \"sequential\"\u001b[0m\n"
            ],
            "text/html": [
              "<pre style=\"white-space:pre;overflow-x:auto;line-height:normal;font-family:Menlo,'DejaVu Sans Mono',consolas,'Courier New',monospace\"><span style=\"font-weight: bold\">Model: \"sequential\"</span>\n",
              "</pre>\n"
            ]
          },
          "metadata": {}
        },
        {
          "output_type": "display_data",
          "data": {
            "text/plain": [
              "┏━━━━━━━━━━━━━━━━━━━━━━━━━━━━━━━━━┳━━━━━━━━━━━━━━━━━━━━━━━━┳━━━━━━━━━━━━━━━┓\n",
              "┃\u001b[1m \u001b[0m\u001b[1mLayer (type)                   \u001b[0m\u001b[1m \u001b[0m┃\u001b[1m \u001b[0m\u001b[1mOutput Shape          \u001b[0m\u001b[1m \u001b[0m┃\u001b[1m \u001b[0m\u001b[1m      Param #\u001b[0m\u001b[1m \u001b[0m┃\n",
              "┡━━━━━━━━━━━━━━━━━━━━━━━━━━━━━━━━━╇━━━━━━━━━━━━━━━━━━━━━━━━╇━━━━━━━━━━━━━━━┩\n",
              "│ embedding (\u001b[38;5;33mEmbedding\u001b[0m)           │ ?                      │   \u001b[38;5;34m0\u001b[0m (unbuilt) │\n",
              "├─────────────────────────────────┼────────────────────────┼───────────────┤\n",
              "│ lstm (\u001b[38;5;33mLSTM\u001b[0m)                     │ ?                      │   \u001b[38;5;34m0\u001b[0m (unbuilt) │\n",
              "├─────────────────────────────────┼────────────────────────┼───────────────┤\n",
              "│ dropout (\u001b[38;5;33mDropout\u001b[0m)               │ ?                      │             \u001b[38;5;34m0\u001b[0m │\n",
              "├─────────────────────────────────┼────────────────────────┼───────────────┤\n",
              "│ dense (\u001b[38;5;33mDense\u001b[0m)                   │ ?                      │   \u001b[38;5;34m0\u001b[0m (unbuilt) │\n",
              "├─────────────────────────────────┼────────────────────────┼───────────────┤\n",
              "│ dense_1 (\u001b[38;5;33mDense\u001b[0m)                 │ ?                      │   \u001b[38;5;34m0\u001b[0m (unbuilt) │\n",
              "└─────────────────────────────────┴────────────────────────┴───────────────┘\n"
            ],
            "text/html": [
              "<pre style=\"white-space:pre;overflow-x:auto;line-height:normal;font-family:Menlo,'DejaVu Sans Mono',consolas,'Courier New',monospace\">┏━━━━━━━━━━━━━━━━━━━━━━━━━━━━━━━━━┳━━━━━━━━━━━━━━━━━━━━━━━━┳━━━━━━━━━━━━━━━┓\n",
              "┃<span style=\"font-weight: bold\"> Layer (type)                    </span>┃<span style=\"font-weight: bold\"> Output Shape           </span>┃<span style=\"font-weight: bold\">       Param # </span>┃\n",
              "┡━━━━━━━━━━━━━━━━━━━━━━━━━━━━━━━━━╇━━━━━━━━━━━━━━━━━━━━━━━━╇━━━━━━━━━━━━━━━┩\n",
              "│ embedding (<span style=\"color: #0087ff; text-decoration-color: #0087ff\">Embedding</span>)           │ ?                      │   <span style=\"color: #00af00; text-decoration-color: #00af00\">0</span> (unbuilt) │\n",
              "├─────────────────────────────────┼────────────────────────┼───────────────┤\n",
              "│ lstm (<span style=\"color: #0087ff; text-decoration-color: #0087ff\">LSTM</span>)                     │ ?                      │   <span style=\"color: #00af00; text-decoration-color: #00af00\">0</span> (unbuilt) │\n",
              "├─────────────────────────────────┼────────────────────────┼───────────────┤\n",
              "│ dropout (<span style=\"color: #0087ff; text-decoration-color: #0087ff\">Dropout</span>)               │ ?                      │             <span style=\"color: #00af00; text-decoration-color: #00af00\">0</span> │\n",
              "├─────────────────────────────────┼────────────────────────┼───────────────┤\n",
              "│ dense (<span style=\"color: #0087ff; text-decoration-color: #0087ff\">Dense</span>)                   │ ?                      │   <span style=\"color: #00af00; text-decoration-color: #00af00\">0</span> (unbuilt) │\n",
              "├─────────────────────────────────┼────────────────────────┼───────────────┤\n",
              "│ dense_1 (<span style=\"color: #0087ff; text-decoration-color: #0087ff\">Dense</span>)                 │ ?                      │   <span style=\"color: #00af00; text-decoration-color: #00af00\">0</span> (unbuilt) │\n",
              "└─────────────────────────────────┴────────────────────────┴───────────────┘\n",
              "</pre>\n"
            ]
          },
          "metadata": {}
        },
        {
          "output_type": "display_data",
          "data": {
            "text/plain": [
              "\u001b[1m Total params: \u001b[0m\u001b[38;5;34m0\u001b[0m (0.00 B)\n"
            ],
            "text/html": [
              "<pre style=\"white-space:pre;overflow-x:auto;line-height:normal;font-family:Menlo,'DejaVu Sans Mono',consolas,'Courier New',monospace\"><span style=\"font-weight: bold\"> Total params: </span><span style=\"color: #00af00; text-decoration-color: #00af00\">0</span> (0.00 B)\n",
              "</pre>\n"
            ]
          },
          "metadata": {}
        },
        {
          "output_type": "display_data",
          "data": {
            "text/plain": [
              "\u001b[1m Trainable params: \u001b[0m\u001b[38;5;34m0\u001b[0m (0.00 B)\n"
            ],
            "text/html": [
              "<pre style=\"white-space:pre;overflow-x:auto;line-height:normal;font-family:Menlo,'DejaVu Sans Mono',consolas,'Courier New',monospace\"><span style=\"font-weight: bold\"> Trainable params: </span><span style=\"color: #00af00; text-decoration-color: #00af00\">0</span> (0.00 B)\n",
              "</pre>\n"
            ]
          },
          "metadata": {}
        },
        {
          "output_type": "display_data",
          "data": {
            "text/plain": [
              "\u001b[1m Non-trainable params: \u001b[0m\u001b[38;5;34m0\u001b[0m (0.00 B)\n"
            ],
            "text/html": [
              "<pre style=\"white-space:pre;overflow-x:auto;line-height:normal;font-family:Menlo,'DejaVu Sans Mono',consolas,'Courier New',monospace\"><span style=\"font-weight: bold\"> Non-trainable params: </span><span style=\"color: #00af00; text-decoration-color: #00af00\">0</span> (0.00 B)\n",
              "</pre>\n"
            ]
          },
          "metadata": {}
        }
      ]
    },
    {
      "cell_type": "code",
      "source": [
        "import numpy as np\n",
        "\n",
        "y_train = np.array(y_train)\n",
        "y_test = np.array(y_test)\n"
      ],
      "metadata": {
        "id": "vFwJDHKepAUI"
      },
      "execution_count": 29,
      "outputs": []
    },
    {
      "cell_type": "code",
      "source": [
        "history = model.fit(\n",
        "    X_train, y_train,\n",
        "    validation_data=(X_test, y_test),\n",
        "    epochs=5,\n",
        "    batch_size=64,\n",
        "    verbose=1\n",
        ")\n"
      ],
      "metadata": {
        "colab": {
          "base_uri": "https://localhost:8080/"
        },
        "id": "CPh3NYG0pO58",
        "outputId": "64fc642a-d66a-48e0-c7da-ab531fa356f1"
      },
      "execution_count": 30,
      "outputs": [
        {
          "output_type": "stream",
          "name": "stdout",
          "text": [
            "Epoch 1/5\n",
            "\u001b[1m105/105\u001b[0m \u001b[32m━━━━━━━━━━━━━━━━━━━━\u001b[0m\u001b[37m\u001b[0m \u001b[1m17s\u001b[0m 125ms/step - accuracy: 0.7119 - loss: 0.6120 - val_accuracy: 0.7355 - val_loss: 0.5785\n",
            "Epoch 2/5\n",
            "\u001b[1m105/105\u001b[0m \u001b[32m━━━━━━━━━━━━━━━━━━━━\u001b[0m\u001b[37m\u001b[0m \u001b[1m20s\u001b[0m 121ms/step - accuracy: 0.7198 - loss: 0.5982 - val_accuracy: 0.7355 - val_loss: 0.5801\n",
            "Epoch 3/5\n",
            "\u001b[1m105/105\u001b[0m \u001b[32m━━━━━━━━━━━━━━━━━━━━\u001b[0m\u001b[37m\u001b[0m \u001b[1m20s\u001b[0m 112ms/step - accuracy: 0.7240 - loss: 0.5929 - val_accuracy: 0.7355 - val_loss: 0.5848\n",
            "Epoch 4/5\n",
            "\u001b[1m105/105\u001b[0m \u001b[32m━━━━━━━━━━━━━━━━━━━━\u001b[0m\u001b[37m\u001b[0m \u001b[1m22s\u001b[0m 130ms/step - accuracy: 0.7388 - loss: 0.5756 - val_accuracy: 0.7355 - val_loss: 0.5799\n",
            "Epoch 5/5\n",
            "\u001b[1m105/105\u001b[0m \u001b[32m━━━━━━━━━━━━━━━━━━━━\u001b[0m\u001b[37m\u001b[0m \u001b[1m19s\u001b[0m 118ms/step - accuracy: 0.7323 - loss: 0.5851 - val_accuracy: 0.7355 - val_loss: 0.5779\n"
          ]
        }
      ]
    },
    {
      "cell_type": "markdown",
      "source": [
        "🧾 Step 3.4: Evaluate the Model"
      ],
      "metadata": {
        "id": "hulA3gRjpu8p"
      }
    },
    {
      "cell_type": "code",
      "source": [
        "# Predict on test set\n",
        "y_pred_prob = model.predict(X_test)\n",
        "y_pred = (y_pred_prob > 0.5).astype(int)\n",
        "\n",
        "print(classification_report(y_test, y_pred, target_names=[\"Negative\", \"Positive\"]))\n"
      ],
      "metadata": {
        "colab": {
          "base_uri": "https://localhost:8080/"
        },
        "id": "qagoHeFmpwjT",
        "outputId": "0205328b-794a-4399-ea24-298e1b73f0fc"
      },
      "execution_count": 31,
      "outputs": [
        {
          "output_type": "stream",
          "name": "stdout",
          "text": [
            "\u001b[1m53/53\u001b[0m \u001b[32m━━━━━━━━━━━━━━━━━━━━\u001b[0m\u001b[37m\u001b[0m \u001b[1m2s\u001b[0m 28ms/step\n",
            "              precision    recall  f1-score   support\n",
            "\n",
            "    Negative       0.00      0.00      0.00       442\n",
            "    Positive       0.74      1.00      0.85      1229\n",
            "\n",
            "    accuracy                           0.74      1671\n",
            "   macro avg       0.37      0.50      0.42      1671\n",
            "weighted avg       0.54      0.74      0.62      1671\n",
            "\n"
          ]
        },
        {
          "output_type": "stream",
          "name": "stderr",
          "text": [
            "/usr/local/lib/python3.11/dist-packages/sklearn/metrics/_classification.py:1565: UndefinedMetricWarning: Precision is ill-defined and being set to 0.0 in labels with no predicted samples. Use `zero_division` parameter to control this behavior.\n",
            "  _warn_prf(average, modifier, f\"{metric.capitalize()} is\", len(result))\n",
            "/usr/local/lib/python3.11/dist-packages/sklearn/metrics/_classification.py:1565: UndefinedMetricWarning: Precision is ill-defined and being set to 0.0 in labels with no predicted samples. Use `zero_division` parameter to control this behavior.\n",
            "  _warn_prf(average, modifier, f\"{metric.capitalize()} is\", len(result))\n",
            "/usr/local/lib/python3.11/dist-packages/sklearn/metrics/_classification.py:1565: UndefinedMetricWarning: Precision is ill-defined and being set to 0.0 in labels with no predicted samples. Use `zero_division` parameter to control this behavior.\n",
            "  _warn_prf(average, modifier, f\"{metric.capitalize()} is\", len(result))\n"
          ]
        }
      ]
    },
    {
      "cell_type": "markdown",
      "source": [
        "✅ Step 4: Plot Training Accuracy and Loss\n",
        "This step uses the history object returned by .fit() to plot:\n",
        "\n",
        "Training vs. validation accuracy\n",
        "\n",
        "Training vs. validation loss\n",
        "\n",
        "📊 Plot Accuracy and Loss Curves"
      ],
      "metadata": {
        "id": "azHaalAKp7BZ"
      }
    },
    {
      "cell_type": "code",
      "source": [
        "import matplotlib.pyplot as plt\n",
        "\n",
        "# Accuracy Plot\n",
        "plt.figure(figsize=(8, 4))\n",
        "plt.plot(history.history['accuracy'], label='Training Accuracy', marker='o')\n",
        "plt.plot(history.history['val_accuracy'], label='Validation Accuracy', marker='x')\n",
        "plt.title('LSTM Model Accuracy')\n",
        "plt.xlabel('Epoch')\n",
        "plt.ylabel('Accuracy')\n",
        "plt.legend()\n",
        "plt.grid(True)\n",
        "plt.show()\n",
        "\n",
        "# Loss Plot\n",
        "plt.figure(figsize=(8, 4))\n",
        "plt.plot(history.history['loss'], label='Training Loss', marker='o')\n",
        "plt.plot(history.history['val_loss'], label='Validation Loss', marker='x')\n",
        "plt.title('LSTM Model Loss')\n",
        "plt.xlabel('Epoch')\n",
        "plt.ylabel('Loss')\n",
        "plt.legend()\n",
        "plt.grid(True)\n",
        "plt.show()\n"
      ],
      "metadata": {
        "colab": {
          "base_uri": "https://localhost:8080/",
          "height": 803
        },
        "id": "mEs-XZwap_i6",
        "outputId": "9e8452aa-6cb6-4a32-b963-32d02b97da1d"
      },
      "execution_count": 32,
      "outputs": [
        {
          "output_type": "display_data",
          "data": {
            "text/plain": [
              "<Figure size 800x400 with 1 Axes>"
            ],
            "image/png": "[encoded data removed]"
          },
          "metadata": {}
        },
        {
          "output_type": "display_data",
          "data": {
            "text/plain": [
              "<Figure size 800x400 with 1 Axes>"
            ],
            "image/png": "[encoded data removed]"
          },
          "metadata": {}
        }
      ]
    },
    {
      "cell_type": "markdown",
      "source": [
        "✅ Step 5: Compare Naive Bayes vs. LSTM Model\n",
        "We'll show:\n",
        "\n",
        "Accuracy\n",
        "\n",
        "Precision\n",
        "\n",
        "Recall\n",
        "\n",
        "F1-score\n",
        "\n",
        "For both models in a simple bar chart comparison."
      ],
      "metadata": {
        "id": "597xF_xPqg8f"
      }
    },
    {
      "cell_type": "markdown",
      "source": [
        "📋 Step 5.1: Extract Metrics from Both Models\n",
        "Assuming you've already run:\n",
        "\n",
        "y_pred_nb from Naive Bayes\n",
        "\n",
        "y_pred_lstm from LSTM\n",
        "\n",
        "Let’s calculate the scores:"
      ],
      "metadata": {
        "id": "BOtHUeiPqkxZ"
      }
    },
    {
      "cell_type": "code",
      "source": [
        "# Re-run if needed: Naive Bayes predictions\n",
        "y_pred_nb = model_nb.predict(X_test_tfidf)\n",
        "\n",
        "# Re-run: LSTM predictions\n",
        "y_pred_prob_lstm = model.predict(X_test)\n",
        "y_pred_lstm = (y_pred_prob_lstm > 0.5).astype(int).flatten()\n"
      ],
      "metadata": {
        "colab": {
          "base_uri": "https://localhost:8080/"
        },
        "id": "0x-roRGpq4cS",
        "outputId": "b4979dfc-3c96-4bf4-ce83-7f0f44f12c76"
      },
      "execution_count": 34,
      "outputs": [
        {
          "output_type": "stream",
          "name": "stdout",
          "text": [
            "\u001b[1m53/53\u001b[0m \u001b[32m━━━━━━━━━━━━━━━━━━━━\u001b[0m\u001b[37m\u001b[0m \u001b[1m1s\u001b[0m 20ms/step\n"
          ]
        }
      ]
    },
    {
      "cell_type": "code",
      "source": [
        "from sklearn.metrics import accuracy_score, precision_score, recall_score, f1_score\n",
        "\n",
        "# Metrics for Naive Bayes\n",
        "acc_nb = accuracy_score(y_test, y_pred_nb)\n",
        "prec_nb = precision_score(y_test, y_pred_nb)\n",
        "rec_nb = recall_score(y_test, y_pred_nb)\n",
        "f1_nb = f1_score(y_test, y_pred_nb)\n",
        "\n",
        "# Metrics for LSTM\n",
        "acc_lstm = accuracy_score(y_test, y_pred_lstm)\n",
        "prec_lstm = precision_score(y_test, y_pred_lstm)\n",
        "rec_lstm = recall_score(y_test, y_pred_lstm)\n",
        "f1_lstm = f1_score(y_test, y_pred_lstm)\n"
      ],
      "metadata": {
        "id": "Dbfb_iLtqmYA"
      },
      "execution_count": 35,
      "outputs": []
    },
    {
      "cell_type": "markdown",
      "source": [
        "📊 Step 5.2: Bar Chart Comparison"
      ],
      "metadata": {
        "id": "Ddii906QrAcS"
      }
    },
    {
      "cell_type": "code",
      "source": [
        "import numpy as np\n",
        "import matplotlib.pyplot as plt\n",
        "\n",
        "metrics = [\"Accuracy\", \"Precision\", \"Recall\", \"F1-Score\"]\n",
        "nb_scores = [acc_nb, prec_nb, rec_nb, f1_nb]\n",
        "lstm_scores = [acc_lstm, prec_lstm, rec_lstm, f1_lstm]\n",
        "\n",
        "x = np.arange(len(metrics))\n",
        "width = 0.35\n",
        "\n",
        "plt.figure(figsize=(10,5))\n",
        "plt.bar(x - width/2, nb_scores, width, label='Naive Bayes')\n",
        "plt.bar(x + width/2, lstm_scores, width, label='LSTM')\n",
        "plt.xticks(x, metrics)\n",
        "plt.ylabel(\"Score\")\n",
        "plt.title(\"Model Comparison: Naive Bayes vs LSTM\")\n",
        "plt.ylim(0, 1.0)\n",
        "plt.legend()\n",
        "plt.grid(axis='y')\n",
        "plt.tight_layout()\n",
        "plt.show()\n"
      ],
      "metadata": {
        "colab": {
          "base_uri": "https://localhost:8080/",
          "height": 507
        },
        "id": "R8qxnbGkrCIk",
        "outputId": "a1997869-63b8-4fec-8cad-b834035a5537"
      },
      "execution_count": 36,
      "outputs": [
        {
          "output_type": "display_data",
          "data": {
            "text/plain": [
              "<Figure size 1000x500 with 1 Axes>"
            ],
            "image/png": "[encoded data removed]"
          },
          "metadata": {}
        }
      ]
    }
  ]
}