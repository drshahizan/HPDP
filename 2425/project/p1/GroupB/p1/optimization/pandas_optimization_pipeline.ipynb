{
  "nbformat": 4,
  "nbformat_minor": 0,
  "metadata": {
    "colab": {
      "provenance": []
    },
    "kernelspec": {
      "name": "python3",
      "display_name": "Python 3"
    },
    "language_info": {
      "name": "python"
    }
  },
  "cells": [
    {
      "cell_type": "code",
      "source": [
        "import time\n",
        "import os\n",
        "import psutil\n",
        "import pandas as pd\n",
        "\n",
        "# ========== Start Performance Tracking ==========\n",
        "start_time = time.time()\n",
        "process = psutil.Process(os.getpid())\n",
        "cpu_start = psutil.cpu_percent(interval=None)\n",
        "memory_start = process.memory_info().rss / (1024 * 1024)  # in MB\n",
        "\n",
        "# ========== Read CSV with Pandas ==========\n",
        "df = pd.read_csv('cleaned_data.csv', encoding='utf-8')\n",
        "\n",
        "# Drop rows with missing or invalid data\n",
        "df.dropna(subset=['price (myr)', 'mileage', 'region'], inplace=True)\n",
        "\n",
        "# Convert columns to appropriate numeric types\n",
        "df['price (myr)'] = pd.to_numeric(df['price (myr)'], errors='coerce')\n",
        "df['mileage'] = pd.to_numeric(df['mileage'], errors='coerce')\n",
        "\n",
        "# Filter out rows where conversion failed\n",
        "df = df.dropna(subset=['price (myr)', 'mileage'])\n",
        "\n",
        "# ========== Compute Metrics ==========\n",
        "total_rows = len(df)\n",
        "mean_price = df['price (myr)'].mean()\n",
        "mean_mileage = df['mileage'].mean()\n",
        "most_common_region = df['region'].mode()[0] if not df['region'].empty else \"N/A\"\n",
        "\n",
        "# ========== End Performance Tracking ==========\n",
        "end_time = time.time()\n",
        "cpu_end = psutil.cpu_percent(interval=None)\n",
        "memory_end = process.memory_info().rss / (1024 * 1024)  # in MB\n",
        "execution_time = end_time - start_time\n",
        "\n",
        "# ========== Save Processed DataFrame as CSV ==========\n",
        "df.to_csv('pandas_optimized.csv', index=False)\n",
        "\n",
        "# ========== Prepare Metrics for CSV ==========\n",
        "metrics = {\n",
        "    \"Optimization Stage\": \"Pandas Optimization\",\n",
        "    \"Total Rows\": total_rows,\n",
        "    \"Total Processing Time (seconds)\": execution_time,\n",
        "    \"CPU Usage (%)\": cpu_end - cpu_start,\n",
        "    \"Memory Usage (MB)\": memory_end - memory_start,\n",
        "    \"Throughput (records/second)\": total_rows / execution_time,\n",
        "    \"Data Processed (rows)\": total_rows,\n",
        "    \"Time Taken (seconds)\": execution_time,\n",
        "    \"Records per second\": total_rows / execution_time\n",
        "}\n",
        "\n",
        "# Convert metrics to DataFrame and save as CSV\n",
        "metrics_df = pd.DataFrame([metrics])\n",
        "metrics_df.to_csv('pandas_optimized.csv', index=False)\n",
        "\n",
        "# ========== Print Metrics ==========\n",
        "print(\"\\n🐍 Pandas Optimization Complete\")\n",
        "print(f\"📄 Total Rows: {total_rows}\")\n",
        "print(f\"🕒 Total Processing Time: {execution_time:.2f} seconds\")\n",
        "print(f\"🧠 CPU Usage: {cpu_end - cpu_start:.2f}%\")\n",
        "print(f\"💾 Memory Usage: {memory_end - memory_start:.2f} MB\")\n",
        "print(f\"⚡ Throughput: {total_rows / execution_time:.2f} records/second\")\n",
        "print(f\"💸 Mean Price (MYR): RM {mean_price:.2f}\")\n",
        "print(f\"🛣️ Mean Mileage: {mean_mileage:.2f} km\")\n",
        "print(f\"📍 Most Common Region: {most_common_region}\")\n",
        "\n",
        "print(\"\\n✅ Metrics saved to pandas_optimized.csv\")"
      ],
      "metadata": {
        "id": "WSNprqvnPYAo",
        "colab": {
          "base_uri": "https://localhost:8080/"
        },
        "outputId": "91546df6-cda3-475f-d8d4-d783a805320e"
      },
      "execution_count": 9,
      "outputs": [
        {
          "output_type": "stream",
          "name": "stdout",
          "text": [
            "\n",
            "🐍 Pandas Optimization Complete\n",
            "📄 Total Rows: 175545\n",
            "🕒 Total Processing Time: 2.16 seconds\n",
            "🧠 CPU Usage: 70.60%\n",
            "💾 Memory Usage: 86.04 MB\n",
            "⚡ Throughput: 81291.59 records/second\n",
            "💸 Mean Price (MYR): RM 208327.84\n",
            "🛣️ Mean Mileage: 56206.03 km\n",
            "📍 Most Common Region: selangor\n",
            "\n",
            "✅ Metrics saved to pandas_optimized.csv\n"
          ]
        }
      ]
    }
  ]
}