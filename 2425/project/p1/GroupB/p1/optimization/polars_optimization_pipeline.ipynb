{
  "nbformat": 4,
  "nbformat_minor": 0,
  "metadata": {
    "colab": {
      "provenance": []
    },
    "kernelspec": {
      "name": "python3",
      "display_name": "Python 3"
    },
    "language_info": {
      "name": "python"
    }
  },
  "cells": [
    {
      "cell_type": "code",
      "execution_count": null,
      "metadata": {
        "colab": {
          "base_uri": "https://localhost:8080/"
        },
        "id": "YqaQwaiJWlXz",
        "outputId": "5b6d8658-3f2c-4a3e-bd9a-bcf15c23d8e1"
      },
      "outputs": [
        {
          "output_type": "stream",
          "name": "stdout",
          "text": [
            "Requirement already satisfied: polars in /usr/local/lib/python3.11/dist-packages (1.21.0)\n",
            "Requirement already satisfied: psutil in /usr/local/lib/python3.11/dist-packages (5.9.5)\n"
          ]
        }
      ],
      "source": [
        "!pip install polars psutil"
      ]
    },
    {
      "cell_type": "code",
      "source": [
        "import polars as pl\n",
        "import time\n",
        "import psutil\n",
        "import os\n",
        "import pandas as pd\n",
        "\n",
        "def run_polars_optimization():\n",
        "    start_time = time.time()\n",
        "    process = psutil.Process(os.getpid())\n",
        "    cpu_start = psutil.cpu_percent(interval=None)\n",
        "    memory_start = process.memory_info().rss / (1024 * 1024)  # MB\n",
        "\n",
        "    # Read CSV with error handling for problematic columns\n",
        "    df = pl.read_csv(\n",
        "        \"cleaned_data.csv\",\n",
        "        try_parse_dates=True,\n",
        "        ignore_errors=True,  # Skip rows with parsing errors\n",
        "        null_values=[\"-\", \"NA\", \"N/A\", \"\"]  # Treat these as null values\n",
        "    )\n",
        "\n",
        "    row_count = df.shape[0]\n",
        "    mean_price = df[\"price (myr)\"].mean()\n",
        "    mean_mileage = df[\"mileage\"].mean()\n",
        "\n",
        "    # Handle mode safely in case all values are null\n",
        "    region_mode = df[\"region\"].mode()\n",
        "    most_common_region = region_mode[0] if len(region_mode) > 0 else \"N/A\"\n",
        "\n",
        "    end_time = time.time()\n",
        "    execution_time = end_time - start_time\n",
        "    cpu_end = psutil.cpu_percent(interval=None)\n",
        "    memory_end = process.memory_info().rss / (1024 * 1024)  # MB\n",
        "\n",
        "    metrics = {\n",
        "        \"Optimization Stage\": [\"Polars Optimization\"],\n",
        "        \"Total Rows\": [row_count],\n",
        "        \"Total Processing Time (seconds)\": [execution_time],\n",
        "        \"CPU Usage (%)\": [cpu_end - cpu_start],\n",
        "        \"Memory Usage (MB)\": [memory_end - memory_start],\n",
        "        \"Throughput (records/second)\": [row_count / execution_time],\n",
        "        \"Data Processed (rows)\": [row_count],\n",
        "        \"Time Taken (seconds)\": [execution_time],\n",
        "        \"Records per second\": [row_count / execution_time]\n",
        "    }\n",
        "\n",
        "    # Convert metrics to a DataFrame and save as CSV\n",
        "    metrics_df = pd.DataFrame(metrics)\n",
        "    metrics_df.to_csv(\"polars_optimized.csv\", index=False)\n",
        "\n",
        "    print(\"\\n✅ Polars Optimization Complete\")\n",
        "    print(f\"📄 Total Rows: {row_count}\")\n",
        "    print(f\"🕒 Total Processing Time: {execution_time:.2f} seconds\")\n",
        "    print(f\"🧠 CPU Usage: {cpu_end - cpu_start:.2f}%\")\n",
        "    print(f\"💾 Memory Usage: {memory_end - memory_start:.2f} MB\")\n",
        "    print(f\"⚡ Throughput: {row_count / execution_time:.2f} records/second\")\n",
        "    print(f\"💸 Mean Price (MYR): RM {mean_price:.2f}\")\n",
        "    print(f\"🛣️ Mean Mileage: {mean_mileage:.2f}km\")\n",
        "    print(f\"📍 Most Common Region: {most_common_region}\")\n",
        "\n",
        "    return metrics\n",
        "\n",
        "if __name__ == \"__main__\":\n",
        "    metrics = run_polars_optimization()"
      ],
      "metadata": {
        "colab": {
          "base_uri": "https://localhost:8080/"
        },
        "id": "-i2lpAkYWwjY",
        "outputId": "629e2c4b-4071-47cb-9e6a-587acf5fddbc"
      },
      "execution_count": null,
      "outputs": [
        {
          "output_type": "stream",
          "name": "stdout",
          "text": [
            "\n",
            "✅ Polars Optimization Complete\n",
            "📄 Total Rows: 175545\n",
            "🕒 Total Processing Time: 0.38 seconds\n",
            "🧠 CPU Usage: 25.70%\n",
            "💾 Memory Usage: 130.30 MB\n",
            "⚡ Throughput: 466429.09 records/second\n",
            "💸 Mean Price (MYR): RM 208327.84\n",
            "🛣️ Mean Mileage: 56206.03km\n",
            "📍 Most Common Region: selangor\n"
          ]
        }
      ]
    }
  ]
}