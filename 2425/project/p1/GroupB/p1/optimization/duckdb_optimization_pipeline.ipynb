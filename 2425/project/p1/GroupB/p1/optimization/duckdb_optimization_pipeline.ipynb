{
  "nbformat": 4,
  "nbformat_minor": 0,
  "metadata": {
    "colab": {
      "provenance": []
    },
    "kernelspec": {
      "name": "python3",
      "display_name": "Python 3"
    },
    "language_info": {
      "name": "python"
    }
  },
  "cells": [
    {
      "cell_type": "code",
      "execution_count": 2,
      "metadata": {
        "colab": {
          "base_uri": "https://localhost:8080/"
        },
        "id": "o7uP8qd-HC9d",
        "outputId": "e1600be6-e84b-4161-8ec6-b90f6ae7b156"
      },
      "outputs": [
        {
          "output_type": "stream",
          "name": "stdout",
          "text": [
            "\n",
            "🚀 DuckDB Optimization Complete\n",
            "📄 Total Rows: 175545\n",
            "🕒 Total Processing Time: 0.57 seconds\n",
            "🧠 CPU Usage: 43.90%\n",
            "💾 Memory Usage: 80.97 MB\n",
            "⚡ Throughput: 309677.71 records/second\n",
            "💸 Mean Price (MYR): RM 208327.84\n",
            "🛣️ Mean Mileage: 56206.03 km\n",
            "📍 Most Common Region: selangor\n"
          ]
        }
      ],
      "source": [
        "import duckdb\n",
        "import time\n",
        "import os\n",
        "import psutil\n",
        "import pandas as pd\n",
        "\n",
        "# ========== Start Performance Tracking ==========\n",
        "start_time = time.time()\n",
        "process = psutil.Process(os.getpid())\n",
        "cpu_start = psutil.cpu_percent(interval=None)\n",
        "memory_start = process.memory_info().rss / (1024 * 1024)  # in MB\n",
        "\n",
        "# ========== Connect to DuckDB ==========\n",
        "conn = duckdb.connect(database=':memory:')\n",
        "\n",
        "# ========== Execute Optimized Query ==========\n",
        "try:\n",
        "    # Single query to compute all metrics\n",
        "    result = conn.execute(\"\"\"\n",
        "        WITH car_data AS (\n",
        "            SELECT\n",
        "                TRY_CAST(\"price (myr)\" AS DOUBLE) AS price,\n",
        "                TRY_CAST(mileage AS DOUBLE) AS mileage,\n",
        "                TRIM(region) AS region\n",
        "            FROM read_csv('cleaned_data.csv',\n",
        "                         header=true,\n",
        "                         auto_detect=true,\n",
        "                         ignore_errors=true)\n",
        "            WHERE \"price (myr)\" IS NOT NULL\n",
        "              AND mileage IS NOT NULL\n",
        "              AND region IS NOT NULL\n",
        "        )\n",
        "        SELECT\n",
        "            COUNT(*) AS total_rows,\n",
        "            AVG(price) AS mean_price,\n",
        "            AVG(mileage) AS mean_mileage,\n",
        "            FIRST(region ORDER BY region_count DESC) AS most_common_region\n",
        "        FROM (\n",
        "            SELECT\n",
        "                *,\n",
        "                COUNT(*) OVER (PARTITION BY region) AS region_count\n",
        "            FROM car_data\n",
        "        )\n",
        "    \"\"\").fetchone()\n",
        "\n",
        "    total_rows = result[0]\n",
        "    mean_price = result[1]\n",
        "    mean_mileage = result[2]\n",
        "    most_common_region = result[3]\n",
        "\n",
        "    # ========== End Performance Tracking ==========\n",
        "    end_time = time.time()\n",
        "    cpu_end = psutil.cpu_percent(interval=None)\n",
        "    memory_end = process.memory_info().rss / (1024 * 1024)  # in MB\n",
        "    execution_time = end_time - start_time\n",
        "\n",
        "    # ========== Prepare Metrics for Saving ==========\n",
        "    metrics = {\n",
        "        \"Total Rows\": [total_rows],\n",
        "        \"Total Processing Time (seconds)\": [execution_time],\n",
        "        \"CPU Usage (%)\": [cpu_end - cpu_start],\n",
        "        \"Memory Usage (MB)\": [memory_end - memory_start],\n",
        "        \"Throughput (records/second)\": [total_rows / execution_time],\n",
        "        \"Mean Price (MYR)\": [mean_price],\n",
        "        \"Mean Mileage (km)\": [mean_mileage],\n",
        "        \"Most Common Region\": [most_common_region]\n",
        "    }\n",
        "\n",
        "    # Convert metrics to DataFrame and save as CSV\n",
        "    metrics_df = pd.DataFrame(metrics)\n",
        "    metrics_df.to_csv('duckdb_optimized.csv', index=False)\n",
        "\n",
        "    # ========== Print Metrics ==========\n",
        "    print(\"\\n🚀 DuckDB Optimization Complete\")\n",
        "    print(f\"📄 Total Rows: {total_rows}\")\n",
        "    print(f\"🕒 Total Processing Time: {execution_time:.2f} seconds\")\n",
        "    print(f\"🧠 CPU Usage: {cpu_end - cpu_start:.2f}%\")\n",
        "    print(f\"💾 Memory Usage: {memory_end - memory_start:.2f} MB\")\n",
        "    print(f\"⚡ Throughput: {total_rows / execution_time:.2f} records/second\")\n",
        "    print(f\"💸 Mean Price (MYR): RM {mean_price:.2f}\")\n",
        "    print(f\"🛣️ Mean Mileage: {mean_mileage:.2f} km\")\n",
        "    print(f\"📍 Most Common Region: {most_common_region}\")\n",
        "\n",
        "finally:\n",
        "    conn.close()"
      ]
    }
  ]
}