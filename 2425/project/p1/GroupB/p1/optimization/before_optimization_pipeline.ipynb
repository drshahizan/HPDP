{
  "nbformat": 4,
  "nbformat_minor": 0,
  "metadata": {
    "colab": {
      "provenance": []
    },
    "kernelspec": {
      "name": "python3",
      "display_name": "Python 3"
    },
    "language_info": {
      "name": "python"
    }
  },
  "cells": [
    {
      "cell_type": "markdown",
      "source": [
        "**Before Optimization**"
      ],
      "metadata": {
        "id": "eouXyn5oJaIE"
      }
    },
    {
      "cell_type": "code",
      "source": [
        "import csv\n",
        "import time\n",
        "import psutil\n",
        "import os\n",
        "\n",
        "csv_file = 'cleaned_data.csv'\n",
        "output_csv = 'performance_before.csv'  # The CSV file where you will save the stats\n",
        "\n",
        "def process_data_linearly():\n",
        "    rows = []\n",
        "    with open(csv_file, mode='r', encoding='utf-8') as file:\n",
        "        reader = csv.reader(file)\n",
        "        headers = next(reader)  # skip header\n",
        "        for row in reader:\n",
        "            # simulate a basic \"processing\" step\n",
        "            cleaned = [field.strip().lower() for field in row]\n",
        "            rows.append(cleaned)\n",
        "    return rows\n",
        "\n",
        "if __name__ == \"__main__\":\n",
        "    # Define the optimization stage as a variable\n",
        "    optimization_stage = \"Before Optimization\"\n",
        "\n",
        "    # Start measuring time and system resource usage\n",
        "    start_time = time.time()\n",
        "    process = psutil.Process(os.getpid())\n",
        "    cpu_start = psutil.cpu_percent(interval=None)\n",
        "    memory_start = process.memory_info().rss / (1024 * 1024)  # MB\n",
        "\n",
        "    data = process_data_linearly()\n",
        "\n",
        "    # Measure system resources and time after processing\n",
        "    end_time = time.time()\n",
        "    cpu_end = psutil.cpu_percent(interval=None)\n",
        "    memory_end = process.memory_info().rss / (1024 * 1024)  # MB\n",
        "\n",
        "    # Calculate stats\n",
        "    total_rows = len(data)\n",
        "    total_time = end_time - start_time\n",
        "    cpu_usage = cpu_end - cpu_start\n",
        "    memory_usage = memory_end - memory_start\n",
        "    throughput = total_rows / total_time\n",
        "    records_per_second = total_rows / total_time\n",
        "\n",
        "    # Print the results with two decimal points\n",
        "    print(f\"\\n✅ Data Processing Complete (Before Optimization)\")\n",
        "    print(f\"📄 Total Rows: {total_rows}\")\n",
        "    print(f\"🕒 Total Processing Time: {total_time:.2f} seconds\")\n",
        "    print(f\"🧠 CPU Usage: {cpu_usage:.2f}%\")\n",
        "    print(f\"💾 Memory Usage: {memory_usage:.2f} MB\")\n",
        "    print(f\"⚡ Throughput: {throughput:.2f} records/second\")\n",
        "    print(f\"🔹 Data processed: {total_rows} rows\")\n",
        "    print(f\"⏱️ Time taken (before optimization): {total_time:.2f} seconds\")\n",
        "    print(f\"📈 Records/sec: {records_per_second:.2f}\")\n",
        "\n",
        "    # Write the results to a CSV file with the optimization stage as a variable\n",
        "    with open(output_csv, mode='w', newline='', encoding='utf-8') as file:\n",
        "        writer = csv.writer(file)\n",
        "\n",
        "        # Write the header row with column names\n",
        "        writer.writerow([\n",
        "            \"Optimization Stage\", \"Total Rows\", \"Total Processing Time (seconds)\",\n",
        "            \"CPU Usage (%)\", \"Memory Usage (MB)\", \"Throughput (records/second)\",\n",
        "            \"Data Processed (rows)\", \"Time Taken (seconds)\", \"Records per second\"\n",
        "        ])\n",
        "\n",
        "        # Write the row with the variable 'optimization_stage' and the statistics\n",
        "        writer.writerow([\n",
        "            optimization_stage,\n",
        "            total_rows,\n",
        "            f\"{total_time:.2f}\",\n",
        "            f\"{cpu_usage:.2f}\",\n",
        "            f\"{memory_usage:.2f}\",\n",
        "            f\"{throughput:.2f}\",\n",
        "            total_rows,\n",
        "            f\"{total_time:.2f}\",\n",
        "            f\"{records_per_second:.2f}\"\n",
        "        ])\n",
        "\n",
        "    print(f\"\\n📂 Statistics written to {output_csv}\")\n"
      ],
      "metadata": {
        "colab": {
          "base_uri": "https://localhost:8080/"
        },
        "id": "YdicZmCCIvkx",
        "outputId": "07caf6a5-8f9c-4382-cfb2-9b288c16c49f"
      },
      "execution_count": null,
      "outputs": [
        {
          "output_type": "stream",
          "name": "stdout",
          "text": [
            "\n",
            "✅ Data Processing Complete (Before Optimization)\n",
            "📄 Total Rows: 175545\n",
            "🕒 Total Processing Time: 3.82 seconds\n",
            "🧠 CPU Usage: 59.10%\n",
            "💾 Memory Usage: 283.59 MB\n",
            "⚡ Throughput: 45932.92 records/second\n",
            "🔹 Data processed: 175545 rows\n",
            "⏱️ Time taken (before optimization): 3.82 seconds\n",
            "📈 Records/sec: 45932.92\n",
            "\n",
            "📂 Statistics written to performance_before.csv\n"
          ]
        }
      ]
    }
  ]
}