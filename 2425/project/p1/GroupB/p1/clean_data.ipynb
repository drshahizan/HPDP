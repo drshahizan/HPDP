{
  "cells": [
    {
      "cell_type": "markdown",
      "source": [
        "# **Data Cleaning for Carlist**"
      ],
      "metadata": {
        "id": "n1rMAC_blvb_"
      }
    },
    {
      "cell_type": "markdown",
      "source": [
        "Step 1: Import Pandas and Load the CSV File\n",
        "python\n",
        "\n"
      ],
      "metadata": {
        "id": "YQl4z_uikzgV"
      }
    },
    {
      "cell_type": "code",
      "source": [
        "import pandas as pd\n",
        "\n",
        "# Load CSV with headers (since your file already has headers)\n",
        "df_raw = pd.read_csv(\"raw_data.csv\", encoding='utf-8', low_memory=False)\n",
        "\n",
        "# Optionally, you can standardize the column names to lowercase to ensure consistency\n",
        "df_raw.columns = df_raw.columns.str.lower()\n",
        "\n",
        "# --- Initial Data Inspection ---\n",
        "# Print initial number of rows and columns\n",
        "print(f\"[INITIAL DATA SHAPE] -> Rows: {df_raw.shape[0]}, Columns: {df_raw.shape[1]}\")\n",
        "\n",
        "# List columns before cleaning\n",
        "print(\"\\n[INITIAL COLUMN NAMES] ->\")\n",
        "print(df_raw.columns.values)\n"
      ],
      "metadata": {
        "colab": {
          "base_uri": "https://localhost:8080/"
        },
        "id": "pvubsvW4k2mS",
        "outputId": "144f9a76-bbe0-4345-8195-fe979a62397d"
      },
      "execution_count": null,
      "outputs": [
        {
          "output_type": "stream",
          "name": "stdout",
          "text": [
            "[INITIAL DATA SHAPE] -> Rows: 175545, Columns: 17\n",
            "\n",
            "[INITIAL COLUMN NAMES] ->\n",
            "['car name' 'price (myr)' 'currency' 'location' 'region' 'brand' 'model'\n",
            " 'year' 'mileage' 'fuel type' 'color' 'body type' 'seating capacity'\n",
            " 'condition' 'image' 'description' 'url']\n"
          ]
        }
      ]
    },
    {
      "cell_type": "markdown",
      "source": [
        "Step 2: Attempt to Fix Encoding Issues\n",
        "python"
      ],
      "metadata": {
        "id": "C-Np71Wqk5p4"
      }
    },
    {
      "cell_type": "code",
      "source": [
        "# Attempt to fix mojibake in description\n",
        "def fix_encoding(text):\n",
        "    try:\n",
        "        return text.encode('latin1').decode('utf-8')\n",
        "    except:\n",
        "        return text  # fallback to original if error\n",
        "\n",
        "df_raw['description'] = df_raw['description'].apply(fix_encoding)\n"
      ],
      "metadata": {
        "id": "UX-s_aOAk-px"
      },
      "execution_count": null,
      "outputs": []
    },
    {
      "cell_type": "markdown",
      "source": [
        "Step 3: Drop Unnecessary Column ('currency')"
      ],
      "metadata": {
        "id": "6ZZXzCV5lBj6"
      }
    },
    {
      "cell_type": "code",
      "source": [
        "# Drop the 'currency' column\n",
        "df_raw = df_raw.drop(columns=['currency'])\n",
        "\n",
        "# Make a working copy\n",
        "df = df_raw.copy()\n"
      ],
      "metadata": {
        "id": "Gc5xHGrBlD_r"
      },
      "execution_count": null,
      "outputs": []
    },
    {
      "cell_type": "markdown",
      "source": [
        "Step 4: Check for Duplicates"
      ],
      "metadata": {
        "id": "dN944SVqlFuK"
      }
    },
    {
      "cell_type": "code",
      "source": [
        "# Check for duplicates\n",
        "dupes = df.duplicated(subset=[\"car name\", \"price (myr)\", \"location\", \"year\", \"mileage\", \"url\"])\n",
        "print(f\"\\n[NUMBER OF DUPLICATES] -> {dupes.sum()}\")\n"
      ],
      "metadata": {
        "colab": {
          "base_uri": "https://localhost:8080/"
        },
        "id": "FJ8TPPI3lIla",
        "outputId": "9253a7ca-f431-4f3d-d0f5-0d2d0ea2fd0c"
      },
      "execution_count": null,
      "outputs": [
        {
          "output_type": "stream",
          "name": "stdout",
          "text": [
            "\n",
            "[NUMBER OF DUPLICATES] -> 0\n"
          ]
        }
      ]
    },
    {
      "cell_type": "markdown",
      "source": [
        "Step 5: Check Missing Values"
      ],
      "metadata": {
        "id": "Ow9Xa5NUlKHZ"
      }
    },
    {
      "cell_type": "code",
      "source": [
        "# Check missing values\n",
        "print(\"\\n[MISSING VALUES PER COLUMN]:\")\n",
        "print(df.isna().sum())\n"
      ],
      "metadata": {
        "colab": {
          "base_uri": "https://localhost:8080/"
        },
        "id": "l5wBkRBClMRc",
        "outputId": "b73a8d12-f2d6-4865-f5d1-ec62c946f507"
      },
      "execution_count": null,
      "outputs": [
        {
          "output_type": "stream",
          "name": "stdout",
          "text": [
            "\n",
            "[MISSING VALUES PER COLUMN]:\n",
            "car name              0\n",
            "price (myr)           0\n",
            "location            143\n",
            "region                0\n",
            "brand                 0\n",
            "model                 0\n",
            "year                  0\n",
            "mileage               0\n",
            "fuel type            39\n",
            "color                 0\n",
            "body type            31\n",
            "seating capacity      0\n",
            "condition             0\n",
            "image                 0\n",
            "description           0\n",
            "url                   0\n",
            "dtype: int64\n"
          ]
        }
      ]
    },
    {
      "cell_type": "markdown",
      "source": [
        "Step 6: Standardize String Columns and Handle Missing Values"
      ],
      "metadata": {
        "id": "yDpJcfCvlOWO"
      }
    },
    {
      "cell_type": "code",
      "source": [
        "# --- Cleaning ---\n",
        "# Standardize string columns: lowercase + strip\n",
        "for col in df.select_dtypes(include='object').columns:\n",
        "    df[col] = df[col].astype(str).str.strip().str.lower()\n",
        "\n",
        "# Fix 'condition' values\n",
        "df['condition'] = df['condition'].replace({\n",
        "    'usedcondition': 'used',\n",
        "    'refurbishedcondition': 'refurbished',\n",
        "    'newcondition': 'new'\n",
        "})\n",
        "\n",
        "# Fill missing text columns with \"unknown\"\n",
        "text_cols = df.select_dtypes(include='object').columns\n",
        "df[text_cols] = df[text_cols].fillna('unknown')\n",
        "\n",
        "# Re-check missing values\n",
        "print(\"\\n[MISSING VALUES PER COLUMN AFTER REPLACE WITH UNKNOWN]:\")\n",
        "print(df.isna().sum())\n"
      ],
      "metadata": {
        "colab": {
          "base_uri": "https://localhost:8080/"
        },
        "id": "SbSyXe_nlQkS",
        "outputId": "69cea75b-1dd0-4646-d769-d4d817688a36"
      },
      "execution_count": null,
      "outputs": [
        {
          "output_type": "stream",
          "name": "stdout",
          "text": [
            "\n",
            "[MISSING VALUES PER COLUMN AFTER REPLACE WITH UNKNOWN]:\n",
            "car name            0\n",
            "price (myr)         0\n",
            "location            0\n",
            "region              0\n",
            "brand               0\n",
            "model               0\n",
            "year                0\n",
            "mileage             0\n",
            "fuel type           0\n",
            "color               0\n",
            "body type           0\n",
            "seating capacity    0\n",
            "condition           0\n",
            "image               0\n",
            "description         0\n",
            "url                 0\n",
            "dtype: int64\n"
          ]
        }
      ]
    },
    {
      "cell_type": "markdown",
      "source": [
        "Step 7: Filter Out Invalid URLs"
      ],
      "metadata": {
        "id": "O8LVQeWPlScp"
      }
    },
    {
      "cell_type": "code",
      "source": [
        "# Filter out invalid or missing URLs\n",
        "df = df[df['url'].notna() & df['url'].str.startswith(\"http\")]\n",
        "print(f\"\\n[VALID URL ROWS ONLY] -> {df.shape}\")\n"
      ],
      "metadata": {
        "colab": {
          "base_uri": "https://localhost:8080/"
        },
        "id": "i9l3nWrJlUhJ",
        "outputId": "1c574ab3-00f7-4824-dae4-7564fa73e6d9"
      },
      "execution_count": null,
      "outputs": [
        {
          "output_type": "stream",
          "name": "stdout",
          "text": [
            "\n",
            "[VALID URL ROWS ONLY] -> (175545, 16)\n"
          ]
        }
      ]
    },
    {
      "cell_type": "markdown",
      "source": [
        "Step 8: Drop Duplicates"
      ],
      "metadata": {
        "id": "L_kCwI3nlWaR"
      }
    },
    {
      "cell_type": "code",
      "source": [
        "# Drop duplicates\n",
        "df = df.drop_duplicates()\n",
        "\n",
        "# Reset index for clean CSV output\n",
        "df = df.reset_index(drop=True)\n"
      ],
      "metadata": {
        "id": "y8PrZB8tlYZH"
      },
      "execution_count": null,
      "outputs": []
    },
    {
      "cell_type": "markdown",
      "source": [
        "Step 9: Convert Price, Year, and Mileage to Numeric and Handle Missing Values"
      ],
      "metadata": {
        "id": "xtGg6XrUlaAS"
      }
    },
    {
      "cell_type": "code",
      "source": [
        "\n",
        "# Convert 'price (myr)', 'year', 'mileage' to numeric values (if possible)\n",
        "df['price (myr)'] = pd.to_numeric(df['price (myr)'], errors='coerce')\n",
        "df['year'] = pd.to_numeric(df['year'], errors='coerce')\n",
        "df['mileage'] = pd.to_numeric(df['mileage'], errors='coerce')\n",
        "\n",
        "# Handle missing numeric columns by filling with median or dropping\n",
        "df['price (myr)'] = df['price (myr)'].fillna(df['price (myr)'].median())\n",
        "df['mileage'] = df['mileage'].fillna(df['mileage'].median())\n",
        "df['year'] = df['year'].fillna(df['year'].mode()[0])\n",
        "\n",
        "# Handle outliers: Remove rows where price or mileage is unreasonable (e.g., negative or extreme values)\n",
        "df = df[(df['price (myr)'] >= 0) & (df['mileage'] >= 0)]\n",
        "\n",
        "# Ensure valid year (e.g., no future years)\n",
        "current_year = pd.to_datetime('today').year\n",
        "df = df[df['year'] <= current_year]\n"
      ],
      "metadata": {
        "id": "xr74Di1Dlc_i"
      },
      "execution_count": null,
      "outputs": []
    },
    {
      "cell_type": "markdown",
      "source": [
        "Step 10: Handle Condition Column"
      ],
      "metadata": {
        "id": "XXA4F5o6lgWX"
      }
    },
    {
      "cell_type": "code",
      "source": [
        "# Standardize and handle the \"condition\" column more robustly (already done in previous steps)\n",
        "# Filter out rows with invalid 'condition' values if necessary\n",
        "valid_conditions = ['used', 'new', 'refurbished']\n",
        "df = df[df['condition'].isin(valid_conditions)]\n"
      ],
      "metadata": {
        "id": "KlWlj1mmli08"
      },
      "execution_count": null,
      "outputs": []
    },
    {
      "cell_type": "markdown",
      "source": [
        "Step 11: Final Data Inspection"
      ],
      "metadata": {
        "id": "hHDmTGFZlkps"
      }
    },
    {
      "cell_type": "code",
      "source": [
        "# --- Final Inspection ---\n",
        "# Re-check the data shape after cleaning\n",
        "print(\"\\n[CLEANED DATA SHAPE] ->\", df.shape)\n",
        "\n",
        "print(\"\\n[INITIAL COLUMN NAMES] ->\")\n",
        "print(df.columns.values)\n"
      ],
      "metadata": {
        "colab": {
          "base_uri": "https://localhost:8080/"
        },
        "id": "B1gzu6Kwlmg8",
        "outputId": "b4c40245-73d7-4c7a-b623-6c9dc903976a"
      },
      "execution_count": null,
      "outputs": [
        {
          "output_type": "stream",
          "name": "stdout",
          "text": [
            "\n",
            "[CLEANED DATA SHAPE] -> (175545, 16)\n",
            "\n",
            "[INITIAL COLUMN NAMES] ->\n",
            "['car name' 'price (myr)' 'location' 'region' 'brand' 'model' 'year'\n",
            " 'mileage' 'fuel type' 'color' 'body type' 'seating capacity' 'condition'\n",
            " 'image' 'description' 'url']\n"
          ]
        }
      ]
    },
    {
      "cell_type": "markdown",
      "source": [
        "Step 12: Save Cleaned Data to CSV"
      ],
      "metadata": {
        "id": "aPzchyOfloti"
      }
    },
    {
      "cell_type": "code",
      "source": [
        "# --- Save Cleaned File ---\n",
        "df.to_csv(\"cleaned_data.csv\", index=False)\n",
        "print(\"\\n✅ Cleaned dataset saved as 'cleaned_data.csv'\")\n"
      ],
      "metadata": {
        "colab": {
          "base_uri": "https://localhost:8080/"
        },
        "id": "rH6MLj-Hlq-O",
        "outputId": "0b253871-ba10-4146-e58d-0b86c85a3ae6"
      },
      "execution_count": null,
      "outputs": [
        {
          "output_type": "stream",
          "name": "stdout",
          "text": [
            "\n",
            "✅ Cleaned dataset saved as 'cleaned_data.csv'\n"
          ]
        }
      ]
    }
  ],
  "metadata": {
    "colab": {
      "provenance": []
    },
    "kernelspec": {
      "display_name": "Python 3",
      "name": "python3"
    },
    "language_info": {
      "name": "python"
    }
  },
  "nbformat": 4,
  "nbformat_minor": 0
}