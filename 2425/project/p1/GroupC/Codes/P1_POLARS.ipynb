{
 "cells": [
  {
   "cell_type": "markdown",
   "metadata": {
    "id": "zeM27w07BMlV"
   },
   "source": [
    "### **Part1 Data Processing and Cleaning**"
   ]
  },
  {
   "cell_type": "markdown",
   "metadata": {
    "id": "0PFly3aaBaW6"
   },
   "source": [
    "Prepared by: TAN JUN YUAN (A22EC0107)"
   ]
  },
  {
   "cell_type": "markdown",
   "metadata": {
    "id": "iYXNk-41Boi2"
   },
   "source": [
    "Step 1: Install and Impoet Libraries"
   ]
  },
  {
   "cell_type": "code",
   "execution_count": null,
   "metadata": {
    "colab": {
     "base_uri": "https://localhost:8080/"
    },
    "id": "01hPvDWbntPc",
    "outputId": "a6638bbf-48d5-42ed-e018-cbdc31241543"
   },
   "outputs": [
    {
     "name": "stdout",
     "output_type": "stream",
     "text": [
      "Requirement already satisfied: polars in /usr/local/lib/python3.11/dist-packages (1.21.0)\n"
     ]
    }
   ],
   "source": [
    "!pip install polars\n",
    "import polars as pl\n",
    "import pandas as pd\n",
    "import re\n",
    "import time\n",
    "import psutil\n",
    "import tracemalloc"
   ]
  },
  {
   "cell_type": "markdown",
   "metadata": {
    "id": "gBKGzk28Bx5R"
   },
   "source": [
    "Step 2: Upload Excel Files"
   ]
  },
  {
   "cell_type": "code",
   "execution_count": null,
   "metadata": {
    "colab": {
     "base_uri": "https://localhost:8080/",
     "height": 281
    },
    "id": "r_G1pZspn5-s",
    "outputId": "6f88ade9-db76-4a7d-95ef-e17d50966f7e"
   },
   "outputs": [
    {
     "data": {
      "text/html": [
       "\n",
       "     <input type=\"file\" id=\"files-654ac747-fc8d-4752-94c2-ba0339de0c86\" name=\"files[]\" multiple disabled\n",
       "        style=\"border:none\" />\n",
       "     <output id=\"result-654ac747-fc8d-4752-94c2-ba0339de0c86\">\n",
       "      Upload widget is only available when the cell has been executed in the\n",
       "      current browser session. Please rerun this cell to enable.\n",
       "      </output>\n",
       "      <script>// Copyright 2017 Google LLC\n",
       "//\n",
       "// Licensed under the Apache License, Version 2.0 (the \"License\");\n",
       "// you may not use this file except in compliance with the License.\n",
       "// You may obtain a copy of the License at\n",
       "//\n",
       "//      http://www.apache.org/licenses/LICENSE-2.0\n",
       "//\n",
       "// Unless required by applicable law or agreed to in writing, software\n",
       "// distributed under the License is distributed on an \"AS IS\" BASIS,\n",
       "// WITHOUT WARRANTIES OR CONDITIONS OF ANY KIND, either express or implied.\n",
       "// See the License for the specific language governing permissions and\n",
       "// limitations under the License.\n",
       "\n",
       "/**\n",
       " * @fileoverview Helpers for google.colab Python module.\n",
       " */\n",
       "(function(scope) {\n",
       "function span(text, styleAttributes = {}) {\n",
       "  const element = document.createElement('span');\n",
       "  element.textContent = text;\n",
       "  for (const key of Object.keys(styleAttributes)) {\n",
       "    element.style[key] = styleAttributes[key];\n",
       "  }\n",
       "  return element;\n",
       "}\n",
       "\n",
       "// Max number of bytes which will be uploaded at a time.\n",
       "const MAX_PAYLOAD_SIZE = 100 * 1024;\n",
       "\n",
       "function _uploadFiles(inputId, outputId) {\n",
       "  const steps = uploadFilesStep(inputId, outputId);\n",
       "  const outputElement = document.getElementById(outputId);\n",
       "  // Cache steps on the outputElement to make it available for the next call\n",
       "  // to uploadFilesContinue from Python.\n",
       "  outputElement.steps = steps;\n",
       "\n",
       "  return _uploadFilesContinue(outputId);\n",
       "}\n",
       "\n",
       "// This is roughly an async generator (not supported in the browser yet),\n",
       "// where there are multiple asynchronous steps and the Python side is going\n",
       "// to poll for completion of each step.\n",
       "// This uses a Promise to block the python side on completion of each step,\n",
       "// then passes the result of the previous step as the input to the next step.\n",
       "function _uploadFilesContinue(outputId) {\n",
       "  const outputElement = document.getElementById(outputId);\n",
       "  const steps = outputElement.steps;\n",
       "\n",
       "  const next = steps.next(outputElement.lastPromiseValue);\n",
       "  return Promise.resolve(next.value.promise).then((value) => {\n",
       "    // Cache the last promise value to make it available to the next\n",
       "    // step of the generator.\n",
       "    outputElement.lastPromiseValue = value;\n",
       "    return next.value.response;\n",
       "  });\n",
       "}\n",
       "\n",
       "/**\n",
       " * Generator function which is called between each async step of the upload\n",
       " * process.\n",
       " * @param {string} inputId Element ID of the input file picker element.\n",
       " * @param {string} outputId Element ID of the output display.\n",
       " * @return {!Iterable<!Object>} Iterable of next steps.\n",
       " */\n",
       "function* uploadFilesStep(inputId, outputId) {\n",
       "  const inputElement = document.getElementById(inputId);\n",
       "  inputElement.disabled = false;\n",
       "\n",
       "  const outputElement = document.getElementById(outputId);\n",
       "  outputElement.innerHTML = '';\n",
       "\n",
       "  const pickedPromise = new Promise((resolve) => {\n",
       "    inputElement.addEventListener('change', (e) => {\n",
       "      resolve(e.target.files);\n",
       "    });\n",
       "  });\n",
       "\n",
       "  const cancel = document.createElement('button');\n",
       "  inputElement.parentElement.appendChild(cancel);\n",
       "  cancel.textContent = 'Cancel upload';\n",
       "  const cancelPromise = new Promise((resolve) => {\n",
       "    cancel.onclick = () => {\n",
       "      resolve(null);\n",
       "    };\n",
       "  });\n",
       "\n",
       "  // Wait for the user to pick the files.\n",
       "  const files = yield {\n",
       "    promise: Promise.race([pickedPromise, cancelPromise]),\n",
       "    response: {\n",
       "      action: 'starting',\n",
       "    }\n",
       "  };\n",
       "\n",
       "  cancel.remove();\n",
       "\n",
       "  // Disable the input element since further picks are not allowed.\n",
       "  inputElement.disabled = true;\n",
       "\n",
       "  if (!files) {\n",
       "    return {\n",
       "      response: {\n",
       "        action: 'complete',\n",
       "      }\n",
       "    };\n",
       "  }\n",
       "\n",
       "  for (const file of files) {\n",
       "    const li = document.createElement('li');\n",
       "    li.append(span(file.name, {fontWeight: 'bold'}));\n",
       "    li.append(span(\n",
       "        `(${file.type || 'n/a'}) - ${file.size} bytes, ` +\n",
       "        `last modified: ${\n",
       "            file.lastModifiedDate ? file.lastModifiedDate.toLocaleDateString() :\n",
       "                                    'n/a'} - `));\n",
       "    const percent = span('0% done');\n",
       "    li.appendChild(percent);\n",
       "\n",
       "    outputElement.appendChild(li);\n",
       "\n",
       "    const fileDataPromise = new Promise((resolve) => {\n",
       "      const reader = new FileReader();\n",
       "      reader.onload = (e) => {\n",
       "        resolve(e.target.result);\n",
       "      };\n",
       "      reader.readAsArrayBuffer(file);\n",
       "    });\n",
       "    // Wait for the data to be ready.\n",
       "    let fileData = yield {\n",
       "      promise: fileDataPromise,\n",
       "      response: {\n",
       "        action: 'continue',\n",
       "      }\n",
       "    };\n",
       "\n",
       "    // Use a chunked sending to avoid message size limits. See b/62115660.\n",
       "    let position = 0;\n",
       "    do {\n",
       "      const length = Math.min(fileData.byteLength - position, MAX_PAYLOAD_SIZE);\n",
       "      const chunk = new Uint8Array(fileData, position, length);\n",
       "      position += length;\n",
       "\n",
       "      const base64 = btoa(String.fromCharCode.apply(null, chunk));\n",
       "      yield {\n",
       "        response: {\n",
       "          action: 'append',\n",
       "          file: file.name,\n",
       "          data: base64,\n",
       "        },\n",
       "      };\n",
       "\n",
       "      let percentDone = fileData.byteLength === 0 ?\n",
       "          100 :\n",
       "          Math.round((position / fileData.byteLength) * 100);\n",
       "      percent.textContent = `${percentDone}% done`;\n",
       "\n",
       "    } while (position < fileData.byteLength);\n",
       "  }\n",
       "\n",
       "  // All done.\n",
       "  yield {\n",
       "    response: {\n",
       "      action: 'complete',\n",
       "    }\n",
       "  };\n",
       "}\n",
       "\n",
       "scope.google = scope.google || {};\n",
       "scope.google.colab = scope.google.colab || {};\n",
       "scope.google.colab._files = {\n",
       "  _uploadFiles,\n",
       "  _uploadFilesContinue,\n",
       "};\n",
       "})(self);\n",
       "</script> "
      ],
      "text/plain": [
       "<IPython.core.display.HTML object>"
      ]
     },
     "metadata": {},
     "output_type": "display_data"
    },
    {
     "name": "stdout",
     "output_type": "stream",
     "text": [
      "Saving Lazada (Beauty & Skincare).xlsx to Lazada (Beauty & Skincare).xlsx\n",
      "Saving Lazada (Health & Wellness).xlsx to Lazada (Health & Wellness).xlsx\n",
      "Saving Lazada (Home & Living).xlsx to Lazada (Home & Living).xlsx\n",
      "Saving Lazada (Home Appliances).xlsx to Lazada (Home Appliances).xlsx\n",
      "Saving Lazada (Mother & Baby).xlsx to Lazada (Mother & Baby).xlsx\n",
      "Saving Lazada (Stationery).xlsx to Lazada (Stationery).xlsx\n",
      "Saving Lazada (Women's Fashion).xlsx to Lazada (Women's Fashion).xlsx\n"
     ]
    }
   ],
   "source": [
    "from google.colab import files\n",
    "uploaded = files.upload()"
   ]
  },
  {
   "cell_type": "markdown",
   "metadata": {
    "id": "iSdP5xUmB673"
   },
   "source": [
    "Step 3 : Load Excel Files into PANDAS DataFrames and Check Total Files being Loaded"
   ]
  },
  {
   "cell_type": "code",
   "execution_count": null,
   "metadata": {
    "colab": {
     "base_uri": "https://localhost:8080/"
    },
    "id": "qesIabKtHJOH",
    "outputId": "fa917917-e6c2-4ace-c832-96b258111b9b"
   },
   "outputs": [
    {
     "name": "stdout",
     "output_type": "stream",
     "text": [
      "Total File: 7\n"
     ]
    }
   ],
   "source": [
    "fList_pandas = [pd.read_excel(file) for file in uploaded.keys()]\n",
    "print(f\"Total File: {len(fList_pandas)}\")"
   ]
  },
  {
   "cell_type": "markdown",
   "metadata": {
    "id": "TUaIcaMWCEBk"
   },
   "source": [
    "Step 4 : Load and Display Dataset, Checking on Total Numbers of Rows and Columns"
   ]
  },
  {
   "cell_type": "code",
   "execution_count": null,
   "metadata": {
    "colab": {
     "base_uri": "https://localhost:8080/",
     "height": 1000
    },
    "id": "qZakTVtjpWs7",
    "outputId": "ec4e9e9c-6ead-4a45-9e1f-fd80c555807e"
   },
   "outputs": [
    {
     "name": "stdout",
     "output_type": "stream",
     "text": [
      "Total DataFrames: 7\n"
     ]
    },
    {
     "data": {
      "text/html": [
       "<div><style>\n",
       ".dataframe > thead > tr,\n",
       ".dataframe > tbody > tr {\n",
       "  text-align: right;\n",
       "  white-space: pre-wrap;\n",
       "}\n",
       "</style>\n",
       "<small>shape: (10, 6)</small><table border=\"1\" class=\"dataframe\"><thead><tr><th>Product Name</th><th>Price</th><th>Location</th><th>Quantity Sold</th><th>Total Reviews</th><th>Category</th></tr><tr><td>str</td><td>f64</td><td>str</td><td>str</td><td>str</td><td>str</td></tr></thead><tbody><tr><td>&quot;❣️SAKA GLOWING FOUNDATION SPF …</td><td>3.99</td><td>&quot;Penang&quot;</td><td>&quot;55 sold&quot;</td><td>&quot;(9)&quot;</td><td>&quot;Beauty &amp; Skincare&quot;</td></tr><tr><td>&quot;Bio-Essence Bio-Gold 24k&nbsp;&nbsp;Radi…</td><td>3.5</td><td>&quot;Johor&quot;</td><td>&quot;46 sold&quot;</td><td>&quot;(10)&quot;</td><td>&quot;Beauty &amp; Skincare&quot;</td></tr><tr><td>&quot;L&#x27;occitane Immortelle Divine F…</td><td>1.5</td><td>&quot;Selangor&quot;</td><td>&quot;13 sold&quot;</td><td>&quot;(1)&quot;</td><td>&quot;Beauty &amp; Skincare&quot;</td></tr><tr><td>&quot;YOUBUY Freckle Cream Effective…</td><td>5.45</td><td>&quot;China&quot;</td><td>&quot;13 sold&quot;</td><td>null</td><td>&quot;Beauty &amp; Skincare&quot;</td></tr><tr><td>&quot;DT37 Jomtam Jolyum Nicotimide …</td><td>6.15</td><td>&quot;Melaka&quot;</td><td>&quot;175 sold&quot;</td><td>&quot;(40)&quot;</td><td>&quot;Beauty &amp; Skincare&quot;</td></tr><tr><td>&quot;❤️88Home❤️ Jomtam Jolyum Nicot…</td><td>6.19</td><td>&quot;Melaka&quot;</td><td>&quot;29 sold&quot;</td><td>&quot;(2)&quot;</td><td>&quot;Beauty &amp; Skincare&quot;</td></tr><tr><td>&quot;DT37 VEZE Men&#x27;s Volcanic Mud F…</td><td>5.44</td><td>&quot;Melaka&quot;</td><td>&quot;129 sold&quot;</td><td>&quot;(46)&quot;</td><td>&quot;Beauty &amp; Skincare&quot;</td></tr><tr><td>&quot;NEVEA MEN ROLL ON 500ML&quot;</td><td>5.0</td><td>&quot;Wp Kuala Lumpur&quot;</td><td>&quot;25 sold&quot;</td><td>&quot;(4)&quot;</td><td>&quot;Beauty &amp; Skincare&quot;</td></tr><tr><td>&quot;❤️88Home❤️ VEZE Men&#x27;s Volcanic…</td><td>5.48</td><td>&quot;Melaka&quot;</td><td>&quot;41 sold&quot;</td><td>&quot;(11)&quot;</td><td>&quot;Beauty &amp; Skincare&quot;</td></tr><tr><td>&quot;DT37 HYMEY&#x27;S Facial Cleanser C…</td><td>1.53</td><td>&quot;Melaka&quot;</td><td>&quot;1.3K sold&quot;</td><td>&quot;(246)&quot;</td><td>&quot;Beauty &amp; Skincare&quot;</td></tr></tbody></table></div>"
      ],
      "text/plain": [
       "shape: (10, 6)\n",
       "┌────────────────────┬───────┬─────────────────┬───────────────┬───────────────┬───────────────────┐\n",
       "│ Product Name       ┆ Price ┆ Location        ┆ Quantity Sold ┆ Total Reviews ┆ Category          │\n",
       "│ ---                ┆ ---   ┆ ---             ┆ ---           ┆ ---           ┆ ---               │\n",
       "│ str                ┆ f64   ┆ str             ┆ str           ┆ str           ┆ str               │\n",
       "╞════════════════════╪═══════╪═════════════════╪═══════════════╪═══════════════╪═══════════════════╡\n",
       "│ ❣️SAKA GLOWING     ┆ 3.99  ┆ Penang          ┆ 55 sold       ┆ (9)           ┆ Beauty & Skincare │\n",
       "│ FOUNDATION SPF …   ┆       ┆                 ┆               ┆               ┆                   │\n",
       "│ Bio-Essence        ┆ 3.5   ┆ Johor           ┆ 46 sold       ┆ (10)          ┆ Beauty & Skincare │\n",
       "│ Bio-Gold 24k       ┆       ┆                 ┆               ┆               ┆                   │\n",
       "│ Radi…              ┆       ┆                 ┆               ┆               ┆                   │\n",
       "│ L'occitane         ┆ 1.5   ┆ Selangor        ┆ 13 sold       ┆ (1)           ┆ Beauty & Skincare │\n",
       "│ Immortelle Divine  ┆       ┆                 ┆               ┆               ┆                   │\n",
       "│ F…                 ┆       ┆                 ┆               ┆               ┆                   │\n",
       "│ YOUBUY Freckle     ┆ 5.45  ┆ China           ┆ 13 sold       ┆ null          ┆ Beauty & Skincare │\n",
       "│ Cream Effective…   ┆       ┆                 ┆               ┆               ┆                   │\n",
       "│ DT37 Jomtam Jolyum ┆ 6.15  ┆ Melaka          ┆ 175 sold      ┆ (40)          ┆ Beauty & Skincare │\n",
       "│ Nicotimide …       ┆       ┆                 ┆               ┆               ┆                   │\n",
       "│ ❤️88Home❤️ Jomtam  ┆ 6.19  ┆ Melaka          ┆ 29 sold       ┆ (2)           ┆ Beauty & Skincare │\n",
       "│ Jolyum Nicot…      ┆       ┆                 ┆               ┆               ┆                   │\n",
       "│ DT37 VEZE Men's    ┆ 5.44  ┆ Melaka          ┆ 129 sold      ┆ (46)          ┆ Beauty & Skincare │\n",
       "│ Volcanic Mud F…    ┆       ┆                 ┆               ┆               ┆                   │\n",
       "│ NEVEA MEN ROLL ON  ┆ 5.0   ┆ Wp Kuala Lumpur ┆ 25 sold       ┆ (4)           ┆ Beauty & Skincare │\n",
       "│ 500ML              ┆       ┆                 ┆               ┆               ┆                   │\n",
       "│ ❤️88Home❤️ VEZE    ┆ 5.48  ┆ Melaka          ┆ 41 sold       ┆ (11)          ┆ Beauty & Skincare │\n",
       "│ Men's Volcanic…    ┆       ┆                 ┆               ┆               ┆                   │\n",
       "│ DT37 HYMEY'S       ┆ 1.53  ┆ Melaka          ┆ 1.3K sold     ┆ (246)         ┆ Beauty & Skincare │\n",
       "│ Facial Cleanser C… ┆       ┆                 ┆               ┆               ┆                   │\n",
       "└────────────────────┴───────┴─────────────────┴───────────────┴───────────────┴───────────────────┘"
      ]
     },
     "metadata": {},
     "output_type": "display_data"
    },
    {
     "name": "stdout",
     "output_type": "stream",
     "text": [
      "Total rows: 28325\n",
      "Total columns: 6\n",
      "\n",
      "\n",
      "\n"
     ]
    },
    {
     "data": {
      "text/html": [
       "<div><style>\n",
       ".dataframe > thead > tr,\n",
       ".dataframe > tbody > tr {\n",
       "  text-align: right;\n",
       "  white-space: pre-wrap;\n",
       "}\n",
       "</style>\n",
       "<small>shape: (10, 6)</small><table border=\"1\" class=\"dataframe\"><thead><tr><th>Product Name</th><th>Price</th><th>Location</th><th>Quantity Sold</th><th>Total Reviews</th><th>Category</th></tr><tr><td>str</td><td>f64</td><td>str</td><td>str</td><td>str</td><td>str</td></tr></thead><tbody><tr><td>&quot;HIMALAYA Mentat Tablets 60 (Mi…</td><td>15.0</td><td>&quot;Wp Kuala Lumpur&quot;</td><td>&quot;45 sold&quot;</td><td>&quot;(8)&quot;</td><td>&quot;Health &amp; Wellness&quot;</td></tr><tr><td>&quot;Pil Beauty Original Indonesia …</td><td>5.0</td><td>&quot;Selangor&quot;</td><td>&quot;56 sold&quot;</td><td>&quot;(11)&quot;</td><td>&quot;Health &amp; Wellness&quot;</td></tr><tr><td>&quot;ELECTRAL FORTE GRANULES (20SX6…</td><td>9.9</td><td>&quot;Selangor&quot;</td><td>&quot;84 sold&quot;</td><td>&quot;(22)&quot;</td><td>&quot;Health &amp; Wellness&quot;</td></tr><tr><td>&quot;[READY STOCK] Spes 1pc Dry Sha…</td><td>5.9</td><td>&quot;Johor&quot;</td><td>&quot;13 sold&quot;</td><td>&quot;(3)&quot;</td><td>&quot;Health &amp; Wellness&quot;</td></tr><tr><td>&quot;CALSONATE Calcium Carbonate Ca…</td><td>1.54</td><td>&quot;Melaka&quot;</td><td>&quot;676 sold&quot;</td><td>&quot;(11)&quot;</td><td>&quot;Health &amp; Wellness&quot;</td></tr><tr><td>&quot;Super Greens, 1350 mg Per Serv…</td><td>9.1</td><td>&quot;Selangor&quot;</td><td>null</td><td>null</td><td>&quot;Health &amp; Wellness&quot;</td></tr><tr><td>&quot;Dyna U Suspension (Peppermint …</td><td>4.0</td><td>&quot;Selangor&quot;</td><td>&quot;299 sold&quot;</td><td>&quot;(10)&quot;</td><td>&quot;Health &amp; Wellness&quot;</td></tr><tr><td>&quot;🔥Ready Stock🔥Travel Pack 25g M…</td><td>10.0</td><td>&quot;Selangor&quot;</td><td>null</td><td>null</td><td>&quot;Health &amp; Wellness&quot;</td></tr><tr><td>&quot;YSP Homecare Macgel Tablet 10 …</td><td>1.99</td><td>&quot;Penang&quot;</td><td>&quot;551 sold&quot;</td><td>&quot;(21)&quot;</td><td>&quot;Health &amp; Wellness&quot;</td></tr><tr><td>&quot;Ubat Gastrik/ Gastric/ Sakit P…</td><td>2.5</td><td>&quot;Wp Kuala Lumpur&quot;</td><td>&quot;26 sold&quot;</td><td>&quot;(2)&quot;</td><td>&quot;Health &amp; Wellness&quot;</td></tr></tbody></table></div>"
      ],
      "text/plain": [
       "shape: (10, 6)\n",
       "┌────────────────────┬───────┬─────────────────┬───────────────┬───────────────┬───────────────────┐\n",
       "│ Product Name       ┆ Price ┆ Location        ┆ Quantity Sold ┆ Total Reviews ┆ Category          │\n",
       "│ ---                ┆ ---   ┆ ---             ┆ ---           ┆ ---           ┆ ---               │\n",
       "│ str                ┆ f64   ┆ str             ┆ str           ┆ str           ┆ str               │\n",
       "╞════════════════════╪═══════╪═════════════════╪═══════════════╪═══════════════╪═══════════════════╡\n",
       "│ HIMALAYA Mentat    ┆ 15.0  ┆ Wp Kuala Lumpur ┆ 45 sold       ┆ (8)           ┆ Health & Wellness │\n",
       "│ Tablets 60 (Mi…    ┆       ┆                 ┆               ┆               ┆                   │\n",
       "│ Pil Beauty         ┆ 5.0   ┆ Selangor        ┆ 56 sold       ┆ (11)          ┆ Health & Wellness │\n",
       "│ Original Indonesia ┆       ┆                 ┆               ┆               ┆                   │\n",
       "│ …                  ┆       ┆                 ┆               ┆               ┆                   │\n",
       "│ ELECTRAL FORTE     ┆ 9.9   ┆ Selangor        ┆ 84 sold       ┆ (22)          ┆ Health & Wellness │\n",
       "│ GRANULES (20SX6…   ┆       ┆                 ┆               ┆               ┆                   │\n",
       "│ [READY STOCK] Spes ┆ 5.9   ┆ Johor           ┆ 13 sold       ┆ (3)           ┆ Health & Wellness │\n",
       "│ 1pc Dry Sha…       ┆       ┆                 ┆               ┆               ┆                   │\n",
       "│ CALSONATE Calcium  ┆ 1.54  ┆ Melaka          ┆ 676 sold      ┆ (11)          ┆ Health & Wellness │\n",
       "│ Carbonate Ca…      ┆       ┆                 ┆               ┆               ┆                   │\n",
       "│ Super Greens, 1350 ┆ 9.1   ┆ Selangor        ┆ null          ┆ null          ┆ Health & Wellness │\n",
       "│ mg Per Serv…       ┆       ┆                 ┆               ┆               ┆                   │\n",
       "│ Dyna U Suspension  ┆ 4.0   ┆ Selangor        ┆ 299 sold      ┆ (10)          ┆ Health & Wellness │\n",
       "│ (Peppermint …      ┆       ┆                 ┆               ┆               ┆                   │\n",
       "│ 🔥Ready            ┆ 10.0  ┆ Selangor        ┆ null          ┆ null          ┆ Health & Wellness │\n",
       "│ Stock🔥Travel Pack ┆       ┆                 ┆               ┆               ┆                   │\n",
       "│ 25g M…             ┆       ┆                 ┆               ┆               ┆                   │\n",
       "│ YSP Homecare       ┆ 1.99  ┆ Penang          ┆ 551 sold      ┆ (21)          ┆ Health & Wellness │\n",
       "│ Macgel Tablet 10 … ┆       ┆                 ┆               ┆               ┆                   │\n",
       "│ Ubat Gastrik/      ┆ 2.5   ┆ Wp Kuala Lumpur ┆ 26 sold       ┆ (2)           ┆ Health & Wellness │\n",
       "│ Gastric/ Sakit P…  ┆       ┆                 ┆               ┆               ┆                   │\n",
       "└────────────────────┴───────┴─────────────────┴───────────────┴───────────────┴───────────────────┘"
      ]
     },
     "metadata": {},
     "output_type": "display_data"
    },
    {
     "name": "stdout",
     "output_type": "stream",
     "text": [
      "Total rows: 24382\n",
      "Total columns: 6\n",
      "\n",
      "\n",
      "\n"
     ]
    },
    {
     "data": {
      "text/html": [
       "<div><style>\n",
       ".dataframe > thead > tr,\n",
       ".dataframe > tbody > tr {\n",
       "  text-align: right;\n",
       "  white-space: pre-wrap;\n",
       "}\n",
       "</style>\n",
       "<small>shape: (10, 6)</small><table border=\"1\" class=\"dataframe\"><thead><tr><th>Product Name</th><th>Price</th><th>Location</th><th>Quantity Sold</th><th>Total Reviews</th><th>Category</th></tr><tr><td>str</td><td>f64</td><td>str</td><td>str</td><td>str</td><td>str</td></tr></thead><tbody><tr><td>&quot;80x120/80x160cm Home living ro…</td><td>7.71</td><td>&quot;Johor&quot;</td><td>&quot;4.7K sold&quot;</td><td>&quot;(1486)&quot;</td><td>&quot;Home &amp; Living&quot;</td></tr><tr><td>&quot;80x120/80x160cm Home living ro…</td><td>7.79</td><td>&quot;Johor&quot;</td><td>&quot;860 sold&quot;</td><td>&quot;(235)&quot;</td><td>&quot;Home &amp; Living&quot;</td></tr><tr><td>&quot;Cotton Pillow Sleeping Hilton …</td><td>6.99</td><td>&quot;Selangor&quot;</td><td>&quot;121 sold&quot;</td><td>&quot;(23)&quot;</td><td>&quot;Home &amp; Living&quot;</td></tr><tr><td>&quot;Sevenland 1pc 70x39cm PE Foam …</td><td>1.8</td><td>null</td><td>&quot;309.9K sold&quot;</td><td>&quot;(4742)&quot;</td><td>&quot;Home &amp; Living&quot;</td></tr><tr><td>&quot;MISO Foldable Mosquito Net 1.8…</td><td>13.34</td><td>&quot;Selangor&quot;</td><td>&quot;953 sold&quot;</td><td>&quot;(180)&quot;</td><td>&quot;Home &amp; Living&quot;</td></tr><tr><td>&quot;Sleeping Hilton Cotton Pillow …</td><td>12.12</td><td>&quot;Johor&quot;</td><td>&quot;6 sold&quot;</td><td>null</td><td>&quot;Home &amp; Living&quot;</td></tr><tr><td>&quot;Leego 50CM X 80CM Carpet Mat B…</td><td>5.9</td><td>&quot;Selangor&quot;</td><td>&quot;503 sold&quot;</td><td>&quot;(115)&quot;</td><td>&quot;Home &amp; Living&quot;</td></tr><tr><td>&quot;Exclusive Home &amp; Living Sarung…</td><td>4.9</td><td>&quot;Selangor&quot;</td><td>&quot;106 sold&quot;</td><td>&quot;(24)&quot;</td><td>&quot;Home &amp; Living&quot;</td></tr><tr><td>&quot;3pcs/set Astronaut Decoration …</td><td>3.61</td><td>&quot;Selangor&quot;</td><td>&quot;206 sold&quot;</td><td>&quot;(113)&quot;</td><td>&quot;Home &amp; Living&quot;</td></tr><tr><td>&quot;Cotton Pillow Sleeping Hilton …</td><td>8.5</td><td>&quot;Selangor&quot;</td><td>&quot;148 sold&quot;</td><td>&quot;(34)&quot;</td><td>&quot;Home &amp; Living&quot;</td></tr></tbody></table></div>"
      ],
      "text/plain": [
       "shape: (10, 6)\n",
       "┌───────────────────────────────┬───────┬──────────┬───────────────┬───────────────┬───────────────┐\n",
       "│ Product Name                  ┆ Price ┆ Location ┆ Quantity Sold ┆ Total Reviews ┆ Category      │\n",
       "│ ---                           ┆ ---   ┆ ---      ┆ ---           ┆ ---           ┆ ---           │\n",
       "│ str                           ┆ f64   ┆ str      ┆ str           ┆ str           ┆ str           │\n",
       "╞═══════════════════════════════╪═══════╪══════════╪═══════════════╪═══════════════╪═══════════════╡\n",
       "│ 80x120/80x160cm Home living   ┆ 7.71  ┆ Johor    ┆ 4.7K sold     ┆ (1486)        ┆ Home & Living │\n",
       "│ ro…                           ┆       ┆          ┆               ┆               ┆               │\n",
       "│ 80x120/80x160cm Home living   ┆ 7.79  ┆ Johor    ┆ 860 sold      ┆ (235)         ┆ Home & Living │\n",
       "│ ro…                           ┆       ┆          ┆               ┆               ┆               │\n",
       "│ Cotton Pillow Sleeping Hilton ┆ 6.99  ┆ Selangor ┆ 121 sold      ┆ (23)          ┆ Home & Living │\n",
       "│ …                             ┆       ┆          ┆               ┆               ┆               │\n",
       "│ Sevenland 1pc 70x39cm PE Foam ┆ 1.8   ┆ null     ┆ 309.9K sold   ┆ (4742)        ┆ Home & Living │\n",
       "│ …                             ┆       ┆          ┆               ┆               ┆               │\n",
       "│ MISO Foldable Mosquito Net    ┆ 13.34 ┆ Selangor ┆ 953 sold      ┆ (180)         ┆ Home & Living │\n",
       "│ 1.8…                          ┆       ┆          ┆               ┆               ┆               │\n",
       "│ Sleeping Hilton Cotton Pillow ┆ 12.12 ┆ Johor    ┆ 6 sold        ┆ null          ┆ Home & Living │\n",
       "│ …                             ┆       ┆          ┆               ┆               ┆               │\n",
       "│ Leego 50CM X 80CM Carpet Mat  ┆ 5.9   ┆ Selangor ┆ 503 sold      ┆ (115)         ┆ Home & Living │\n",
       "│ B…                            ┆       ┆          ┆               ┆               ┆               │\n",
       "│ Exclusive Home & Living       ┆ 4.9   ┆ Selangor ┆ 106 sold      ┆ (24)          ┆ Home & Living │\n",
       "│ Sarung…                       ┆       ┆          ┆               ┆               ┆               │\n",
       "│ 3pcs/set Astronaut Decoration ┆ 3.61  ┆ Selangor ┆ 206 sold      ┆ (113)         ┆ Home & Living │\n",
       "│ …                             ┆       ┆          ┆               ┆               ┆               │\n",
       "│ Cotton Pillow Sleeping Hilton ┆ 8.5   ┆ Selangor ┆ 148 sold      ┆ (34)          ┆ Home & Living │\n",
       "│ …                             ┆       ┆          ┆               ┆               ┆               │\n",
       "└───────────────────────────────┴───────┴──────────┴───────────────┴───────────────┴───────────────┘"
      ]
     },
     "metadata": {},
     "output_type": "display_data"
    },
    {
     "name": "stdout",
     "output_type": "stream",
     "text": [
      "Total rows: 13376\n",
      "Total columns: 6\n",
      "\n",
      "\n",
      "\n"
     ]
    },
    {
     "data": {
      "text/html": [
       "<div><style>\n",
       ".dataframe > thead > tr,\n",
       ".dataframe > tbody > tr {\n",
       "  text-align: right;\n",
       "  white-space: pre-wrap;\n",
       "}\n",
       "</style>\n",
       "<small>shape: (10, 6)</small><table border=\"1\" class=\"dataframe\"><thead><tr><th>Product Name</th><th>Price</th><th>Location</th><th>Quantity Sold</th><th>Total Reviews</th><th>Category</th></tr><tr><td>str</td><td>f64</td><td>str</td><td>str</td><td>str</td><td>str</td></tr></thead><tbody><tr><td>&quot;ACTIVEONE Home Appliance House…</td><td>31.9</td><td>&quot;Penang&quot;</td><td>&quot;468 sold&quot;</td><td>&quot;(160)&quot;</td><td>&quot;Home Appliances&quot;</td></tr><tr><td>&quot;Teemo Home Appliance Household…</td><td>31.9</td><td>&quot;Penang&quot;</td><td>&quot;112 sold&quot;</td><td>&quot;(39)&quot;</td><td>&quot;Home Appliances&quot;</td></tr><tr><td>&quot;DESSINI ITALY 250mL USB Rechar…</td><td>12.5</td><td>&quot;Selangor&quot;</td><td>&quot;1.6K sold&quot;</td><td>&quot;(611)&quot;</td><td>&quot;Home Appliances&quot;</td></tr><tr><td>&quot;GTE Home Appliance Household M…</td><td>31.9</td><td>&quot;Penang&quot;</td><td>&quot;229 sold&quot;</td><td>&quot;(80)&quot;</td><td>&quot;Home Appliances&quot;</td></tr><tr><td>&quot;Blender Ready Stock Electric S…</td><td>22.88</td><td>&quot;Johor&quot;</td><td>&quot;2.0K sold&quot;</td><td>&quot;(528)&quot;</td><td>&quot;Home Appliances&quot;</td></tr><tr><td>&quot;2L Electric Meat Grinder Food …</td><td>17.99</td><td>&quot;Pahang&quot;</td><td>&quot;251 sold&quot;</td><td>&quot;(90)&quot;</td><td>&quot;Home Appliances&quot;</td></tr><tr><td>&quot;Kettle Stainless Steel 2Liter …</td><td>14.5</td><td>&quot;Selangor&quot;</td><td>&quot;9.0K sold&quot;</td><td>&quot;(2286)&quot;</td><td>&quot;Home Appliances&quot;</td></tr><tr><td>&quot;Electric Jug Kettle 2L Stainle…</td><td>17.9</td><td>&quot;Selangor&quot;</td><td>&quot;4.1K sold&quot;</td><td>&quot;(1154)&quot;</td><td>&quot;Home Appliances&quot;</td></tr><tr><td>&quot;Portable Turbo Electric Fan 10…</td><td>19.6</td><td>&quot;Selangor&quot;</td><td>&quot;7 sold&quot;</td><td>&quot;(1)&quot;</td><td>&quot;Home Appliances&quot;</td></tr><tr><td>&quot;Mafababe Portable Electric Gri…</td><td>26.75</td><td>&quot;Wp Kuala Lumpur&quot;</td><td>&quot;1.0K sold&quot;</td><td>&quot;(308)&quot;</td><td>&quot;Home Appliances&quot;</td></tr></tbody></table></div>"
      ],
      "text/plain": [
       "shape: (10, 6)\n",
       "┌──────────────────────┬───────┬─────────────────┬───────────────┬───────────────┬─────────────────┐\n",
       "│ Product Name         ┆ Price ┆ Location        ┆ Quantity Sold ┆ Total Reviews ┆ Category        │\n",
       "│ ---                  ┆ ---   ┆ ---             ┆ ---           ┆ ---           ┆ ---             │\n",
       "│ str                  ┆ f64   ┆ str             ┆ str           ┆ str           ┆ str             │\n",
       "╞══════════════════════╪═══════╪═════════════════╪═══════════════╪═══════════════╪═════════════════╡\n",
       "│ ACTIVEONE Home       ┆ 31.9  ┆ Penang          ┆ 468 sold      ┆ (160)         ┆ Home Appliances │\n",
       "│ Appliance House…     ┆       ┆                 ┆               ┆               ┆                 │\n",
       "│ Teemo Home Appliance ┆ 31.9  ┆ Penang          ┆ 112 sold      ┆ (39)          ┆ Home Appliances │\n",
       "│ Household…           ┆       ┆                 ┆               ┆               ┆                 │\n",
       "│ DESSINI ITALY 250mL  ┆ 12.5  ┆ Selangor        ┆ 1.6K sold     ┆ (611)         ┆ Home Appliances │\n",
       "│ USB Rechar…          ┆       ┆                 ┆               ┆               ┆                 │\n",
       "│ GTE Home Appliance   ┆ 31.9  ┆ Penang          ┆ 229 sold      ┆ (80)          ┆ Home Appliances │\n",
       "│ Household M…         ┆       ┆                 ┆               ┆               ┆                 │\n",
       "│ Blender Ready Stock  ┆ 22.88 ┆ Johor           ┆ 2.0K sold     ┆ (528)         ┆ Home Appliances │\n",
       "│ Electric S…          ┆       ┆                 ┆               ┆               ┆                 │\n",
       "│ 2L Electric Meat     ┆ 17.99 ┆ Pahang          ┆ 251 sold      ┆ (90)          ┆ Home Appliances │\n",
       "│ Grinder Food …       ┆       ┆                 ┆               ┆               ┆                 │\n",
       "│ Kettle Stainless     ┆ 14.5  ┆ Selangor        ┆ 9.0K sold     ┆ (2286)        ┆ Home Appliances │\n",
       "│ Steel 2Liter …       ┆       ┆                 ┆               ┆               ┆                 │\n",
       "│ Electric Jug Kettle  ┆ 17.9  ┆ Selangor        ┆ 4.1K sold     ┆ (1154)        ┆ Home Appliances │\n",
       "│ 2L Stainle…          ┆       ┆                 ┆               ┆               ┆                 │\n",
       "│ Portable Turbo       ┆ 19.6  ┆ Selangor        ┆ 7 sold        ┆ (1)           ┆ Home Appliances │\n",
       "│ Electric Fan 10…     ┆       ┆                 ┆               ┆               ┆                 │\n",
       "│ Mafababe Portable    ┆ 26.75 ┆ Wp Kuala Lumpur ┆ 1.0K sold     ┆ (308)         ┆ Home Appliances │\n",
       "│ Electric Gri…        ┆       ┆                 ┆               ┆               ┆                 │\n",
       "└──────────────────────┴───────┴─────────────────┴───────────────┴───────────────┴─────────────────┘"
      ]
     },
     "metadata": {},
     "output_type": "display_data"
    },
    {
     "name": "stdout",
     "output_type": "stream",
     "text": [
      "Total rows: 13674\n",
      "Total columns: 6\n",
      "\n",
      "\n",
      "\n"
     ]
    },
    {
     "data": {
      "text/html": [
       "<div><style>\n",
       ".dataframe > thead > tr,\n",
       ".dataframe > tbody > tr {\n",
       "  text-align: right;\n",
       "  white-space: pre-wrap;\n",
       "}\n",
       "</style>\n",
       "<small>shape: (10, 6)</small><table border=\"1\" class=\"dataframe\"><thead><tr><th>Product Name</th><th>Price</th><th>Location</th><th>Quantity Sold</th><th>Total Reviews</th><th>Category</th></tr><tr><td>str</td><td>f64</td><td>str</td><td>str</td><td>str</td><td>str</td></tr></thead><tbody><tr><td>&quot;RELAXING MOODS FOR MOTHER &amp; BA…</td><td>54.9</td><td>&quot;Perak&quot;</td><td>null</td><td>null</td><td>&quot;Mother &amp; Baby&quot;</td></tr><tr><td>&quot;Cotton Breastfeeding Maternity…</td><td>19.9</td><td>&quot;Selangor&quot;</td><td>&quot;46 sold&quot;</td><td>&quot;(10)&quot;</td><td>&quot;Mother &amp; Baby&quot;</td></tr><tr><td>&quot;Cotton Breastfeeding Nursing C…</td><td>8.9</td><td>&quot;Selangor&quot;</td><td>&quot;802 sold&quot;</td><td>&quot;(233)&quot;</td><td>&quot;Mother &amp; Baby&quot;</td></tr><tr><td>&quot;[Malaysia] Breastfeeding Nursi…</td><td>7.5</td><td>&quot;Selangor&quot;</td><td>&quot;2.9K sold&quot;</td><td>&quot;(794)&quot;</td><td>&quot;Mother &amp; Baby&quot;</td></tr><tr><td>&quot;SummerGlitz 100% Cotton &amp; Cott…</td><td>24.9</td><td>&quot;Selangor&quot;</td><td>&quot;1.1K sold&quot;</td><td>&quot;(272)&quot;</td><td>&quot;Mother &amp; Baby&quot;</td></tr><tr><td>&quot;KOGGY 5 Pairs Maternity Socks …</td><td>11.87</td><td>&quot;Johor&quot;</td><td>&quot;163 sold&quot;</td><td>&quot;(49)&quot;</td><td>&quot;Mother &amp; Baby&quot;</td></tr><tr><td>&quot;Moo Baby Maternity Socks Stoki…</td><td>1.9</td><td>&quot;Perak&quot;</td><td>&quot;5.2K sold&quot;</td><td>&quot;(816)&quot;</td><td>&quot;Mother &amp; Baby&quot;</td></tr><tr><td>&quot;[PRE-ORDER] Mothers Baby Coolb…</td><td>49.33</td><td>&quot;Selangor&quot;</td><td>null</td><td>null</td><td>&quot;Mother &amp; Baby&quot;</td></tr><tr><td>&quot;Breastfeeding Mum Baby Infant …</td><td>9.99</td><td>&quot;Wp Kuala Lumpur&quot;</td><td>null</td><td>null</td><td>&quot;Mother &amp; Baby&quot;</td></tr><tr><td>&quot;Einmilk Baby Cotton Nursing Co…</td><td>26.9</td><td>&quot;Johor&quot;</td><td>&quot;25 sold&quot;</td><td>&quot;(9)&quot;</td><td>&quot;Mother &amp; Baby&quot;</td></tr></tbody></table></div>"
      ],
      "text/plain": [
       "shape: (10, 6)\n",
       "┌────────────────────────┬───────┬─────────────────┬───────────────┬───────────────┬───────────────┐\n",
       "│ Product Name           ┆ Price ┆ Location        ┆ Quantity Sold ┆ Total Reviews ┆ Category      │\n",
       "│ ---                    ┆ ---   ┆ ---             ┆ ---           ┆ ---           ┆ ---           │\n",
       "│ str                    ┆ f64   ┆ str             ┆ str           ┆ str           ┆ str           │\n",
       "╞════════════════════════╪═══════╪═════════════════╪═══════════════╪═══════════════╪═══════════════╡\n",
       "│ RELAXING MOODS FOR     ┆ 54.9  ┆ Perak           ┆ null          ┆ null          ┆ Mother & Baby │\n",
       "│ MOTHER & BA…           ┆       ┆                 ┆               ┆               ┆               │\n",
       "│ Cotton Breastfeeding   ┆ 19.9  ┆ Selangor        ┆ 46 sold       ┆ (10)          ┆ Mother & Baby │\n",
       "│ Maternity…             ┆       ┆                 ┆               ┆               ┆               │\n",
       "│ Cotton Breastfeeding   ┆ 8.9   ┆ Selangor        ┆ 802 sold      ┆ (233)         ┆ Mother & Baby │\n",
       "│ Nursing C…             ┆       ┆                 ┆               ┆               ┆               │\n",
       "│ [Malaysia]             ┆ 7.5   ┆ Selangor        ┆ 2.9K sold     ┆ (794)         ┆ Mother & Baby │\n",
       "│ Breastfeeding Nursi…   ┆       ┆                 ┆               ┆               ┆               │\n",
       "│ SummerGlitz 100%       ┆ 24.9  ┆ Selangor        ┆ 1.1K sold     ┆ (272)         ┆ Mother & Baby │\n",
       "│ Cotton & Cott…         ┆       ┆                 ┆               ┆               ┆               │\n",
       "│ KOGGY 5 Pairs          ┆ 11.87 ┆ Johor           ┆ 163 sold      ┆ (49)          ┆ Mother & Baby │\n",
       "│ Maternity Socks …      ┆       ┆                 ┆               ┆               ┆               │\n",
       "│ Moo Baby Maternity     ┆ 1.9   ┆ Perak           ┆ 5.2K sold     ┆ (816)         ┆ Mother & Baby │\n",
       "│ Socks Stoki…           ┆       ┆                 ┆               ┆               ┆               │\n",
       "│ [PRE-ORDER] Mothers    ┆ 49.33 ┆ Selangor        ┆ null          ┆ null          ┆ Mother & Baby │\n",
       "│ Baby Coolb…            ┆       ┆                 ┆               ┆               ┆               │\n",
       "│ Breastfeeding Mum Baby ┆ 9.99  ┆ Wp Kuala Lumpur ┆ null          ┆ null          ┆ Mother & Baby │\n",
       "│ Infant …               ┆       ┆                 ┆               ┆               ┆               │\n",
       "│ Einmilk Baby Cotton    ┆ 26.9  ┆ Johor           ┆ 25 sold       ┆ (9)           ┆ Mother & Baby │\n",
       "│ Nursing Co…            ┆       ┆                 ┆               ┆               ┆               │\n",
       "└────────────────────────┴───────┴─────────────────┴───────────────┴───────────────┴───────────────┘"
      ]
     },
     "metadata": {},
     "output_type": "display_data"
    },
    {
     "name": "stdout",
     "output_type": "stream",
     "text": [
      "Total rows: 2440\n",
      "Total columns: 6\n",
      "\n",
      "\n",
      "\n"
     ]
    },
    {
     "data": {
      "text/html": [
       "<div><style>\n",
       ".dataframe > thead > tr,\n",
       ".dataframe > tbody > tr {\n",
       "  text-align: right;\n",
       "  white-space: pre-wrap;\n",
       "}\n",
       "</style>\n",
       "<small>shape: (10, 6)</small><table border=\"1\" class=\"dataframe\"><thead><tr><th>Product Name</th><th>Price</th><th>Location</th><th>Quantity Sold</th><th>Total Reviews</th><th>Category</th></tr><tr><td>str</td><td>f64</td><td>str</td><td>str</td><td>str</td><td>str</td></tr></thead><tbody><tr><td>&quot;Deli Direct Liquid Gel Pen Qui…</td><td>0.7</td><td>&quot;Negeri Sembilan&quot;</td><td>&quot;764 sold&quot;</td><td>&quot;(182)&quot;</td><td>&quot;Stationery&quot;</td></tr><tr><td>&quot;Colourful Flexible Pencil Soft…</td><td>0.39</td><td>&quot;Perak&quot;</td><td>&quot;508 sold&quot;</td><td>&quot;(5)&quot;</td><td>&quot;Stationery&quot;</td></tr><tr><td>&quot;Stationery📐Stationery Set Cart…</td><td>0.98</td><td>&quot;Perak&quot;</td><td>&quot;275 sold&quot;</td><td>&quot;(4)&quot;</td><td>&quot;Stationery&quot;</td></tr><tr><td>&quot;⭐学生卡通中性笔可爱风0.5黑色签字笔⭐New Style …</td><td>0.49</td><td>&quot;Perak&quot;</td><td>&quot;2.1K sold&quot;</td><td>&quot;(148)&quot;</td><td>&quot;Stationery&quot;</td></tr><tr><td>&quot;*Original* M&amp;G R3/R5 0.5 0.7 G…</td><td>0.75</td><td>&quot;Selangor&quot;</td><td>&quot;64.8K sold&quot;</td><td>&quot;(4015)&quot;</td><td>&quot;Stationery&quot;</td></tr><tr><td>&quot;12PCS/Set Basics Premium Multi…</td><td>0.5</td><td>&quot;Selangor&quot;</td><td>&quot;55.4K sold&quot;</td><td>&quot;(12408)&quot;</td><td>&quot;Stationery&quot;</td></tr><tr><td>&quot;（No need to sharpen pencils）Fr…</td><td>0.54</td><td>&quot;Selangor&quot;</td><td>&quot;8.5K sold&quot;</td><td>&quot;(702)&quot;</td><td>&quot;Stationery&quot;</td></tr><tr><td>&quot;⭐学生卡通本创意文具高颜值笔记本子学习用品记事本⭐Noteb…</td><td>0.29</td><td>&quot;Perak&quot;</td><td>&quot;3.5K sold&quot;</td><td>&quot;(40)&quot;</td><td>&quot;Stationery&quot;</td></tr><tr><td>&quot;Classic Gel Pen 1008 Black Blu…</td><td>0.39</td><td>&quot;Perak&quot;</td><td>&quot;16.2K sold&quot;</td><td>&quot;(492)&quot;</td><td>&quot;Stationery&quot;</td></tr><tr><td>&quot;Sanrio Eraser Stationery Non-D…</td><td>0.96</td><td>&quot;Selangor&quot;</td><td>&quot;1.1K sold&quot;</td><td>&quot;(183)&quot;</td><td>&quot;Stationery&quot;</td></tr></tbody></table></div>"
      ],
      "text/plain": [
       "shape: (10, 6)\n",
       "┌───────────────────────────┬───────┬─────────────────┬───────────────┬───────────────┬────────────┐\n",
       "│ Product Name              ┆ Price ┆ Location        ┆ Quantity Sold ┆ Total Reviews ┆ Category   │\n",
       "│ ---                       ┆ ---   ┆ ---             ┆ ---           ┆ ---           ┆ ---        │\n",
       "│ str                       ┆ f64   ┆ str             ┆ str           ┆ str           ┆ str        │\n",
       "╞═══════════════════════════╪═══════╪═════════════════╪═══════════════╪═══════════════╪════════════╡\n",
       "│ Deli Direct Liquid Gel    ┆ 0.7   ┆ Negeri Sembilan ┆ 764 sold      ┆ (182)         ┆ Stationery │\n",
       "│ Pen Qui…                  ┆       ┆                 ┆               ┆               ┆            │\n",
       "│ Colourful Flexible Pencil ┆ 0.39  ┆ Perak           ┆ 508 sold      ┆ (5)           ┆ Stationery │\n",
       "│ Soft…                     ┆       ┆                 ┆               ┆               ┆            │\n",
       "│ Stationery📐Stationery    ┆ 0.98  ┆ Perak           ┆ 275 sold      ┆ (4)           ┆ Stationery │\n",
       "│ Set Cart…                 ┆       ┆                 ┆               ┆               ┆            │\n",
       "│ ⭐学生卡通中性笔可爱风0.5 ┆ 0.49  ┆ Perak           ┆ 2.1K sold     ┆ (148)         ┆ Stationery │\n",
       "│ 黑色签字笔⭐New Style …   ┆       ┆                 ┆               ┆               ┆            │\n",
       "│ *Original* M&G R3/R5 0.5  ┆ 0.75  ┆ Selangor        ┆ 64.8K sold    ┆ (4015)        ┆ Stationery │\n",
       "│ 0.7 G…                    ┆       ┆                 ┆               ┆               ┆            │\n",
       "│ 12PCS/Set Basics Premium  ┆ 0.5   ┆ Selangor        ┆ 55.4K sold    ┆ (12408)       ┆ Stationery │\n",
       "│ Multi…                    ┆       ┆                 ┆               ┆               ┆            │\n",
       "│ （No need to sharpen      ┆ 0.54  ┆ Selangor        ┆ 8.5K sold     ┆ (702)         ┆ Stationery │\n",
       "│ pencils）Fr…              ┆       ┆                 ┆               ┆               ┆            │\n",
       "│ ⭐学生卡通本创意文具高颜  ┆ 0.29  ┆ Perak           ┆ 3.5K sold     ┆ (40)          ┆ Stationery │\n",
       "│ 值笔记本子学习用品记事本  ┆       ┆                 ┆               ┆               ┆            │\n",
       "│ ⭐Noteb…                  ┆       ┆                 ┆               ┆               ┆            │\n",
       "│ Classic Gel Pen 1008      ┆ 0.39  ┆ Perak           ┆ 16.2K sold    ┆ (492)         ┆ Stationery │\n",
       "│ Black Blu…                ┆       ┆                 ┆               ┆               ┆            │\n",
       "│ Sanrio Eraser Stationery  ┆ 0.96  ┆ Selangor        ┆ 1.1K sold     ┆ (183)         ┆ Stationery │\n",
       "│ Non-D…                    ┆       ┆                 ┆               ┆               ┆            │\n",
       "└───────────────────────────┴───────┴─────────────────┴───────────────┴───────────────┴────────────┘"
      ]
     },
     "metadata": {},
     "output_type": "display_data"
    },
    {
     "name": "stdout",
     "output_type": "stream",
     "text": [
      "Total rows: 23195\n",
      "Total columns: 6\n",
      "\n",
      "\n",
      "\n"
     ]
    },
    {
     "data": {
      "text/html": [
       "<div><style>\n",
       ".dataframe > thead > tr,\n",
       ".dataframe > tbody > tr {\n",
       "  text-align: right;\n",
       "  white-space: pre-wrap;\n",
       "}\n",
       "</style>\n",
       "<small>shape: (10, 6)</small><table border=\"1\" class=\"dataframe\"><thead><tr><th>Product Name</th><th>Price</th><th>Location</th><th>Quantity Sold</th><th>Total Reviews</th><th>Category</th></tr><tr><td>str</td><td>f64</td><td>str</td><td>str</td><td>str</td><td>str</td></tr></thead><tbody><tr><td>&quot;Upsee Women&#x27;s Fashion Heat Res…</td><td>17.13</td><td>&quot;China&quot;</td><td>&quot;753 sold&quot;</td><td>&quot;(188)&quot;</td><td>&quot;Women&#x27;s Fashion&quot;</td></tr><tr><td>&quot;Summer women&#x27;s fashionable hig…</td><td>13.0</td><td>&quot;China&quot;</td><td>&quot;54 sold&quot;</td><td>&quot;(14)&quot;</td><td>&quot;Women&#x27;s Fashion&quot;</td></tr><tr><td>&quot;Summer New Sports Suit Women&#x27;s…</td><td>22.75</td><td>&quot;China&quot;</td><td>&quot;286 sold&quot;</td><td>&quot;(62)&quot;</td><td>&quot;Women&#x27;s Fashion&quot;</td></tr><tr><td>&quot;Daring Backless V-Neck Dress S…</td><td>19.72</td><td>null</td><td>&quot;270 sold&quot;</td><td>&quot;(37)&quot;</td><td>&quot;Women&#x27;s Fashion&quot;</td></tr><tr><td>&quot;Chic Lace Birthday Dress Chris…</td><td>12.18</td><td>null</td><td>&quot;486 sold&quot;</td><td>&quot;(35)&quot;</td><td>&quot;Women&#x27;s Fashion&quot;</td></tr><tr><td>&quot;LOMOGI Women&#x27;s Fashion Dress +…</td><td>15.23</td><td>&quot;China&quot;</td><td>&quot;1.6K sold&quot;</td><td>&quot;(455)&quot;</td><td>&quot;Women&#x27;s Fashion&quot;</td></tr><tr><td>&quot;Summer 2024 Women&#x27;s Knitted Lo…</td><td>22.41</td><td>null</td><td>&quot;322 sold&quot;</td><td>&quot;(26)&quot;</td><td>&quot;Women&#x27;s Fashion&quot;</td></tr><tr><td>&quot;Hot Princess Dress Set Sexy Sl…</td><td>17.39</td><td>null</td><td>&quot;92 sold&quot;</td><td>&quot;(6)&quot;</td><td>&quot;Women&#x27;s Fashion&quot;</td></tr><tr><td>&quot;LOMOGI Women&#x27;s Fashion Dress +…</td><td>14.17</td><td>null</td><td>&quot;122 sold&quot;</td><td>&quot;(42)&quot;</td><td>&quot;Women&#x27;s Fashion&quot;</td></tr><tr><td>&quot;Adult Latin Dance Skirt Square…</td><td>20.55</td><td>null</td><td>&quot;350 sold&quot;</td><td>&quot;(58)&quot;</td><td>&quot;Women&#x27;s Fashion&quot;</td></tr></tbody></table></div>"
      ],
      "text/plain": [
       "shape: (10, 6)\n",
       "┌─────────────────────────────┬───────┬──────────┬───────────────┬───────────────┬─────────────────┐\n",
       "│ Product Name                ┆ Price ┆ Location ┆ Quantity Sold ┆ Total Reviews ┆ Category        │\n",
       "│ ---                         ┆ ---   ┆ ---      ┆ ---           ┆ ---           ┆ ---             │\n",
       "│ str                         ┆ f64   ┆ str      ┆ str           ┆ str           ┆ str             │\n",
       "╞═════════════════════════════╪═══════╪══════════╪═══════════════╪═══════════════╪═════════════════╡\n",
       "│ Upsee Women's Fashion Heat  ┆ 17.13 ┆ China    ┆ 753 sold      ┆ (188)         ┆ Women's Fashion │\n",
       "│ Res…                        ┆       ┆          ┆               ┆               ┆                 │\n",
       "│ Summer women's fashionable  ┆ 13.0  ┆ China    ┆ 54 sold       ┆ (14)          ┆ Women's Fashion │\n",
       "│ hig…                        ┆       ┆          ┆               ┆               ┆                 │\n",
       "│ Summer New Sports Suit      ┆ 22.75 ┆ China    ┆ 286 sold      ┆ (62)          ┆ Women's Fashion │\n",
       "│ Women's…                    ┆       ┆          ┆               ┆               ┆                 │\n",
       "│ Daring Backless V-Neck      ┆ 19.72 ┆ null     ┆ 270 sold      ┆ (37)          ┆ Women's Fashion │\n",
       "│ Dress S…                    ┆       ┆          ┆               ┆               ┆                 │\n",
       "│ Chic Lace Birthday Dress    ┆ 12.18 ┆ null     ┆ 486 sold      ┆ (35)          ┆ Women's Fashion │\n",
       "│ Chris…                      ┆       ┆          ┆               ┆               ┆                 │\n",
       "│ LOMOGI Women's Fashion      ┆ 15.23 ┆ China    ┆ 1.6K sold     ┆ (455)         ┆ Women's Fashion │\n",
       "│ Dress +…                    ┆       ┆          ┆               ┆               ┆                 │\n",
       "│ Summer 2024 Women's Knitted ┆ 22.41 ┆ null     ┆ 322 sold      ┆ (26)          ┆ Women's Fashion │\n",
       "│ Lo…                         ┆       ┆          ┆               ┆               ┆                 │\n",
       "│ Hot Princess Dress Set Sexy ┆ 17.39 ┆ null     ┆ 92 sold       ┆ (6)           ┆ Women's Fashion │\n",
       "│ Sl…                         ┆       ┆          ┆               ┆               ┆                 │\n",
       "│ LOMOGI Women's Fashion      ┆ 14.17 ┆ null     ┆ 122 sold      ┆ (42)          ┆ Women's Fashion │\n",
       "│ Dress +…                    ┆       ┆          ┆               ┆               ┆                 │\n",
       "│ Adult Latin Dance Skirt     ┆ 20.55 ┆ null     ┆ 350 sold      ┆ (58)          ┆ Women's Fashion │\n",
       "│ Square…                     ┆       ┆          ┆               ┆               ┆                 │\n",
       "└─────────────────────────────┴───────┴──────────┴───────────────┴───────────────┴─────────────────┘"
      ]
     },
     "metadata": {},
     "output_type": "display_data"
    },
    {
     "name": "stdout",
     "output_type": "stream",
     "text": [
      "Total rows: 9698\n",
      "Total columns: 6\n",
      "\n",
      "\n",
      "\n",
      "===================== Performance =====================\n",
      "\n",
      "Total rows processed: 115090\n",
      "Code Execution time: 0.6578 seconds\n",
      "Throughput: 174953.89 rows per second\n",
      "Current memory usage: 2.7757 MB\n",
      "Peak memory usage: 2.8360 MB\n",
      "CPU usage: 57.8%\n",
      "=======================================================\n",
      "\n",
      "Total time for this cell(Including time to display the performance):\n",
      "CPU times: user 337 ms, sys: 42.8 ms, total: 380 ms\n",
      "Wall time: 1.67 s\n"
     ]
    }
   ],
   "source": [
    "%%time\n",
    "\n",
    "tracemalloc.start()\n",
    "start_time = time.perf_counter()\n",
    "total_rows = 0\n",
    "\n",
    "fList_polars = []\n",
    "for filename, df in zip(uploaded.keys(), fList_pandas):\n",
    "    match = re.search(r\"\\((.*?)\\)\", filename)\n",
    "    category = match.group(1) if match else \"Unknown\"\n",
    "\n",
    "    pl_df = pl.from_pandas(df).with_columns(pl.lit(category).alias(\"Category\"))\n",
    "    fList_polars.append(pl_df)\n",
    "\n",
    "print(f\"Total DataFrames: {len(fList_polars)}\")\n",
    "\n",
    "for df in fList_polars:\n",
    "    total_rows += df.shape[0]\n",
    "    display(df.head(10))\n",
    "    print(f\"Total rows: {df.shape[0]}\")\n",
    "    print(f\"Total columns: {df.shape[1]}\\n\\n\\n\")\n",
    "\n",
    "current, peak = tracemalloc.get_traced_memory()\n",
    "end_time = time.perf_counter()\n",
    "tracemalloc.stop()\n",
    "\n",
    "execution_time = end_time - start_time\n",
    "throughput = total_rows / execution_time\n",
    "\n",
    "print(\"===================== Performance =====================\\n\")\n",
    "print(f\"Total rows processed: {total_rows}\")\n",
    "print(f\"Code Execution time: {execution_time:.4f} seconds\")\n",
    "print(f\"Throughput: {throughput:.2f} rows per second\")\n",
    "print(f\"Current memory usage: {current / 10**6:.4f} MB\")\n",
    "print(f\"Peak memory usage: {peak / 10**6:.4f} MB\")\n",
    "\n",
    "cpu_usage = psutil.cpu_percent(interval=1)\n",
    "print(f\"CPU usage: {cpu_usage}%\")\n",
    "\n",
    "print(\"=======================================================\")\n",
    "\n",
    "print(\"\\nTotal time for this cell(Including time to display the performance):\")\n"
   ]
  },
  {
   "cell_type": "markdown",
   "metadata": {
    "id": "J3zPEjSqCYYe"
   },
   "source": [
    "Step 5 : Combine All DataFrames into One (Data Integration), Checking on Total Numbers of Rows and Columns"
   ]
  },
  {
   "cell_type": "code",
   "execution_count": null,
   "metadata": {
    "colab": {
     "base_uri": "https://localhost:8080/",
     "height": 724
    },
    "id": "V8grR44WLgkW",
    "outputId": "048a7caf-06a8-40dc-91f6-40823a8f0c62"
   },
   "outputs": [
    {
     "data": {
      "application/javascript": [
       "\n",
       "    async function download(id, filename, size) {\n",
       "      if (!google.colab.kernel.accessAllowed) {\n",
       "        return;\n",
       "      }\n",
       "      const div = document.createElement('div');\n",
       "      const label = document.createElement('label');\n",
       "      label.textContent = `Downloading \"${filename}\": `;\n",
       "      div.appendChild(label);\n",
       "      const progress = document.createElement('progress');\n",
       "      progress.max = size;\n",
       "      div.appendChild(progress);\n",
       "      document.body.appendChild(div);\n",
       "\n",
       "      const buffers = [];\n",
       "      let downloaded = 0;\n",
       "\n",
       "      const channel = await google.colab.kernel.comms.open(id);\n",
       "      // Send a message to notify the kernel that we're ready.\n",
       "      channel.send({})\n",
       "\n",
       "      for await (const message of channel.messages) {\n",
       "        // Send a message to notify the kernel that we're ready.\n",
       "        channel.send({})\n",
       "        if (message.buffers) {\n",
       "          for (const buffer of message.buffers) {\n",
       "            buffers.push(buffer);\n",
       "            downloaded += buffer.byteLength;\n",
       "            progress.value = downloaded;\n",
       "          }\n",
       "        }\n",
       "      }\n",
       "      const blob = new Blob(buffers, {type: 'application/binary'});\n",
       "      const a = document.createElement('a');\n",
       "      a.href = window.URL.createObjectURL(blob);\n",
       "      a.download = filename;\n",
       "      div.appendChild(a);\n",
       "      a.click();\n",
       "      div.remove();\n",
       "    }\n",
       "  "
      ],
      "text/plain": [
       "<IPython.core.display.Javascript object>"
      ]
     },
     "metadata": {},
     "output_type": "display_data"
    },
    {
     "data": {
      "application/javascript": [
       "download(\"download_98f6033f-21ae-4ecc-a658-8a6615ac9c28\", \"polars_combined_dataset.csv\", 16631339)"
      ],
      "text/plain": [
       "<IPython.core.display.Javascript object>"
      ]
     },
     "metadata": {},
     "output_type": "display_data"
    },
    {
     "data": {
      "text/html": [
       "<div><style>\n",
       ".dataframe > thead > tr,\n",
       ".dataframe > tbody > tr {\n",
       "  text-align: right;\n",
       "  white-space: pre-wrap;\n",
       "}\n",
       "</style>\n",
       "<small>shape: (10, 6)</small><table border=\"1\" class=\"dataframe\"><thead><tr><th>Product Name</th><th>Price</th><th>Location</th><th>Quantity Sold</th><th>Total Reviews</th><th>Category</th></tr><tr><td>str</td><td>f64</td><td>str</td><td>str</td><td>str</td><td>str</td></tr></thead><tbody><tr><td>&quot;❣️SAKA GLOWING FOUNDATION SPF …</td><td>3.99</td><td>&quot;Penang&quot;</td><td>&quot;55 sold&quot;</td><td>&quot;(9)&quot;</td><td>&quot;Beauty &amp; Skincare&quot;</td></tr><tr><td>&quot;Bio-Essence Bio-Gold 24k&nbsp;&nbsp;Radi…</td><td>3.5</td><td>&quot;Johor&quot;</td><td>&quot;46 sold&quot;</td><td>&quot;(10)&quot;</td><td>&quot;Beauty &amp; Skincare&quot;</td></tr><tr><td>&quot;L&#x27;occitane Immortelle Divine F…</td><td>1.5</td><td>&quot;Selangor&quot;</td><td>&quot;13 sold&quot;</td><td>&quot;(1)&quot;</td><td>&quot;Beauty &amp; Skincare&quot;</td></tr><tr><td>&quot;YOUBUY Freckle Cream Effective…</td><td>5.45</td><td>&quot;China&quot;</td><td>&quot;13 sold&quot;</td><td>null</td><td>&quot;Beauty &amp; Skincare&quot;</td></tr><tr><td>&quot;DT37 Jomtam Jolyum Nicotimide …</td><td>6.15</td><td>&quot;Melaka&quot;</td><td>&quot;175 sold&quot;</td><td>&quot;(40)&quot;</td><td>&quot;Beauty &amp; Skincare&quot;</td></tr><tr><td>&quot;❤️88Home❤️ Jomtam Jolyum Nicot…</td><td>6.19</td><td>&quot;Melaka&quot;</td><td>&quot;29 sold&quot;</td><td>&quot;(2)&quot;</td><td>&quot;Beauty &amp; Skincare&quot;</td></tr><tr><td>&quot;DT37 VEZE Men&#x27;s Volcanic Mud F…</td><td>5.44</td><td>&quot;Melaka&quot;</td><td>&quot;129 sold&quot;</td><td>&quot;(46)&quot;</td><td>&quot;Beauty &amp; Skincare&quot;</td></tr><tr><td>&quot;NEVEA MEN ROLL ON 500ML&quot;</td><td>5.0</td><td>&quot;Wp Kuala Lumpur&quot;</td><td>&quot;25 sold&quot;</td><td>&quot;(4)&quot;</td><td>&quot;Beauty &amp; Skincare&quot;</td></tr><tr><td>&quot;❤️88Home❤️ VEZE Men&#x27;s Volcanic…</td><td>5.48</td><td>&quot;Melaka&quot;</td><td>&quot;41 sold&quot;</td><td>&quot;(11)&quot;</td><td>&quot;Beauty &amp; Skincare&quot;</td></tr><tr><td>&quot;DT37 HYMEY&#x27;S Facial Cleanser C…</td><td>1.53</td><td>&quot;Melaka&quot;</td><td>&quot;1.3K sold&quot;</td><td>&quot;(246)&quot;</td><td>&quot;Beauty &amp; Skincare&quot;</td></tr></tbody></table></div>"
      ],
      "text/plain": [
       "shape: (10, 6)\n",
       "┌────────────────────┬───────┬─────────────────┬───────────────┬───────────────┬───────────────────┐\n",
       "│ Product Name       ┆ Price ┆ Location        ┆ Quantity Sold ┆ Total Reviews ┆ Category          │\n",
       "│ ---                ┆ ---   ┆ ---             ┆ ---           ┆ ---           ┆ ---               │\n",
       "│ str                ┆ f64   ┆ str             ┆ str           ┆ str           ┆ str               │\n",
       "╞════════════════════╪═══════╪═════════════════╪═══════════════╪═══════════════╪═══════════════════╡\n",
       "│ ❣️SAKA GLOWING     ┆ 3.99  ┆ Penang          ┆ 55 sold       ┆ (9)           ┆ Beauty & Skincare │\n",
       "│ FOUNDATION SPF …   ┆       ┆                 ┆               ┆               ┆                   │\n",
       "│ Bio-Essence        ┆ 3.5   ┆ Johor           ┆ 46 sold       ┆ (10)          ┆ Beauty & Skincare │\n",
       "│ Bio-Gold 24k       ┆       ┆                 ┆               ┆               ┆                   │\n",
       "│ Radi…              ┆       ┆                 ┆               ┆               ┆                   │\n",
       "│ L'occitane         ┆ 1.5   ┆ Selangor        ┆ 13 sold       ┆ (1)           ┆ Beauty & Skincare │\n",
       "│ Immortelle Divine  ┆       ┆                 ┆               ┆               ┆                   │\n",
       "│ F…                 ┆       ┆                 ┆               ┆               ┆                   │\n",
       "│ YOUBUY Freckle     ┆ 5.45  ┆ China           ┆ 13 sold       ┆ null          ┆ Beauty & Skincare │\n",
       "│ Cream Effective…   ┆       ┆                 ┆               ┆               ┆                   │\n",
       "│ DT37 Jomtam Jolyum ┆ 6.15  ┆ Melaka          ┆ 175 sold      ┆ (40)          ┆ Beauty & Skincare │\n",
       "│ Nicotimide …       ┆       ┆                 ┆               ┆               ┆                   │\n",
       "│ ❤️88Home❤️ Jomtam  ┆ 6.19  ┆ Melaka          ┆ 29 sold       ┆ (2)           ┆ Beauty & Skincare │\n",
       "│ Jolyum Nicot…      ┆       ┆                 ┆               ┆               ┆                   │\n",
       "│ DT37 VEZE Men's    ┆ 5.44  ┆ Melaka          ┆ 129 sold      ┆ (46)          ┆ Beauty & Skincare │\n",
       "│ Volcanic Mud F…    ┆       ┆                 ┆               ┆               ┆                   │\n",
       "│ NEVEA MEN ROLL ON  ┆ 5.0   ┆ Wp Kuala Lumpur ┆ 25 sold       ┆ (4)           ┆ Beauty & Skincare │\n",
       "│ 500ML              ┆       ┆                 ┆               ┆               ┆                   │\n",
       "│ ❤️88Home❤️ VEZE    ┆ 5.48  ┆ Melaka          ┆ 41 sold       ┆ (11)          ┆ Beauty & Skincare │\n",
       "│ Men's Volcanic…    ┆       ┆                 ┆               ┆               ┆                   │\n",
       "│ DT37 HYMEY'S       ┆ 1.53  ┆ Melaka          ┆ 1.3K sold     ┆ (246)         ┆ Beauty & Skincare │\n",
       "│ Facial Cleanser C… ┆       ┆                 ┆               ┆               ┆                   │\n",
       "└────────────────────┴───────┴─────────────────┴───────────────┴───────────────┴───────────────────┘"
      ]
     },
     "metadata": {},
     "output_type": "display_data"
    },
    {
     "name": "stdout",
     "output_type": "stream",
     "text": [
      "Total rows: 115090\n",
      "Total columns: 6\n",
      "\n",
      "\n",
      "\n",
      "===================== Performance =====================\n",
      "\n",
      "Total rows processed: 115090\n",
      "Code Execution time: 0.1654 seconds\n",
      "Throughput: 695962.63 rows per second\n",
      "Current memory usage: 0.0284 MB\n",
      "Peak memory usage: 0.0989 MB\n",
      "CPU usage: 4.0%\n",
      "=======================================================\n",
      "\n",
      "Total time for this cell(Including time to display the performance):\n",
      "CPU times: user 95.5 ms, sys: 47.3 ms, total: 143 ms\n",
      "Wall time: 1.17 s\n"
     ]
    }
   ],
   "source": [
    "%%time\n",
    "\n",
    "tracemalloc.start()\n",
    "start_time = time.perf_counter()\n",
    "\n",
    "df_combined = pl.concat(fList_polars, how=\"vertical\", rechunk=True)\n",
    "\n",
    "df_combined.write_csv(\"polars_combined_dataset.csv\")\n",
    "files.download(\"polars_combined_dataset.csv\")\n",
    "\n",
    "display(df_combined.head(10))\n",
    "total_rows = df_combined.shape[0]\n",
    "print(f\"Total rows: {df_combined.shape[0]}\")\n",
    "print(f\"Total columns: {df_combined.shape[1]}\\n\\n\\n\")\n",
    "\n",
    "current, peak = tracemalloc.get_traced_memory()\n",
    "end_time = time.perf_counter()\n",
    "tracemalloc.stop()\n",
    "\n",
    "execution_time = end_time - start_time\n",
    "throughput = total_rows / execution_time\n",
    "\n",
    "print(\"===================== Performance =====================\\n\")\n",
    "print(f\"Total rows processed: {total_rows}\")\n",
    "print(f\"Code Execution time: {execution_time:.4f} seconds\")\n",
    "print(f\"Throughput: {throughput:.2f} rows per second\")\n",
    "print(f\"Current memory usage: {current / 10**6:.4f} MB\")\n",
    "print(f\"Peak memory usage: {peak / 10**6:.4f} MB\")\n",
    "\n",
    "cpu_usage = psutil.cpu_percent(interval=1)\n",
    "print(f\"CPU usage: {cpu_usage}%\")\n",
    "\n",
    "print(\"=======================================================\")\n",
    "\n",
    "print(\"\\nTotal time for this cell(Including time to display the performance):\")\n"
   ]
  },
  {
   "cell_type": "markdown",
   "metadata": {
    "id": "4lRF6ZqFCk6s"
   },
   "source": [
    "Step 6 : Standardizing Field with Object/String Data Type into Uppercase"
   ]
  },
  {
   "cell_type": "code",
   "execution_count": null,
   "metadata": {
    "colab": {
     "base_uri": "https://localhost:8080/",
     "height": 724
    },
    "id": "OOwjc0YHba7Y",
    "outputId": "31c835fb-7812-4521-8c55-9c6926bda349"
   },
   "outputs": [
    {
     "data": {
      "text/html": [
       "<div><style>\n",
       ".dataframe > thead > tr,\n",
       ".dataframe > tbody > tr {\n",
       "  text-align: right;\n",
       "  white-space: pre-wrap;\n",
       "}\n",
       "</style>\n",
       "<small>shape: (10, 6)</small><table border=\"1\" class=\"dataframe\"><thead><tr><th>Product Name</th><th>Price</th><th>Location</th><th>Quantity Sold</th><th>Total Reviews</th><th>Category</th></tr><tr><td>str</td><td>f64</td><td>str</td><td>str</td><td>str</td><td>str</td></tr></thead><tbody><tr><td>&quot;❣️SAKA GLOWING FOUNDATION SPF …</td><td>3.99</td><td>&quot;PENANG&quot;</td><td>&quot;55 SOLD&quot;</td><td>&quot;(9)&quot;</td><td>&quot;BEAUTY &amp; SKINCARE&quot;</td></tr><tr><td>&quot;BIO-ESSENCE BIO-GOLD 24K&nbsp;&nbsp;RADI…</td><td>3.5</td><td>&quot;JOHOR&quot;</td><td>&quot;46 SOLD&quot;</td><td>&quot;(10)&quot;</td><td>&quot;BEAUTY &amp; SKINCARE&quot;</td></tr><tr><td>&quot;L&#x27;OCCITANE IMMORTELLE DIVINE F…</td><td>1.5</td><td>&quot;SELANGOR&quot;</td><td>&quot;13 SOLD&quot;</td><td>&quot;(1)&quot;</td><td>&quot;BEAUTY &amp; SKINCARE&quot;</td></tr><tr><td>&quot;YOUBUY FRECKLE CREAM EFFECTIVE…</td><td>5.45</td><td>&quot;CHINA&quot;</td><td>&quot;13 SOLD&quot;</td><td>null</td><td>&quot;BEAUTY &amp; SKINCARE&quot;</td></tr><tr><td>&quot;DT37 JOMTAM JOLYUM NICOTIMIDE …</td><td>6.15</td><td>&quot;MELAKA&quot;</td><td>&quot;175 SOLD&quot;</td><td>&quot;(40)&quot;</td><td>&quot;BEAUTY &amp; SKINCARE&quot;</td></tr><tr><td>&quot;❤️88HOME❤️ JOMTAM JOLYUM NICOT…</td><td>6.19</td><td>&quot;MELAKA&quot;</td><td>&quot;29 SOLD&quot;</td><td>&quot;(2)&quot;</td><td>&quot;BEAUTY &amp; SKINCARE&quot;</td></tr><tr><td>&quot;DT37 VEZE MEN&#x27;S VOLCANIC MUD F…</td><td>5.44</td><td>&quot;MELAKA&quot;</td><td>&quot;129 SOLD&quot;</td><td>&quot;(46)&quot;</td><td>&quot;BEAUTY &amp; SKINCARE&quot;</td></tr><tr><td>&quot;NEVEA MEN ROLL ON 500ML&quot;</td><td>5.0</td><td>&quot;WP KUALA LUMPUR&quot;</td><td>&quot;25 SOLD&quot;</td><td>&quot;(4)&quot;</td><td>&quot;BEAUTY &amp; SKINCARE&quot;</td></tr><tr><td>&quot;❤️88HOME❤️ VEZE MEN&#x27;S VOLCANIC…</td><td>5.48</td><td>&quot;MELAKA&quot;</td><td>&quot;41 SOLD&quot;</td><td>&quot;(11)&quot;</td><td>&quot;BEAUTY &amp; SKINCARE&quot;</td></tr><tr><td>&quot;DT37 HYMEY&#x27;S FACIAL CLEANSER C…</td><td>1.53</td><td>&quot;MELAKA&quot;</td><td>&quot;1.3K SOLD&quot;</td><td>&quot;(246)&quot;</td><td>&quot;BEAUTY &amp; SKINCARE&quot;</td></tr></tbody></table></div>"
      ],
      "text/plain": [
       "shape: (10, 6)\n",
       "┌────────────────────┬───────┬─────────────────┬───────────────┬───────────────┬───────────────────┐\n",
       "│ Product Name       ┆ Price ┆ Location        ┆ Quantity Sold ┆ Total Reviews ┆ Category          │\n",
       "│ ---                ┆ ---   ┆ ---             ┆ ---           ┆ ---           ┆ ---               │\n",
       "│ str                ┆ f64   ┆ str             ┆ str           ┆ str           ┆ str               │\n",
       "╞════════════════════╪═══════╪═════════════════╪═══════════════╪═══════════════╪═══════════════════╡\n",
       "│ ❣️SAKA GLOWING     ┆ 3.99  ┆ PENANG          ┆ 55 SOLD       ┆ (9)           ┆ BEAUTY & SKINCARE │\n",
       "│ FOUNDATION SPF …   ┆       ┆                 ┆               ┆               ┆                   │\n",
       "│ BIO-ESSENCE        ┆ 3.5   ┆ JOHOR           ┆ 46 SOLD       ┆ (10)          ┆ BEAUTY & SKINCARE │\n",
       "│ BIO-GOLD 24K       ┆       ┆                 ┆               ┆               ┆                   │\n",
       "│ RADI…              ┆       ┆                 ┆               ┆               ┆                   │\n",
       "│ L'OCCITANE         ┆ 1.5   ┆ SELANGOR        ┆ 13 SOLD       ┆ (1)           ┆ BEAUTY & SKINCARE │\n",
       "│ IMMORTELLE DIVINE  ┆       ┆                 ┆               ┆               ┆                   │\n",
       "│ F…                 ┆       ┆                 ┆               ┆               ┆                   │\n",
       "│ YOUBUY FRECKLE     ┆ 5.45  ┆ CHINA           ┆ 13 SOLD       ┆ null          ┆ BEAUTY & SKINCARE │\n",
       "│ CREAM EFFECTIVE…   ┆       ┆                 ┆               ┆               ┆                   │\n",
       "│ DT37 JOMTAM JOLYUM ┆ 6.15  ┆ MELAKA          ┆ 175 SOLD      ┆ (40)          ┆ BEAUTY & SKINCARE │\n",
       "│ NICOTIMIDE …       ┆       ┆                 ┆               ┆               ┆                   │\n",
       "│ ❤️88HOME❤️ JOMTAM  ┆ 6.19  ┆ MELAKA          ┆ 29 SOLD       ┆ (2)           ┆ BEAUTY & SKINCARE │\n",
       "│ JOLYUM NICOT…      ┆       ┆                 ┆               ┆               ┆                   │\n",
       "│ DT37 VEZE MEN'S    ┆ 5.44  ┆ MELAKA          ┆ 129 SOLD      ┆ (46)          ┆ BEAUTY & SKINCARE │\n",
       "│ VOLCANIC MUD F…    ┆       ┆                 ┆               ┆               ┆                   │\n",
       "│ NEVEA MEN ROLL ON  ┆ 5.0   ┆ WP KUALA LUMPUR ┆ 25 SOLD       ┆ (4)           ┆ BEAUTY & SKINCARE │\n",
       "│ 500ML              ┆       ┆                 ┆               ┆               ┆                   │\n",
       "│ ❤️88HOME❤️ VEZE    ┆ 5.48  ┆ MELAKA          ┆ 41 SOLD       ┆ (11)          ┆ BEAUTY & SKINCARE │\n",
       "│ MEN'S VOLCANIC…    ┆       ┆                 ┆               ┆               ┆                   │\n",
       "│ DT37 HYMEY'S       ┆ 1.53  ┆ MELAKA          ┆ 1.3K SOLD     ┆ (246)         ┆ BEAUTY & SKINCARE │\n",
       "│ FACIAL CLEANSER C… ┆       ┆                 ┆               ┆               ┆                   │\n",
       "└────────────────────┴───────┴─────────────────┴───────────────┴───────────────┴───────────────────┘"
      ]
     },
     "metadata": {},
     "output_type": "display_data"
    },
    {
     "name": "stdout",
     "output_type": "stream",
     "text": [
      "Total rows: 115090\n",
      "Total columns: 6\n",
      "\n",
      "\n",
      "\n",
      "===================== Performance =====================\n",
      "\n",
      "Total rows processed: 115090\n",
      "Code Execution time: 0.0763 seconds\n",
      "Throughput: 1507622.39 rows per second\n",
      "Current memory usage: 0.0114 MB\n",
      "Peak memory usage: 0.0413 MB\n",
      "CPU usage: 4.0%\n",
      "=======================================================\n",
      "\n",
      "Total time for this cell(Including time to display the performance):\n",
      "CPU times: user 91.7 ms, sys: 21.8 ms, total: 113 ms\n",
      "Wall time: 1.08 s\n"
     ]
    }
   ],
   "source": [
    "%%time\n",
    "\n",
    "tracemalloc.start()\n",
    "start_time = time.perf_counter()\n",
    "total_rows = df_combined.shape[0]\n",
    "\n",
    "df_combined = df_combined.with_columns([\n",
    "    pl.col(col).str.to_uppercase().alias(col)\n",
    "    for col, dtype in zip(df_combined.columns, df_combined.dtypes)\n",
    "    if dtype == pl.Utf8\n",
    "])\n",
    "\n",
    "display(df_combined.head(10))\n",
    "print(f\"Total rows: {df_combined.shape[0]}\")\n",
    "print(f\"Total columns: {df_combined.shape[1]}\\n\\n\\n\")\n",
    "\n",
    "current, peak = tracemalloc.get_traced_memory()\n",
    "end_time = time.perf_counter()\n",
    "tracemalloc.stop()\n",
    "\n",
    "execution_time = end_time - start_time\n",
    "throughput = total_rows / execution_time\n",
    "\n",
    "print(\"===================== Performance =====================\\n\")\n",
    "print(f\"Total rows processed: {total_rows}\")\n",
    "print(f\"Code Execution time: {execution_time:.4f} seconds\")\n",
    "print(f\"Throughput: {throughput:.2f} rows per second\")\n",
    "print(f\"Current memory usage: {current / 10**6:.4f} MB\")\n",
    "print(f\"Peak memory usage: {peak / 10**6:.4f} MB\")\n",
    "\n",
    "cpu_usage = psutil.cpu_percent(interval=1)\n",
    "print(f\"CPU usage: {cpu_usage}%\")\n",
    "\n",
    "print(\"=======================================================\")\n",
    "\n",
    "print(\"\\nTotal time for this cell(Including time to display the performance):\")\n"
   ]
  },
  {
   "cell_type": "markdown",
   "metadata": {
    "id": "e8iXfJXRCmdq"
   },
   "source": [
    "Step 7 : Converting 'Total Reviews' into Integer Data Type"
   ]
  },
  {
   "cell_type": "code",
   "execution_count": null,
   "metadata": {
    "colab": {
     "base_uri": "https://localhost:8080/",
     "height": 724
    },
    "id": "-TvRtX83WiXo",
    "outputId": "0587568f-a618-473f-ce92-9728573bd4d7"
   },
   "outputs": [
    {
     "data": {
      "text/html": [
       "<div><style>\n",
       ".dataframe > thead > tr,\n",
       ".dataframe > tbody > tr {\n",
       "  text-align: right;\n",
       "  white-space: pre-wrap;\n",
       "}\n",
       "</style>\n",
       "<small>shape: (10, 6)</small><table border=\"1\" class=\"dataframe\"><thead><tr><th>Product Name</th><th>Price</th><th>Location</th><th>Quantity Sold</th><th>Total Reviews</th><th>Category</th></tr><tr><td>str</td><td>f64</td><td>str</td><td>str</td><td>i64</td><td>str</td></tr></thead><tbody><tr><td>&quot;❣️SAKA GLOWING FOUNDATION SPF …</td><td>3.99</td><td>&quot;PENANG&quot;</td><td>&quot;55 SOLD&quot;</td><td>9</td><td>&quot;BEAUTY &amp; SKINCARE&quot;</td></tr><tr><td>&quot;BIO-ESSENCE BIO-GOLD 24K&nbsp;&nbsp;RADI…</td><td>3.5</td><td>&quot;JOHOR&quot;</td><td>&quot;46 SOLD&quot;</td><td>10</td><td>&quot;BEAUTY &amp; SKINCARE&quot;</td></tr><tr><td>&quot;L&#x27;OCCITANE IMMORTELLE DIVINE F…</td><td>1.5</td><td>&quot;SELANGOR&quot;</td><td>&quot;13 SOLD&quot;</td><td>1</td><td>&quot;BEAUTY &amp; SKINCARE&quot;</td></tr><tr><td>&quot;YOUBUY FRECKLE CREAM EFFECTIVE…</td><td>5.45</td><td>&quot;CHINA&quot;</td><td>&quot;13 SOLD&quot;</td><td>null</td><td>&quot;BEAUTY &amp; SKINCARE&quot;</td></tr><tr><td>&quot;DT37 JOMTAM JOLYUM NICOTIMIDE …</td><td>6.15</td><td>&quot;MELAKA&quot;</td><td>&quot;175 SOLD&quot;</td><td>40</td><td>&quot;BEAUTY &amp; SKINCARE&quot;</td></tr><tr><td>&quot;❤️88HOME❤️ JOMTAM JOLYUM NICOT…</td><td>6.19</td><td>&quot;MELAKA&quot;</td><td>&quot;29 SOLD&quot;</td><td>2</td><td>&quot;BEAUTY &amp; SKINCARE&quot;</td></tr><tr><td>&quot;DT37 VEZE MEN&#x27;S VOLCANIC MUD F…</td><td>5.44</td><td>&quot;MELAKA&quot;</td><td>&quot;129 SOLD&quot;</td><td>46</td><td>&quot;BEAUTY &amp; SKINCARE&quot;</td></tr><tr><td>&quot;NEVEA MEN ROLL ON 500ML&quot;</td><td>5.0</td><td>&quot;WP KUALA LUMPUR&quot;</td><td>&quot;25 SOLD&quot;</td><td>4</td><td>&quot;BEAUTY &amp; SKINCARE&quot;</td></tr><tr><td>&quot;❤️88HOME❤️ VEZE MEN&#x27;S VOLCANIC…</td><td>5.48</td><td>&quot;MELAKA&quot;</td><td>&quot;41 SOLD&quot;</td><td>11</td><td>&quot;BEAUTY &amp; SKINCARE&quot;</td></tr><tr><td>&quot;DT37 HYMEY&#x27;S FACIAL CLEANSER C…</td><td>1.53</td><td>&quot;MELAKA&quot;</td><td>&quot;1.3K SOLD&quot;</td><td>246</td><td>&quot;BEAUTY &amp; SKINCARE&quot;</td></tr></tbody></table></div>"
      ],
      "text/plain": [
       "shape: (10, 6)\n",
       "┌────────────────────┬───────┬─────────────────┬───────────────┬───────────────┬───────────────────┐\n",
       "│ Product Name       ┆ Price ┆ Location        ┆ Quantity Sold ┆ Total Reviews ┆ Category          │\n",
       "│ ---                ┆ ---   ┆ ---             ┆ ---           ┆ ---           ┆ ---               │\n",
       "│ str                ┆ f64   ┆ str             ┆ str           ┆ i64           ┆ str               │\n",
       "╞════════════════════╪═══════╪═════════════════╪═══════════════╪═══════════════╪═══════════════════╡\n",
       "│ ❣️SAKA GLOWING     ┆ 3.99  ┆ PENANG          ┆ 55 SOLD       ┆ 9             ┆ BEAUTY & SKINCARE │\n",
       "│ FOUNDATION SPF …   ┆       ┆                 ┆               ┆               ┆                   │\n",
       "│ BIO-ESSENCE        ┆ 3.5   ┆ JOHOR           ┆ 46 SOLD       ┆ 10            ┆ BEAUTY & SKINCARE │\n",
       "│ BIO-GOLD 24K       ┆       ┆                 ┆               ┆               ┆                   │\n",
       "│ RADI…              ┆       ┆                 ┆               ┆               ┆                   │\n",
       "│ L'OCCITANE         ┆ 1.5   ┆ SELANGOR        ┆ 13 SOLD       ┆ 1             ┆ BEAUTY & SKINCARE │\n",
       "│ IMMORTELLE DIVINE  ┆       ┆                 ┆               ┆               ┆                   │\n",
       "│ F…                 ┆       ┆                 ┆               ┆               ┆                   │\n",
       "│ YOUBUY FRECKLE     ┆ 5.45  ┆ CHINA           ┆ 13 SOLD       ┆ null          ┆ BEAUTY & SKINCARE │\n",
       "│ CREAM EFFECTIVE…   ┆       ┆                 ┆               ┆               ┆                   │\n",
       "│ DT37 JOMTAM JOLYUM ┆ 6.15  ┆ MELAKA          ┆ 175 SOLD      ┆ 40            ┆ BEAUTY & SKINCARE │\n",
       "│ NICOTIMIDE …       ┆       ┆                 ┆               ┆               ┆                   │\n",
       "│ ❤️88HOME❤️ JOMTAM  ┆ 6.19  ┆ MELAKA          ┆ 29 SOLD       ┆ 2             ┆ BEAUTY & SKINCARE │\n",
       "│ JOLYUM NICOT…      ┆       ┆                 ┆               ┆               ┆                   │\n",
       "│ DT37 VEZE MEN'S    ┆ 5.44  ┆ MELAKA          ┆ 129 SOLD      ┆ 46            ┆ BEAUTY & SKINCARE │\n",
       "│ VOLCANIC MUD F…    ┆       ┆                 ┆               ┆               ┆                   │\n",
       "│ NEVEA MEN ROLL ON  ┆ 5.0   ┆ WP KUALA LUMPUR ┆ 25 SOLD       ┆ 4             ┆ BEAUTY & SKINCARE │\n",
       "│ 500ML              ┆       ┆                 ┆               ┆               ┆                   │\n",
       "│ ❤️88HOME❤️ VEZE    ┆ 5.48  ┆ MELAKA          ┆ 41 SOLD       ┆ 11            ┆ BEAUTY & SKINCARE │\n",
       "│ MEN'S VOLCANIC…    ┆       ┆                 ┆               ┆               ┆                   │\n",
       "│ DT37 HYMEY'S       ┆ 1.53  ┆ MELAKA          ┆ 1.3K SOLD     ┆ 246           ┆ BEAUTY & SKINCARE │\n",
       "│ FACIAL CLEANSER C… ┆       ┆                 ┆               ┆               ┆                   │\n",
       "└────────────────────┴───────┴─────────────────┴───────────────┴───────────────┴───────────────────┘"
      ]
     },
     "metadata": {},
     "output_type": "display_data"
    },
    {
     "name": "stdout",
     "output_type": "stream",
     "text": [
      "Total rows: 115090\n",
      "Total columns: 6\n",
      "\n",
      "\n",
      "\n",
      "===================== Performance =====================\n",
      "\n",
      "Total rows processed: 115090\n",
      "Code Execution time: 0.0359 seconds\n",
      "Throughput: 3204506.72 rows per second\n",
      "Current memory usage: 0.0106 MB\n",
      "Peak memory usage: 0.0398 MB\n",
      "CPU usage: 4.5%\n",
      "=======================================================\n",
      "\n",
      "Total time for this cell(Including time to display the performance):\n",
      "CPU times: user 39.7 ms, sys: 3.08 ms, total: 42.8 ms\n",
      "Wall time: 1.04 s\n"
     ]
    }
   ],
   "source": [
    "%%time\n",
    "\n",
    "tracemalloc.start()\n",
    "start_time = time.perf_counter()\n",
    "total_rows = df_combined.shape[0]\n",
    "\n",
    "df_combined = df_combined.with_columns([\n",
    "    pl.col(\"Total Reviews\")\n",
    "      .str.replace_all(r\"[^\\d]\", \"\")\n",
    "      .cast(pl.Int64)\n",
    "      .alias(\"Total Reviews\")\n",
    "])\n",
    "\n",
    "display(df_combined.head(10))\n",
    "print(f\"Total rows: {df_combined.shape[0]}\")\n",
    "print(f\"Total columns: {df_combined.shape[1]}\\n\\n\\n\")\n",
    "\n",
    "current, peak = tracemalloc.get_traced_memory()\n",
    "end_time = time.perf_counter()\n",
    "tracemalloc.stop()\n",
    "\n",
    "execution_time = end_time - start_time\n",
    "throughput = total_rows / execution_time\n",
    "\n",
    "print(\"===================== Performance =====================\\n\")\n",
    "print(f\"Total rows processed: {total_rows}\")\n",
    "print(f\"Code Execution time: {execution_time:.4f} seconds\")\n",
    "print(f\"Throughput: {throughput:.2f} rows per second\")\n",
    "print(f\"Current memory usage: {current / 10**6:.4f} MB\")\n",
    "print(f\"Peak memory usage: {peak / 10**6:.4f} MB\")\n",
    "\n",
    "cpu_usage = psutil.cpu_percent(interval=1)\n",
    "print(f\"CPU usage: {cpu_usage}%\")\n",
    "\n",
    "print(\"=======================================================\")\n",
    "\n",
    "print(\"\\nTotal time for this cell(Including time to display the performance):\")\n"
   ]
  },
  {
   "cell_type": "markdown",
   "metadata": {
    "id": "y0XERkisCuHS"
   },
   "source": [
    "Step 8 : Converting 'Quatity Sold' into Integer Data Type"
   ]
  },
  {
   "cell_type": "code",
   "execution_count": null,
   "metadata": {
    "colab": {
     "base_uri": "https://localhost:8080/",
     "height": 1000
    },
    "id": "Ysye02s8g_Dc",
    "outputId": "0390292f-59d2-42a8-8fbc-c3f61289cb4d"
   },
   "outputs": [
    {
     "data": {
      "text/html": [
       "<div><style>\n",
       ".dataframe > thead > tr,\n",
       ".dataframe > tbody > tr {\n",
       "  text-align: right;\n",
       "  white-space: pre-wrap;\n",
       "}\n",
       "</style>\n",
       "<small>shape: (10, 6)</small><table border=\"1\" class=\"dataframe\"><thead><tr><th>Product Name</th><th>Price</th><th>Location</th><th>Quantity Sold</th><th>Total Reviews</th><th>Category</th></tr><tr><td>str</td><td>f64</td><td>str</td><td>str</td><td>i64</td><td>str</td></tr></thead><tbody><tr><td>&quot;❣️SAKA GLOWING FOUNDATION SPF …</td><td>3.99</td><td>&quot;PENANG&quot;</td><td>&quot;55&quot;</td><td>9</td><td>&quot;BEAUTY &amp; SKINCARE&quot;</td></tr><tr><td>&quot;BIO-ESSENCE BIO-GOLD 24K&nbsp;&nbsp;RADI…</td><td>3.5</td><td>&quot;JOHOR&quot;</td><td>&quot;46&quot;</td><td>10</td><td>&quot;BEAUTY &amp; SKINCARE&quot;</td></tr><tr><td>&quot;L&#x27;OCCITANE IMMORTELLE DIVINE F…</td><td>1.5</td><td>&quot;SELANGOR&quot;</td><td>&quot;13&quot;</td><td>1</td><td>&quot;BEAUTY &amp; SKINCARE&quot;</td></tr><tr><td>&quot;YOUBUY FRECKLE CREAM EFFECTIVE…</td><td>5.45</td><td>&quot;CHINA&quot;</td><td>&quot;13&quot;</td><td>null</td><td>&quot;BEAUTY &amp; SKINCARE&quot;</td></tr><tr><td>&quot;DT37 JOMTAM JOLYUM NICOTIMIDE …</td><td>6.15</td><td>&quot;MELAKA&quot;</td><td>&quot;175&quot;</td><td>40</td><td>&quot;BEAUTY &amp; SKINCARE&quot;</td></tr><tr><td>&quot;❤️88HOME❤️ JOMTAM JOLYUM NICOT…</td><td>6.19</td><td>&quot;MELAKA&quot;</td><td>&quot;29&quot;</td><td>2</td><td>&quot;BEAUTY &amp; SKINCARE&quot;</td></tr><tr><td>&quot;DT37 VEZE MEN&#x27;S VOLCANIC MUD F…</td><td>5.44</td><td>&quot;MELAKA&quot;</td><td>&quot;129&quot;</td><td>46</td><td>&quot;BEAUTY &amp; SKINCARE&quot;</td></tr><tr><td>&quot;NEVEA MEN ROLL ON 500ML&quot;</td><td>5.0</td><td>&quot;WP KUALA LUMPUR&quot;</td><td>&quot;25&quot;</td><td>4</td><td>&quot;BEAUTY &amp; SKINCARE&quot;</td></tr><tr><td>&quot;❤️88HOME❤️ VEZE MEN&#x27;S VOLCANIC…</td><td>5.48</td><td>&quot;MELAKA&quot;</td><td>&quot;41&quot;</td><td>11</td><td>&quot;BEAUTY &amp; SKINCARE&quot;</td></tr><tr><td>&quot;DT37 HYMEY&#x27;S FACIAL CLEANSER C…</td><td>1.53</td><td>&quot;MELAKA&quot;</td><td>&quot;1.3K&quot;</td><td>246</td><td>&quot;BEAUTY &amp; SKINCARE&quot;</td></tr></tbody></table></div>"
      ],
      "text/plain": [
       "shape: (10, 6)\n",
       "┌────────────────────┬───────┬─────────────────┬───────────────┬───────────────┬───────────────────┐\n",
       "│ Product Name       ┆ Price ┆ Location        ┆ Quantity Sold ┆ Total Reviews ┆ Category          │\n",
       "│ ---                ┆ ---   ┆ ---             ┆ ---           ┆ ---           ┆ ---               │\n",
       "│ str                ┆ f64   ┆ str             ┆ str           ┆ i64           ┆ str               │\n",
       "╞════════════════════╪═══════╪═════════════════╪═══════════════╪═══════════════╪═══════════════════╡\n",
       "│ ❣️SAKA GLOWING     ┆ 3.99  ┆ PENANG          ┆ 55            ┆ 9             ┆ BEAUTY & SKINCARE │\n",
       "│ FOUNDATION SPF …   ┆       ┆                 ┆               ┆               ┆                   │\n",
       "│ BIO-ESSENCE        ┆ 3.5   ┆ JOHOR           ┆ 46            ┆ 10            ┆ BEAUTY & SKINCARE │\n",
       "│ BIO-GOLD 24K       ┆       ┆                 ┆               ┆               ┆                   │\n",
       "│ RADI…              ┆       ┆                 ┆               ┆               ┆                   │\n",
       "│ L'OCCITANE         ┆ 1.5   ┆ SELANGOR        ┆ 13            ┆ 1             ┆ BEAUTY & SKINCARE │\n",
       "│ IMMORTELLE DIVINE  ┆       ┆                 ┆               ┆               ┆                   │\n",
       "│ F…                 ┆       ┆                 ┆               ┆               ┆                   │\n",
       "│ YOUBUY FRECKLE     ┆ 5.45  ┆ CHINA           ┆ 13            ┆ null          ┆ BEAUTY & SKINCARE │\n",
       "│ CREAM EFFECTIVE…   ┆       ┆                 ┆               ┆               ┆                   │\n",
       "│ DT37 JOMTAM JOLYUM ┆ 6.15  ┆ MELAKA          ┆ 175           ┆ 40            ┆ BEAUTY & SKINCARE │\n",
       "│ NICOTIMIDE …       ┆       ┆                 ┆               ┆               ┆                   │\n",
       "│ ❤️88HOME❤️ JOMTAM  ┆ 6.19  ┆ MELAKA          ┆ 29            ┆ 2             ┆ BEAUTY & SKINCARE │\n",
       "│ JOLYUM NICOT…      ┆       ┆                 ┆               ┆               ┆                   │\n",
       "│ DT37 VEZE MEN'S    ┆ 5.44  ┆ MELAKA          ┆ 129           ┆ 46            ┆ BEAUTY & SKINCARE │\n",
       "│ VOLCANIC MUD F…    ┆       ┆                 ┆               ┆               ┆                   │\n",
       "│ NEVEA MEN ROLL ON  ┆ 5.0   ┆ WP KUALA LUMPUR ┆ 25            ┆ 4             ┆ BEAUTY & SKINCARE │\n",
       "│ 500ML              ┆       ┆                 ┆               ┆               ┆                   │\n",
       "│ ❤️88HOME❤️ VEZE    ┆ 5.48  ┆ MELAKA          ┆ 41            ┆ 11            ┆ BEAUTY & SKINCARE │\n",
       "│ MEN'S VOLCANIC…    ┆       ┆                 ┆               ┆               ┆                   │\n",
       "│ DT37 HYMEY'S       ┆ 1.53  ┆ MELAKA          ┆ 1.3K          ┆ 246           ┆ BEAUTY & SKINCARE │\n",
       "│ FACIAL CLEANSER C… ┆       ┆                 ┆               ┆               ┆                   │\n",
       "└────────────────────┴───────┴─────────────────┴───────────────┴───────────────┴───────────────────┘"
      ]
     },
     "metadata": {},
     "output_type": "display_data"
    },
    {
     "name": "stdout",
     "output_type": "stream",
     "text": [
      "Total rows: 115090\n",
      "Total columns: 6\n",
      "\n",
      "\n",
      "Unique alphabetic characters found: ['K']\n"
     ]
    },
    {
     "data": {
      "text/html": [
       "<div><style>\n",
       ".dataframe > thead > tr,\n",
       ".dataframe > tbody > tr {\n",
       "  text-align: right;\n",
       "  white-space: pre-wrap;\n",
       "}\n",
       "</style>\n",
       "<small>shape: (10, 6)</small><table border=\"1\" class=\"dataframe\"><thead><tr><th>Product Name</th><th>Price</th><th>Location</th><th>Quantity Sold</th><th>Total Reviews</th><th>Category</th></tr><tr><td>str</td><td>f64</td><td>str</td><td>i64</td><td>i64</td><td>str</td></tr></thead><tbody><tr><td>&quot;❣️SAKA GLOWING FOUNDATION SPF …</td><td>3.99</td><td>&quot;PENANG&quot;</td><td>55</td><td>9</td><td>&quot;BEAUTY &amp; SKINCARE&quot;</td></tr><tr><td>&quot;BIO-ESSENCE BIO-GOLD 24K&nbsp;&nbsp;RADI…</td><td>3.5</td><td>&quot;JOHOR&quot;</td><td>46</td><td>10</td><td>&quot;BEAUTY &amp; SKINCARE&quot;</td></tr><tr><td>&quot;L&#x27;OCCITANE IMMORTELLE DIVINE F…</td><td>1.5</td><td>&quot;SELANGOR&quot;</td><td>13</td><td>1</td><td>&quot;BEAUTY &amp; SKINCARE&quot;</td></tr><tr><td>&quot;YOUBUY FRECKLE CREAM EFFECTIVE…</td><td>5.45</td><td>&quot;CHINA&quot;</td><td>13</td><td>null</td><td>&quot;BEAUTY &amp; SKINCARE&quot;</td></tr><tr><td>&quot;DT37 JOMTAM JOLYUM NICOTIMIDE …</td><td>6.15</td><td>&quot;MELAKA&quot;</td><td>175</td><td>40</td><td>&quot;BEAUTY &amp; SKINCARE&quot;</td></tr><tr><td>&quot;❤️88HOME❤️ JOMTAM JOLYUM NICOT…</td><td>6.19</td><td>&quot;MELAKA&quot;</td><td>29</td><td>2</td><td>&quot;BEAUTY &amp; SKINCARE&quot;</td></tr><tr><td>&quot;DT37 VEZE MEN&#x27;S VOLCANIC MUD F…</td><td>5.44</td><td>&quot;MELAKA&quot;</td><td>129</td><td>46</td><td>&quot;BEAUTY &amp; SKINCARE&quot;</td></tr><tr><td>&quot;NEVEA MEN ROLL ON 500ML&quot;</td><td>5.0</td><td>&quot;WP KUALA LUMPUR&quot;</td><td>25</td><td>4</td><td>&quot;BEAUTY &amp; SKINCARE&quot;</td></tr><tr><td>&quot;❤️88HOME❤️ VEZE MEN&#x27;S VOLCANIC…</td><td>5.48</td><td>&quot;MELAKA&quot;</td><td>41</td><td>11</td><td>&quot;BEAUTY &amp; SKINCARE&quot;</td></tr><tr><td>&quot;DT37 HYMEY&#x27;S FACIAL CLEANSER C…</td><td>1.53</td><td>&quot;MELAKA&quot;</td><td>1300</td><td>246</td><td>&quot;BEAUTY &amp; SKINCARE&quot;</td></tr></tbody></table></div>"
      ],
      "text/plain": [
       "shape: (10, 6)\n",
       "┌────────────────────┬───────┬─────────────────┬───────────────┬───────────────┬───────────────────┐\n",
       "│ Product Name       ┆ Price ┆ Location        ┆ Quantity Sold ┆ Total Reviews ┆ Category          │\n",
       "│ ---                ┆ ---   ┆ ---             ┆ ---           ┆ ---           ┆ ---               │\n",
       "│ str                ┆ f64   ┆ str             ┆ i64           ┆ i64           ┆ str               │\n",
       "╞════════════════════╪═══════╪═════════════════╪═══════════════╪═══════════════╪═══════════════════╡\n",
       "│ ❣️SAKA GLOWING     ┆ 3.99  ┆ PENANG          ┆ 55            ┆ 9             ┆ BEAUTY & SKINCARE │\n",
       "│ FOUNDATION SPF …   ┆       ┆                 ┆               ┆               ┆                   │\n",
       "│ BIO-ESSENCE        ┆ 3.5   ┆ JOHOR           ┆ 46            ┆ 10            ┆ BEAUTY & SKINCARE │\n",
       "│ BIO-GOLD 24K       ┆       ┆                 ┆               ┆               ┆                   │\n",
       "│ RADI…              ┆       ┆                 ┆               ┆               ┆                   │\n",
       "│ L'OCCITANE         ┆ 1.5   ┆ SELANGOR        ┆ 13            ┆ 1             ┆ BEAUTY & SKINCARE │\n",
       "│ IMMORTELLE DIVINE  ┆       ┆                 ┆               ┆               ┆                   │\n",
       "│ F…                 ┆       ┆                 ┆               ┆               ┆                   │\n",
       "│ YOUBUY FRECKLE     ┆ 5.45  ┆ CHINA           ┆ 13            ┆ null          ┆ BEAUTY & SKINCARE │\n",
       "│ CREAM EFFECTIVE…   ┆       ┆                 ┆               ┆               ┆                   │\n",
       "│ DT37 JOMTAM JOLYUM ┆ 6.15  ┆ MELAKA          ┆ 175           ┆ 40            ┆ BEAUTY & SKINCARE │\n",
       "│ NICOTIMIDE …       ┆       ┆                 ┆               ┆               ┆                   │\n",
       "│ ❤️88HOME❤️ JOMTAM  ┆ 6.19  ┆ MELAKA          ┆ 29            ┆ 2             ┆ BEAUTY & SKINCARE │\n",
       "│ JOLYUM NICOT…      ┆       ┆                 ┆               ┆               ┆                   │\n",
       "│ DT37 VEZE MEN'S    ┆ 5.44  ┆ MELAKA          ┆ 129           ┆ 46            ┆ BEAUTY & SKINCARE │\n",
       "│ VOLCANIC MUD F…    ┆       ┆                 ┆               ┆               ┆                   │\n",
       "│ NEVEA MEN ROLL ON  ┆ 5.0   ┆ WP KUALA LUMPUR ┆ 25            ┆ 4             ┆ BEAUTY & SKINCARE │\n",
       "│ 500ML              ┆       ┆                 ┆               ┆               ┆                   │\n",
       "│ ❤️88HOME❤️ VEZE    ┆ 5.48  ┆ MELAKA          ┆ 41            ┆ 11            ┆ BEAUTY & SKINCARE │\n",
       "│ MEN'S VOLCANIC…    ┆       ┆                 ┆               ┆               ┆                   │\n",
       "│ DT37 HYMEY'S       ┆ 1.53  ┆ MELAKA          ┆ 1300          ┆ 246           ┆ BEAUTY & SKINCARE │\n",
       "│ FACIAL CLEANSER C… ┆       ┆                 ┆               ┆               ┆                   │\n",
       "└────────────────────┴───────┴─────────────────┴───────────────┴───────────────┴───────────────────┘"
      ]
     },
     "metadata": {},
     "output_type": "display_data"
    },
    {
     "name": "stdout",
     "output_type": "stream",
     "text": [
      "Total rows: 115090\n",
      "Total columns: 6\n",
      "\n",
      "\n",
      "\n",
      "\n",
      "===================== Performance =====================\n",
      "\n",
      "Total rows processed: 115090\n",
      "Code Execution time: 0.1205 seconds\n",
      "Throughput: 955122.88 rows per second\n",
      "Current memory usage: 0.0490 MB\n",
      "Peak memory usage: 0.3903 MB\n",
      "CPU usage: 4.0%\n",
      "=======================================================\n",
      "\n",
      "Total time for this cell(Including time to display the performance):\n",
      "CPU times: user 83.6 ms, sys: 7.92 ms, total: 91.5 ms\n",
      "Wall time: 1.12 s\n"
     ]
    }
   ],
   "source": [
    "%%time\n",
    "\n",
    "tracemalloc.start()\n",
    "start_time = time.perf_counter()\n",
    "total_rows = df_combined.shape[0]\n",
    "\n",
    "df_combined = df_combined.with_columns([\n",
    "    pl.col(\"Quantity Sold\")\n",
    "      .str.replace_all(\"SOLD\", \"\")\n",
    "      .str.strip_chars()\n",
    "      .alias(\"Quantity Sold\")\n",
    "])\n",
    "\n",
    "display(df_combined.head(10))\n",
    "print(f\"Total rows: {df_combined.shape[0]}\")\n",
    "print(f\"Total columns: {df_combined.shape[1]}\")\n",
    "print(\"\\n\")\n",
    "\n",
    "has_alpha = df_combined.filter(\n",
    "    pl.col(\"Quantity Sold\").str.contains(r\"[A-Z]\")\n",
    ")\n",
    "\n",
    "text = \" \".join(has_alpha[\"Quantity Sold\"].to_list())\n",
    "unique_letters = sorted(set(re.findall(r\"[A-Z]\", text)))\n",
    "\n",
    "print(\"Unique alphabetic characters found:\", unique_letters)\n",
    "\n",
    "df_combined = df_combined.with_columns([\n",
    "    pl.when(pl.col(\"Quantity Sold\").str.contains(\"K\"))\n",
    "      .then(\n",
    "          pl.col(\"Quantity Sold\")\n",
    "            .str.replace_all(\"K\", \"\")\n",
    "            .str.replace_all(r\"[^\\d\\.]\", \"\")\n",
    "            .cast(pl.Float64) * 1000\n",
    "      )\n",
    "      .otherwise(\n",
    "          pl.col(\"Quantity Sold\")\n",
    "            .str.replace_all(r\"[^\\d]\", \"\")\n",
    "            .cast(pl.Float64)\n",
    "      )\n",
    "      .cast(pl.Int64)\n",
    "      .alias(\"Quantity Sold\")\n",
    "])\n",
    "\n",
    "display(df_combined.head(10))\n",
    "print(f\"Total rows: {df_combined.shape[0]}\")\n",
    "print(f\"Total columns: {df_combined.shape[1]}\")\n",
    "print(\"\\n\\n\\n\")\n",
    "\n",
    "current, peak = tracemalloc.get_traced_memory()\n",
    "end_time = time.perf_counter()\n",
    "tracemalloc.stop()\n",
    "\n",
    "execution_time = end_time - start_time\n",
    "throughput = total_rows / execution_time\n",
    "\n",
    "print(\"===================== Performance =====================\\n\")\n",
    "print(f\"Total rows processed: {total_rows}\")\n",
    "print(f\"Code Execution time: {execution_time:.4f} seconds\")\n",
    "print(f\"Throughput: {throughput:.2f} rows per second\")\n",
    "print(f\"Current memory usage: {current / 10**6:.4f} MB\")\n",
    "print(f\"Peak memory usage: {peak / 10**6:.4f} MB\")\n",
    "\n",
    "cpu_usage = psutil.cpu_percent(interval=1)\n",
    "print(f\"CPU usage: {cpu_usage}%\")\n",
    "\n",
    "print(\"=======================================================\")\n",
    "\n",
    "print(\"\\nTotal time for this cell(Including time to display the performance):\")\n"
   ]
  },
  {
   "cell_type": "markdown",
   "metadata": {
    "id": "ql9f4xz-C0G7"
   },
   "source": [
    "Step 9 : Checking and Handling Missing Values by Replacing 0 for Numeric Fields and N/A for String/Object Fields"
   ]
  },
  {
   "cell_type": "code",
   "execution_count": null,
   "metadata": {
    "colab": {
     "base_uri": "https://localhost:8080/",
     "height": 1000
    },
    "id": "OR8M5eZ5zQAa",
    "outputId": "968701d1-2282-4f74-c7ee-596cb0874840"
   },
   "outputs": [
    {
     "name": "stdout",
     "output_type": "stream",
     "text": [
      "Initial Dataset:\n"
     ]
    },
    {
     "data": {
      "text/html": [
       "<div><style>\n",
       ".dataframe > thead > tr,\n",
       ".dataframe > tbody > tr {\n",
       "  text-align: right;\n",
       "  white-space: pre-wrap;\n",
       "}\n",
       "</style>\n",
       "<small>shape: (10, 6)</small><table border=\"1\" class=\"dataframe\"><thead><tr><th>Product Name</th><th>Price</th><th>Location</th><th>Quantity Sold</th><th>Total Reviews</th><th>Category</th></tr><tr><td>str</td><td>f64</td><td>str</td><td>i64</td><td>i64</td><td>str</td></tr></thead><tbody><tr><td>&quot;❣️SAKA GLOWING FOUNDATION SPF …</td><td>3.99</td><td>&quot;PENANG&quot;</td><td>55</td><td>9</td><td>&quot;BEAUTY &amp; SKINCARE&quot;</td></tr><tr><td>&quot;BIO-ESSENCE BIO-GOLD 24K&nbsp;&nbsp;RADI…</td><td>3.5</td><td>&quot;JOHOR&quot;</td><td>46</td><td>10</td><td>&quot;BEAUTY &amp; SKINCARE&quot;</td></tr><tr><td>&quot;L&#x27;OCCITANE IMMORTELLE DIVINE F…</td><td>1.5</td><td>&quot;SELANGOR&quot;</td><td>13</td><td>1</td><td>&quot;BEAUTY &amp; SKINCARE&quot;</td></tr><tr><td>&quot;YOUBUY FRECKLE CREAM EFFECTIVE…</td><td>5.45</td><td>&quot;CHINA&quot;</td><td>13</td><td>null</td><td>&quot;BEAUTY &amp; SKINCARE&quot;</td></tr><tr><td>&quot;DT37 JOMTAM JOLYUM NICOTIMIDE …</td><td>6.15</td><td>&quot;MELAKA&quot;</td><td>175</td><td>40</td><td>&quot;BEAUTY &amp; SKINCARE&quot;</td></tr><tr><td>&quot;❤️88HOME❤️ JOMTAM JOLYUM NICOT…</td><td>6.19</td><td>&quot;MELAKA&quot;</td><td>29</td><td>2</td><td>&quot;BEAUTY &amp; SKINCARE&quot;</td></tr><tr><td>&quot;DT37 VEZE MEN&#x27;S VOLCANIC MUD F…</td><td>5.44</td><td>&quot;MELAKA&quot;</td><td>129</td><td>46</td><td>&quot;BEAUTY &amp; SKINCARE&quot;</td></tr><tr><td>&quot;NEVEA MEN ROLL ON 500ML&quot;</td><td>5.0</td><td>&quot;WP KUALA LUMPUR&quot;</td><td>25</td><td>4</td><td>&quot;BEAUTY &amp; SKINCARE&quot;</td></tr><tr><td>&quot;❤️88HOME❤️ VEZE MEN&#x27;S VOLCANIC…</td><td>5.48</td><td>&quot;MELAKA&quot;</td><td>41</td><td>11</td><td>&quot;BEAUTY &amp; SKINCARE&quot;</td></tr><tr><td>&quot;DT37 HYMEY&#x27;S FACIAL CLEANSER C…</td><td>1.53</td><td>&quot;MELAKA&quot;</td><td>1300</td><td>246</td><td>&quot;BEAUTY &amp; SKINCARE&quot;</td></tr></tbody></table></div>"
      ],
      "text/plain": [
       "shape: (10, 6)\n",
       "┌────────────────────┬───────┬─────────────────┬───────────────┬───────────────┬───────────────────┐\n",
       "│ Product Name       ┆ Price ┆ Location        ┆ Quantity Sold ┆ Total Reviews ┆ Category          │\n",
       "│ ---                ┆ ---   ┆ ---             ┆ ---           ┆ ---           ┆ ---               │\n",
       "│ str                ┆ f64   ┆ str             ┆ i64           ┆ i64           ┆ str               │\n",
       "╞════════════════════╪═══════╪═════════════════╪═══════════════╪═══════════════╪═══════════════════╡\n",
       "│ ❣️SAKA GLOWING     ┆ 3.99  ┆ PENANG          ┆ 55            ┆ 9             ┆ BEAUTY & SKINCARE │\n",
       "│ FOUNDATION SPF …   ┆       ┆                 ┆               ┆               ┆                   │\n",
       "│ BIO-ESSENCE        ┆ 3.5   ┆ JOHOR           ┆ 46            ┆ 10            ┆ BEAUTY & SKINCARE │\n",
       "│ BIO-GOLD 24K       ┆       ┆                 ┆               ┆               ┆                   │\n",
       "│ RADI…              ┆       ┆                 ┆               ┆               ┆                   │\n",
       "│ L'OCCITANE         ┆ 1.5   ┆ SELANGOR        ┆ 13            ┆ 1             ┆ BEAUTY & SKINCARE │\n",
       "│ IMMORTELLE DIVINE  ┆       ┆                 ┆               ┆               ┆                   │\n",
       "│ F…                 ┆       ┆                 ┆               ┆               ┆                   │\n",
       "│ YOUBUY FRECKLE     ┆ 5.45  ┆ CHINA           ┆ 13            ┆ null          ┆ BEAUTY & SKINCARE │\n",
       "│ CREAM EFFECTIVE…   ┆       ┆                 ┆               ┆               ┆                   │\n",
       "│ DT37 JOMTAM JOLYUM ┆ 6.15  ┆ MELAKA          ┆ 175           ┆ 40            ┆ BEAUTY & SKINCARE │\n",
       "│ NICOTIMIDE …       ┆       ┆                 ┆               ┆               ┆                   │\n",
       "│ ❤️88HOME❤️ JOMTAM  ┆ 6.19  ┆ MELAKA          ┆ 29            ┆ 2             ┆ BEAUTY & SKINCARE │\n",
       "│ JOLYUM NICOT…      ┆       ┆                 ┆               ┆               ┆                   │\n",
       "│ DT37 VEZE MEN'S    ┆ 5.44  ┆ MELAKA          ┆ 129           ┆ 46            ┆ BEAUTY & SKINCARE │\n",
       "│ VOLCANIC MUD F…    ┆       ┆                 ┆               ┆               ┆                   │\n",
       "│ NEVEA MEN ROLL ON  ┆ 5.0   ┆ WP KUALA LUMPUR ┆ 25            ┆ 4             ┆ BEAUTY & SKINCARE │\n",
       "│ 500ML              ┆       ┆                 ┆               ┆               ┆                   │\n",
       "│ ❤️88HOME❤️ VEZE    ┆ 5.48  ┆ MELAKA          ┆ 41            ┆ 11            ┆ BEAUTY & SKINCARE │\n",
       "│ MEN'S VOLCANIC…    ┆       ┆                 ┆               ┆               ┆                   │\n",
       "│ DT37 HYMEY'S       ┆ 1.53  ┆ MELAKA          ┆ 1300          ┆ 246           ┆ BEAUTY & SKINCARE │\n",
       "│ FACIAL CLEANSER C… ┆       ┆                 ┆               ┆               ┆                   │\n",
       "└────────────────────┴───────┴─────────────────┴───────────────┴───────────────┴───────────────────┘"
      ]
     },
     "metadata": {},
     "output_type": "display_data"
    },
    {
     "name": "stdout",
     "output_type": "stream",
     "text": [
      "Before Handle Missing Values\n",
      "Number of Missing Values for Each Column:\n"
     ]
    },
    {
     "data": {
      "text/html": [
       "<div><style>\n",
       ".dataframe > thead > tr,\n",
       ".dataframe > tbody > tr {\n",
       "  text-align: right;\n",
       "  white-space: pre-wrap;\n",
       "}\n",
       "</style>\n",
       "<small>shape: (1, 6)</small><table border=\"1\" class=\"dataframe\"><thead><tr><th>Product Name_missing</th><th>Price_missing</th><th>Location_missing</th><th>Quantity Sold_missing</th><th>Total Reviews_missing</th><th>Category_missing</th></tr><tr><td>u32</td><td>u32</td><td>u32</td><td>u32</td><td>u32</td><td>u32</td></tr></thead><tbody><tr><td>2</td><td>0</td><td>13517</td><td>45566</td><td>50958</td><td>0</td></tr></tbody></table></div>"
      ],
      "text/plain": [
       "shape: (1, 6)\n",
       "┌────────────────┬───────────────┬────────────────┬────────────────┬───────────────┬───────────────┐\n",
       "│ Product        ┆ Price_missing ┆ Location_missi ┆ Quantity       ┆ Total Reviews ┆ Category_miss │\n",
       "│ Name_missing   ┆ ---           ┆ ng             ┆ Sold_missing   ┆ _missing      ┆ ing           │\n",
       "│ ---            ┆ u32           ┆ ---            ┆ ---            ┆ ---           ┆ ---           │\n",
       "│ u32            ┆               ┆ u32            ┆ u32            ┆ u32           ┆ u32           │\n",
       "╞════════════════╪═══════════════╪════════════════╪════════════════╪═══════════════╪═══════════════╡\n",
       "│ 2              ┆ 0             ┆ 13517          ┆ 45566          ┆ 50958         ┆ 0             │\n",
       "└────────────────┴───────────────┴────────────────┴────────────────┴───────────────┴───────────────┘"
      ]
     },
     "metadata": {},
     "output_type": "display_data"
    },
    {
     "name": "stdout",
     "output_type": "stream",
     "text": [
      "\n",
      "After Handle Missing Values\n",
      "Number of Missing Values for Each Column:\n"
     ]
    },
    {
     "data": {
      "text/html": [
       "<div><style>\n",
       ".dataframe > thead > tr,\n",
       ".dataframe > tbody > tr {\n",
       "  text-align: right;\n",
       "  white-space: pre-wrap;\n",
       "}\n",
       "</style>\n",
       "<small>shape: (1, 6)</small><table border=\"1\" class=\"dataframe\"><thead><tr><th>Product Name_missing</th><th>Price_missing</th><th>Location_missing</th><th>Quantity Sold_missing</th><th>Total Reviews_missing</th><th>Category_missing</th></tr><tr><td>u32</td><td>u32</td><td>u32</td><td>u32</td><td>u32</td><td>u32</td></tr></thead><tbody><tr><td>0</td><td>0</td><td>0</td><td>0</td><td>0</td><td>0</td></tr></tbody></table></div>"
      ],
      "text/plain": [
       "shape: (1, 6)\n",
       "┌────────────────┬───────────────┬────────────────┬────────────────┬───────────────┬───────────────┐\n",
       "│ Product        ┆ Price_missing ┆ Location_missi ┆ Quantity       ┆ Total Reviews ┆ Category_miss │\n",
       "│ Name_missing   ┆ ---           ┆ ng             ┆ Sold_missing   ┆ _missing      ┆ ing           │\n",
       "│ ---            ┆ u32           ┆ ---            ┆ ---            ┆ ---           ┆ ---           │\n",
       "│ u32            ┆               ┆ u32            ┆ u32            ┆ u32           ┆ u32           │\n",
       "╞════════════════╪═══════════════╪════════════════╪════════════════╪═══════════════╪═══════════════╡\n",
       "│ 0              ┆ 0             ┆ 0              ┆ 0              ┆ 0             ┆ 0             │\n",
       "└────────────────┴───────────────┴────────────────┴────────────────┴───────────────┴───────────────┘"
      ]
     },
     "metadata": {},
     "output_type": "display_data"
    },
    {
     "name": "stdout",
     "output_type": "stream",
     "text": [
      "\n",
      "Finalised Dataset:\n"
     ]
    },
    {
     "data": {
      "text/html": [
       "<div><style>\n",
       ".dataframe > thead > tr,\n",
       ".dataframe > tbody > tr {\n",
       "  text-align: right;\n",
       "  white-space: pre-wrap;\n",
       "}\n",
       "</style>\n",
       "<small>shape: (10, 6)</small><table border=\"1\" class=\"dataframe\"><thead><tr><th>Product Name</th><th>Price</th><th>Location</th><th>Quantity Sold</th><th>Total Reviews</th><th>Category</th></tr><tr><td>str</td><td>f64</td><td>str</td><td>i64</td><td>i64</td><td>str</td></tr></thead><tbody><tr><td>&quot;❣️SAKA GLOWING FOUNDATION SPF …</td><td>3.99</td><td>&quot;PENANG&quot;</td><td>55</td><td>9</td><td>&quot;BEAUTY &amp; SKINCARE&quot;</td></tr><tr><td>&quot;BIO-ESSENCE BIO-GOLD 24K&nbsp;&nbsp;RADI…</td><td>3.5</td><td>&quot;JOHOR&quot;</td><td>46</td><td>10</td><td>&quot;BEAUTY &amp; SKINCARE&quot;</td></tr><tr><td>&quot;L&#x27;OCCITANE IMMORTELLE DIVINE F…</td><td>1.5</td><td>&quot;SELANGOR&quot;</td><td>13</td><td>1</td><td>&quot;BEAUTY &amp; SKINCARE&quot;</td></tr><tr><td>&quot;YOUBUY FRECKLE CREAM EFFECTIVE…</td><td>5.45</td><td>&quot;CHINA&quot;</td><td>13</td><td>0</td><td>&quot;BEAUTY &amp; SKINCARE&quot;</td></tr><tr><td>&quot;DT37 JOMTAM JOLYUM NICOTIMIDE …</td><td>6.15</td><td>&quot;MELAKA&quot;</td><td>175</td><td>40</td><td>&quot;BEAUTY &amp; SKINCARE&quot;</td></tr><tr><td>&quot;❤️88HOME❤️ JOMTAM JOLYUM NICOT…</td><td>6.19</td><td>&quot;MELAKA&quot;</td><td>29</td><td>2</td><td>&quot;BEAUTY &amp; SKINCARE&quot;</td></tr><tr><td>&quot;DT37 VEZE MEN&#x27;S VOLCANIC MUD F…</td><td>5.44</td><td>&quot;MELAKA&quot;</td><td>129</td><td>46</td><td>&quot;BEAUTY &amp; SKINCARE&quot;</td></tr><tr><td>&quot;NEVEA MEN ROLL ON 500ML&quot;</td><td>5.0</td><td>&quot;WP KUALA LUMPUR&quot;</td><td>25</td><td>4</td><td>&quot;BEAUTY &amp; SKINCARE&quot;</td></tr><tr><td>&quot;❤️88HOME❤️ VEZE MEN&#x27;S VOLCANIC…</td><td>5.48</td><td>&quot;MELAKA&quot;</td><td>41</td><td>11</td><td>&quot;BEAUTY &amp; SKINCARE&quot;</td></tr><tr><td>&quot;DT37 HYMEY&#x27;S FACIAL CLEANSER C…</td><td>1.53</td><td>&quot;MELAKA&quot;</td><td>1300</td><td>246</td><td>&quot;BEAUTY &amp; SKINCARE&quot;</td></tr></tbody></table></div>"
      ],
      "text/plain": [
       "shape: (10, 6)\n",
       "┌────────────────────┬───────┬─────────────────┬───────────────┬───────────────┬───────────────────┐\n",
       "│ Product Name       ┆ Price ┆ Location        ┆ Quantity Sold ┆ Total Reviews ┆ Category          │\n",
       "│ ---                ┆ ---   ┆ ---             ┆ ---           ┆ ---           ┆ ---               │\n",
       "│ str                ┆ f64   ┆ str             ┆ i64           ┆ i64           ┆ str               │\n",
       "╞════════════════════╪═══════╪═════════════════╪═══════════════╪═══════════════╪═══════════════════╡\n",
       "│ ❣️SAKA GLOWING     ┆ 3.99  ┆ PENANG          ┆ 55            ┆ 9             ┆ BEAUTY & SKINCARE │\n",
       "│ FOUNDATION SPF …   ┆       ┆                 ┆               ┆               ┆                   │\n",
       "│ BIO-ESSENCE        ┆ 3.5   ┆ JOHOR           ┆ 46            ┆ 10            ┆ BEAUTY & SKINCARE │\n",
       "│ BIO-GOLD 24K       ┆       ┆                 ┆               ┆               ┆                   │\n",
       "│ RADI…              ┆       ┆                 ┆               ┆               ┆                   │\n",
       "│ L'OCCITANE         ┆ 1.5   ┆ SELANGOR        ┆ 13            ┆ 1             ┆ BEAUTY & SKINCARE │\n",
       "│ IMMORTELLE DIVINE  ┆       ┆                 ┆               ┆               ┆                   │\n",
       "│ F…                 ┆       ┆                 ┆               ┆               ┆                   │\n",
       "│ YOUBUY FRECKLE     ┆ 5.45  ┆ CHINA           ┆ 13            ┆ 0             ┆ BEAUTY & SKINCARE │\n",
       "│ CREAM EFFECTIVE…   ┆       ┆                 ┆               ┆               ┆                   │\n",
       "│ DT37 JOMTAM JOLYUM ┆ 6.15  ┆ MELAKA          ┆ 175           ┆ 40            ┆ BEAUTY & SKINCARE │\n",
       "│ NICOTIMIDE …       ┆       ┆                 ┆               ┆               ┆                   │\n",
       "│ ❤️88HOME❤️ JOMTAM  ┆ 6.19  ┆ MELAKA          ┆ 29            ┆ 2             ┆ BEAUTY & SKINCARE │\n",
       "│ JOLYUM NICOT…      ┆       ┆                 ┆               ┆               ┆                   │\n",
       "│ DT37 VEZE MEN'S    ┆ 5.44  ┆ MELAKA          ┆ 129           ┆ 46            ┆ BEAUTY & SKINCARE │\n",
       "│ VOLCANIC MUD F…    ┆       ┆                 ┆               ┆               ┆                   │\n",
       "│ NEVEA MEN ROLL ON  ┆ 5.0   ┆ WP KUALA LUMPUR ┆ 25            ┆ 4             ┆ BEAUTY & SKINCARE │\n",
       "│ 500ML              ┆       ┆                 ┆               ┆               ┆                   │\n",
       "│ ❤️88HOME❤️ VEZE    ┆ 5.48  ┆ MELAKA          ┆ 41            ┆ 11            ┆ BEAUTY & SKINCARE │\n",
       "│ MEN'S VOLCANIC…    ┆       ┆                 ┆               ┆               ┆                   │\n",
       "│ DT37 HYMEY'S       ┆ 1.53  ┆ MELAKA          ┆ 1300          ┆ 246           ┆ BEAUTY & SKINCARE │\n",
       "│ FACIAL CLEANSER C… ┆       ┆                 ┆               ┆               ┆                   │\n",
       "└────────────────────┴───────┴─────────────────┴───────────────┴───────────────┴───────────────────┘"
      ]
     },
     "metadata": {},
     "output_type": "display_data"
    },
    {
     "name": "stdout",
     "output_type": "stream",
     "text": [
      "Total rows: 115090\n",
      "Total columns: 6\n",
      "\n",
      "\n",
      "\n",
      "===================== Performance =====================\n",
      "\n",
      "Total rows processed: 115090\n",
      "Code Execution time: 0.0589 seconds\n",
      "Throughput: 1953944.00 rows per second\n",
      "Current memory usage: 0.0505 MB\n",
      "Peak memory usage: 0.1000 MB\n",
      "CPU usage: 4.0%\n",
      "=======================================================\n",
      "\n",
      "Total time for this cell(Including time to display the performance):\n",
      "CPU times: user 51.5 ms, sys: 11.8 ms, total: 63.3 ms\n",
      "Wall time: 1.06 s\n"
     ]
    }
   ],
   "source": [
    "%%time\n",
    "tracemalloc.start()\n",
    "start_time = time.perf_counter()\n",
    "total_rows = df_combined.shape[0]\n",
    "\n",
    "print(\"Initial Dataset:\")\n",
    "display(df_combined.head(10))\n",
    "\n",
    "print(\"Before Handle Missing Values\")\n",
    "missing_values = df_combined.select([pl.col(col).is_null().sum().alias(f\"{col}_missing\") for col in df_combined.columns])\n",
    "print(\"Number of Missing Values for Each Column:\")\n",
    "display(missing_values)\n",
    "\n",
    "df_combined = df_combined.with_columns([\n",
    "    (\n",
    "        pl.col(col).fill_null(\"N/A\") if dtype == pl.Utf8\n",
    "        else pl.col(col).fill_null(0) if dtype in (pl.Int8, pl.Int16, pl.Int32, pl.Int64,\n",
    "                                                   pl.UInt8, pl.UInt16, pl.UInt32, pl.UInt64,\n",
    "                                                   pl.Float32, pl.Float64)\n",
    "        else pl.col(col)\n",
    "    ).alias(col)\n",
    "    for col, dtype in zip(df_combined.columns, df_combined.dtypes)\n",
    "])\n",
    "\n",
    "\n",
    "print(\"\\nAfter Handle Missing Values\")\n",
    "missing_values = df_combined.select([pl.col(col).is_null().sum().alias(f\"{col}_missing\") for col in df_combined.columns])\n",
    "print(\"Number of Missing Values for Each Column:\")\n",
    "display(missing_values)\n",
    "\n",
    "print(\"\\nFinalised Dataset:\")\n",
    "display(df_combined.head(10))\n",
    "print(f\"Total rows: {df_combined.shape[0]}\")\n",
    "print(f\"Total columns: {df_combined.shape[1]}\\n\\n\\n\")\n",
    "\n",
    "\n",
    "current, peak = tracemalloc.get_traced_memory()\n",
    "end_time = time.perf_counter()\n",
    "tracemalloc.stop()\n",
    "\n",
    "execution_time = end_time - start_time\n",
    "throughput = total_rows / execution_time\n",
    "\n",
    "print(\"===================== Performance =====================\\n\")\n",
    "print(f\"Total rows processed: {total_rows}\")\n",
    "print(f\"Code Execution time: {execution_time:.4f} seconds\")\n",
    "print(f\"Throughput: {throughput:.2f} rows per second\")\n",
    "print(f\"Current memory usage: {current / 10**6:.4f} MB\")\n",
    "print(f\"Peak memory usage: {peak / 10**6:.4f} MB\")\n",
    "\n",
    "cpu_usage = psutil.cpu_percent(interval=1)\n",
    "print(f\"CPU usage: {cpu_usage}%\")\n",
    "\n",
    "print(\"=======================================================\")\n",
    "\n",
    "print(\"\\nTotal time for this cell(Including time to display the performance):\")\n"
   ]
  },
  {
   "cell_type": "markdown",
   "metadata": {
    "id": "AxS_nGWoC8xb"
   },
   "source": [
    "Step 10 : Checking and Handling Duplicate Rows and Displaying in a View that Arranges Duplicate Rows Together"
   ]
  },
  {
   "cell_type": "code",
   "execution_count": null,
   "metadata": {
    "colab": {
     "base_uri": "https://localhost:8080/",
     "height": 1000
    },
    "id": "fL-icckSnUgO",
    "outputId": "4a72212b-48f3-4481-f6f1-96a4787d2c49"
   },
   "outputs": [
    {
     "name": "stdout",
     "output_type": "stream",
     "text": [
      "Before Handling duplicate\n",
      "Number of duplicate rows: 2854\n"
     ]
    },
    {
     "data": {
      "text/html": [
       "<div><style>\n",
       ".dataframe > thead > tr,\n",
       ".dataframe > tbody > tr {\n",
       "  text-align: right;\n",
       "  white-space: pre-wrap;\n",
       "}\n",
       "</style>\n",
       "<small>shape: (2_854, 6)</small><table border=\"1\" class=\"dataframe\"><thead><tr><th>Product Name</th><th>Price</th><th>Location</th><th>Quantity Sold</th><th>Total Reviews</th><th>Category</th></tr><tr><td>str</td><td>f64</td><td>str</td><td>i64</td><td>i64</td><td>str</td></tr></thead><tbody><tr><td>&quot;#ARYAN&amp;RAIHAN OOTHING ALOE VER…</td><td>12.0</td><td>&quot;WP KUALA LUMPUR&quot;</td><td>12</td><td>4</td><td>&quot;BEAUTY &amp; SKINCARE&quot;</td></tr><tr><td>&quot;#ARYAN&amp;RAIHAN OOTHING ALOE VER…</td><td>12.0</td><td>&quot;WP KUALA LUMPUR&quot;</td><td>12</td><td>4</td><td>&quot;BEAUTY &amp; SKINCARE&quot;</td></tr><tr><td>&quot;( ROHTO ) HADA-LABO GOKUJUN PR…</td><td>50.19</td><td>&quot;JAPAN&quot;</td><td>0</td><td>1</td><td>&quot;BEAUTY &amp; SKINCARE&quot;</td></tr><tr><td>&quot;( ROHTO ) HADA-LABO GOKUJUN PR…</td><td>50.19</td><td>&quot;JAPAN&quot;</td><td>0</td><td>1</td><td>&quot;BEAUTY &amp; SKINCARE&quot;</td></tr><tr><td>&quot;(1 PCS) 70X77 3D WALLPAPER BRI…</td><td>1.98</td><td>&quot;PERAK&quot;</td><td>3400</td><td>93</td><td>&quot;HOME &amp; LIVING&quot;</td></tr><tr><td>&hellip;</td><td>&hellip;</td><td>&hellip;</td><td>&hellip;</td><td>&hellip;</td><td>&hellip;</td></tr><tr><td>&quot;🔥READY STOCK🔥超便宜超便宜PROMOTION 1…</td><td>47.0</td><td>&quot;WP KUALA LUMPUR&quot;</td><td>8</td><td>5</td><td>&quot;BEAUTY &amp; SKINCARE&quot;</td></tr><tr><td>&quot;🔥STOK SEDIA ADA🔥 TANAMERA BLAC…</td><td>22.0</td><td>&quot;PENANG&quot;</td><td>0</td><td>0</td><td>&quot;BEAUTY &amp; SKINCARE&quot;</td></tr><tr><td>&quot;🔥STOK SEDIA ADA🔥 TANAMERA BLAC…</td><td>22.0</td><td>&quot;PENANG&quot;</td><td>0</td><td>0</td><td>&quot;BEAUTY &amp; SKINCARE&quot;</td></tr><tr><td>&quot;🥥 COCONUT OIL NATURAL LIP BALM…</td><td>12.0</td><td>&quot;SELANGOR&quot;</td><td>0</td><td>0</td><td>&quot;BEAUTY &amp; SKINCARE&quot;</td></tr><tr><td>&quot;🥥 COCONUT OIL NATURAL LIP BALM…</td><td>12.0</td><td>&quot;SELANGOR&quot;</td><td>0</td><td>0</td><td>&quot;BEAUTY &amp; SKINCARE&quot;</td></tr></tbody></table></div>"
      ],
      "text/plain": [
       "shape: (2_854, 6)\n",
       "┌────────────────────┬───────┬─────────────────┬───────────────┬───────────────┬───────────────────┐\n",
       "│ Product Name       ┆ Price ┆ Location        ┆ Quantity Sold ┆ Total Reviews ┆ Category          │\n",
       "│ ---                ┆ ---   ┆ ---             ┆ ---           ┆ ---           ┆ ---               │\n",
       "│ str                ┆ f64   ┆ str             ┆ i64           ┆ i64           ┆ str               │\n",
       "╞════════════════════╪═══════╪═════════════════╪═══════════════╪═══════════════╪═══════════════════╡\n",
       "│ #ARYAN&RAIHAN      ┆ 12.0  ┆ WP KUALA LUMPUR ┆ 12            ┆ 4             ┆ BEAUTY & SKINCARE │\n",
       "│ OOTHING ALOE VER…  ┆       ┆                 ┆               ┆               ┆                   │\n",
       "│ #ARYAN&RAIHAN      ┆ 12.0  ┆ WP KUALA LUMPUR ┆ 12            ┆ 4             ┆ BEAUTY & SKINCARE │\n",
       "│ OOTHING ALOE VER…  ┆       ┆                 ┆               ┆               ┆                   │\n",
       "│ ( ROHTO )          ┆ 50.19 ┆ JAPAN           ┆ 0             ┆ 1             ┆ BEAUTY & SKINCARE │\n",
       "│ HADA-LABO GOKUJUN  ┆       ┆                 ┆               ┆               ┆                   │\n",
       "│ PR…                ┆       ┆                 ┆               ┆               ┆                   │\n",
       "│ ( ROHTO )          ┆ 50.19 ┆ JAPAN           ┆ 0             ┆ 1             ┆ BEAUTY & SKINCARE │\n",
       "│ HADA-LABO GOKUJUN  ┆       ┆                 ┆               ┆               ┆                   │\n",
       "│ PR…                ┆       ┆                 ┆               ┆               ┆                   │\n",
       "│ (1 PCS) 70X77 3D   ┆ 1.98  ┆ PERAK           ┆ 3400          ┆ 93            ┆ HOME & LIVING     │\n",
       "│ WALLPAPER BRI…     ┆       ┆                 ┆               ┆               ┆                   │\n",
       "│ …                  ┆ …     ┆ …               ┆ …             ┆ …             ┆ …                 │\n",
       "│ 🔥READY STOCK🔥超  ┆ 47.0  ┆ WP KUALA LUMPUR ┆ 8             ┆ 5             ┆ BEAUTY & SKINCARE │\n",
       "│ 便宜超便宜PROMOTIO ┆       ┆                 ┆               ┆               ┆                   │\n",
       "│ N 1…               ┆       ┆                 ┆               ┆               ┆                   │\n",
       "│ 🔥STOK SEDIA ADA🔥 ┆ 22.0  ┆ PENANG          ┆ 0             ┆ 0             ┆ BEAUTY & SKINCARE │\n",
       "│ TANAMERA BLAC…     ┆       ┆                 ┆               ┆               ┆                   │\n",
       "│ 🔥STOK SEDIA ADA🔥 ┆ 22.0  ┆ PENANG          ┆ 0             ┆ 0             ┆ BEAUTY & SKINCARE │\n",
       "│ TANAMERA BLAC…     ┆       ┆                 ┆               ┆               ┆                   │\n",
       "│ 🥥 COCONUT OIL     ┆ 12.0  ┆ SELANGOR        ┆ 0             ┆ 0             ┆ BEAUTY & SKINCARE │\n",
       "│ NATURAL LIP BALM…  ┆       ┆                 ┆               ┆               ┆                   │\n",
       "│ 🥥 COCONUT OIL     ┆ 12.0  ┆ SELANGOR        ┆ 0             ┆ 0             ┆ BEAUTY & SKINCARE │\n",
       "│ NATURAL LIP BALM…  ┆       ┆                 ┆               ┆               ┆                   │\n",
       "└────────────────────┴───────┴─────────────────┴───────────────┴───────────────┴───────────────────┘"
      ]
     },
     "metadata": {},
     "output_type": "display_data"
    },
    {
     "name": "stdout",
     "output_type": "stream",
     "text": [
      "Total rows: 2854\n",
      "Total columns: 6\n",
      "\n",
      "After Handling duplicate\n",
      "Number of duplicate rows: 0\n"
     ]
    },
    {
     "data": {
      "text/html": [
       "<div><style>\n",
       ".dataframe > thead > tr,\n",
       ".dataframe > tbody > tr {\n",
       "  text-align: right;\n",
       "  white-space: pre-wrap;\n",
       "}\n",
       "</style>\n",
       "<small>shape: (0, 6)</small><table border=\"1\" class=\"dataframe\"><thead><tr><th>Product Name</th><th>Price</th><th>Location</th><th>Quantity Sold</th><th>Total Reviews</th><th>Category</th></tr><tr><td>str</td><td>f64</td><td>str</td><td>i64</td><td>i64</td><td>str</td></tr></thead><tbody></tbody></table></div>"
      ],
      "text/plain": [
       "shape: (0, 6)\n",
       "┌──────────────┬───────┬──────────┬───────────────┬───────────────┬──────────┐\n",
       "│ Product Name ┆ Price ┆ Location ┆ Quantity Sold ┆ Total Reviews ┆ Category │\n",
       "│ ---          ┆ ---   ┆ ---      ┆ ---           ┆ ---           ┆ ---      │\n",
       "│ str          ┆ f64   ┆ str      ┆ i64           ┆ i64           ┆ str      │\n",
       "╞══════════════╪═══════╪══════════╪═══════════════╪═══════════════╪══════════╡\n",
       "└──────────────┴───────┴──────────┴───────────────┴───────────────┴──────────┘"
      ]
     },
     "metadata": {},
     "output_type": "display_data"
    },
    {
     "name": "stdout",
     "output_type": "stream",
     "text": [
      "Total rows: 0\n",
      "Total columns: 6\n",
      "\n",
      "Finalised Dataset:\n"
     ]
    },
    {
     "data": {
      "text/html": [
       "<div><style>\n",
       ".dataframe > thead > tr,\n",
       ".dataframe > tbody > tr {\n",
       "  text-align: right;\n",
       "  white-space: pre-wrap;\n",
       "}\n",
       "</style>\n",
       "<small>shape: (10, 6)</small><table border=\"1\" class=\"dataframe\"><thead><tr><th>Product Name</th><th>Price</th><th>Location</th><th>Quantity Sold</th><th>Total Reviews</th><th>Category</th></tr><tr><td>str</td><td>f64</td><td>str</td><td>i64</td><td>i64</td><td>str</td></tr></thead><tbody><tr><td>&quot;NEW PROMO PERSPIREX COMFORT EX…</td><td>45.86</td><td>&quot;JOHOR&quot;</td><td>0</td><td>0</td><td>&quot;BEAUTY &amp; SKINCARE&quot;</td></tr><tr><td>&quot;NEW YEAR CARTOON CAT LUCKY CAT…</td><td>21.7</td><td>&quot;N/A&quot;</td><td>83</td><td>10</td><td>&quot;HOME &amp; LIVING&quot;</td></tr><tr><td>&quot;ESW CAPSULE WHITENING / ESW BO…</td><td>39.0</td><td>&quot;PERAK&quot;</td><td>6</td><td>3</td><td>&quot;HEALTH &amp; WELLNESS&quot;</td></tr><tr><td>&quot;GLUCO DR. AUTO TEST STRIPS 25&#x27;…</td><td>85.0</td><td>&quot;WP KUALA LUMPUR&quot;</td><td>0</td><td>2</td><td>&quot;HEALTH &amp; WELLNESS&quot;</td></tr><tr><td>&quot;RETRACTABLE 0.5MM RED BLUE BLA…</td><td>4.42</td><td>&quot;CHINA&quot;</td><td>314</td><td>0</td><td>&quot;STATIONERY&quot;</td></tr><tr><td>&quot;ARTLINE 500A WHITEBOARD MARKER…</td><td>6.85</td><td>&quot;NEGERI SEMBILAN&quot;</td><td>0</td><td>0</td><td>&quot;STATIONERY&quot;</td></tr><tr><td>&quot;[CHRISTMAS &amp; NEW YEAR GIFTS] C…</td><td>89.0</td><td>&quot;CHINA&quot;</td><td>25</td><td>10</td><td>&quot;STATIONERY&quot;</td></tr><tr><td>&quot;FRENCH ELEGANT SEXY LONG DRESS…</td><td>45.01</td><td>&quot;N/A&quot;</td><td>61</td><td>18</td><td>&quot;WOMEN&#x27;S FASHION&quot;</td></tr><tr><td>&quot;LUOFAN BEAUTY VASELINE PELEMBA…</td><td>51.0</td><td>&quot;CHINA&quot;</td><td>0</td><td>0</td><td>&quot;BEAUTY &amp; SKINCARE&quot;</td></tr><tr><td>&quot;【NUTRIENT BOOST】MILK THISTLE S…</td><td>16.43</td><td>&quot;SELANGOR&quot;</td><td>60</td><td>19</td><td>&quot;HEALTH &amp; WELLNESS&quot;</td></tr></tbody></table></div>"
      ],
      "text/plain": [
       "shape: (10, 6)\n",
       "┌────────────────────┬───────┬─────────────────┬───────────────┬───────────────┬───────────────────┐\n",
       "│ Product Name       ┆ Price ┆ Location        ┆ Quantity Sold ┆ Total Reviews ┆ Category          │\n",
       "│ ---                ┆ ---   ┆ ---             ┆ ---           ┆ ---           ┆ ---               │\n",
       "│ str                ┆ f64   ┆ str             ┆ i64           ┆ i64           ┆ str               │\n",
       "╞════════════════════╪═══════╪═════════════════╪═══════════════╪═══════════════╪═══════════════════╡\n",
       "│ NEW PROMO          ┆ 45.86 ┆ JOHOR           ┆ 0             ┆ 0             ┆ BEAUTY & SKINCARE │\n",
       "│ PERSPIREX COMFORT  ┆       ┆                 ┆               ┆               ┆                   │\n",
       "│ EX…                ┆       ┆                 ┆               ┆               ┆                   │\n",
       "│ NEW YEAR CARTOON   ┆ 21.7  ┆ N/A             ┆ 83            ┆ 10            ┆ HOME & LIVING     │\n",
       "│ CAT LUCKY CAT…     ┆       ┆                 ┆               ┆               ┆                   │\n",
       "│ ESW CAPSULE        ┆ 39.0  ┆ PERAK           ┆ 6             ┆ 3             ┆ HEALTH & WELLNESS │\n",
       "│ WHITENING / ESW    ┆       ┆                 ┆               ┆               ┆                   │\n",
       "│ BO…                ┆       ┆                 ┆               ┆               ┆                   │\n",
       "│ GLUCO DR. AUTO     ┆ 85.0  ┆ WP KUALA LUMPUR ┆ 0             ┆ 2             ┆ HEALTH & WELLNESS │\n",
       "│ TEST STRIPS 25'…   ┆       ┆                 ┆               ┆               ┆                   │\n",
       "│ RETRACTABLE 0.5MM  ┆ 4.42  ┆ CHINA           ┆ 314           ┆ 0             ┆ STATIONERY        │\n",
       "│ RED BLUE BLA…      ┆       ┆                 ┆               ┆               ┆                   │\n",
       "│ ARTLINE 500A       ┆ 6.85  ┆ NEGERI SEMBILAN ┆ 0             ┆ 0             ┆ STATIONERY        │\n",
       "│ WHITEBOARD MARKER… ┆       ┆                 ┆               ┆               ┆                   │\n",
       "│ [CHRISTMAS & NEW   ┆ 89.0  ┆ CHINA           ┆ 25            ┆ 10            ┆ STATIONERY        │\n",
       "│ YEAR GIFTS] C…     ┆       ┆                 ┆               ┆               ┆                   │\n",
       "│ FRENCH ELEGANT     ┆ 45.01 ┆ N/A             ┆ 61            ┆ 18            ┆ WOMEN'S FASHION   │\n",
       "│ SEXY LONG DRESS…   ┆       ┆                 ┆               ┆               ┆                   │\n",
       "│ LUOFAN BEAUTY      ┆ 51.0  ┆ CHINA           ┆ 0             ┆ 0             ┆ BEAUTY & SKINCARE │\n",
       "│ VASELINE PELEMBA…  ┆       ┆                 ┆               ┆               ┆                   │\n",
       "│ 【NUTRIENT         ┆ 16.43 ┆ SELANGOR        ┆ 60            ┆ 19            ┆ HEALTH & WELLNESS │\n",
       "│ BOOST】MILK        ┆       ┆                 ┆               ┆               ┆                   │\n",
       "│ THISTLE S…         ┆       ┆                 ┆               ┆               ┆                   │\n",
       "└────────────────────┴───────┴─────────────────┴───────────────┴───────────────┴───────────────────┘"
      ]
     },
     "metadata": {},
     "output_type": "display_data"
    },
    {
     "name": "stdout",
     "output_type": "stream",
     "text": [
      "Total rows: 113596\n",
      "Total columns: 6\n",
      "\n",
      "\n",
      "\n",
      "===================== Performance =====================\n",
      "\n",
      "Total rows processed: 115090\n",
      "Code Execution time: 0.1976 seconds\n",
      "Throughput: 582459.45 rows per second\n",
      "Current memory usage: 0.0520 MB\n",
      "Peak memory usage: 0.0750 MB\n",
      "CPU usage: 4.5%\n",
      "=======================================================\n",
      "\n",
      "Total time for this cell(Including time to display the performance):\n",
      "CPU times: user 232 ms, sys: 86.5 ms, total: 319 ms\n",
      "Wall time: 1.2 s\n"
     ]
    }
   ],
   "source": [
    "%%time\n",
    "\n",
    "tracemalloc.start()\n",
    "start_time = time.perf_counter()\n",
    "total_rows = df_combined.shape[0]\n",
    "\n",
    "duplicate_rows = df_combined.filter(df_combined.is_duplicated()).sort(df_combined.columns)\n",
    "\n",
    "print(\"Before Handling duplicate\")\n",
    "print(f\"Number of duplicate rows: {duplicate_rows.shape[0]}\")\n",
    "display(duplicate_rows)\n",
    "print(f\"Total rows: {duplicate_rows.shape[0]}\")\n",
    "print(f\"Total columns: {duplicate_rows.shape[1]}\")\n",
    "\n",
    "df_cleaned = df_combined.unique()\n",
    "\n",
    "print(\"\\nAfter Handling duplicate\")\n",
    "duplicate_rows = df_cleaned.filter(df_cleaned.is_duplicated()).sort(df_cleaned.columns)\n",
    "print(f\"Number of duplicate rows: {duplicate_rows.shape[0]}\")\n",
    "display(duplicate_rows)\n",
    "print(f\"Total rows: {duplicate_rows.shape[0]}\")\n",
    "print(f\"Total columns: {duplicate_rows.shape[1]}\")\n",
    "\n",
    "print(\"\\nFinalised Dataset:\")\n",
    "display(df_cleaned.head(10))\n",
    "print(f\"Total rows: {df_cleaned.shape[0]}\")\n",
    "print(f\"Total columns: {df_cleaned.shape[1]}\\n\\n\\n\")\n",
    "\n",
    "current, peak = tracemalloc.get_traced_memory()\n",
    "end_time = time.perf_counter()\n",
    "tracemalloc.stop()\n",
    "\n",
    "execution_time = end_time - start_time\n",
    "throughput = total_rows / execution_time\n",
    "\n",
    "print(\"===================== Performance =====================\\n\")\n",
    "print(f\"Total rows processed: {total_rows}\")\n",
    "print(f\"Code Execution time: {execution_time:.4f} seconds\")\n",
    "print(f\"Throughput: {throughput:.2f} rows per second\")\n",
    "print(f\"Current memory usage: {current / 10**6:.4f} MB\")\n",
    "print(f\"Peak memory usage: {peak / 10**6:.4f} MB\")\n",
    "\n",
    "cpu_usage = psutil.cpu_percent(interval=1)\n",
    "print(f\"CPU usage: {cpu_usage}%\")\n",
    "\n",
    "print(\"=======================================================\")\n",
    "\n",
    "print(\"\\nTotal time for this cell(Including time to display the performance):\")\n"
   ]
  },
  {
   "cell_type": "markdown",
   "metadata": {
    "id": "EeTeuTH4C_ub"
   },
   "source": [
    "Step 11 : Exporting a Cleaned Excel Data File for Data Optimization"
   ]
  },
  {
   "cell_type": "code",
   "execution_count": null,
   "metadata": {
    "colab": {
     "base_uri": "https://localhost:8080/",
     "height": 243
    },
    "id": "ciqp2ZOeq0_n",
    "outputId": "8f0c6e5e-052c-4b3f-8532-6db774bad76b"
   },
   "outputs": [
    {
     "data": {
      "application/javascript": [
       "\n",
       "    async function download(id, filename, size) {\n",
       "      if (!google.colab.kernel.accessAllowed) {\n",
       "        return;\n",
       "      }\n",
       "      const div = document.createElement('div');\n",
       "      const label = document.createElement('label');\n",
       "      label.textContent = `Downloading \"${filename}\": `;\n",
       "      div.appendChild(label);\n",
       "      const progress = document.createElement('progress');\n",
       "      progress.max = size;\n",
       "      div.appendChild(progress);\n",
       "      document.body.appendChild(div);\n",
       "\n",
       "      const buffers = [];\n",
       "      let downloaded = 0;\n",
       "\n",
       "      const channel = await google.colab.kernel.comms.open(id);\n",
       "      // Send a message to notify the kernel that we're ready.\n",
       "      channel.send({})\n",
       "\n",
       "      for await (const message of channel.messages) {\n",
       "        // Send a message to notify the kernel that we're ready.\n",
       "        channel.send({})\n",
       "        if (message.buffers) {\n",
       "          for (const buffer of message.buffers) {\n",
       "            buffers.push(buffer);\n",
       "            downloaded += buffer.byteLength;\n",
       "            progress.value = downloaded;\n",
       "          }\n",
       "        }\n",
       "      }\n",
       "      const blob = new Blob(buffers, {type: 'application/binary'});\n",
       "      const a = document.createElement('a');\n",
       "      a.href = window.URL.createObjectURL(blob);\n",
       "      a.download = filename;\n",
       "      div.appendChild(a);\n",
       "      a.click();\n",
       "      div.remove();\n",
       "    }\n",
       "  "
      ],
      "text/plain": [
       "<IPython.core.display.Javascript object>"
      ]
     },
     "metadata": {},
     "output_type": "display_data"
    },
    {
     "data": {
      "application/javascript": [
       "download(\"download_985994b6-5105-4851-ab66-2cdbab91403b\", \"polars_cleaned_dataset.csv\", 16087007)"
      ],
      "text/plain": [
       "<IPython.core.display.Javascript object>"
      ]
     },
     "metadata": {},
     "output_type": "display_data"
    },
    {
     "name": "stdout",
     "output_type": "stream",
     "text": [
      "===================== Performance =====================\n",
      "\n",
      "Total rows processed: 113596\n",
      "Code Execution time: 0.0959 seconds\n",
      "Throughput: 1184103.69 rows per second\n",
      "Current memory usage: 0.0081 MB\n",
      "Peak memory usage: 0.0143 MB\n",
      "CPU usage: 4.0%\n",
      "=======================================================\n",
      "\n",
      "Total time for this cell(Including time to display the performance):\n",
      "CPU times: user 112 ms, sys: 33.7 ms, total: 145 ms\n",
      "Wall time: 1.1 s\n"
     ]
    }
   ],
   "source": [
    "%%time\n",
    "tracemalloc.start()\n",
    "start_time = time.perf_counter()\n",
    "total_rows = df_cleaned.shape[0]\n",
    "\n",
    "df_cleaned.write_csv(\"polars_cleaned_dataset.csv\")\n",
    "files.download(\"polars_cleaned_dataset.csv\")\n",
    "\n",
    "current, peak = tracemalloc.get_traced_memory()\n",
    "end_time = time.perf_counter()\n",
    "tracemalloc.stop()\n",
    "\n",
    "execution_time = end_time - start_time\n",
    "throughput = total_rows / execution_time\n",
    "\n",
    "print(\"===================== Performance =====================\\n\")\n",
    "print(f\"Total rows processed: {total_rows}\")\n",
    "print(f\"Code Execution time: {execution_time:.4f} seconds\")\n",
    "print(f\"Throughput: {throughput:.2f} rows per second\")\n",
    "print(f\"Current memory usage: {current / 10**6:.4f} MB\")\n",
    "print(f\"Peak memory usage: {peak / 10**6:.4f} MB\")\n",
    "\n",
    "cpu_usage = psutil.cpu_percent(interval=1)\n",
    "print(f\"CPU usage: {cpu_usage}%\")\n",
    "\n",
    "print(\"=======================================================\")\n",
    "\n",
    "print(\"\\nTotal time for this cell(Including time to display the performance):\")\n"
   ]
  },
  {
   "cell_type": "markdown",
   "metadata": {
    "id": "lqWm08h-DEYk"
   },
   "source": [
    "## **End of Part 1 Data Processing and Cleaning**"
   ]
  }
 ],
 "metadata": {
  "colab": {
   "provenance": []
  },
  "kernelspec": {
   "display_name": "Python [conda env:base] *",
   "language": "python",
   "name": "conda-base-py"
  },
  "language_info": {
   "codemirror_mode": {
    "name": "ipython",
    "version": 3
   },
   "file_extension": ".py",
   "mimetype": "text/x-python",
   "name": "python",
   "nbconvert_exporter": "python",
   "pygments_lexer": "ipython3",
   "version": "3.12.7"
  }
 },
 "nbformat": 4,
 "nbformat_minor": 4
}
