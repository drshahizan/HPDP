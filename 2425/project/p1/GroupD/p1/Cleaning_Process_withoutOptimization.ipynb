{
  "nbformat": 4,
  "nbformat_minor": 0,
  "metadata": {
    "colab": {
      "provenance": []
    },
    "kernelspec": {
      "name": "python3",
      "display_name": "Python 3"
    },
    "language_info": {
      "name": "python"
    }
  },
  "cells": [
    {
      "cell_type": "code",
      "execution_count": null,
      "metadata": {
        "id": "qwgvurqe_s6i"
      },
      "outputs": [],
      "source": [
        "import pandas as pd\n",
        "import re\n",
        "import time\n",
        "import psutil\n",
        "import os\n",
        "\n",
        "# Load dataset\n",
        "df = pd.read_csv(\"updated_item_list.csv\")\n",
        "\n",
        "# Log initial shape\n",
        "initial_shape = df.shape"
      ]
    },
    {
      "cell_type": "code",
      "source": [
        "print(\"Duplicated data:\",(df.duplicated()).sum())\n",
        "\n",
        "\n",
        "# Check for nulls by column (log or print if needed)\n",
        "null_counts = df.isnull().sum()\n",
        "print(\"Null values by column:\\n\", null_counts)"
      ],
      "metadata": {
        "id": "xfiIHl-WM_v2",
        "colab": {
          "base_uri": "https://localhost:8080/"
        },
        "outputId": "6358d463-73d3-46cd-b91b-97d012c8758c"
      },
      "execution_count": null,
      "outputs": [
        {
          "output_type": "stream",
          "name": "stdout",
          "text": [
            "Duplicated data: 7\n",
            "Null values by column:\n",
            " product_name       0\n",
            "link               0\n",
            "price              0\n",
            "location        2947\n",
            "timestamp          0\n",
            "product_type     432\n",
            "dtype: int64\n"
          ]
        }
      ]
    },
    {
      "cell_type": "code",
      "source": [
        "# Clean price column and extract lowest numeric value\n",
        "def extract_lowest_price(price_str):\n",
        "    if pd.isna(price_str):\n",
        "        return None\n",
        "    matches = re.findall(r\"\\d+(?:\\.\\d+)?\", price_str)\n",
        "    if matches:\n",
        "        return float(matches[0])\n",
        "    return None"
      ],
      "metadata": {
        "id": "pftenFT3RE7t"
      },
      "execution_count": null,
      "outputs": []
    },
    {
      "cell_type": "code",
      "source": [
        "# Start performance timer and process monitor\n",
        "start_time = time.time()\n",
        "process = psutil.Process(os.getpid())\n",
        "# Drop duplicate rows\n",
        "df = df.drop_duplicates()\n",
        "\n",
        "# Fill in null\n",
        "df['location'].fillna('Unknown', inplace=True)\n",
        "df['product_type'].fillna('Unknown', inplace=True)\n",
        "\n",
        "# Standardize price format\n",
        "df['cleaned_price'] = df['price'].apply(extract_lowest_price)\n",
        "df['cleaned_price'] = df['cleaned_price'].round(2)\n",
        "\n",
        "df.drop(columns=['price'], inplace=True)\n",
        "\n",
        "# Clean unreadable characters from product_name\n",
        "df['product_name'] = df['product_name'].apply(lambda x: re.sub(r\"[^\\x00-\\x7F]+\", '', str(x)))\n",
        "\n",
        "df.rename(columns={\n",
        "    'product_name': 'Product Name',\n",
        "    'cleaned_price': 'Price',\n",
        "    'location': 'Location',\n",
        "    'link': 'Link',\n",
        "    'product_type': 'Product Type'\n",
        "}, inplace=True)\n",
        "\n",
        "# Save cleaned data\n",
        "df.to_csv(\"Item_list_cleaned.csv\", index=False, float_format='%.2f')\n",
        "\n",
        "# Log performance metrics\n",
        "end_time = time.time()\n",
        "elapsed_time = end_time - start_time\n",
        "cpu_percent = process.cpu_percent(interval=1)\n",
        "memory_usage_mb = process.memory_info().rss / 1024 ** 2\n",
        "throughput = df.shape[0] / elapsed_time\n",
        "\n",
        "print(\"\\n--- Performance Metrics ---\")\n",
        "print(f\"Total processing time: {elapsed_time:.2f} seconds\")\n",
        "print(f\"CPU usage: {cpu_percent}%\")\n",
        "print(f\"Memory usage: {memory_usage_mb:.2f} MB\")\n",
        "print(f\"Throughput: {throughput:.2f} records/second\")\n",
        "print(f\"Rows before: {initial_shape[0]}, Rows after: {df.shape[0]}\")\n",
        "\n",
        "from google.colab import files\n",
        "files.download(\"Item_list_cleaned.csv\")"
      ],
      "metadata": {
        "colab": {
          "base_uri": "https://localhost:8080/",
          "height": 575
        },
        "id": "I4cmuQ00V2Cv",
        "outputId": "9f209d20-8ef1-4d2a-8843-c67b9dc22544"
      },
      "execution_count": null,
      "outputs": [
        {
          "output_type": "stream",
          "name": "stderr",
          "text": [
            "<ipython-input-4-64ef42a7b0c6>:8: FutureWarning: A value is trying to be set on a copy of a DataFrame or Series through chained assignment using an inplace method.\n",
            "The behavior will change in pandas 3.0. This inplace method will never work because the intermediate object on which we are setting values always behaves as a copy.\n",
            "\n",
            "For example, when doing 'df[col].method(value, inplace=True)', try using 'df.method({col: value}, inplace=True)' or df[col] = df[col].method(value) instead, to perform the operation inplace on the original object.\n",
            "\n",
            "\n",
            "  df['location'].fillna('Unknown', inplace=True)\n",
            "<ipython-input-4-64ef42a7b0c6>:8: SettingWithCopyWarning: \n",
            "A value is trying to be set on a copy of a slice from a DataFrame\n",
            "\n",
            "See the caveats in the documentation: https://pandas.pydata.org/pandas-docs/stable/user_guide/indexing.html#returning-a-view-versus-a-copy\n",
            "  df['location'].fillna('Unknown', inplace=True)\n",
            "<ipython-input-4-64ef42a7b0c6>:9: FutureWarning: A value is trying to be set on a copy of a DataFrame or Series through chained assignment using an inplace method.\n",
            "The behavior will change in pandas 3.0. This inplace method will never work because the intermediate object on which we are setting values always behaves as a copy.\n",
            "\n",
            "For example, when doing 'df[col].method(value, inplace=True)', try using 'df.method({col: value}, inplace=True)' or df[col] = df[col].method(value) instead, to perform the operation inplace on the original object.\n",
            "\n",
            "\n",
            "  df['product_type'].fillna('Unknown', inplace=True)\n",
            "<ipython-input-4-64ef42a7b0c6>:9: SettingWithCopyWarning: \n",
            "A value is trying to be set on a copy of a slice from a DataFrame\n",
            "\n",
            "See the caveats in the documentation: https://pandas.pydata.org/pandas-docs/stable/user_guide/indexing.html#returning-a-view-versus-a-copy\n",
            "  df['product_type'].fillna('Unknown', inplace=True)\n"
          ]
        },
        {
          "output_type": "stream",
          "name": "stdout",
          "text": [
            "\n",
            "--- Performance Metrics ---\n",
            "Total processing time: 3.81 seconds\n",
            "CPU usage: 2.0%\n",
            "Memory usage: 241.00 MB\n",
            "Throughput: 53992.78 records/second\n",
            "Rows before: 205784, Rows after: 205777\n"
          ]
        },
        {
          "output_type": "display_data",
          "data": {
            "text/plain": [
              "<IPython.core.display.Javascript object>"
            ],
            "application/javascript": [
              "\n",
              "    async function download(id, filename, size) {\n",
              "      if (!google.colab.kernel.accessAllowed) {\n",
              "        return;\n",
              "      }\n",
              "      const div = document.createElement('div');\n",
              "      const label = document.createElement('label');\n",
              "      label.textContent = `Downloading \"${filename}\": `;\n",
              "      div.appendChild(label);\n",
              "      const progress = document.createElement('progress');\n",
              "      progress.max = size;\n",
              "      div.appendChild(progress);\n",
              "      document.body.appendChild(div);\n",
              "\n",
              "      const buffers = [];\n",
              "      let downloaded = 0;\n",
              "\n",
              "      const channel = await google.colab.kernel.comms.open(id);\n",
              "      // Send a message to notify the kernel that we're ready.\n",
              "      channel.send({})\n",
              "\n",
              "      for await (const message of channel.messages) {\n",
              "        // Send a message to notify the kernel that we're ready.\n",
              "        channel.send({})\n",
              "        if (message.buffers) {\n",
              "          for (const buffer of message.buffers) {\n",
              "            buffers.push(buffer);\n",
              "            downloaded += buffer.byteLength;\n",
              "            progress.value = downloaded;\n",
              "          }\n",
              "        }\n",
              "      }\n",
              "      const blob = new Blob(buffers, {type: 'application/binary'});\n",
              "      const a = document.createElement('a');\n",
              "      a.href = window.URL.createObjectURL(blob);\n",
              "      a.download = filename;\n",
              "      div.appendChild(a);\n",
              "      a.click();\n",
              "      div.remove();\n",
              "    }\n",
              "  "
            ]
          },
          "metadata": {}
        },
        {
          "output_type": "display_data",
          "data": {
            "text/plain": [
              "<IPython.core.display.Javascript object>"
            ],
            "application/javascript": [
              "download(\"download_d986b1d1-cf11-4269-8cbb-9a6b04fc5f35\", \"Item_list_cleaned.csv\", 34954879)"
            ]
          },
          "metadata": {}
        }
      ]
    },
    {
      "cell_type": "code",
      "source": [],
      "metadata": {
        "colab": {
          "base_uri": "https://localhost:8080/",
          "height": 17
        },
        "id": "fAIdSSaCaooI",
        "outputId": "635cf26c-05a5-43d0-f3e4-a546595418de"
      },
      "execution_count": null,
      "outputs": [
        {
          "output_type": "display_data",
          "data": {
            "text/plain": [
              "<IPython.core.display.Javascript object>"
            ],
            "application/javascript": [
              "\n",
              "    async function download(id, filename, size) {\n",
              "      if (!google.colab.kernel.accessAllowed) {\n",
              "        return;\n",
              "      }\n",
              "      const div = document.createElement('div');\n",
              "      const label = document.createElement('label');\n",
              "      label.textContent = `Downloading \"${filename}\": `;\n",
              "      div.appendChild(label);\n",
              "      const progress = document.createElement('progress');\n",
              "      progress.max = size;\n",
              "      div.appendChild(progress);\n",
              "      document.body.appendChild(div);\n",
              "\n",
              "      const buffers = [];\n",
              "      let downloaded = 0;\n",
              "\n",
              "      const channel = await google.colab.kernel.comms.open(id);\n",
              "      // Send a message to notify the kernel that we're ready.\n",
              "      channel.send({})\n",
              "\n",
              "      for await (const message of channel.messages) {\n",
              "        // Send a message to notify the kernel that we're ready.\n",
              "        channel.send({})\n",
              "        if (message.buffers) {\n",
              "          for (const buffer of message.buffers) {\n",
              "            buffers.push(buffer);\n",
              "            downloaded += buffer.byteLength;\n",
              "            progress.value = downloaded;\n",
              "          }\n",
              "        }\n",
              "      }\n",
              "      const blob = new Blob(buffers, {type: 'application/binary'});\n",
              "      const a = document.createElement('a');\n",
              "      a.href = window.URL.createObjectURL(blob);\n",
              "      a.download = filename;\n",
              "      div.appendChild(a);\n",
              "      a.click();\n",
              "      div.remove();\n",
              "    }\n",
              "  "
            ]
          },
          "metadata": {}
        },
        {
          "output_type": "display_data",
          "data": {
            "text/plain": [
              "<IPython.core.display.Javascript object>"
            ],
            "application/javascript": [
              "download(\"download_4ccab2f0-0e3f-4ad2-ad64-898cd2fc65ca\", \"Item_list_cleaned.csv\", 538405)"
            ]
          },
          "metadata": {}
        }
      ]
    }
  ]
}