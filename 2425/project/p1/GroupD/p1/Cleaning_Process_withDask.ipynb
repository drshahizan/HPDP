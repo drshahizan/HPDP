{
  "nbformat": 4,
  "nbformat_minor": 0,
  "metadata": {
    "colab": {
      "provenance": []
    },
    "kernelspec": {
      "name": "python3",
      "display_name": "Python 3"
    },
    "language_info": {
      "name": "python"
    }
  },
  "cells": [
    {
      "cell_type": "code",
      "execution_count": null,
      "metadata": {
        "colab": {
          "base_uri": "https://localhost:8080/"
        },
        "id": "J6IoSol-0J5S",
        "outputId": "ad5651a0-2fd1-4612-e39a-f232442adc4c"
      },
      "outputs": [
        {
          "output_type": "stream",
          "name": "stdout",
          "text": [
            "\n",
            "--- Dask Optimized Performance ---\n",
            "Total processing time: 3.81 seconds\n",
            "CPU usage: 0.0%\n",
            "Memory usage: 368.32 MB\n",
            "Throughput: 25994.40 records/second\n"
          ]
        }
      ],
      "source": [
        "import dask.dataframe as dd\n",
        "import re\n",
        "import time\n",
        "import psutil\n",
        "import os\n",
        "\n",
        "# Load dataset with Dask\n",
        "df = dd.read_csv(\"updated_item_list.csv\")\n",
        "\n",
        "# Define function to extract lowest price\n",
        "def extract_price(x):\n",
        "    matches = re.findall(r\"\\d+(?:\\.\\d+)?\", str(x))\n",
        "    if matches:\n",
        "        return float(matches[0])\n",
        "    return None\n",
        "\n",
        "# Clean product_name (remove non-ASCII characters)\n",
        "def clean_name(x):\n",
        "    return re.sub(r\"[^\\x00-\\x7F]+\", '', str(x))\n",
        "\n",
        "# Start performance timer\n",
        "start_time = time.time()\n",
        "process = psutil.Process(os.getpid())\n",
        "\n",
        "# Drop duplicates\n",
        "df = df.drop_duplicates()\n",
        "\n",
        "# Fill nulls\n",
        "df['location'] = df['location'].fillna('Unknown')\n",
        "df['product_type'] = df['product_type'].fillna('Unknown')\n",
        "\n",
        "# Apply extraction using map and specify meta\n",
        "df['cleaned_price'] = df['price'].map(extract_price, meta=('cleaned_price', 'f8'))\n",
        "\n",
        "df['product_name'] = df['product_name'].map(clean_name, meta=('product_name', 'str'))\n",
        "\n",
        "# Rename columns\n",
        "df = df.rename(columns={\n",
        "    'product_name': 'Product Name',\n",
        "    'cleaned_price': 'Price',\n",
        "    'location': 'Location',\n",
        "    'link': 'Link',\n",
        "    'product_type': 'Product Type'\n",
        "})\n",
        "\n",
        "# Drop the original 'price' column\n",
        "df = df.drop('price', axis=1)\n",
        "\n",
        "# Compute the result and round the price\n",
        "result = df.compute()\n",
        "result['Price'] = result['Price'].round(2)\n",
        "\n",
        "# Save to CSV\n",
        "result.to_csv(\"Item_list_cleaned_dask.csv\", index=False, float_format='%.2f')\n",
        "\n",
        "# Performance metrics\n",
        "end_time = time.time()\n",
        "elapsed_time = end_time - start_time\n",
        "cpu_percent = process.cpu_percent(interval=1)\n",
        "memory_usage_mb = process.memory_info().rss / 1024 ** 2\n",
        "throughput = result.shape[0] / elapsed_time\n",
        "\n",
        "print(\"\\n--- Dask Optimized Performance ---\")\n",
        "print(f\"Total processing time: {elapsed_time:.2f} seconds\")\n",
        "print(f\"CPU usage: {cpu_percent}%\")\n",
        "print(f\"Memory usage: {memory_usage_mb:.2f} MB\")\n",
        "print(f\"Throughput: {throughput:.2f} records/second\")\n"
      ]
    }
  ]
}