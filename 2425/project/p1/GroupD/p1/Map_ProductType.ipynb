{
  "nbformat": 4,
  "nbformat_minor": 0,
  "metadata": {
    "colab": {
      "provenance": []
    },
    "kernelspec": {
      "name": "python3",
      "display_name": "Python 3"
    },
    "language_info": {
      "name": "python"
    }
  },
  "cells": [
    {
      "cell_type": "code",
      "source": [
        "from google.colab import files\n",
        "import os\n",
        "import pandas as pd"
      ],
      "metadata": {
        "id": "h5fO6cLNuMsZ"
      },
      "execution_count": null,
      "outputs": []
    },
    {
      "cell_type": "code",
      "execution_count": null,
      "metadata": {
        "colab": {
          "base_uri": "https://localhost:8080/",
          "height": 34
        },
        "id": "aA8RtwBGcBOj",
        "outputId": "91dd8764-6c74-4a79-e29c-7ccdb5c69fd2"
      },
      "outputs": [
        {
          "output_type": "stream",
          "name": "stdout",
          "text": [
            "Merged file saved as: merged_product_list.csv\n"
          ]
        },
        {
          "output_type": "display_data",
          "data": {
            "text/plain": [
              "<IPython.core.display.Javascript object>"
            ],
            "application/javascript": [
              "\n",
              "    async function download(id, filename, size) {\n",
              "      if (!google.colab.kernel.accessAllowed) {\n",
              "        return;\n",
              "      }\n",
              "      const div = document.createElement('div');\n",
              "      const label = document.createElement('label');\n",
              "      label.textContent = `Downloading \"${filename}\": `;\n",
              "      div.appendChild(label);\n",
              "      const progress = document.createElement('progress');\n",
              "      progress.max = size;\n",
              "      div.appendChild(progress);\n",
              "      document.body.appendChild(div);\n",
              "\n",
              "      const buffers = [];\n",
              "      let downloaded = 0;\n",
              "\n",
              "      const channel = await google.colab.kernel.comms.open(id);\n",
              "      // Send a message to notify the kernel that we're ready.\n",
              "      channel.send({})\n",
              "\n",
              "      for await (const message of channel.messages) {\n",
              "        // Send a message to notify the kernel that we're ready.\n",
              "        channel.send({})\n",
              "        if (message.buffers) {\n",
              "          for (const buffer of message.buffers) {\n",
              "            buffers.push(buffer);\n",
              "            downloaded += buffer.byteLength;\n",
              "            progress.value = downloaded;\n",
              "          }\n",
              "        }\n",
              "      }\n",
              "      const blob = new Blob(buffers, {type: 'application/binary'});\n",
              "      const a = document.createElement('a');\n",
              "      a.href = window.URL.createObjectURL(blob);\n",
              "      a.download = filename;\n",
              "      div.appendChild(a);\n",
              "      a.click();\n",
              "      div.remove();\n",
              "    }\n",
              "  "
            ]
          },
          "metadata": {}
        },
        {
          "output_type": "display_data",
          "data": {
            "text/plain": [
              "<IPython.core.display.Javascript object>"
            ],
            "application/javascript": [
              "download(\"download_05a70f01-7c97-4282-9d24-abc6054aafa3\", \"merged_product_list.csv\", 36420039)"
            ]
          },
          "metadata": {}
        }
      ],
      "source": [
        "# Define the output file\n",
        "output_file = \"merged_product_list.csv\"\n",
        "\n",
        "# Automatically list all files in the working directory\n",
        "csv_files = [f for f in os.listdir() if f.startswith(\"Item_list_\") and f.endswith(\".csv\")]\n",
        "\n",
        "merged_data = []\n",
        "\n",
        "for file in csv_files:\n",
        "    # Extract product type from filename\n",
        "    product_type = file.replace(\"Item_list_\", \"\").replace(\".csv\", \"\").strip()\n",
        "\n",
        "    # Load CSV data\n",
        "    df = pd.read_csv(file)\n",
        "\n",
        "    # Drop duplicates within this file based on 'product_name' and 'link'\n",
        "    df.drop_duplicates(subset=['product_name', 'link'], inplace=True)\n",
        "\n",
        "    # Add the product_type column\n",
        "    df['product_type'] = product_type\n",
        "\n",
        "    merged_data.append(df)\n",
        "\n",
        "# Concatenate all DataFrames\n",
        "final_df = pd.concat(merged_data, ignore_index=True)\n",
        "\n",
        "# Save to a new CSV\n",
        "final_df.to_csv(output_file, index=False, encoding='utf-8-sig')\n",
        "\n",
        "print(f\"Merged file saved as: {output_file}\")\n",
        "files.download(output_file)\n"
      ]
    },
    {
      "cell_type": "code",
      "source": [
        "# Load the merged file that contains 'link' and 'product_type'\n",
        "merged_file = \"merged_product_list.csv\"\n",
        "merged_df = pd.read_csv(merged_file)\n",
        "\n",
        "# Create a mapping from link to product_type\n",
        "link_to_type = dict(zip(merged_df['link'], merged_df['product_type']))\n",
        "\n",
        "# Load original file to update\n",
        "original_file = \"Item_list.csv\"\n",
        "df = pd.read_csv(original_file)\n",
        "\n",
        "# Map the product_type from the merged file based on the link\n",
        "df['product_type'] = df['link'].map(link_to_type)\n",
        "\n",
        "# Save the updated file (overwrite or create a new one)\n",
        "updated_file = \"updated_item_list.csv\"\n",
        "df.to_csv(updated_file, index=False, encoding='utf-8-sig')\n",
        "print(f\"Updated: {updated_file}\")\n",
        "\n",
        "\n",
        "files.download(updated_file)\n"
      ],
      "metadata": {
        "colab": {
          "base_uri": "https://localhost:8080/",
          "height": 34
        },
        "id": "wUOUTTUVseGp",
        "outputId": "b3a26f5b-8af8-499f-fd60-789c86e171ff"
      },
      "execution_count": null,
      "outputs": [
        {
          "output_type": "stream",
          "name": "stdout",
          "text": [
            "Updated: updated_item_list.csv\n"
          ]
        },
        {
          "output_type": "display_data",
          "data": {
            "text/plain": [
              "<IPython.core.display.Javascript object>"
            ],
            "application/javascript": [
              "\n",
              "    async function download(id, filename, size) {\n",
              "      if (!google.colab.kernel.accessAllowed) {\n",
              "        return;\n",
              "      }\n",
              "      const div = document.createElement('div');\n",
              "      const label = document.createElement('label');\n",
              "      label.textContent = `Downloading \"${filename}\": `;\n",
              "      div.appendChild(label);\n",
              "      const progress = document.createElement('progress');\n",
              "      progress.max = size;\n",
              "      div.appendChild(progress);\n",
              "      document.body.appendChild(div);\n",
              "\n",
              "      const buffers = [];\n",
              "      let downloaded = 0;\n",
              "\n",
              "      const channel = await google.colab.kernel.comms.open(id);\n",
              "      // Send a message to notify the kernel that we're ready.\n",
              "      channel.send({})\n",
              "\n",
              "      for await (const message of channel.messages) {\n",
              "        // Send a message to notify the kernel that we're ready.\n",
              "        channel.send({})\n",
              "        if (message.buffers) {\n",
              "          for (const buffer of message.buffers) {\n",
              "            buffers.push(buffer);\n",
              "            downloaded += buffer.byteLength;\n",
              "            progress.value = downloaded;\n",
              "          }\n",
              "        }\n",
              "      }\n",
              "      const blob = new Blob(buffers, {type: 'application/binary'});\n",
              "      const a = document.createElement('a');\n",
              "      a.href = window.URL.createObjectURL(blob);\n",
              "      a.download = filename;\n",
              "      div.appendChild(a);\n",
              "      a.click();\n",
              "      div.remove();\n",
              "    }\n",
              "  "
            ]
          },
          "metadata": {}
        },
        {
          "output_type": "display_data",
          "data": {
            "text/plain": [
              "<IPython.core.display.Javascript object>"
            ],
            "application/javascript": [
              "download(\"download_9f36fa5c-6f46-42fa-b8f9-edf4b129dcff\", \"updated_item_list.csv\", 37100133)"
            ]
          },
          "metadata": {}
        }
      ]
    },
    {
      "cell_type": "code",
      "source": [],
      "metadata": {
        "id": "-RxsNq2POeFS"
      },
      "execution_count": null,
      "outputs": []
    }
  ]
}