{
  "nbformat": 4,
  "nbformat_minor": 0,
  "metadata": {
    "colab": {
      "provenance": []
    },
    "kernelspec": {
      "name": "python3",
      "display_name": "Python 3"
    },
    "language_info": {
      "name": "python"
    }
  },
  "cells": [
    {
      "cell_type": "code",
      "execution_count": null,
      "metadata": {
        "colab": {
          "base_uri": "https://localhost:8080/"
        },
        "id": "dU88TWsIvwHq",
        "outputId": "def96f9b-ba47-4ddc-bb7f-5aef73605235"
      },
      "outputs": [
        {
          "output_type": "stream",
          "name": "stdout",
          "text": [
            "\n",
            "--- Optimized Performance Metrics (Polars) ---\n",
            "Total processing time: 0.57 seconds\n",
            "CPU usage: 1.0%\n",
            "Memory usage: 337.42 MB\n",
            "Throughput: 359721.64 records/second\n"
          ]
        }
      ],
      "source": [
        "import polars as pl\n",
        "import time\n",
        "import psutil\n",
        "import os\n",
        "\n",
        "# Load dataset\n",
        "df = pl.read_csv(\"updated_item_list.csv\")\n",
        "\n",
        "# Start performance timer\n",
        "start_time = time.time()\n",
        "process = psutil.Process(os.getpid())\n",
        "\n",
        "# Drop duplicates\n",
        "df = df.unique()\n",
        "\n",
        "# Fill nulls with default values\n",
        "df = df.with_columns([\n",
        "    pl.col(\"location\").fill_null(\"Unknown\"),\n",
        "    pl.col(\"product_type\").fill_null(\"Unknown\")\n",
        "])\n",
        "\n",
        "# Extract cleaned versions first\n",
        "df = df.with_columns([\n",
        "    pl.col(\"price\").str.extract(r\"(\\d+(?:\\.\\d+)?)\").cast(pl.Float64).round(2).alias(\"price\"),\n",
        "    pl.col(\"product_name\").str.replace_all(r\"[^\\x00-\\x7F]+\", \"\").alias(\"product_name\")\n",
        "])\n",
        "\n",
        "# Reorder columns if needed\n",
        "df = df.select([\n",
        "    \"product_name\", \"price\", \"location\", \"link\", \"product_type\"\n",
        "])\n",
        "\n",
        "# Rename columns\n",
        "df = df.rename({\n",
        "    \"product_name\": \"Product Name\",\n",
        "    \"price\": \"Price\",\n",
        "    \"location\": \"Location\",\n",
        "    \"link\": \"Link\",\n",
        "    \"product_type\": \"Product Type\"\n",
        "})\n",
        "\n",
        "# Save cleaned CSV\n",
        "df.write_csv(\"Item_list_cleaned_optimized.csv\")\n",
        "\n",
        "# End performance tracking\n",
        "end_time = time.time()\n",
        "elapsed_time = end_time - start_time\n",
        "cpu_percent = process.cpu_percent(interval=1)\n",
        "memory_usage_mb = process.memory_info().rss / 1024 ** 2\n",
        "throughput = df.shape[0] / elapsed_time\n",
        "\n",
        "# Log performance\n",
        "print(\"\\n--- Optimized Performance Metrics (Polars) ---\")\n",
        "print(f\"Total processing time: {elapsed_time:.2f} seconds\")\n",
        "print(f\"CPU usage: {cpu_percent}%\")\n",
        "print(f\"Memory usage: {memory_usage_mb:.2f} MB\")\n",
        "print(f\"Throughput: {throughput:.2f} records/second\")\n"
      ]
    }
  ]
}