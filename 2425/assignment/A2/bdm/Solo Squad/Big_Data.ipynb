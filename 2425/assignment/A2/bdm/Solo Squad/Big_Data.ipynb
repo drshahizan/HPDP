{
  "cells": [
    {
      "cell_type": "markdown",
      "metadata": {
        "id": "41KRjsKgnI6f"
      },
      "source": [
        "# 🧠 Big Data Handling Assignment\n",
        "## Dataset: MyAnimeList Ratings (`MAL_ratings.csv`)"
      ],
      "id": "41KRjsKgnI6f"
    },
    {
      "cell_type": "markdown",
      "metadata": {
        "id": "8MvY7C3RnI6g"
      },
      "source": [
        "## ✅ Task 1: Dataset Selection\n",
        "- **Name**: MyAnimeList Dataset\n",
        "- **Source**: [Kaggle - MyAnimeList Dataset](https://www.kaggle.com/datasets/dbdmobile/myanimelist-dataset)\n",
        "- **Size**: ~700MB – 4.5GB (varies by file)\n",
        "- **Domain**: Anime user reviews and statistics\n",
        "- **Number of Records**:\n",
        "  - `MAL_anime.csv`: ~39,000 anime entries\n",
        "  - `MAL_users.csv`: ~2 million users\n",
        "  - `MAL_ratings.csv`: ~24 million ratings"
      ],
      "id": "8MvY7C3RnI6g"
    },
    {
      "cell_type": "markdown",
      "metadata": {
        "id": "Hf2abZjOnI6h"
      },
      "source": [
        "## 🔧 Task 2: Load and Inspect Data"
      ],
      "id": "Hf2abZjOnI6h"
    },
    {
      "cell_type": "code",
      "execution_count": 5,
      "metadata": {
        "colab": {
          "base_uri": "https://localhost:8080/",
          "height": 343
        },
        "id": "YVT71SpYnI6h",
        "outputId": "f4612a83-9c3b-4527-d546-1ae5e270e499"
      },
      "outputs": [
        {
          "output_type": "display_data",
          "data": {
            "text/plain": [
              "<IPython.core.display.HTML object>"
            ],
            "text/html": [
              "\n",
              "     <input type=\"file\" id=\"files-53653460-f354-4bee-a719-75b128cdd586\" name=\"files[]\" multiple disabled\n",
              "        style=\"border:none\" />\n",
              "     <output id=\"result-53653460-f354-4bee-a719-75b128cdd586\">\n",
              "      Upload widget is only available when the cell has been executed in the\n",
              "      current browser session. Please rerun this cell to enable.\n",
              "      </output>\n",
              "      <script>// Copyright 2017 Google LLC\n",
              "//\n",
              "// Licensed under the Apache License, Version 2.0 (the \"License\");\n",
              "// you may not use this file except in compliance with the License.\n",
              "// You may obtain a copy of the License at\n",
              "//\n",
              "//      http://www.apache.org/licenses/LICENSE-2.0\n",
              "//\n",
              "// Unless required by applicable law or agreed to in writing, software\n",
              "// distributed under the License is distributed on an \"AS IS\" BASIS,\n",
              "// WITHOUT WARRANTIES OR CONDITIONS OF ANY KIND, either express or implied.\n",
              "// See the License for the specific language governing permissions and\n",
              "// limitations under the License.\n",
              "\n",
              "/**\n",
              " * @fileoverview Helpers for google.colab Python module.\n",
              " */\n",
              "(function(scope) {\n",
              "function span(text, styleAttributes = {}) {\n",
              "  const element = document.createElement('span');\n",
              "  element.textContent = text;\n",
              "  for (const key of Object.keys(styleAttributes)) {\n",
              "    element.style[key] = styleAttributes[key];\n",
              "  }\n",
              "  return element;\n",
              "}\n",
              "\n",
              "// Max number of bytes which will be uploaded at a time.\n",
              "const MAX_PAYLOAD_SIZE = 100 * 1024;\n",
              "\n",
              "function _uploadFiles(inputId, outputId) {\n",
              "  const steps = uploadFilesStep(inputId, outputId);\n",
              "  const outputElement = document.getElementById(outputId);\n",
              "  // Cache steps on the outputElement to make it available for the next call\n",
              "  // to uploadFilesContinue from Python.\n",
              "  outputElement.steps = steps;\n",
              "\n",
              "  return _uploadFilesContinue(outputId);\n",
              "}\n",
              "\n",
              "// This is roughly an async generator (not supported in the browser yet),\n",
              "// where there are multiple asynchronous steps and the Python side is going\n",
              "// to poll for completion of each step.\n",
              "// This uses a Promise to block the python side on completion of each step,\n",
              "// then passes the result of the previous step as the input to the next step.\n",
              "function _uploadFilesContinue(outputId) {\n",
              "  const outputElement = document.getElementById(outputId);\n",
              "  const steps = outputElement.steps;\n",
              "\n",
              "  const next = steps.next(outputElement.lastPromiseValue);\n",
              "  return Promise.resolve(next.value.promise).then((value) => {\n",
              "    // Cache the last promise value to make it available to the next\n",
              "    // step of the generator.\n",
              "    outputElement.lastPromiseValue = value;\n",
              "    return next.value.response;\n",
              "  });\n",
              "}\n",
              "\n",
              "/**\n",
              " * Generator function which is called between each async step of the upload\n",
              " * process.\n",
              " * @param {string} inputId Element ID of the input file picker element.\n",
              " * @param {string} outputId Element ID of the output display.\n",
              " * @return {!Iterable<!Object>} Iterable of next steps.\n",
              " */\n",
              "function* uploadFilesStep(inputId, outputId) {\n",
              "  const inputElement = document.getElementById(inputId);\n",
              "  inputElement.disabled = false;\n",
              "\n",
              "  const outputElement = document.getElementById(outputId);\n",
              "  outputElement.innerHTML = '';\n",
              "\n",
              "  const pickedPromise = new Promise((resolve) => {\n",
              "    inputElement.addEventListener('change', (e) => {\n",
              "      resolve(e.target.files);\n",
              "    });\n",
              "  });\n",
              "\n",
              "  const cancel = document.createElement('button');\n",
              "  inputElement.parentElement.appendChild(cancel);\n",
              "  cancel.textContent = 'Cancel upload';\n",
              "  const cancelPromise = new Promise((resolve) => {\n",
              "    cancel.onclick = () => {\n",
              "      resolve(null);\n",
              "    };\n",
              "  });\n",
              "\n",
              "  // Wait for the user to pick the files.\n",
              "  const files = yield {\n",
              "    promise: Promise.race([pickedPromise, cancelPromise]),\n",
              "    response: {\n",
              "      action: 'starting',\n",
              "    }\n",
              "  };\n",
              "\n",
              "  cancel.remove();\n",
              "\n",
              "  // Disable the input element since further picks are not allowed.\n",
              "  inputElement.disabled = true;\n",
              "\n",
              "  if (!files) {\n",
              "    return {\n",
              "      response: {\n",
              "        action: 'complete',\n",
              "      }\n",
              "    };\n",
              "  }\n",
              "\n",
              "  for (const file of files) {\n",
              "    const li = document.createElement('li');\n",
              "    li.append(span(file.name, {fontWeight: 'bold'}));\n",
              "    li.append(span(\n",
              "        `(${file.type || 'n/a'}) - ${file.size} bytes, ` +\n",
              "        `last modified: ${\n",
              "            file.lastModifiedDate ? file.lastModifiedDate.toLocaleDateString() :\n",
              "                                    'n/a'} - `));\n",
              "    const percent = span('0% done');\n",
              "    li.appendChild(percent);\n",
              "\n",
              "    outputElement.appendChild(li);\n",
              "\n",
              "    const fileDataPromise = new Promise((resolve) => {\n",
              "      const reader = new FileReader();\n",
              "      reader.onload = (e) => {\n",
              "        resolve(e.target.result);\n",
              "      };\n",
              "      reader.readAsArrayBuffer(file);\n",
              "    });\n",
              "    // Wait for the data to be ready.\n",
              "    let fileData = yield {\n",
              "      promise: fileDataPromise,\n",
              "      response: {\n",
              "        action: 'continue',\n",
              "      }\n",
              "    };\n",
              "\n",
              "    // Use a chunked sending to avoid message size limits. See b/62115660.\n",
              "    let position = 0;\n",
              "    do {\n",
              "      const length = Math.min(fileData.byteLength - position, MAX_PAYLOAD_SIZE);\n",
              "      const chunk = new Uint8Array(fileData, position, length);\n",
              "      position += length;\n",
              "\n",
              "      const base64 = btoa(String.fromCharCode.apply(null, chunk));\n",
              "      yield {\n",
              "        response: {\n",
              "          action: 'append',\n",
              "          file: file.name,\n",
              "          data: base64,\n",
              "        },\n",
              "      };\n",
              "\n",
              "      let percentDone = fileData.byteLength === 0 ?\n",
              "          100 :\n",
              "          Math.round((position / fileData.byteLength) * 100);\n",
              "      percent.textContent = `${percentDone}% done`;\n",
              "\n",
              "    } while (position < fileData.byteLength);\n",
              "  }\n",
              "\n",
              "  // All done.\n",
              "  yield {\n",
              "    response: {\n",
              "      action: 'complete',\n",
              "    }\n",
              "  };\n",
              "}\n",
              "\n",
              "scope.google = scope.google || {};\n",
              "scope.google.colab = scope.google.colab || {};\n",
              "scope.google.colab._files = {\n",
              "  _uploadFiles,\n",
              "  _uploadFilesContinue,\n",
              "};\n",
              "})(self);\n",
              "</script> "
            ]
          },
          "metadata": {}
        },
        {
          "output_type": "error",
          "ename": "KeyboardInterrupt",
          "evalue": "",
          "traceback": [
            "\u001b[0;31m---------------------------------------------------------------------------\u001b[0m",
            "\u001b[0;31mKeyboardInterrupt\u001b[0m                         Traceback (most recent call last)",
            "\u001b[0;32m<ipython-input-5-b1c42bb67cb4>\u001b[0m in \u001b[0;36m<cell line: 0>\u001b[0;34m()\u001b[0m\n\u001b[1;32m      1\u001b[0m \u001b[0;31m# Upload Kaggle credentials\u001b[0m\u001b[0;34m\u001b[0m\u001b[0;34m\u001b[0m\u001b[0m\n\u001b[1;32m      2\u001b[0m \u001b[0;32mfrom\u001b[0m \u001b[0mgoogle\u001b[0m\u001b[0;34m.\u001b[0m\u001b[0mcolab\u001b[0m \u001b[0;32mimport\u001b[0m \u001b[0mfiles\u001b[0m\u001b[0;34m\u001b[0m\u001b[0;34m\u001b[0m\u001b[0m\n\u001b[0;32m----> 3\u001b[0;31m \u001b[0mfiles\u001b[0m\u001b[0;34m.\u001b[0m\u001b[0mupload\u001b[0m\u001b[0;34m(\u001b[0m\u001b[0;34m)\u001b[0m\u001b[0;34m\u001b[0m\u001b[0;34m\u001b[0m\u001b[0m\n\u001b[0m",
            "\u001b[0;32m/usr/local/lib/python3.11/dist-packages/google/colab/files.py\u001b[0m in \u001b[0;36mupload\u001b[0;34m(target_dir)\u001b[0m\n\u001b[1;32m     70\u001b[0m   \"\"\"\n\u001b[1;32m     71\u001b[0m \u001b[0;34m\u001b[0m\u001b[0m\n\u001b[0;32m---> 72\u001b[0;31m   \u001b[0muploaded_files\u001b[0m \u001b[0;34m=\u001b[0m \u001b[0m_upload_files\u001b[0m\u001b[0;34m(\u001b[0m\u001b[0mmultiple\u001b[0m\u001b[0;34m=\u001b[0m\u001b[0;32mTrue\u001b[0m\u001b[0;34m)\u001b[0m\u001b[0;34m\u001b[0m\u001b[0;34m\u001b[0m\u001b[0m\n\u001b[0m\u001b[1;32m     73\u001b[0m   \u001b[0;31m# Mapping from original filename to filename as saved locally.\u001b[0m\u001b[0;34m\u001b[0m\u001b[0;34m\u001b[0m\u001b[0m\n\u001b[1;32m     74\u001b[0m   \u001b[0mlocal_filenames\u001b[0m \u001b[0;34m=\u001b[0m \u001b[0mdict\u001b[0m\u001b[0;34m(\u001b[0m\u001b[0;34m)\u001b[0m\u001b[0;34m\u001b[0m\u001b[0;34m\u001b[0m\u001b[0m\n",
            "\u001b[0;32m/usr/local/lib/python3.11/dist-packages/google/colab/files.py\u001b[0m in \u001b[0;36m_upload_files\u001b[0;34m(multiple)\u001b[0m\n\u001b[1;32m    162\u001b[0m \u001b[0;34m\u001b[0m\u001b[0m\n\u001b[1;32m    163\u001b[0m   \u001b[0;31m# First result is always an indication that the file picker has completed.\u001b[0m\u001b[0;34m\u001b[0m\u001b[0;34m\u001b[0m\u001b[0m\n\u001b[0;32m--> 164\u001b[0;31m   result = _output.eval_js(\n\u001b[0m\u001b[1;32m    165\u001b[0m       'google.colab._files._uploadFiles(\"{input_id}\", \"{output_id}\")'.format(\n\u001b[1;32m    166\u001b[0m           \u001b[0minput_id\u001b[0m\u001b[0;34m=\u001b[0m\u001b[0minput_id\u001b[0m\u001b[0;34m,\u001b[0m \u001b[0moutput_id\u001b[0m\u001b[0;34m=\u001b[0m\u001b[0moutput_id\u001b[0m\u001b[0;34m\u001b[0m\u001b[0;34m\u001b[0m\u001b[0m\n",
            "\u001b[0;32m/usr/local/lib/python3.11/dist-packages/google/colab/output/_js.py\u001b[0m in \u001b[0;36meval_js\u001b[0;34m(script, ignore_result, timeout_sec)\u001b[0m\n\u001b[1;32m     38\u001b[0m   \u001b[0;32mif\u001b[0m \u001b[0mignore_result\u001b[0m\u001b[0;34m:\u001b[0m\u001b[0;34m\u001b[0m\u001b[0;34m\u001b[0m\u001b[0m\n\u001b[1;32m     39\u001b[0m     \u001b[0;32mreturn\u001b[0m\u001b[0;34m\u001b[0m\u001b[0;34m\u001b[0m\u001b[0m\n\u001b[0;32m---> 40\u001b[0;31m   \u001b[0;32mreturn\u001b[0m \u001b[0m_message\u001b[0m\u001b[0;34m.\u001b[0m\u001b[0mread_reply_from_input\u001b[0m\u001b[0;34m(\u001b[0m\u001b[0mrequest_id\u001b[0m\u001b[0;34m,\u001b[0m \u001b[0mtimeout_sec\u001b[0m\u001b[0;34m)\u001b[0m\u001b[0;34m\u001b[0m\u001b[0;34m\u001b[0m\u001b[0m\n\u001b[0m\u001b[1;32m     41\u001b[0m \u001b[0;34m\u001b[0m\u001b[0m\n\u001b[1;32m     42\u001b[0m \u001b[0;34m\u001b[0m\u001b[0m\n",
            "\u001b[0;32m/usr/local/lib/python3.11/dist-packages/google/colab/_message.py\u001b[0m in \u001b[0;36mread_reply_from_input\u001b[0;34m(message_id, timeout_sec)\u001b[0m\n\u001b[1;32m     94\u001b[0m     \u001b[0mreply\u001b[0m \u001b[0;34m=\u001b[0m \u001b[0m_read_next_input_message\u001b[0m\u001b[0;34m(\u001b[0m\u001b[0;34m)\u001b[0m\u001b[0;34m\u001b[0m\u001b[0;34m\u001b[0m\u001b[0m\n\u001b[1;32m     95\u001b[0m     \u001b[0;32mif\u001b[0m \u001b[0mreply\u001b[0m \u001b[0;34m==\u001b[0m \u001b[0m_NOT_READY\u001b[0m \u001b[0;32mor\u001b[0m \u001b[0;32mnot\u001b[0m \u001b[0misinstance\u001b[0m\u001b[0;34m(\u001b[0m\u001b[0mreply\u001b[0m\u001b[0;34m,\u001b[0m \u001b[0mdict\u001b[0m\u001b[0;34m)\u001b[0m\u001b[0;34m:\u001b[0m\u001b[0;34m\u001b[0m\u001b[0;34m\u001b[0m\u001b[0m\n\u001b[0;32m---> 96\u001b[0;31m       \u001b[0mtime\u001b[0m\u001b[0;34m.\u001b[0m\u001b[0msleep\u001b[0m\u001b[0;34m(\u001b[0m\u001b[0;36m0.025\u001b[0m\u001b[0;34m)\u001b[0m\u001b[0;34m\u001b[0m\u001b[0;34m\u001b[0m\u001b[0m\n\u001b[0m\u001b[1;32m     97\u001b[0m       \u001b[0;32mcontinue\u001b[0m\u001b[0;34m\u001b[0m\u001b[0;34m\u001b[0m\u001b[0m\n\u001b[1;32m     98\u001b[0m     if (\n",
            "\u001b[0;31mKeyboardInterrupt\u001b[0m: "
          ]
        }
      ],
      "source": [
        "# Upload Kaggle credentials\n",
        "from google.colab import files\n",
        "files.upload()"
      ],
      "id": "YVT71SpYnI6h"
    },
    {
      "cell_type": "code",
      "execution_count": 6,
      "metadata": {
        "id": "jeVF8ilTnI6h"
      },
      "outputs": [],
      "source": [
        "# Move kaggle.json to correct location\n",
        "!mkdir -p ~/.kaggle\n",
        "!cp kaggle.json ~/.kaggle/\n",
        "!chmod 600 ~/.kaggle/kaggle.json"
      ],
      "id": "jeVF8ilTnI6h"
    },
    {
      "cell_type": "code",
      "execution_count": 7,
      "metadata": {
        "colab": {
          "base_uri": "https://localhost:8080/"
        },
        "id": "75nDYfPVnI6h",
        "outputId": "0ee5dc1e-3d13-4d91-c2a7-8ef633a28efa"
      },
      "outputs": [
        {
          "output_type": "stream",
          "name": "stdout",
          "text": [
            "Dataset URL: https://www.kaggle.com/datasets/dbdmobile/myanimelist-dataset\n",
            "License(s): DbCL-1.0\n",
            "User cancelled operation\n"
          ]
        }
      ],
      "source": [
        "# Download dataset from Kaggle\n",
        "!kaggle datasets download -d dbdmobile/myanimelist-dataset"
      ],
      "id": "75nDYfPVnI6h"
    },
    {
      "cell_type": "code",
      "execution_count": 8,
      "metadata": {
        "colab": {
          "base_uri": "https://localhost:8080/"
        },
        "id": "cypFsDRDnI6h",
        "outputId": "29d045ab-71eb-4da1-c4a1-c657b2eabf9b"
      },
      "outputs": [
        {
          "output_type": "stream",
          "name": "stdout",
          "text": [
            "Archive:  myanimelist-dataset.zip\n",
            "replace anime-dataset-2023.csv? [y]es, [n]o, [A]ll, [N]one, [r]ename: "
          ]
        }
      ],
      "source": [
        "# Unzip the dataset\n",
        "!unzip myanimelist-dataset.zip"
      ],
      "id": "cypFsDRDnI6h"
    },
    {
      "cell_type": "code",
      "source": [
        "print(\"check the file size (to confirm it's >700MB)\\n\")\n",
        "\n",
        "!ls -l final_animedataset.csv"
      ],
      "metadata": {
        "colab": {
          "base_uri": "https://localhost:8080/"
        },
        "id": "-aOaFAaH15Hi",
        "outputId": "1be67091-ef68-4f0a-836c-3aed14186d72"
      },
      "id": "-aOaFAaH15Hi",
      "execution_count": 9,
      "outputs": [
        {
          "output_type": "stream",
          "name": "stdout",
          "text": [
            "check the file size (to confirm it's >700MB)\n",
            "\n",
            "-rw-r--r-- 1 root root 4549801910 Jul 28  2023 final_animedataset.csv\n"
          ]
        }
      ]
    },
    {
      "cell_type": "markdown",
      "source": [
        "## Load First Few Rows to Inspect"
      ],
      "metadata": {
        "id": "dSLz-dj52urQ"
      },
      "id": "dSLz-dj52urQ"
    },
    {
      "cell_type": "code",
      "source": [
        "import pandas as pd\n",
        "\n",
        "# Load first 10 rows to inspect\n",
        "df = pd.read_csv('final_animedataset.csv', nrows=10)\n",
        "\n",
        "print(\"Shape:\", df.shape)\n",
        "print(\"Columns:\", df.columns.tolist())\n",
        "print(\"Data Types:\\n\", df.dtypes)"
      ],
      "metadata": {
        "colab": {
          "base_uri": "https://localhost:8080/"
        },
        "id": "go4sFjR12yVp",
        "outputId": "bc71e402-8fc4-43ea-9fb8-bd2ef7ac9b3e"
      },
      "id": "go4sFjR12yVp",
      "execution_count": 26,
      "outputs": [
        {
          "output_type": "stream",
          "name": "stdout",
          "text": [
            "Shape: (10, 13)\n",
            "Columns: ['username', 'anime_id', 'my_score', 'user_id', 'gender', 'title', 'type', 'source', 'score', 'scored_by', 'rank', 'popularity', 'genre']\n",
            "Data Types:\n",
            " username       object\n",
            "anime_id        int64\n",
            "my_score        int64\n",
            "user_id         int64\n",
            "gender         object\n",
            "title          object\n",
            "type           object\n",
            "source         object\n",
            "score         float64\n",
            "scored_by       int64\n",
            "rank          float64\n",
            "popularity      int64\n",
            "genre          object\n",
            "dtype: object\n"
          ]
        }
      ]
    },
    {
      "cell_type": "markdown",
      "source": [
        "## 🧠 Task 3: Apply Big Data Handling Strategies"
      ],
      "metadata": {
        "id": "Akg4PIZR52eD"
      },
      "id": "Akg4PIZR52eD"
    },
    {
      "cell_type": "code",
      "source": [
        "import pandas as pd\n",
        "import polars as pl\n",
        "from dask import dataframe as dd\n",
        "import psutil\n",
        "import time\n",
        "\n",
        "\n",
        "def get_memory_usage():\n",
        "    return psutil.virtual_memory().used / (1024 ** 2)  # in MB\n",
        "\n",
        "cols_to_use = ['username', 'anime_id', 'my_score', 'genre', 'type', 'score']"
      ],
      "metadata": {
        "id": "JVY1WkiADWBV"
      },
      "id": "JVY1WkiADWBV",
      "execution_count": 14,
      "outputs": []
    },
    {
      "cell_type": "markdown",
      "metadata": {
        "id": "VcE635iunI6i"
      },
      "source": [
        "### Strategy 1: Load Less Data"
      ],
      "id": "VcE635iunI6i"
    },
    {
      "cell_type": "code",
      "execution_count": 20,
      "metadata": {
        "colab": {
          "base_uri": "https://localhost:8080/"
        },
        "id": "NwMMIjZ8nI6i",
        "outputId": "92223ab5-d7b8-42de-cbf6-813ba52677b7"
      },
      "outputs": [
        {
          "output_type": "stream",
          "name": "stdout",
          "text": [
            "[Pandas] Execution Time: 74.03 seconds\n",
            "[Pandas] Memory Used: 4771.56 MB\n",
            "[Polars] Execution Time: 26.33 seconds\n",
            "[Polars] Memory Used: 8521.61 MB\n",
            "[Dask] Execution Time: 0.24 seconds\n",
            "[Dask] Memory Used: 8523.0 MB\n"
          ]
        }
      ],
      "source": [
        "\n",
        "# Pandas\n",
        "start = time.time()\n",
        "df_pd = pd.read_csv('final_animedataset.csv', usecols=cols_to_use)\n",
        "end = time.time()\n",
        "mem_used = get_memory_usage()\n",
        "print(\"[Pandas] Execution Time:\", round(end - start, 2), \"seconds\")\n",
        "print(\"[Pandas] Memory Used:\", round(mem_used, 2), \"MB\")\n",
        "\n",
        "# Polars\n",
        "start = time.time()\n",
        "df_pl = pl.read_csv('final_animedataset.csv', columns=cols_to_use)\n",
        "end = time.time()\n",
        "mem_used = get_memory_usage()\n",
        "print(\"[Polars] Execution Time:\", round(end - start, 2), \"seconds\")\n",
        "print(\"[Polars] Memory Used:\", round(mem_used, 2), \"MB\")\n",
        "\n",
        "# Dask\n",
        "start = time.time()\n",
        "df_dd = dd.read_csv('final_animedataset.csv', usecols=cols_to_use)\n",
        "end = time.time()\n",
        "mem_used = get_memory_usage()\n",
        "print(\"[Dask] Execution Time:\", round(end - start, 2), \"seconds\")\n",
        "print(\"[Dask] Memory Used:\", round(mem_used, 2), \"MB\")"
      ],
      "id": "NwMMIjZ8nI6i"
    },
    {
      "cell_type": "markdown",
      "metadata": {
        "id": "-grjRclgnI6i"
      },
      "source": [
        "### Strategy 2: Chunking"
      ],
      "id": "-grjRclgnI6i"
    },
    {
      "cell_type": "code",
      "execution_count": 15,
      "metadata": {
        "colab": {
          "base_uri": "https://localhost:8080/"
        },
        "id": "Mk179SMMnI6i",
        "outputId": "f91f8943-a225-45b4-b4f7-385c7964d0a4"
      },
      "outputs": [
        {
          "output_type": "stream",
          "name": "stdout",
          "text": [
            "[Pandas Chunking] Execution Time: 77.15 seconds\n",
            "[Pandas Chunking] Memory Used: 1016.05 MB\n"
          ]
        }
      ],
      "source": [
        "# Pandas\n",
        "chunksize = 100_000\n",
        "total_rows = 0\n",
        "start = time.time()\n",
        "\n",
        "for chunk in pd.read_csv('final_animedataset.csv', chunksize=chunksize, usecols=cols_to_use):\n",
        "    total_rows += len(chunk)\n",
        "\n",
        "end = time.time()\n",
        "mem_used = get_memory_usage()\n",
        "print(\"[Pandas Chunking] Execution Time:\", round(end - start, 2), \"seconds\")\n",
        "print(\"[Pandas Chunking] Memory Used:\", round(mem_used, 2), \"MB\")"
      ],
      "id": "Mk179SMMnI6i"
    },
    {
      "cell_type": "markdown",
      "metadata": {
        "id": "uZ5AYrcVnI6i"
      },
      "source": [
        "### Strategy 3: Optimize Data Types"
      ],
      "id": "uZ5AYrcVnI6i"
    },
    {
      "cell_type": "code",
      "execution_count": 16,
      "metadata": {
        "colab": {
          "base_uri": "https://localhost:8080/"
        },
        "id": "RffqUFcQnI6i",
        "outputId": "b588fab0-81a6-4cd0-88e6-96ae9c16ecf4"
      },
      "outputs": [
        {
          "output_type": "stream",
          "name": "stdout",
          "text": [
            "[Pandas Optimized] Execution Time: 90.25 seconds\n",
            "[Pandas Optimized] Memory Used: 2312.83 MB\n",
            "[Polars] Execution Time: 18.88 seconds\n",
            "[Polars] Memory Used: 6067.03 MB\n"
          ]
        }
      ],
      "source": [
        "dtypes_pd = {\n",
        "    'username': 'category',\n",
        "    'anime_id': 'int32',\n",
        "    'my_score': 'int8',\n",
        "    'genre': 'category',\n",
        "    'type': 'category',\n",
        "    'score': 'float32'\n",
        "}\n",
        "\n",
        "# Pandas\n",
        "start = time.time()\n",
        "df_pd = pd.read_csv('final_animedataset.csv', usecols=cols_to_use, dtype=dtypes_pd)\n",
        "end = time.time()\n",
        "mem_used = get_memory_usage()\n",
        "print(\"[Pandas Optimized] Execution Time:\", round(end - start, 2), \"seconds\")\n",
        "print(\"[Pandas Optimized] Memory Used:\", round(mem_used, 2), \"MB\")\n",
        "\n",
        "# Polars (automatically infers optimized types)\n",
        "start = time.time()\n",
        "df_pl = pl.read_csv('final_animedataset.csv', columns=cols_to_use)\n",
        "end = time.time()\n",
        "mem_used = get_memory_usage()\n",
        "print(\"[Polars] Execution Time:\", round(end - start, 2), \"seconds\")\n",
        "print(\"[Polars] Memory Used:\", round(mem_used, 2), \"MB\")"
      ],
      "id": "RffqUFcQnI6i"
    },
    {
      "cell_type": "markdown",
      "metadata": {
        "id": "FM-kqcELnI6j"
      },
      "source": [
        "### Strategy 4: Sampling"
      ],
      "id": "FM-kqcELnI6j"
    },
    {
      "cell_type": "code",
      "execution_count": 17,
      "metadata": {
        "colab": {
          "base_uri": "https://localhost:8080/"
        },
        "id": "qYlFlhHYnI6j",
        "outputId": "f44db4e3-4d3f-4dde-c6ac-9c4ff4f41fde"
      },
      "outputs": [
        {
          "output_type": "stream",
          "name": "stdout",
          "text": [
            "[Pandas Sample] Execution Time: 0.31 seconds\n",
            "[Pandas Sample] Memory Used: 6077.17 MB\n",
            "[Polars Sample] Execution Time: 0.95 seconds\n",
            "[Polars Sample] Memory Used: 5742.82 MB\n"
          ]
        }
      ],
      "source": [
        "# Pandas\n",
        "start = time.time()\n",
        "df_pd = pd.read_csv('final_animedataset.csv', usecols=cols_to_use, nrows=100_000)\n",
        "end = time.time()\n",
        "mem_used = get_memory_usage()\n",
        "print(\"[Pandas Sample] Execution Time:\", round(end - start, 2), \"seconds\")\n",
        "print(\"[Pandas Sample] Memory Used:\", round(mem_used, 2), \"MB\")\n",
        "\n",
        "# Polars\n",
        "start = time.time()\n",
        "df_pl = pl.read_csv('final_animedataset.csv', n_rows=100_000, columns=cols_to_use)\n",
        "end = time.time()\n",
        "mem_used = get_memory_usage()\n",
        "print(\"[Polars Sample] Execution Time:\", round(end - start, 2), \"seconds\")\n",
        "print(\"[Polars Sample] Memory Used:\", round(mem_used, 2), \"MB\")"
      ],
      "id": "qYlFlhHYnI6j"
    },
    {
      "cell_type": "markdown",
      "metadata": {
        "id": "RROBXNv9nI6j"
      },
      "source": [
        "### Strategy 5: Parallel Processing with Dask"
      ],
      "id": "RROBXNv9nI6j"
    },
    {
      "cell_type": "code",
      "execution_count": 18,
      "metadata": {
        "colab": {
          "base_uri": "https://localhost:8080/"
        },
        "id": "jWurPDTunI6j",
        "outputId": "ef04fd5f-f21f-4ac9-c5d8-2f30608efd9e"
      },
      "outputs": [
        {
          "output_type": "stream",
          "name": "stdout",
          "text": [
            "Requirement already satisfied: dask in /usr/local/lib/python3.11/dist-packages (2024.12.1)\n",
            "Requirement already satisfied: click>=8.1 in /usr/local/lib/python3.11/dist-packages (from dask) (8.2.1)\n",
            "Requirement already satisfied: cloudpickle>=3.0.0 in /usr/local/lib/python3.11/dist-packages (from dask) (3.1.1)\n",
            "Requirement already satisfied: fsspec>=2021.09.0 in /usr/local/lib/python3.11/dist-packages (from dask) (2025.3.2)\n",
            "Requirement already satisfied: packaging>=20.0 in /usr/local/lib/python3.11/dist-packages (from dask) (24.2)\n",
            "Requirement already satisfied: partd>=1.4.0 in /usr/local/lib/python3.11/dist-packages (from dask) (1.4.2)\n",
            "Requirement already satisfied: pyyaml>=5.3.1 in /usr/local/lib/python3.11/dist-packages (from dask) (6.0.2)\n",
            "Requirement already satisfied: toolz>=0.10.0 in /usr/local/lib/python3.11/dist-packages (from dask) (0.12.1)\n",
            "Requirement already satisfied: importlib_metadata>=4.13.0 in /usr/local/lib/python3.11/dist-packages (from dask) (8.7.0)\n",
            "Requirement already satisfied: zipp>=3.20 in /usr/local/lib/python3.11/dist-packages (from importlib_metadata>=4.13.0->dask) (3.22.0)\n",
            "Requirement already satisfied: locket in /usr/local/lib/python3.11/dist-packages (from partd>=1.4.0->dask) (1.0.0)\n"
          ]
        }
      ],
      "source": [
        "!pip install dask"
      ],
      "id": "jWurPDTunI6j"
    },
    {
      "cell_type": "code",
      "execution_count": 19,
      "metadata": {
        "colab": {
          "base_uri": "https://localhost:8080/"
        },
        "id": "gkpF0cH-nI6j",
        "outputId": "7279d40d-4845-4546-c5c1-5d727b5c24dc"
      },
      "outputs": [
        {
          "output_type": "stream",
          "name": "stdout",
          "text": [
            "[Dask Full] Execution Time: 87.14 seconds\n",
            "[Dask Full] Memory Used: 3212.63 MB\n",
            "Mean Score (Example Computation): 7.527707991586059\n"
          ]
        }
      ],
      "source": [
        "# Dask\n",
        "start = time.time()\n",
        "ddf = dd.read_csv('final_animedataset.csv', usecols=cols_to_use)\n",
        "mean_score = ddf['score'].mean().compute()  # Force evaluation\n",
        "end = time.time()\n",
        "mem_used = get_memory_usage()\n",
        "\n",
        "print(\"[Dask Full] Execution Time:\", round(end - start, 2), \"seconds\")\n",
        "print(\"[Dask Full] Memory Used:\", round(mem_used, 2), \"MB\")\n",
        "print(\"Mean Score (Example Computation):\", mean_score)"
      ],
      "id": "gkpF0cH-nI6j"
    },
    {
      "cell_type": "markdown",
      "metadata": {
        "id": "u7RMphQznI6j"
      },
      "source": [
        "## 📊 Task 4: Comparative Analysis"
      ],
      "id": "u7RMphQznI6j"
    },
    {
      "cell_type": "markdown",
      "metadata": {
        "id": "_TnuclKNnI6j"
      },
      "source": [
        "| Strategy              | Library     | Execution Time (s) | Memory Used (MB) |\n",
        "|-----------------------|-------------|--------------------|------------------|\n",
        "| Load Less Data        | Pandas      | 74.03              | 4771.56          |\n",
        "| Load Less Data        | Polars      | 26.33              | 8521.61          |\n",
        "| Load Less Data        | Dask        | 0.24               | 8523.00          |\n",
        "| Chunking              | Pandas      | 77.15              | 1016.05          |\n",
        "| Optimize Types        | Pandas      | 90.25              | 2312.83          |\n",
        "| Optimize Types        | Polars      | 18.88              | 6067.03          |\n",
        "| Sampling              | Pandas      | 0.31               | 6077.17          |\n",
        "| Sampling              | Polars      | 0.95               | 5742.82          |\n",
        "| Dask Full Processing  | Dask        | 87.14              | 3212.63          |"
      ],
      "id": "_TnuclKNnI6j"
    },
    {
      "cell_type": "code",
      "execution_count": 22,
      "metadata": {
        "id": "mbxHkHJ6nI6j"
      },
      "outputs": [],
      "source": [
        "import matplotlib.pyplot as plt\n",
        "import numpy as np\n",
        "\n",
        "# Data from your table\n",
        "strategies = [\n",
        "    'Load Less\\n(Pandas)', 'Load Less\\n(Polars)', 'Load Less\\n(Dask)',\n",
        "    'Chunking\\n(Pandas)', 'Optimize\\nTypes (Pandas)', 'Optimize\\nTypes (Polars)',\n",
        "    'Sampling\\n(Pandas)', 'Sampling\\n(Polars)', 'Dask Full\\nProcessing'\n",
        "]\n",
        "\n",
        "execution_times = [74.03, 26.33, 0.24, 77.15, 90.25, 18.88, 0.31, 0.95, 87.14]\n",
        "memory_usage = [4771.56, 8521.61, 8523.00, 1016.05, 2312.83, 6067.03, 6077.17, 5742.82, 3212.63]"
      ],
      "id": "mbxHkHJ6nI6j"
    },
    {
      "cell_type": "markdown",
      "source": [
        "##📈 Chart 1: Execution Time"
      ],
      "metadata": {
        "id": "lQqVHPHsI25S"
      },
      "id": "lQqVHPHsI25S"
    },
    {
      "cell_type": "code",
      "source": [
        "plt.figure(figsize=(12, 6))\n",
        "plt.bar(strategies, execution_times, color='skyblue')\n",
        "plt.ylabel('Execution Time (s)')\n",
        "plt.title('Execution Time by Strategy and Library')\n",
        "plt.xticks(rotation=45)\n",
        "plt.grid(True, axis='y', linestyle='--', alpha=0.7)\n",
        "plt.tight_layout()\n",
        "plt.show()"
      ],
      "metadata": {
        "colab": {
          "base_uri": "https://localhost:8080/",
          "height": 607
        },
        "id": "4IbTMYzxI6zg",
        "outputId": "061e4319-b616-4acb-d719-9b15183f19e8"
      },
      "id": "4IbTMYzxI6zg",
      "execution_count": 23,
      "outputs": [
        {
          "output_type": "display_data",
          "data": {
            "text/plain": [
              "<Figure size 1200x600 with 1 Axes>"
            ],
            "image/png": "[encoded data removed]"
          },
          "metadata": {}
        }
      ]
    },
    {
      "cell_type": "markdown",
      "source": [
        "##📉 Chart 2: Memory Usage"
      ],
      "metadata": {
        "id": "LaQHhny_I8nd"
      },
      "id": "LaQHhny_I8nd"
    },
    {
      "cell_type": "code",
      "source": [
        "plt.figure(figsize=(12, 6))\n",
        "plt.bar(strategies, memory_usage, color='salmon')\n",
        "plt.ylabel('Memory Used (MB)')\n",
        "plt.title('Memory Usage by Strategy and Library')\n",
        "plt.xticks(rotation=45)\n",
        "plt.grid(True, axis='y', linestyle='--', alpha=0.7)\n",
        "plt.tight_layout()\n",
        "plt.show()"
      ],
      "metadata": {
        "colab": {
          "base_uri": "https://localhost:8080/",
          "height": 607
        },
        "id": "srrnOe5TI--g",
        "outputId": "95619cae-9a07-4d7e-c113-d1140ff33e71"
      },
      "id": "srrnOe5TI--g",
      "execution_count": 24,
      "outputs": [
        {
          "output_type": "display_data",
          "data": {
            "text/plain": [
              "<Figure size 1200x600 with 1 Axes>"
            ],
            "image/png": "[encoded data removed]"
          },
          "metadata": {}
        }
      ]
    },
    {
      "cell_type": "code",
      "source": [
        "import pandas as pd\n",
        "\n",
        "df = pd.DataFrame({\n",
        "    'Strategy': strategies,\n",
        "    'Execution Time (s)': execution_times,\n",
        "    'Memory Used (MB)': memory_usage\n",
        "})\n",
        "\n",
        "print(\"📊 Performance Summary Table:\")\n",
        "df"
      ],
      "metadata": {
        "colab": {
          "base_uri": "https://localhost:8080/",
          "height": 349
        },
        "id": "tcGnIzP-JL3Z",
        "outputId": "504d22ba-923d-4d9a-e73d-b500b49c6464"
      },
      "id": "tcGnIzP-JL3Z",
      "execution_count": 25,
      "outputs": [
        {
          "output_type": "stream",
          "name": "stdout",
          "text": [
            "📊 Performance Summary Table:\n"
          ]
        },
        {
          "output_type": "execute_result",
          "data": {
            "text/plain": [
              "                   Strategy  Execution Time (s)  Memory Used (MB)\n",
              "0       Load Less\\n(Pandas)               74.03           4771.56\n",
              "1       Load Less\\n(Polars)               26.33           8521.61\n",
              "2         Load Less\\n(Dask)                0.24           8523.00\n",
              "3        Chunking\\n(Pandas)               77.15           1016.05\n",
              "4  Optimize\\nTypes (Pandas)               90.25           2312.83\n",
              "5  Optimize\\nTypes (Polars)               18.88           6067.03\n",
              "6        Sampling\\n(Pandas)                0.31           6077.17\n",
              "7        Sampling\\n(Polars)                0.95           5742.82\n",
              "8     Dask Full\\nProcessing               87.14           3212.63"
            ],
            "text/html": [
              "\n",
              "  <div id=\"df-98f93964-9f40-4974-a64d-0fbb2b04cd42\" class=\"colab-df-container\">\n",
              "    <div>\n",
              "<style scoped>\n",
              "    .dataframe tbody tr th:only-of-type {\n",
              "        vertical-align: middle;\n",
              "    }\n",
              "\n",
              "    .dataframe tbody tr th {\n",
              "        vertical-align: top;\n",
              "    }\n",
              "\n",
              "    .dataframe thead th {\n",
              "        text-align: right;\n",
              "    }\n",
              "</style>\n",
              "<table border=\"1\" class=\"dataframe\">\n",
              "  <thead>\n",
              "    <tr style=\"text-align: right;\">\n",
              "      <th></th>\n",
              "      <th>Strategy</th>\n",
              "      <th>Execution Time (s)</th>\n",
              "      <th>Memory Used (MB)</th>\n",
              "    </tr>\n",
              "  </thead>\n",
              "  <tbody>\n",
              "    <tr>\n",
              "      <th>0</th>\n",
              "      <td>Load Less\\n(Pandas)</td>\n",
              "      <td>74.03</td>\n",
              "      <td>4771.56</td>\n",
              "    </tr>\n",
              "    <tr>\n",
              "      <th>1</th>\n",
              "      <td>Load Less\\n(Polars)</td>\n",
              "      <td>26.33</td>\n",
              "      <td>8521.61</td>\n",
              "    </tr>\n",
              "    <tr>\n",
              "      <th>2</th>\n",
              "      <td>Load Less\\n(Dask)</td>\n",
              "      <td>0.24</td>\n",
              "      <td>8523.00</td>\n",
              "    </tr>\n",
              "    <tr>\n",
              "      <th>3</th>\n",
              "      <td>Chunking\\n(Pandas)</td>\n",
              "      <td>77.15</td>\n",
              "      <td>1016.05</td>\n",
              "    </tr>\n",
              "    <tr>\n",
              "      <th>4</th>\n",
              "      <td>Optimize\\nTypes (Pandas)</td>\n",
              "      <td>90.25</td>\n",
              "      <td>2312.83</td>\n",
              "    </tr>\n",
              "    <tr>\n",
              "      <th>5</th>\n",
              "      <td>Optimize\\nTypes (Polars)</td>\n",
              "      <td>18.88</td>\n",
              "      <td>6067.03</td>\n",
              "    </tr>\n",
              "    <tr>\n",
              "      <th>6</th>\n",
              "      <td>Sampling\\n(Pandas)</td>\n",
              "      <td>0.31</td>\n",
              "      <td>6077.17</td>\n",
              "    </tr>\n",
              "    <tr>\n",
              "      <th>7</th>\n",
              "      <td>Sampling\\n(Polars)</td>\n",
              "      <td>0.95</td>\n",
              "      <td>5742.82</td>\n",
              "    </tr>\n",
              "    <tr>\n",
              "      <th>8</th>\n",
              "      <td>Dask Full\\nProcessing</td>\n",
              "      <td>87.14</td>\n",
              "      <td>3212.63</td>\n",
              "    </tr>\n",
              "  </tbody>\n",
              "</table>\n",
              "</div>\n",
              "    <div class=\"colab-df-buttons\">\n",
              "\n",
              "  <div class=\"colab-df-container\">\n",
              "    <button class=\"colab-df-convert\" onclick=\"convertToInteractive('df-98f93964-9f40-4974-a64d-0fbb2b04cd42')\"\n",
              "            title=\"Convert this dataframe to an interactive table.\"\n",
              "            style=\"display:none;\">\n",
              "\n",
              "  <svg xmlns=\"http://www.w3.org/2000/svg\" height=\"24px\" viewBox=\"0 -960 960 960\">\n",
              "    <path d=\"M120-120v-720h720v720H120Zm60-500h600v-160H180v160Zm220 220h160v-160H400v160Zm0 220h160v-160H400v160ZM180-400h160v-160H180v160Zm440 0h160v-160H620v160ZM180-180h160v-160H180v160Zm440 0h160v-160H620v160Z\"/>\n",
              "  </svg>\n",
              "    </button>\n",
              "\n",
              "  <style>\n",
              "    .colab-df-container {\n",
              "      display:flex;\n",
              "      gap: 12px;\n",
              "    }\n",
              "\n",
              "    .colab-df-convert {\n",
              "      background-color: #E8F0FE;\n",
              "      border: none;\n",
              "      border-radius: 50%;\n",
              "      cursor: pointer;\n",
              "      display: none;\n",
              "      fill: #1967D2;\n",
              "      height: 32px;\n",
              "      padding: 0 0 0 0;\n",
              "      width: 32px;\n",
              "    }\n",
              "\n",
              "    .colab-df-convert:hover {\n",
              "      background-color: #E2EBFA;\n",
              "      box-shadow: 0px 1px 2px rgba(60, 64, 67, 0.3), 0px 1px 3px 1px rgba(60, 64, 67, 0.15);\n",
              "      fill: #174EA6;\n",
              "    }\n",
              "\n",
              "    .colab-df-buttons div {\n",
              "      margin-bottom: 4px;\n",
              "    }\n",
              "\n",
              "    [theme=dark] .colab-df-convert {\n",
              "      background-color: #3B4455;\n",
              "      fill: #D2E3FC;\n",
              "    }\n",
              "\n",
              "    [theme=dark] .colab-df-convert:hover {\n",
              "      background-color: #434B5C;\n",
              "      box-shadow: 0px 1px 3px 1px rgba(0, 0, 0, 0.15);\n",
              "      filter: drop-shadow(0px 1px 2px rgba(0, 0, 0, 0.3));\n",
              "      fill: #FFFFFF;\n",
              "    }\n",
              "  </style>\n",
              "\n",
              "    <script>\n",
              "      const buttonEl =\n",
              "        document.querySelector('#df-98f93964-9f40-4974-a64d-0fbb2b04cd42 button.colab-df-convert');\n",
              "      buttonEl.style.display =\n",
              "        google.colab.kernel.accessAllowed ? 'block' : 'none';\n",
              "\n",
              "      async function convertToInteractive(key) {\n",
              "        const element = document.querySelector('#df-98f93964-9f40-4974-a64d-0fbb2b04cd42');\n",
              "        const dataTable =\n",
              "          await google.colab.kernel.invokeFunction('convertToInteractive',\n",
              "                                                    [key], {});\n",
              "        if (!dataTable) return;\n",
              "\n",
              "        const docLinkHtml = 'Like what you see? Visit the ' +\n",
              "          '<a target=\"_blank\" href=https://colab.research.google.com/notebooks/data_table.ipynb>data table notebook</a>'\n",
              "          + ' to learn more about interactive tables.';\n",
              "        element.innerHTML = '';\n",
              "        dataTable['output_type'] = 'display_data';\n",
              "        await google.colab.output.renderOutput(dataTable, element);\n",
              "        const docLink = document.createElement('div');\n",
              "        docLink.innerHTML = docLinkHtml;\n",
              "        element.appendChild(docLink);\n",
              "      }\n",
              "    </script>\n",
              "  </div>\n",
              "\n",
              "\n",
              "    <div id=\"df-8d243bc4-fed3-45ba-927f-abd52e0b069f\">\n",
              "      <button class=\"colab-df-quickchart\" onclick=\"quickchart('df-8d243bc4-fed3-45ba-927f-abd52e0b069f')\"\n",
              "                title=\"Suggest charts\"\n",
              "                style=\"display:none;\">\n",
              "\n",
              "<svg xmlns=\"http://www.w3.org/2000/svg\" height=\"24px\"viewBox=\"0 0 24 24\"\n",
              "     width=\"24px\">\n",
              "    <g>\n",
              "        <path d=\"M19 3H5c-1.1 0-2 .9-2 2v14c0 1.1.9 2 2 2h14c1.1 0 2-.9 2-2V5c0-1.1-.9-2-2-2zM9 17H7v-7h2v7zm4 0h-2V7h2v10zm4 0h-2v-4h2v4z\"/>\n",
              "    </g>\n",
              "</svg>\n",
              "      </button>\n",
              "\n",
              "<style>\n",
              "  .colab-df-quickchart {\n",
              "      --bg-color: #E8F0FE;\n",
              "      --fill-color: #1967D2;\n",
              "      --hover-bg-color: #E2EBFA;\n",
              "      --hover-fill-color: #174EA6;\n",
              "      --disabled-fill-color: #AAA;\n",
              "      --disabled-bg-color: #DDD;\n",
              "  }\n",
              "\n",
              "  [theme=dark] .colab-df-quickchart {\n",
              "      --bg-color: #3B4455;\n",
              "      --fill-color: #D2E3FC;\n",
              "      --hover-bg-color: #434B5C;\n",
              "      --hover-fill-color: #FFFFFF;\n",
              "      --disabled-bg-color: #3B4455;\n",
              "      --disabled-fill-color: #666;\n",
              "  }\n",
              "\n",
              "  .colab-df-quickchart {\n",
              "    background-color: var(--bg-color);\n",
              "    border: none;\n",
              "    border-radius: 50%;\n",
              "    cursor: pointer;\n",
              "    display: none;\n",
              "    fill: var(--fill-color);\n",
              "    height: 32px;\n",
              "    padding: 0;\n",
              "    width: 32px;\n",
              "  }\n",
              "\n",
              "  .colab-df-quickchart:hover {\n",
              "    background-color: var(--hover-bg-color);\n",
              "    box-shadow: 0 1px 2px rgba(60, 64, 67, 0.3), 0 1px 3px 1px rgba(60, 64, 67, 0.15);\n",
              "    fill: var(--button-hover-fill-color);\n",
              "  }\n",
              "\n",
              "  .colab-df-quickchart-complete:disabled,\n",
              "  .colab-df-quickchart-complete:disabled:hover {\n",
              "    background-color: var(--disabled-bg-color);\n",
              "    fill: var(--disabled-fill-color);\n",
              "    box-shadow: none;\n",
              "  }\n",
              "\n",
              "  .colab-df-spinner {\n",
              "    border: 2px solid var(--fill-color);\n",
              "    border-color: transparent;\n",
              "    border-bottom-color: var(--fill-color);\n",
              "    animation:\n",
              "      spin 1s steps(1) infinite;\n",
              "  }\n",
              "\n",
              "  @keyframes spin {\n",
              "    0% {\n",
              "      border-color: transparent;\n",
              "      border-bottom-color: var(--fill-color);\n",
              "      border-left-color: var(--fill-color);\n",
              "    }\n",
              "    20% {\n",
              "      border-color: transparent;\n",
              "      border-left-color: var(--fill-color);\n",
              "      border-top-color: var(--fill-color);\n",
              "    }\n",
              "    30% {\n",
              "      border-color: transparent;\n",
              "      border-left-color: var(--fill-color);\n",
              "      border-top-color: var(--fill-color);\n",
              "      border-right-color: var(--fill-color);\n",
              "    }\n",
              "    40% {\n",
              "      border-color: transparent;\n",
              "      border-right-color: var(--fill-color);\n",
              "      border-top-color: var(--fill-color);\n",
              "    }\n",
              "    60% {\n",
              "      border-color: transparent;\n",
              "      border-right-color: var(--fill-color);\n",
              "    }\n",
              "    80% {\n",
              "      border-color: transparent;\n",
              "      border-right-color: var(--fill-color);\n",
              "      border-bottom-color: var(--fill-color);\n",
              "    }\n",
              "    90% {\n",
              "      border-color: transparent;\n",
              "      border-bottom-color: var(--fill-color);\n",
              "    }\n",
              "  }\n",
              "</style>\n",
              "\n",
              "      <script>\n",
              "        async function quickchart(key) {\n",
              "          const quickchartButtonEl =\n",
              "            document.querySelector('#' + key + ' button');\n",
              "          quickchartButtonEl.disabled = true;  // To prevent multiple clicks.\n",
              "          quickchartButtonEl.classList.add('colab-df-spinner');\n",
              "          try {\n",
              "            const charts = await google.colab.kernel.invokeFunction(\n",
              "                'suggestCharts', [key], {});\n",
              "          } catch (error) {\n",
              "            console.error('Error during call to suggestCharts:', error);\n",
              "          }\n",
              "          quickchartButtonEl.classList.remove('colab-df-spinner');\n",
              "          quickchartButtonEl.classList.add('colab-df-quickchart-complete');\n",
              "        }\n",
              "        (() => {\n",
              "          let quickchartButtonEl =\n",
              "            document.querySelector('#df-8d243bc4-fed3-45ba-927f-abd52e0b069f button');\n",
              "          quickchartButtonEl.style.display =\n",
              "            google.colab.kernel.accessAllowed ? 'block' : 'none';\n",
              "        })();\n",
              "      </script>\n",
              "    </div>\n",
              "\n",
              "  <div id=\"id_1e3e6fd1-6ad5-469c-ac1e-7d44664adceb\">\n",
              "    <style>\n",
              "      .colab-df-generate {\n",
              "        background-color: #E8F0FE;\n",
              "        border: none;\n",
              "        border-radius: 50%;\n",
              "        cursor: pointer;\n",
              "        display: none;\n",
              "        fill: #1967D2;\n",
              "        height: 32px;\n",
              "        padding: 0 0 0 0;\n",
              "        width: 32px;\n",
              "      }\n",
              "\n",
              "      .colab-df-generate:hover {\n",
              "        background-color: #E2EBFA;\n",
              "        box-shadow: 0px 1px 2px rgba(60, 64, 67, 0.3), 0px 1px 3px 1px rgba(60, 64, 67, 0.15);\n",
              "        fill: #174EA6;\n",
              "      }\n",
              "\n",
              "      [theme=dark] .colab-df-generate {\n",
              "        background-color: #3B4455;\n",
              "        fill: #D2E3FC;\n",
              "      }\n",
              "\n",
              "      [theme=dark] .colab-df-generate:hover {\n",
              "        background-color: #434B5C;\n",
              "        box-shadow: 0px 1px 3px 1px rgba(0, 0, 0, 0.15);\n",
              "        filter: drop-shadow(0px 1px 2px rgba(0, 0, 0, 0.3));\n",
              "        fill: #FFFFFF;\n",
              "      }\n",
              "    </style>\n",
              "    <button class=\"colab-df-generate\" onclick=\"generateWithVariable('df')\"\n",
              "            title=\"Generate code using this dataframe.\"\n",
              "            style=\"display:none;\">\n",
              "\n",
              "  <svg xmlns=\"http://www.w3.org/2000/svg\" height=\"24px\"viewBox=\"0 0 24 24\"\n",
              "       width=\"24px\">\n",
              "    <path d=\"M7,19H8.4L18.45,9,17,7.55,7,17.6ZM5,21V16.75L18.45,3.32a2,2,0,0,1,2.83,0l1.4,1.43a1.91,1.91,0,0,1,.58,1.4,1.91,1.91,0,0,1-.58,1.4L9.25,21ZM18.45,9,17,7.55Zm-12,3A5.31,5.31,0,0,0,4.9,8.1,5.31,5.31,0,0,0,1,6.5,5.31,5.31,0,0,0,4.9,4.9,5.31,5.31,0,0,0,6.5,1,5.31,5.31,0,0,0,8.1,4.9,5.31,5.31,0,0,0,12,6.5,5.46,5.46,0,0,0,6.5,12Z\"/>\n",
              "  </svg>\n",
              "    </button>\n",
              "    <script>\n",
              "      (() => {\n",
              "      const buttonEl =\n",
              "        document.querySelector('#id_1e3e6fd1-6ad5-469c-ac1e-7d44664adceb button.colab-df-generate');\n",
              "      buttonEl.style.display =\n",
              "        google.colab.kernel.accessAllowed ? 'block' : 'none';\n",
              "\n",
              "      buttonEl.onclick = () => {\n",
              "        google.colab.notebook.generateWithVariable('df');\n",
              "      }\n",
              "      })();\n",
              "    </script>\n",
              "  </div>\n",
              "\n",
              "    </div>\n",
              "  </div>\n"
            ],
            "application/vnd.google.colaboratory.intrinsic+json": {
              "type": "dataframe",
              "variable_name": "df",
              "summary": "{\n  \"name\": \"df\",\n  \"rows\": 9,\n  \"fields\": [\n    {\n      \"column\": \"Strategy\",\n      \"properties\": {\n        \"dtype\": \"string\",\n        \"num_unique_values\": 9,\n        \"samples\": [\n          \"Sampling\\n(Polars)\",\n          \"Load Less\\n(Polars)\",\n          \"Optimize\\nTypes (Polars)\"\n        ],\n        \"semantic_type\": \"\",\n        \"description\": \"\"\n      }\n    },\n    {\n      \"column\": \"Execution Time (s)\",\n      \"properties\": {\n        \"dtype\": \"number\",\n        \"std\": 39.644424191107184,\n        \"min\": 0.24,\n        \"max\": 90.25,\n        \"num_unique_values\": 9,\n        \"samples\": [\n          0.95,\n          26.33,\n          18.88\n        ],\n        \"semantic_type\": \"\",\n        \"description\": \"\"\n      }\n    },\n    {\n      \"column\": \"Memory Used (MB)\",\n      \"properties\": {\n        \"dtype\": \"number\",\n        \"std\": 2594.016439958506,\n        \"min\": 1016.05,\n        \"max\": 8523.0,\n        \"num_unique_values\": 9,\n        \"samples\": [\n          5742.82,\n          8521.61,\n          6067.03\n        ],\n        \"semantic_type\": \"\",\n        \"description\": \"\"\n      }\n    }\n  ]\n}"
            }
          },
          "metadata": {},
          "execution_count": 25
        }
      ]
    },
    {
      "cell_type": "markdown",
      "metadata": {
        "id": "5sahZrxAnI6j"
      },
      "source": [
        "## 🧾 Task 5: Conclusion & Reflection"
      ],
      "id": "5sahZrxAnI6j"
    },
    {
      "cell_type": "markdown",
      "metadata": {
        "id": "tApAO8FNnI6j"
      },
      "source": [
        "### ✅ Key Observations:\n",
        "- Loading only necessary **columns** or **rows** significantly reduces memory usage.\n",
        "- **Chunking** is useful for large-scale processing when full data doesn’t fit in memory.\n",
        "- **Data type optimization** provides the best performance-memory tradeoff.\n",
        "- **Sampling** is great for prototyping but not for final analysis.\n",
        "- **Dask** enables parallel processing and scales well beyond system memory limits."
      ],
      "id": "tApAO8FNnI6j"
    },
    {
      "cell_type": "markdown",
      "metadata": {
        "id": "Raa8QoAQnI6j"
      },
      "source": [
        "### 📉 Benefits and Limitations:\n",
        "\n",
        "| Strategy       | Benefit                                 | Limitation                             |\n",
        "|----------------|------------------------------------------|----------------------------------------|\n",
        "| Load Less      | Simple, fast                           | Loses potentially useful features      |\n",
        "| Chunking       | Handles huge files                     | Cumbersome for complex transformations |\n",
        "| Optimize Types | Maximizes speed and memory efficiency  | Requires domain knowledge              |\n",
        "| Sampling       | Super fast for testing                 | May lose accuracy                      |\n",
        "| Dask           | Scales beyond memory, supports parallel| Steeper learning curve                 |"
      ],
      "id": "Raa8QoAQnI6j"
    },
    {
      "cell_type": "markdown",
      "metadata": {
        "id": "UokMArjKnI6j"
      },
      "source": [
        "### 🧠 What I Learned:\n",
        "- Large datasets require careful handling to avoid crashes or long waits.\n",
        "- Techniques like **data type optimization** and **sampling** are essential for quick experimentation.\n",
        "- Tools like **Dask** open the door for true big data processing without switching to distributed systems like Spark."
      ],
      "id": "UokMArjKnI6j"
    }
  ],
  "metadata": {
    "colab": {
      "provenance": []
    },
    "kernelspec": {
      "display_name": "Python 3",
      "language": "python",
      "name": "python3"
    },
    "language_info": {
      "codemirror_mode": {
        "name": "ipython",
        "version": 3
      },
      "file_extension": ".py",
      "mimetype": "text/x-python",
      "name": "python",
      "nbconvert_exporter": "python",
      "pygments_lexer": "ipython3",
      "version": "3.10.12"
    }
  },
  "nbformat": 4,
  "nbformat_minor": 5
}