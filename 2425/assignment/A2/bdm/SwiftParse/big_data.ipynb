{
  "cells": [
    {
      "cell_type": "markdown",
      "metadata": {
        "id": "FtMPamoz_AJU"
      },
      "source": [
        "## Task 1: Dataset Selection"
      ]
    },
    {
      "cell_type": "markdown",
      "metadata": {
        "id": "QjOMapMt_EXk"
      },
      "source": [
        "#### Connect Kaggle into Google Colab"
      ]
    },
    {
      "cell_type": "markdown",
      "metadata": {
        "id": "gDe9aC_DJ2mL"
      },
      "source": [
        "Authenticate Kaggle API"
      ]
    },
    {
      "cell_type": "code",
      "execution_count": 8,
      "metadata": {
        "id": "BBGRWaGi0GJo"
      },
      "outputs": [],
      "source": [
        "!mkdir -p ~/.kaggle\n",
        "!cp kaggle.json ~/.kaggle/\n",
        "!chmod 600 ~/.kaggle/kaggle.json"
      ]
    },
    {
      "cell_type": "markdown",
      "metadata": {
        "id": "VaKk0SeJKLU0"
      },
      "source": [
        "Download dataset using Kaggle dataset link/identifier"
      ]
    },
    {
      "cell_type": "code",
      "execution_count": 9,
      "metadata": {
        "colab": {
          "base_uri": "https://localhost:8080/"
        },
        "id": "exK-okL60aUn",
        "outputId": "db69b977-58f9-4334-a5f5-1db05cd7bddf"
      },
      "outputs": [
        {
          "output_type": "stream",
          "name": "stdout",
          "text": [
            "Dataset URL: https://www.kaggle.com/datasets/threnjen/2019-airline-delays-and-cancellations\n",
            "License(s): U.S. Government Works\n",
            "Downloading 2019-airline-delays-and-cancellations.zip to /content\n",
            " 97% 732M/754M [00:07<00:00, 222MB/s]\n",
            "100% 754M/754M [00:07<00:00, 107MB/s]\n"
          ]
        }
      ],
      "source": [
        "!kaggle datasets download -d threnjen/2019-airline-delays-and-cancellations"
      ]
    },
    {
      "cell_type": "markdown",
      "metadata": {
        "id": "9aQI1usrKSzc"
      },
      "source": [
        "Unzip the dataset"
      ]
    },
    {
      "cell_type": "code",
      "execution_count": 10,
      "metadata": {
        "colab": {
          "base_uri": "https://localhost:8080/"
        },
        "id": "vQBoZB030xKL",
        "outputId": "92f23756-7acd-4b02-c5bd-c8743d340902"
      },
      "outputs": [
        {
          "output_type": "stream",
          "name": "stdout",
          "text": [
            "Archive:  2019-airline-delays-and-cancellations.zip\n",
            "  inflating: full_data_flightdelay.csv  \n",
            "  inflating: raw_data/AIRPORT_COORDINATES.csv  \n",
            "  inflating: raw_data/B43_AIRCRAFT_INVENTORY.csv  \n",
            "  inflating: raw_data/CARRIER_DECODE.csv  \n",
            "  inflating: raw_data/GHCND_documentation.pdf  \n",
            "  inflating: raw_data/ONTIME_REPORTING_01.csv  \n",
            "  inflating: raw_data/ONTIME_REPORTING_02.csv  \n",
            "  inflating: raw_data/ONTIME_REPORTING_03.csv  \n",
            "  inflating: raw_data/ONTIME_REPORTING_04.csv  \n",
            "  inflating: raw_data/ONTIME_REPORTING_05.csv  \n",
            "  inflating: raw_data/ONTIME_REPORTING_06.csv  \n",
            "  inflating: raw_data/ONTIME_REPORTING_07.csv  \n",
            "  inflating: raw_data/ONTIME_REPORTING_08.csv  \n",
            "  inflating: raw_data/ONTIME_REPORTING_09.csv  \n",
            "  inflating: raw_data/ONTIME_REPORTING_10.csv  \n",
            "  inflating: raw_data/ONTIME_REPORTING_11.csv  \n",
            "  inflating: raw_data/ONTIME_REPORTING_12.csv  \n",
            "  inflating: raw_data/ONTIME_REPORTING_2020_01.csv  \n",
            "  inflating: raw_data/ONTIME_REPORTING_2020_02.csv  \n",
            "  inflating: raw_data/ONTIME_REPORTING_2020_03.csv  \n",
            "  inflating: raw_data/P10_EMPLOYEES.csv  \n",
            "  inflating: raw_data/T3_AIR_CARRIER_SUMMARY_AIRPORT_ACTIVITY_2019.csv  \n",
            "  inflating: raw_data/T3_AIR_CARRIER_SUMMARY_AIRPORT_ACTIVITY_2020.csv  \n",
            "  inflating: raw_data/airport_weather_2019.csv  \n",
            "  inflating: raw_data/airport_weather_2020.csv  \n",
            "  inflating: raw_data/airports_list.csv  \n",
            "  inflating: raw_data_documentation.txt  \n",
            "  inflating: test.csv                \n",
            "  inflating: train.csv               \n",
            "  inflating: train_sets_documentation.txt  \n"
          ]
        }
      ],
      "source": [
        "!unzip 2019-airline-delays-and-cancellations.zip"
      ]
    },
    {
      "cell_type": "code",
      "execution_count": 11,
      "metadata": {
        "id": "OBtdtFSC1yTq",
        "colab": {
          "base_uri": "https://localhost:8080/"
        },
        "outputId": "fc6822e2-7135-4d23-cb42-9075029582d4"
      },
      "outputs": [
        {
          "output_type": "stream",
          "name": "stdout",
          "text": [
            "2019-airline-delays-and-cancellations.zip  sample_data\n",
            "full_data_flightdelay.csv\t\t   test.csv\n",
            "kaggle.json\t\t\t\t   train.csv\n",
            "raw_data\t\t\t\t   train_sets_documentation.txt\n",
            "raw_data_documentation.txt\n"
          ]
        }
      ],
      "source": [
        "!ls"
      ]
    },
    {
      "cell_type": "markdown",
      "metadata": {
        "id": "aaxlM5B1_Ols"
      },
      "source": [
        "**Dataset**: 2019 Airline Delays and Cancellations\\\n",
        "**Source**: Kaggle - threnjen/2019-airline-delays-and-cancellations\n",
        "Size: ~730MB\\\n",
        "**Domain**: Transportation / Aviation\n",
        "\n",
        "**Used file**: full_data_flightdelay.csv (size:1.27G)"
      ]
    },
    {
      "cell_type": "markdown",
      "metadata": {
        "id": "XebIqB3L2GdE"
      },
      "source": [
        "## Task 2: Load and Inspect Data"
      ]
    },
    {
      "cell_type": "markdown",
      "metadata": {
        "id": "rHTToqEqMg-u"
      },
      "source": [
        "Import relevant libraries/frameworks"
      ]
    },
    {
      "cell_type": "code",
      "execution_count": 12,
      "metadata": {
        "id": "2_cIQNMgDl1O"
      },
      "outputs": [],
      "source": [
        "import pandas as pd\n",
        "import time\n",
        "import psutil\n",
        "import os\n",
        "\n",
        "file_path = '/content/full_data_flightdelay.csv'"
      ]
    },
    {
      "cell_type": "markdown",
      "metadata": {
        "id": "JpP8PWWWMo3k"
      },
      "source": [
        "*   Load the dataset into Google Colab\n",
        "\n",
        "---\n",
        "\n",
        "\n",
        "*   Calculate execution time and memory used"
      ]
    },
    {
      "cell_type": "code",
      "execution_count": 13,
      "metadata": {
        "id": "Q9XX4-x_2I5V",
        "colab": {
          "base_uri": "https://localhost:8080/"
        },
        "outputId": "e8bc52d9-6590-4e08-c77f-b54c7c1593b5"
      },
      "outputs": [
        {
          "output_type": "stream",
          "name": "stdout",
          "text": [
            "Execution Time: 35.45 seconds\n",
            "Memory Used: 3961.75 MB\n"
          ]
        }
      ],
      "source": [
        "# Start Time\n",
        "start_time = time.time()\n",
        "process = psutil.Process(os.getpid())\n",
        "start_memory = process.memory_info().rss / 1024 ** 2\n",
        "\n",
        "\n",
        "df = pd.read_csv(file_path)\n",
        "\n",
        "# End Time\n",
        "end_time = time.time()\n",
        "end_memory = process.memory_info().rss / 1024 ** 2\n",
        "\n",
        "execution_time_normal = end_time - start_time\n",
        "memory_used_normal = end_memory - start_memory\n",
        "\n",
        "print(f\"Execution Time: {execution_time_normal:.2f} seconds\")\n",
        "print(f\"Memory Used: {memory_used_normal:.2f} MB\")"
      ]
    },
    {
      "cell_type": "markdown",
      "metadata": {
        "id": "jx4675imM_pU"
      },
      "source": [
        "Find relevant information(shape, columns names, datatypes)"
      ]
    },
    {
      "cell_type": "code",
      "execution_count": 14,
      "metadata": {
        "id": "7MG1r2tM2sLW",
        "colab": {
          "base_uri": "https://localhost:8080/"
        },
        "outputId": "4f68b38e-2ca1-4961-b572-83e41cd8ee08"
      },
      "outputs": [
        {
          "output_type": "stream",
          "name": "stdout",
          "text": [
            "Shape (Rows, Columns):\n",
            "(6489062, 26)\n",
            "\n",
            "nColumn Names:\n",
            "['MONTH', 'DAY_OF_WEEK', 'DEP_DEL15', 'DEP_TIME_BLK', 'DISTANCE_GROUP', 'SEGMENT_NUMBER', 'CONCURRENT_FLIGHTS', 'NUMBER_OF_SEATS', 'CARRIER_NAME', 'AIRPORT_FLIGHTS_MONTH', 'AIRLINE_FLIGHTS_MONTH', 'AIRLINE_AIRPORT_FLIGHTS_MONTH', 'AVG_MONTHLY_PASS_AIRPORT', 'AVG_MONTHLY_PASS_AIRLINE', 'FLT_ATTENDANTS_PER_PASS', 'GROUND_SERV_PER_PASS', 'PLANE_AGE', 'DEPARTING_AIRPORT', 'LATITUDE', 'LONGITUDE', 'PREVIOUS_AIRPORT', 'PRCP', 'SNOW', 'SNWD', 'TMAX', 'AWND']\n",
            "\n",
            "nData Types:\n",
            "MONTH                              int64\n",
            "DAY_OF_WEEK                        int64\n",
            "DEP_DEL15                          int64\n",
            "DEP_TIME_BLK                      object\n",
            "DISTANCE_GROUP                     int64\n",
            "SEGMENT_NUMBER                     int64\n",
            "CONCURRENT_FLIGHTS                 int64\n",
            "NUMBER_OF_SEATS                    int64\n",
            "CARRIER_NAME                      object\n",
            "AIRPORT_FLIGHTS_MONTH              int64\n",
            "AIRLINE_FLIGHTS_MONTH              int64\n",
            "AIRLINE_AIRPORT_FLIGHTS_MONTH      int64\n",
            "AVG_MONTHLY_PASS_AIRPORT           int64\n",
            "AVG_MONTHLY_PASS_AIRLINE           int64\n",
            "FLT_ATTENDANTS_PER_PASS          float64\n",
            "GROUND_SERV_PER_PASS             float64\n",
            "PLANE_AGE                          int64\n",
            "DEPARTING_AIRPORT                 object\n",
            "LATITUDE                         float64\n",
            "LONGITUDE                        float64\n",
            "PREVIOUS_AIRPORT                  object\n",
            "PRCP                             float64\n",
            "SNOW                             float64\n",
            "SNWD                             float64\n",
            "TMAX                             float64\n",
            "AWND                             float64\n",
            "dtype: object\n"
          ]
        }
      ],
      "source": [
        "print(\"Shape (Rows, Columns):\")\n",
        "print(df.shape)\n",
        "\n",
        "print()\n",
        "print(\"nColumn Names:\")\n",
        "print(df.columns.tolist())\n",
        "\n",
        "print()\n",
        "print(\"nData Types:\")\n",
        "print(df.dtypes)"
      ]
    },
    {
      "cell_type": "markdown",
      "metadata": {
        "id": "Ezk61e-z-251"
      },
      "source": [
        "## Task 3: Apply Big Data Handling Strategies"
      ]
    },
    {
      "cell_type": "markdown",
      "metadata": {
        "id": "Q4_910bd6H7l"
      },
      "source": [
        "### 1. Load Less Data"
      ]
    },
    {
      "cell_type": "markdown",
      "metadata": {
        "id": "_IqPPUsJOLub"
      },
      "source": [
        "<h4>Columns selected: </h4>\n",
        "\n",
        "* MONTH\n",
        "* DAY_OF_WEEK\n",
        "* DEP_DEL15\n",
        "* CONCURRENT_FLIGHTS\n",
        "* CARRIER_NAME\n",
        "* AIRPORT_FLIGHTS_MONTH\n",
        "* AIRLINE_FLIGHTS_MONTH\n",
        "* PREVIOUS_AIRPORT\n",
        "* AWND"
      ]
    },
    {
      "cell_type": "code",
      "execution_count": 15,
      "metadata": {
        "id": "QMzR_wEX4iF1",
        "colab": {
          "base_uri": "https://localhost:8080/"
        },
        "outputId": "d13e6662-9b05-405e-e289-cdf7759c27d5"
      },
      "outputs": [
        {
          "output_type": "stream",
          "name": "stdout",
          "text": [
            "Execution Time: 19.09 seconds\n",
            "Memory Used: 695.13 MB\n"
          ]
        }
      ],
      "source": [
        "columns = ['MONTH', 'DAY_OF_WEEK', 'DEP_DEL15', 'CONCURRENT_FLIGHTS',\n",
        "                  'CARRIER_NAME', 'AIRPORT_FLIGHTS_MONTH', 'AIRLINE_FLIGHTS_MONTH',\n",
        "                  'PREVIOUS_AIRPORT', 'AWND']\n",
        "\n",
        "# Start Time\n",
        "start_time = time.time()\n",
        "process = psutil.Process(os.getpid())\n",
        "start_memory = process.memory_info().rss / 1024 ** 2\n",
        "\n",
        "df1 = pd.read_csv(file_path, usecols=columns)\n",
        "\n",
        "# End Time\n",
        "end_time = time.time()\n",
        "end_memory = process.memory_info().rss / 1024 ** 2\n",
        "\n",
        "execution_time_1 = end_time - start_time\n",
        "memory_used_1 = end_memory - start_memory\n",
        "\n",
        "print(f\"Execution Time: {execution_time_1:.2f} seconds\")\n",
        "print(f\"Memory Used: {memory_used_1:.2f} MB\")"
      ]
    },
    {
      "cell_type": "markdown",
      "metadata": {
        "id": "1ZCKm-KH-715"
      },
      "source": [
        "### 2. Use Chunking"
      ]
    },
    {
      "cell_type": "markdown",
      "metadata": {
        "id": "PddTqaRoTAUe"
      },
      "source": [
        "<h4> Chunking using Pandas </h4>"
      ]
    },
    {
      "cell_type": "code",
      "execution_count": 16,
      "metadata": {
        "id": "Hi1zbSaU-88L",
        "colab": {
          "base_uri": "https://localhost:8080/"
        },
        "outputId": "997066a3-16e9-456f-c1d3-4e22bbd34651"
      },
      "outputs": [
        {
          "output_type": "stream",
          "name": "stdout",
          "text": [
            "Original shape: (6489062, 26)\n",
            "\n",
            "Chunk 1: (100000, 26)\n",
            "MONTH\n",
            "1    100000\n",
            "Name: count, dtype: int64\n",
            "\n",
            "Chunk 2: (100000, 26)\n",
            "MONTH\n",
            "1    100000\n",
            "Name: count, dtype: int64\n",
            "\n",
            "Chunk 3: (100000, 26)\n",
            "MONTH\n",
            "1    100000\n",
            "Name: count, dtype: int64\n",
            "\n",
            "Execution Time: 1.53 seconds\n",
            "Memory Used: 0.00 MB\n"
          ]
        }
      ],
      "source": [
        "print(\"Original shape:\", df.shape)\n",
        "print()\n",
        "\n",
        "chunksize = 100000\n",
        "chunk_iter = pd.read_csv(file_path, chunksize=chunksize)\n",
        "\n",
        "# Start Time\n",
        "start_time = time.time()\n",
        "process = psutil.Process(os.getpid())\n",
        "start_memory = process.memory_info().rss / 1024 ** 2\n",
        "\n",
        "for i, chunk in enumerate(chunk_iter):\n",
        "    print(f\"Chunk {i+1}: {chunk.shape}\")\n",
        "    # Example: summarize a column\n",
        "    print(chunk['MONTH'].value_counts().head())\n",
        "    print()\n",
        "    if i == 2:\n",
        "        break\n",
        "\n",
        "# End Time\n",
        "end_time = time.time()\n",
        "end_memory = process.memory_info().rss / 1024 ** 2\n",
        "\n",
        "execution_time_2 = end_time - start_time\n",
        "memory_used_2 = end_memory - start_memory\n",
        "\n",
        "print(f\"Execution Time: {execution_time_2:.2f} seconds\")\n",
        "print(f\"Memory Used: {memory_used_2:.2f} MB\")"
      ]
    },
    {
      "cell_type": "markdown",
      "metadata": {
        "id": "NXFqIy3bAzaF"
      },
      "source": [
        "### 3. Optimize Data Types\n"
      ]
    },
    {
      "cell_type": "code",
      "execution_count": 17,
      "metadata": {
        "id": "sK-FtJr1Ccjh",
        "colab": {
          "base_uri": "https://localhost:8080/"
        },
        "outputId": "4d592777-d1ec-4c41-bb92-3d0cea391d1f"
      },
      "outputs": [
        {
          "metadata": {
            "tags": null
          },
          "name": "stdout",
          "output_type": "stream",
          "text": [
            "<class 'pandas.core.frame.DataFrame'>\n",
            "RangeIndex: 6489062 entries, 0 to 6489061\n",
            "Data columns (total 26 columns):\n",
            " #   Column                         Dtype   \n",
            "---  ------                         -----   \n",
            " 0   MONTH                          int8    \n",
            " 1   DAY_OF_WEEK                    int8    \n",
            " 2   DEP_DEL15                      int8    \n",
            " 3   DEP_TIME_BLK                   category\n",
            " 4   DISTANCE_GROUP                 int8    \n",
            " 5   SEGMENT_NUMBER                 int16   \n",
            " 6   CONCURRENT_FLIGHTS             int16   \n",
            " 7   NUMBER_OF_SEATS                int16   \n",
            " 8   CARRIER_NAME                   category\n",
            " 9   AIRPORT_FLIGHTS_MONTH          int32   \n",
            " 10  AIRLINE_FLIGHTS_MONTH          int32   \n",
            " 11  AIRLINE_AIRPORT_FLIGHTS_MONTH  int32   \n",
            " 12  AVG_MONTHLY_PASS_AIRPORT       int32   \n",
            " 13  AVG_MONTHLY_PASS_AIRLINE       int32   \n",
            " 14  FLT_ATTENDANTS_PER_PASS        float32 \n",
            " 15  GROUND_SERV_PER_PASS           float32 \n",
            " 16  PLANE_AGE                      int8    \n",
            " 17  DEPARTING_AIRPORT              category\n",
            " 18  LATITUDE                       float32 \n",
            " 19  LONGITUDE                      float32 \n",
            " 20  PREVIOUS_AIRPORT               category\n",
            " 21  PRCP                           float32 \n",
            " 22  SNOW                           float32 \n",
            " 23  SNWD                           float32 \n",
            " 24  TMAX                           float32 \n",
            " 25  AWND                           float32 \n",
            "dtypes: category(4), float32(9), int16(3), int32(5), int8(5)\n",
            "memory usage: 445.6 MB\n",
            "None\n",
            "   MONTH  DAY_OF_WEEK  DEP_DEL15 DEP_TIME_BLK  DISTANCE_GROUP  SEGMENT_NUMBER  \\\n",
            "0      1            7          0    0800-0859               2               1   \n",
            "1      1            7          0    0700-0759               7               1   \n",
            "2      1            7          0    0600-0659               7               1   \n",
            "3      1            7          0    0600-0659               9               1   \n",
            "4      1            7          0    0001-0559               7               1   \n",
            "\n",
            "   CONCURRENT_FLIGHTS  NUMBER_OF_SEATS            CARRIER_NAME  \\\n",
            "0                  25              143  Southwest Airlines Co.   \n",
            "1                  29              191    Delta Air Lines Inc.   \n",
            "2                  27              199    Delta Air Lines Inc.   \n",
            "3                  27              180    Delta Air Lines Inc.   \n",
            "4                  10              182        Spirit Air Lines   \n",
            "\n",
            "   AIRPORT_FLIGHTS_MONTH  ...  PLANE_AGE       DEPARTING_AIRPORT   LATITUDE  \\\n",
            "0                  13056  ...          8  McCarran International  36.080002   \n",
            "1                  13056  ...          3  McCarran International  36.080002   \n",
            "2                  13056  ...         18  McCarran International  36.080002   \n",
            "3                  13056  ...          2  McCarran International  36.080002   \n",
            "4                  13056  ...          1  McCarran International  36.080002   \n",
            "\n",
            "   LONGITUDE  PREVIOUS_AIRPORT  PRCP  SNOW SNWD  TMAX  AWND  \n",
            "0   -115.152              NONE   0.0   0.0  0.0  65.0  2.91  \n",
            "1   -115.152              NONE   0.0   0.0  0.0  65.0  2.91  \n",
            "2   -115.152              NONE   0.0   0.0  0.0  65.0  2.91  \n",
            "3   -115.152              NONE   0.0   0.0  0.0  65.0  2.91  \n",
            "4   -115.152              NONE   0.0   0.0  0.0  65.0  2.91  \n",
            "\n",
            "[5 rows x 26 columns]\n",
            "Execution Time: 35.73 seconds\n",
            "Memory Used: 446.97 MB\n"
          ]
        }
      ],
      "source": [
        "dtypes_optimized = {\n",
        "    'MONTH': 'int8',\n",
        "    'DAY_OF_WEEK': 'int8',\n",
        "    'DEP_DEL15': 'int8',\n",
        "    'DEP_TIME_BLK': 'category',\n",
        "    'DISTANCE_GROUP': 'int8',\n",
        "    'SEGMENT_NUMBER': 'int16',\n",
        "    'CONCURRENT_FLIGHTS': 'int16',\n",
        "    'NUMBER_OF_SEATS': 'int16',\n",
        "    'CARRIER_NAME': 'category',\n",
        "    'AIRPORT_FLIGHTS_MONTH': 'int32',\n",
        "    'AIRLINE_FLIGHTS_MONTH': 'int32',\n",
        "    'AIRLINE_AIRPORT_FLIGHTS_MONTH': 'int32',\n",
        "    'AVG_MONTHLY_PASS_AIRPORT': 'int32',\n",
        "    'AVG_MONTHLY_PASS_AIRLINE': 'int32',\n",
        "    'FLT_ATTENDANTS_PER_PASS': 'float32',\n",
        "    'GROUND_SERV_PER_PASS': 'float32',\n",
        "    'PLANE_AGE': 'int8',\n",
        "    'DEPARTING_AIRPORT': 'category',\n",
        "    'LATITUDE': 'float32',\n",
        "    'LONGITUDE': 'float32',\n",
        "    'PREVIOUS_AIRPORT': 'category',\n",
        "    'PRCP': 'float32',\n",
        "    'SNOW': 'float32',\n",
        "    'SNWD': 'float32',\n",
        "    'TMAX': 'float32',\n",
        "    'AWND': 'float32'\n",
        "}\n",
        "\n",
        "# Start Time\n",
        "start_time = time.time()\n",
        "process = psutil.Process(os.getpid())\n",
        "start_memory = process.memory_info().rss / 1024 ** 2\n",
        "\n",
        "df3 = pd.read_csv(file_path, dtype=dtypes_optimized)\n",
        "\n",
        "# End time\n",
        "end_time = time.time()\n",
        "end_memory = process.memory_info().rss / (1024 * 1024)  # MB\n",
        "\n",
        "execution_time_3 = end_time - start_time\n",
        "memory_used_3 = end_memory - start_memory\n",
        "\n",
        "print(df3.info())\n",
        "print(df3.head())\n",
        "\n",
        "print(f\"Execution Time: {execution_time_3:.2f} seconds\")\n",
        "print(f\"Memory Used: {memory_used_3:.2f} MB\")"
      ]
    },
    {
      "cell_type": "markdown",
      "metadata": {
        "id": "fkCXSCrBe6U2"
      },
      "source": [
        "4. Sampling"
      ]
    },
    {
      "cell_type": "code",
      "execution_count": 18,
      "metadata": {
        "id": "ZP7h6uYQe5MF",
        "colab": {
          "base_uri": "https://localhost:8080/"
        },
        "outputId": "c9ffafc9-a843-44dc-eb8d-6cb1d82a2c63"
      },
      "outputs": [
        {
          "output_type": "stream",
          "name": "stdout",
          "text": [
            "         MONTH  DAY_OF_WEEK  DEP_DEL15 DEP_TIME_BLK  DISTANCE_GROUP  \\\n",
            "984735       3            5          0    1500-1559               3   \n",
            "4740332      9            7          0    2200-2259               5   \n",
            "6361351     12            1          0    1900-1959               3   \n",
            "4012189      8            3          0    1700-1759               6   \n",
            "4789024      9            5          0    0800-0859               2   \n",
            "\n",
            "         SEGMENT_NUMBER  CONCURRENT_FLIGHTS  NUMBER_OF_SEATS  \\\n",
            "984735                4                  27               69   \n",
            "4740332               1                   7              128   \n",
            "6361351               5                  15               76   \n",
            "4012189               2                  22              276   \n",
            "4789024               1                   3               76   \n",
            "\n",
            "                   CARRIER_NAME  AIRPORT_FLIGHTS_MONTH  ...  PLANE_AGE  \\\n",
            "984735    Midwest Airline, Inc.                  11965  ...         11   \n",
            "4740332  American Airlines Inc.                   6740  ...          6   \n",
            "6361351       Endeavor Air Inc.                   5359  ...          5   \n",
            "4012189   United Air Lines Inc.                  11012  ...         17   \n",
            "4789024      Mesa Airlines Inc.                   1378  ...          2   \n",
            "\n",
            "                         DEPARTING_AIRPORT  LATITUDE  LONGITUDE  \\\n",
            "984735   Ronald Reagan Washington National    38.852    -77.037   \n",
            "4740332                Miami International    25.792    -80.286   \n",
            "6361351       Raleigh-Durham International    35.875    -78.782   \n",
            "4012189       Newark Liberty International    40.696    -74.172   \n",
            "4789024                Tulsa International    36.198    -95.890   \n",
            "\n",
            "                    PREVIOUS_AIRPORT  PRCP  SNOW SNWD  TMAX  AWND  \n",
            "984735               Eppley Airfield  0.00   0.0  0.0  68.0  4.47  \n",
            "4740332                         NONE  0.00   0.0  0.0  94.0  5.82  \n",
            "6361351          Tampa International  0.00   0.0  0.0  50.0  7.83  \n",
            "4012189  San Francisco International  1.69   0.0  0.0  84.0  4.25  \n",
            "4789024                         NONE  0.00   0.0  0.0  95.0  6.26  \n",
            "\n",
            "[5 rows x 26 columns]\n",
            "Shape of Sampled Data: (64891, 26)\n",
            "Execution Time: 36.62 seconds\n",
            "Memory Used: 44.56 MB\n"
          ]
        }
      ],
      "source": [
        "# Start time\n",
        "process = psutil.Process(os.getpid())\n",
        "start_time = time.time()\n",
        "start_memory = process.memory_info().rss / (1024 * 1024)  # MB\n",
        "\n",
        "sample_fraction = 0.01  # 1%\n",
        "df4 = pd.read_csv(file_path).sample(frac=sample_fraction, random_state=42)\n",
        "\n",
        "# End time\n",
        "end_time = time.time()\n",
        "end_memory = process.memory_info().rss / (1024 * 1024)  # MB\n",
        "\n",
        "print(df4.head())\n",
        "print(f\"Shape of Sampled Data: {df4.shape}\")\n",
        "\n",
        "execution_time_4 = end_time - start_time\n",
        "memory_used_4 = end_memory - start_memory\n",
        "\n",
        "print(f\"Execution Time: {execution_time_4:.2f} seconds\")\n",
        "print(f\"Memory Used: {memory_used_4:.2f} MB\")"
      ]
    },
    {
      "cell_type": "markdown",
      "metadata": {
        "id": "EKlOZ4K0fxuJ"
      },
      "source": [
        "### 5. Parallel Processing with Dask\n",
        "\n"
      ]
    },
    {
      "cell_type": "code",
      "execution_count": null,
      "metadata": {
        "id": "jNU_CSdDfxTt"
      },
      "outputs": [],
      "source": [
        "import dask.dataframe as dd\n",
        "# Start time\n",
        "process = psutil.Process(os.getpid())\n",
        "start_time = time.time()\n",
        "start_memory = process.memory_info().rss / (1024 * 1024)  # MB\n",
        "\n",
        "# Load dataset with Dask\n",
        "df_dask = dd.read_csv(file_path, usecols=columns)\n",
        "\n",
        "df_dask = df_dask.compute()\n",
        "\n",
        "end_time = time.time()\n",
        "end_memory = process.memory_info().rss / (1024 * 1024)\n",
        "\n",
        "# Calculate performance\n",
        "execution_time_5 = end_time - start_time\n",
        "memory_used_5 = end_memory - start_memory\n",
        "\n",
        "print(df_dask.head())\n",
        "\n",
        "print(f\"Execution Time: {execution_time_5:.2f} seconds\")\n",
        "print(f\"Memory Used: {memory_used_5:.2f} MB\")"
      ]
    },
    {
      "cell_type": "markdown",
      "metadata": {
        "id": "_faIN3k7631T"
      },
      "source": [
        "## Task 4: Comparative Analysis\n"
      ]
    },
    {
      "cell_type": "markdown",
      "metadata": {
        "id": "TCrC2b0U86PY"
      },
      "source": [
        "### Comparative between step 1 - 5\n",
        "\n",
        "* EXECUTION TIME\n",
        "* STORAGE USED"
      ]
    },
    {
      "cell_type": "code",
      "execution_count": 20,
      "metadata": {
        "id": "Zi1wqq308TKb",
        "colab": {
          "base_uri": "https://localhost:8080/",
          "height": 224
        },
        "outputId": "7e80d6b4-4b98-4afb-b56a-68652f4d2a69"
      },
      "outputs": [
        {
          "output_type": "stream",
          "name": "stdout",
          "text": [
            "📊 Step-by-Step Comparison (Execution Time & Memory)\n"
          ]
        },
        {
          "output_type": "execute_result",
          "data": {
            "text/plain": [
              "                  Step  Execution Time (s)  Memory Used (MB)\n",
              "0       Load Less Data           19.094315        695.132812\n",
              "1             Chunking            1.525865          0.000000\n",
              "2  Optimize Data Types           35.734630        446.972656\n",
              "3             Sampling           36.620373         44.558594\n",
              "4   Parallel with Dask           21.385914       1245.949219"
            ],
            "text/html": [
              "\n",
              "  <div id=\"df-599b9857-6daf-41c6-9b47-31bd6a998de2\" class=\"colab-df-container\">\n",
              "    <div>\n",
              "<style scoped>\n",
              "    .dataframe tbody tr th:only-of-type {\n",
              "        vertical-align: middle;\n",
              "    }\n",
              "\n",
              "    .dataframe tbody tr th {\n",
              "        vertical-align: top;\n",
              "    }\n",
              "\n",
              "    .dataframe thead th {\n",
              "        text-align: right;\n",
              "    }\n",
              "</style>\n",
              "<table border=\"1\" class=\"dataframe\">\n",
              "  <thead>\n",
              "    <tr style=\"text-align: right;\">\n",
              "      <th></th>\n",
              "      <th>Step</th>\n",
              "      <th>Execution Time (s)</th>\n",
              "      <th>Memory Used (MB)</th>\n",
              "    </tr>\n",
              "  </thead>\n",
              "  <tbody>\n",
              "    <tr>\n",
              "      <th>0</th>\n",
              "      <td>Load Less Data</td>\n",
              "      <td>19.094315</td>\n",
              "      <td>695.132812</td>\n",
              "    </tr>\n",
              "    <tr>\n",
              "      <th>1</th>\n",
              "      <td>Chunking</td>\n",
              "      <td>1.525865</td>\n",
              "      <td>0.000000</td>\n",
              "    </tr>\n",
              "    <tr>\n",
              "      <th>2</th>\n",
              "      <td>Optimize Data Types</td>\n",
              "      <td>35.734630</td>\n",
              "      <td>446.972656</td>\n",
              "    </tr>\n",
              "    <tr>\n",
              "      <th>3</th>\n",
              "      <td>Sampling</td>\n",
              "      <td>36.620373</td>\n",
              "      <td>44.558594</td>\n",
              "    </tr>\n",
              "    <tr>\n",
              "      <th>4</th>\n",
              "      <td>Parallel with Dask</td>\n",
              "      <td>21.385914</td>\n",
              "      <td>1245.949219</td>\n",
              "    </tr>\n",
              "  </tbody>\n",
              "</table>\n",
              "</div>\n",
              "    <div class=\"colab-df-buttons\">\n",
              "\n",
              "  <div class=\"colab-df-container\">\n",
              "    <button class=\"colab-df-convert\" onclick=\"convertToInteractive('df-599b9857-6daf-41c6-9b47-31bd6a998de2')\"\n",
              "            title=\"Convert this dataframe to an interactive table.\"\n",
              "            style=\"display:none;\">\n",
              "\n",
              "  <svg xmlns=\"http://www.w3.org/2000/svg\" height=\"24px\" viewBox=\"0 -960 960 960\">\n",
              "    <path d=\"M120-120v-720h720v720H120Zm60-500h600v-160H180v160Zm220 220h160v-160H400v160Zm0 220h160v-160H400v160ZM180-400h160v-160H180v160Zm440 0h160v-160H620v160ZM180-180h160v-160H180v160Zm440 0h160v-160H620v160Z\"/>\n",
              "  </svg>\n",
              "    </button>\n",
              "\n",
              "  <style>\n",
              "    .colab-df-container {\n",
              "      display:flex;\n",
              "      gap: 12px;\n",
              "    }\n",
              "\n",
              "    .colab-df-convert {\n",
              "      background-color: #E8F0FE;\n",
              "      border: none;\n",
              "      border-radius: 50%;\n",
              "      cursor: pointer;\n",
              "      display: none;\n",
              "      fill: #1967D2;\n",
              "      height: 32px;\n",
              "      padding: 0 0 0 0;\n",
              "      width: 32px;\n",
              "    }\n",
              "\n",
              "    .colab-df-convert:hover {\n",
              "      background-color: #E2EBFA;\n",
              "      box-shadow: 0px 1px 2px rgba(60, 64, 67, 0.3), 0px 1px 3px 1px rgba(60, 64, 67, 0.15);\n",
              "      fill: #174EA6;\n",
              "    }\n",
              "\n",
              "    .colab-df-buttons div {\n",
              "      margin-bottom: 4px;\n",
              "    }\n",
              "\n",
              "    [theme=dark] .colab-df-convert {\n",
              "      background-color: #3B4455;\n",
              "      fill: #D2E3FC;\n",
              "    }\n",
              "\n",
              "    [theme=dark] .colab-df-convert:hover {\n",
              "      background-color: #434B5C;\n",
              "      box-shadow: 0px 1px 3px 1px rgba(0, 0, 0, 0.15);\n",
              "      filter: drop-shadow(0px 1px 2px rgba(0, 0, 0, 0.3));\n",
              "      fill: #FFFFFF;\n",
              "    }\n",
              "  </style>\n",
              "\n",
              "    <script>\n",
              "      const buttonEl =\n",
              "        document.querySelector('#df-599b9857-6daf-41c6-9b47-31bd6a998de2 button.colab-df-convert');\n",
              "      buttonEl.style.display =\n",
              "        google.colab.kernel.accessAllowed ? 'block' : 'none';\n",
              "\n",
              "      async function convertToInteractive(key) {\n",
              "        const element = document.querySelector('#df-599b9857-6daf-41c6-9b47-31bd6a998de2');\n",
              "        const dataTable =\n",
              "          await google.colab.kernel.invokeFunction('convertToInteractive',\n",
              "                                                    [key], {});\n",
              "        if (!dataTable) return;\n",
              "\n",
              "        const docLinkHtml = 'Like what you see? Visit the ' +\n",
              "          '<a target=\"_blank\" href=https://colab.research.google.com/notebooks/data_table.ipynb>data table notebook</a>'\n",
              "          + ' to learn more about interactive tables.';\n",
              "        element.innerHTML = '';\n",
              "        dataTable['output_type'] = 'display_data';\n",
              "        await google.colab.output.renderOutput(dataTable, element);\n",
              "        const docLink = document.createElement('div');\n",
              "        docLink.innerHTML = docLinkHtml;\n",
              "        element.appendChild(docLink);\n",
              "      }\n",
              "    </script>\n",
              "  </div>\n",
              "\n",
              "\n",
              "    <div id=\"df-2f9108df-f472-413f-bc43-5e6a588a361a\">\n",
              "      <button class=\"colab-df-quickchart\" onclick=\"quickchart('df-2f9108df-f472-413f-bc43-5e6a588a361a')\"\n",
              "                title=\"Suggest charts\"\n",
              "                style=\"display:none;\">\n",
              "\n",
              "<svg xmlns=\"http://www.w3.org/2000/svg\" height=\"24px\"viewBox=\"0 0 24 24\"\n",
              "     width=\"24px\">\n",
              "    <g>\n",
              "        <path d=\"M19 3H5c-1.1 0-2 .9-2 2v14c0 1.1.9 2 2 2h14c1.1 0 2-.9 2-2V5c0-1.1-.9-2-2-2zM9 17H7v-7h2v7zm4 0h-2V7h2v10zm4 0h-2v-4h2v4z\"/>\n",
              "    </g>\n",
              "</svg>\n",
              "      </button>\n",
              "\n",
              "<style>\n",
              "  .colab-df-quickchart {\n",
              "      --bg-color: #E8F0FE;\n",
              "      --fill-color: #1967D2;\n",
              "      --hover-bg-color: #E2EBFA;\n",
              "      --hover-fill-color: #174EA6;\n",
              "      --disabled-fill-color: #AAA;\n",
              "      --disabled-bg-color: #DDD;\n",
              "  }\n",
              "\n",
              "  [theme=dark] .colab-df-quickchart {\n",
              "      --bg-color: #3B4455;\n",
              "      --fill-color: #D2E3FC;\n",
              "      --hover-bg-color: #434B5C;\n",
              "      --hover-fill-color: #FFFFFF;\n",
              "      --disabled-bg-color: #3B4455;\n",
              "      --disabled-fill-color: #666;\n",
              "  }\n",
              "\n",
              "  .colab-df-quickchart {\n",
              "    background-color: var(--bg-color);\n",
              "    border: none;\n",
              "    border-radius: 50%;\n",
              "    cursor: pointer;\n",
              "    display: none;\n",
              "    fill: var(--fill-color);\n",
              "    height: 32px;\n",
              "    padding: 0;\n",
              "    width: 32px;\n",
              "  }\n",
              "\n",
              "  .colab-df-quickchart:hover {\n",
              "    background-color: var(--hover-bg-color);\n",
              "    box-shadow: 0 1px 2px rgba(60, 64, 67, 0.3), 0 1px 3px 1px rgba(60, 64, 67, 0.15);\n",
              "    fill: var(--button-hover-fill-color);\n",
              "  }\n",
              "\n",
              "  .colab-df-quickchart-complete:disabled,\n",
              "  .colab-df-quickchart-complete:disabled:hover {\n",
              "    background-color: var(--disabled-bg-color);\n",
              "    fill: var(--disabled-fill-color);\n",
              "    box-shadow: none;\n",
              "  }\n",
              "\n",
              "  .colab-df-spinner {\n",
              "    border: 2px solid var(--fill-color);\n",
              "    border-color: transparent;\n",
              "    border-bottom-color: var(--fill-color);\n",
              "    animation:\n",
              "      spin 1s steps(1) infinite;\n",
              "  }\n",
              "\n",
              "  @keyframes spin {\n",
              "    0% {\n",
              "      border-color: transparent;\n",
              "      border-bottom-color: var(--fill-color);\n",
              "      border-left-color: var(--fill-color);\n",
              "    }\n",
              "    20% {\n",
              "      border-color: transparent;\n",
              "      border-left-color: var(--fill-color);\n",
              "      border-top-color: var(--fill-color);\n",
              "    }\n",
              "    30% {\n",
              "      border-color: transparent;\n",
              "      border-left-color: var(--fill-color);\n",
              "      border-top-color: var(--fill-color);\n",
              "      border-right-color: var(--fill-color);\n",
              "    }\n",
              "    40% {\n",
              "      border-color: transparent;\n",
              "      border-right-color: var(--fill-color);\n",
              "      border-top-color: var(--fill-color);\n",
              "    }\n",
              "    60% {\n",
              "      border-color: transparent;\n",
              "      border-right-color: var(--fill-color);\n",
              "    }\n",
              "    80% {\n",
              "      border-color: transparent;\n",
              "      border-right-color: var(--fill-color);\n",
              "      border-bottom-color: var(--fill-color);\n",
              "    }\n",
              "    90% {\n",
              "      border-color: transparent;\n",
              "      border-bottom-color: var(--fill-color);\n",
              "    }\n",
              "  }\n",
              "</style>\n",
              "\n",
              "      <script>\n",
              "        async function quickchart(key) {\n",
              "          const quickchartButtonEl =\n",
              "            document.querySelector('#' + key + ' button');\n",
              "          quickchartButtonEl.disabled = true;  // To prevent multiple clicks.\n",
              "          quickchartButtonEl.classList.add('colab-df-spinner');\n",
              "          try {\n",
              "            const charts = await google.colab.kernel.invokeFunction(\n",
              "                'suggestCharts', [key], {});\n",
              "          } catch (error) {\n",
              "            console.error('Error during call to suggestCharts:', error);\n",
              "          }\n",
              "          quickchartButtonEl.classList.remove('colab-df-spinner');\n",
              "          quickchartButtonEl.classList.add('colab-df-quickchart-complete');\n",
              "        }\n",
              "        (() => {\n",
              "          let quickchartButtonEl =\n",
              "            document.querySelector('#df-2f9108df-f472-413f-bc43-5e6a588a361a button');\n",
              "          quickchartButtonEl.style.display =\n",
              "            google.colab.kernel.accessAllowed ? 'block' : 'none';\n",
              "        })();\n",
              "      </script>\n",
              "    </div>\n",
              "\n",
              "  <div id=\"id_41690c67-a240-45ff-8ec9-2eff73de945a\">\n",
              "    <style>\n",
              "      .colab-df-generate {\n",
              "        background-color: #E8F0FE;\n",
              "        border: none;\n",
              "        border-radius: 50%;\n",
              "        cursor: pointer;\n",
              "        display: none;\n",
              "        fill: #1967D2;\n",
              "        height: 32px;\n",
              "        padding: 0 0 0 0;\n",
              "        width: 32px;\n",
              "      }\n",
              "\n",
              "      .colab-df-generate:hover {\n",
              "        background-color: #E2EBFA;\n",
              "        box-shadow: 0px 1px 2px rgba(60, 64, 67, 0.3), 0px 1px 3px 1px rgba(60, 64, 67, 0.15);\n",
              "        fill: #174EA6;\n",
              "      }\n",
              "\n",
              "      [theme=dark] .colab-df-generate {\n",
              "        background-color: #3B4455;\n",
              "        fill: #D2E3FC;\n",
              "      }\n",
              "\n",
              "      [theme=dark] .colab-df-generate:hover {\n",
              "        background-color: #434B5C;\n",
              "        box-shadow: 0px 1px 3px 1px rgba(0, 0, 0, 0.15);\n",
              "        filter: drop-shadow(0px 1px 2px rgba(0, 0, 0, 0.3));\n",
              "        fill: #FFFFFF;\n",
              "      }\n",
              "    </style>\n",
              "    <button class=\"colab-df-generate\" onclick=\"generateWithVariable('comparison_table')\"\n",
              "            title=\"Generate code using this dataframe.\"\n",
              "            style=\"display:none;\">\n",
              "\n",
              "  <svg xmlns=\"http://www.w3.org/2000/svg\" height=\"24px\"viewBox=\"0 0 24 24\"\n",
              "       width=\"24px\">\n",
              "    <path d=\"M7,19H8.4L18.45,9,17,7.55,7,17.6ZM5,21V16.75L18.45,3.32a2,2,0,0,1,2.83,0l1.4,1.43a1.91,1.91,0,0,1,.58,1.4,1.91,1.91,0,0,1-.58,1.4L9.25,21ZM18.45,9,17,7.55Zm-12,3A5.31,5.31,0,0,0,4.9,8.1,5.31,5.31,0,0,0,1,6.5,5.31,5.31,0,0,0,4.9,4.9,5.31,5.31,0,0,0,6.5,1,5.31,5.31,0,0,0,8.1,4.9,5.31,5.31,0,0,0,12,6.5,5.46,5.46,0,0,0,6.5,12Z\"/>\n",
              "  </svg>\n",
              "    </button>\n",
              "    <script>\n",
              "      (() => {\n",
              "      const buttonEl =\n",
              "        document.querySelector('#id_41690c67-a240-45ff-8ec9-2eff73de945a button.colab-df-generate');\n",
              "      buttonEl.style.display =\n",
              "        google.colab.kernel.accessAllowed ? 'block' : 'none';\n",
              "\n",
              "      buttonEl.onclick = () => {\n",
              "        google.colab.notebook.generateWithVariable('comparison_table');\n",
              "      }\n",
              "      })();\n",
              "    </script>\n",
              "  </div>\n",
              "\n",
              "    </div>\n",
              "  </div>\n"
            ],
            "application/vnd.google.colaboratory.intrinsic+json": {
              "type": "dataframe",
              "variable_name": "comparison_table",
              "summary": "{\n  \"name\": \"comparison_table\",\n  \"rows\": 5,\n  \"fields\": [\n    {\n      \"column\": \"Step\",\n      \"properties\": {\n        \"dtype\": \"string\",\n        \"num_unique_values\": 5,\n        \"samples\": [\n          \"Chunking\",\n          \"Parallel with Dask\",\n          \"Optimize Data Types\"\n        ],\n        \"semantic_type\": \"\",\n        \"description\": \"\"\n      }\n    },\n    {\n      \"column\": \"Execution Time (s)\",\n      \"properties\": {\n        \"dtype\": \"number\",\n        \"std\": 14.37534210990308,\n        \"min\": 1.525865077972412,\n        \"max\": 36.620373249053955,\n        \"num_unique_values\": 5,\n        \"samples\": [\n          1.525865077972412,\n          21.385913848876953,\n          35.73462963104248\n        ],\n        \"semantic_type\": \"\",\n        \"description\": \"\"\n      }\n    },\n    {\n      \"column\": \"Memory Used (MB)\",\n      \"properties\": {\n        \"dtype\": \"number\",\n        \"std\": 513.2854057946893,\n        \"min\": 0.0,\n        \"max\": 1245.94921875,\n        \"num_unique_values\": 5,\n        \"samples\": [\n          0.0,\n          1245.94921875,\n          446.97265625\n        ],\n        \"semantic_type\": \"\",\n        \"description\": \"\"\n      }\n    }\n  ]\n}"
            }
          },
          "metadata": {},
          "execution_count": 20
        }
      ],
      "source": [
        "# Create table\n",
        "comparison_table = pd.DataFrame({\n",
        "    'Step': ['Load Less Data',\n",
        "             'Chunking',\n",
        "             'Optimize Data Types',\n",
        "             'Sampling',\n",
        "             'Parallel with Dask'],\n",
        "    'Execution Time (s)': [\n",
        "        execution_time_1,\n",
        "        execution_time_2,\n",
        "        execution_time_3,\n",
        "        execution_time_4,\n",
        "        execution_time_5\n",
        "    ],\n",
        "    'Memory Used (MB)': [\n",
        "        memory_used_1,\n",
        "        memory_used_2,\n",
        "        memory_used_3,\n",
        "        memory_used_4,\n",
        "        memory_used_5\n",
        "    ]\n",
        "})\n",
        "\n",
        "print(\"📊 Step-by-Step Comparison (Execution Time & Memory)\")\n",
        "comparison_table"
      ]
    },
    {
      "source": [
        "import matplotlib.pyplot as plt\n",
        "import numpy as np\n",
        "\n",
        "# Data\n",
        "steps = comparison_table['Step'].tolist()\n",
        "execution_times = comparison_table['Execution Time (s)'].tolist()\n",
        "memory_used = comparison_table['Memory Used (MB)'].tolist()\n",
        "\n",
        "x = np.arange(len(steps))  # Label locations\n",
        "\n",
        "# Plot 1: Execution Time\n",
        "fig1, ax1 = plt.subplots(figsize=(10, 7))\n",
        "bars1 = ax1.bar(x, execution_times, color='skyblue')\n",
        "ax1.set_title('Execution Time Comparison')\n",
        "ax1.set_xlabel('Technique')\n",
        "ax1.set_ylabel('Execution Time (seconds)')\n",
        "ax1.set_xticks(x)\n",
        "ax1.set_xticklabels(steps,  ha='center')\n",
        "ax1.grid(axis='y', linestyle='--', alpha=0.7)\n",
        "\n",
        "# Add value labels\n",
        "for bar in bars1:\n",
        "    height = bar.get_height()\n",
        "    ax1.annotate(f'{height:.2f}',\n",
        "                 xy=(bar.get_x() + bar.get_width() / 2, height),\n",
        "                 xytext=(0, 3),\n",
        "                 textcoords=\"offset points\",\n",
        "                 ha='center', va='bottom')\n",
        "\n",
        "plt.tight_layout()\n",
        "\n",
        "# Plot 2: Memory Used\n",
        "fig2, ax2 = plt.subplots(figsize=(10, 7))\n",
        "bars2 = ax2.bar(x, memory_used, color='salmon')\n",
        "ax2.set_title('Memory Usage Comparison')\n",
        "ax2.set_xlabel('Technique')\n",
        "ax2.set_ylabel('Memory Used (MB)')\n",
        "ax2.set_xticks(x)\n",
        "ax2.set_xticklabels(steps,  ha='center')\n",
        "ax2.grid(axis='y', linestyle='--', alpha=0.7)\n",
        "\n",
        "# Add value labels\n",
        "for bar in bars2:\n",
        "    height = bar.get_height()\n",
        "    ax2.annotate(f'{height:.2f}',\n",
        "                 xy=(bar.get_x() + bar.get_width() / 2, height),\n",
        "                 xytext=(0, 3),\n",
        "                 textcoords=\"offset points\",\n",
        "                 ha='center', va='bottom')\n",
        "\n",
        "plt.tight_layout()\n",
        "plt.show()"
      ],
      "cell_type": "code",
      "metadata": {
        "id": "IBTkblTX9MT6",
        "colab": {
          "base_uri": "https://localhost:8080/",
          "height": 1000
        },
        "outputId": "8b78ca61-4252-4e2c-b2c2-3392f0608714"
      },
      "execution_count": 28,
      "outputs": [
        {
          "output_type": "display_data",
          "data": {
            "text/plain": [
              "<Figure size 1000x700 with 1 Axes>"
            ],
            "image/png": "[encoded data removed]"
          },
          "metadata": {}
        },
        {
          "output_type": "display_data",
          "data": {
            "text/plain": [
              "<Figure size 1000x700 with 1 Axes>"
            ],
            "image/png": "[encoded data removed]"
          },
          "metadata": {}
        }
      ]
    },
    {
      "cell_type": "markdown",
      "metadata": {
        "id": "z7MsY_Sg8-dr"
      },
      "source": [
        "### Comparative between libraries (pandas, dask, polar)"
      ]
    },
    {
      "cell_type": "code",
      "source": [
        "import pandas as pd\n",
        "df_pandas=pd.read_csv(file_path)\n",
        "print(\"Shape of dataset before cleaning\" + str(df_pandas.shape))\n",
        "print(\"Total duplicated row:\"+str(df_pandas.duplicated().sum()))\n",
        "print(\"Total null each column: \\n\"+str(df_pandas.isnull().sum()))"
      ],
      "metadata": {
        "id": "r1eZJUC36EuZ",
        "colab": {
          "base_uri": "https://localhost:8080/"
        },
        "outputId": "8e3c95b3-a7df-4147-bc2c-1cd9bc329b5a"
      },
      "execution_count": 22,
      "outputs": [
        {
          "output_type": "stream",
          "name": "stdout",
          "text": [
            "Shape of dataset before cleaning(6489062, 26)\n",
            "Total duplicated row:28473\n",
            "Total null each column: \n",
            "MONTH                            0\n",
            "DAY_OF_WEEK                      0\n",
            "DEP_DEL15                        0\n",
            "DEP_TIME_BLK                     0\n",
            "DISTANCE_GROUP                   0\n",
            "SEGMENT_NUMBER                   0\n",
            "CONCURRENT_FLIGHTS               0\n",
            "NUMBER_OF_SEATS                  0\n",
            "CARRIER_NAME                     0\n",
            "AIRPORT_FLIGHTS_MONTH            0\n",
            "AIRLINE_FLIGHTS_MONTH            0\n",
            "AIRLINE_AIRPORT_FLIGHTS_MONTH    0\n",
            "AVG_MONTHLY_PASS_AIRPORT         0\n",
            "AVG_MONTHLY_PASS_AIRLINE         0\n",
            "FLT_ATTENDANTS_PER_PASS          0\n",
            "GROUND_SERV_PER_PASS             0\n",
            "PLANE_AGE                        0\n",
            "DEPARTING_AIRPORT                0\n",
            "LATITUDE                         0\n",
            "LONGITUDE                        0\n",
            "PREVIOUS_AIRPORT                 0\n",
            "PRCP                             0\n",
            "SNOW                             0\n",
            "SNWD                             0\n",
            "TMAX                             0\n",
            "AWND                             0\n",
            "dtype: int64\n"
          ]
        }
      ]
    },
    {
      "cell_type": "code",
      "source": [
        "import pandas as pd\n",
        "import time\n",
        "import psutil\n",
        "import os\n",
        "\n",
        "process = psutil.Process(os.getpid())\n",
        "start_time = time.time()\n",
        "start_memory = process.memory_info().rss / 1024**2\n",
        "\n",
        "df_pandas=pd.read_csv(file_path)\n",
        "df_pandas.drop_duplicates(inplace=True)\n",
        "\n",
        "# Calculate delay rates by carrier and month\n",
        "delay_analysis = (\n",
        "    df_pandas.groupby(['MONTH', 'CARRIER_NAME'])\n",
        "    .agg(\n",
        "        total_flights=('DEP_DEL15', 'count'),\n",
        "        delayed_flights=('DEP_DEL15', 'sum'),\n",
        "        delay_rate=('DEP_DEL15', 'mean')\n",
        "    )\n",
        "    .reset_index()\n",
        "    .sort_values(['MONTH', 'delay_rate'], ascending=[True, False])\n",
        ")\n",
        "\n",
        "# Add percentage column\n",
        "delay_analysis['delay_pct'] = (delay_analysis['delay_rate'] * 100).round(1)\n",
        "\n",
        "end_time = time.time()\n",
        "end_memory = process.memory_info().rss / 1024**2\n",
        "\n",
        "execution_time_6 = end_time - start_time\n",
        "memory_used_6 = end_memory - start_memory\n",
        "\n",
        "print(delay_analysis.shape)\n",
        "print(delay_analysis.head(30))\n",
        "print(f\"\\nExecution Time: {execution_time_6:.2f} seconds\")\n",
        "print(f\"Memory Used: {memory_used_6:.2f} MB\")"
      ],
      "metadata": {
        "id": "81AwoTlLHGYv"
      },
      "execution_count": null,
      "outputs": []
    },
    {
      "cell_type": "code",
      "source": [
        "import dask.dataframe as dd\n",
        "\n",
        "process = psutil.Process(os.getpid())\n",
        "start_time = time.time()\n",
        "start_memory = process.memory_info().rss / 1024**2\n",
        "\n",
        "df_dask = dd.read_csv(file_path)\n",
        "df_dask=df_dask.drop_duplicates()\n",
        "\n",
        "\n",
        "delay_analysis = (\n",
        "    df_dask.groupby(['MONTH', 'CARRIER_NAME'])\n",
        "    .agg({\n",
        "        'DEP_DEL15': ['count', 'sum', 'mean']\n",
        "    })\n",
        "    .compute()\n",
        "    .sort_values(['MONTH', ('DEP_DEL15', 'mean')], ascending=[True, False])\n",
        ")\n",
        "\n",
        "# Clean up multi-index columns\n",
        "delay_analysis.columns = ['total_flights', 'delayed_flights', 'delay_rate']\n",
        "delay_analysis['delay_pct'] = (delay_analysis['delay_rate'] * 100).round(1)\n",
        "\n",
        "end_time = time.time()\n",
        "end_memory = process.memory_info().rss / 1024**2\n",
        "\n",
        "execution_time_7 = end_time - start_time\n",
        "memory_used_7 = end_memory - start_memory\n",
        "\n",
        "print(delay_analysis.shape)\n",
        "print(delay_analysis.head(30))\n",
        "print(f\"\\nExecution Time: {execution_time_7:.2f} seconds\")\n",
        "print(f\"Memory Used: {memory_used_7:.2f} MB\")"
      ],
      "metadata": {
        "id": "Ndx4_ER0xIgN"
      },
      "execution_count": null,
      "outputs": []
    },
    {
      "cell_type": "code",
      "source": [
        "import polars as pl\n",
        "\n",
        "process = psutil.Process(os.getpid())\n",
        "start_time = time.time()\n",
        "start_memory = process.memory_info().rss / 1024**2\n",
        "\n",
        "df_polars = pl.read_csv(file_path)\n",
        "\n",
        "delay_analysis = (\n",
        "    df_polars.lazy()\n",
        "    .group_by(['MONTH', 'CARRIER_NAME'])\n",
        "    .agg(\n",
        "        pl.len().alias('total_flights'),\n",
        "        pl.col('DEP_DEL15').sum().alias('delayed_flights'),\n",
        "        pl.col('DEP_DEL15').mean().alias('delay_rate')\n",
        "    )\n",
        "    .sort(['MONTH', 'delay_rate'], descending=[False, True])\n",
        "    .with_columns(\n",
        "        (pl.col('delay_rate') * 100).round(1).alias('delay_pct')\n",
        "    )\n",
        "    .collect()\n",
        ")\n",
        "\n",
        "end_time = time.time()\n",
        "end_memory = process.memory_info().rss / 1024**2\n",
        "\n",
        "execution_time_8 = end_time - start_time\n",
        "memory_used_8 = end_memory - start_memory\n",
        "\n",
        "print(delay_analysis.shape)\n",
        "print(delay_analysis.head(30))\n",
        "print(f\"\\nExecution Time: {execution_time_8:.2f} seconds\")\n",
        "print(f\"Memory Used: {memory_used_8:.2f} MB\")"
      ],
      "metadata": {
        "id": "irHjhK82yXXG"
      },
      "execution_count": null,
      "outputs": []
    },
    {
      "cell_type": "code",
      "source": [
        "comparison_table2 = pd.DataFrame({\n",
        "    'Step': ['Pandas',\n",
        "             'Dask',\n",
        "             'Polars'],\n",
        "    'Execution Time (s)': [\n",
        "        execution_time_6,\n",
        "        execution_time_7,\n",
        "        execution_time_8\n",
        "    ],\n",
        "    'Memory Used (MB)': [\n",
        "        memory_used_6,\n",
        "        memory_used_7,\n",
        "        memory_used_8\n",
        "    ]\n",
        "})\n",
        "\n",
        "print(\"📊 Comparison of different libaries(Execution Time & Memory)\")\n",
        "comparison_table2"
      ],
      "metadata": {
        "id": "KLkl-zAjPX6S"
      },
      "execution_count": null,
      "outputs": []
    },
    {
      "cell_type": "code",
      "source": [
        "import matplotlib.pyplot as plt\n",
        "import numpy as np\n",
        "\n",
        "# Data\n",
        "steps = comparison_table2['Step'].tolist()\n",
        "execution_times = comparison_table2['Execution Time (s)'].tolist()\n",
        "memory_used = comparison_table2['Memory Used (MB)'].tolist()\n",
        "\n",
        "x = np.arange(len(steps))  # Label locations\n",
        "width = 0.6\n",
        "\n",
        "# --- Chart 1: Execution Time ---\n",
        "fig1, ax1 = plt.subplots(figsize=(8, 5))\n",
        "bars1 = ax1.bar(x, execution_times, width, color='skyblue')\n",
        "ax1.set_title('Execution Time Comparison')\n",
        "ax1.set_ylabel('Time (seconds)')\n",
        "ax1.set_xticks(x)\n",
        "ax1.set_xticklabels(steps)\n",
        "ax1.bar_label(bars1, fmt='%.2f', padding=3)\n",
        "ax1.grid(axis='y', linestyle='--', alpha=0.7)\n",
        "\n",
        "# --- Chart 2: Memory Usage ---\n",
        "fig2, ax2 = plt.subplots(figsize=(8, 5))\n",
        "bars2 = ax2.bar(x, memory_used, width, color='salmon')\n",
        "ax2.set_title('Memory Usage Comparison')\n",
        "ax2.set_ylabel('Memory (MB)')\n",
        "ax2.set_xticks(x)\n",
        "ax2.set_xticklabels(steps)\n",
        "ax2.bar_label(bars2, fmt='%.2f', padding=3)\n",
        "ax2.grid(axis='y', linestyle='--', alpha=0.7)\n",
        "\n",
        "# Show plots\n",
        "plt.tight_layout()\n",
        "plt.show()\n"
      ],
      "metadata": {
        "id": "6ZnKOkFAQkRT",
        "colab": {
          "base_uri": "https://localhost:8080/",
          "height": 958
        },
        "outputId": "16ddd672-0fba-4a21-c0c5-53da11aaf733"
      },
      "execution_count": 27,
      "outputs": [
        {
          "data": {
            "image/png": "[encoded data removed]",
            "text/plain": [
              "<Figure size 800x500 with 1 Axes>"
            ]
          },
          "metadata": {},
          "output_type": "display_data"
        },
        {
          "data": {
            "image/png": "[encoded data removed]",
            "text/plain": [
              "<Figure size 800x500 with 1 Axes>"
            ]
          },
          "metadata": {},
          "output_type": "display_data"
        }
      ]
    }
  ],
  "metadata": {
    "colab": {
      "collapsed_sections": [
        "QjOMapMt_EXk",
        "TCrC2b0U86PY"
      ],
      "provenance": []
    },
    "kernelspec": {
      "display_name": "Python 3",
      "name": "python3"
    },
    "language_info": {
      "name": "python"
    }
  },
  "nbformat": 4,
  "nbformat_minor": 0
}