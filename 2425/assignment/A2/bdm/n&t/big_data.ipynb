{
  "nbformat": 4,
  "nbformat_minor": 0,
  "metadata": {
    "colab": {
      "provenance": []
    },
    "kernelspec": {
      "name": "python3",
      "display_name": "Python 3"
    },
    "language_info": {
      "name": "python"
    }
  },
  "cells": [
    {
      "cell_type": "markdown",
      "source": [
        "# **Assignment 2: Mastering Big Data Handling**\n",
        "\n"
      ],
      "metadata": {
        "id": "dVjz7Bmj5vHw"
      }
    },
    {
      "cell_type": "markdown",
      "source": [
        "**Course:** HPDP SECP3133-01\n",
        "\n",
        "**THEVAN RAJU A/L JEGANATH**\n",
        "**A22EC0286**\n"
      ],
      "metadata": {
        "id": "yIwiXQonp12t"
      }
    },
    {
      "cell_type": "markdown",
      "source": [
        "**NAVACHANDER NAVASANTAR**\n",
        "**A22EC0226**"
      ],
      "metadata": {
        "id": "T0mfYa0DGS5T"
      }
    },
    {
      "cell_type": "markdown",
      "source": [
        "## **Task 1: Dataset Selection**"
      ],
      "metadata": {
        "id": "ST_y0CCi52UU"
      }
    },
    {
      "cell_type": "markdown",
      "source": [
        "For this assignment, the **Spotify Charts** dataset was selected from Kaggle. This dataset provides comprehensive information on daily \"Top 200\" and \"Viral 50\" charts published globally by Spotify since January 1, 2017.\n",
        "\n",
        "* **Dataset Name:** Spotify Charts\n",
        "* **Source:** Kaggle - [https://www.kaggle.com/datasets/dhruvildave/spotify-charts](https://www.kaggle.com/datasets/dhruvildave/spotify-charts)\n",
        "* **Dataset Size:** 3.48 GB (downloaded size from Kaggle)\n",
        "* **Domain:** Music Streaming, Entertainment, Chart Data, Time Series Analysis\n",
        "* **Number of Records (Initial Observation):** Over 26 million records, as observed after initial loading.\n",
        "* **Why selected:** The Spotify Charts dataset was chosen for this assignment due to its significant size, featuring over 26 million records and a downloaded size of 3.48 GB, making it an ideal candidate for demonstrating big data handling strategies within the context of the HPDP SECP3133-01 course. This comprehensive dataset, sourced from Kaggle, provides daily \"Top 200\" and \"Viral 50\" charts globally since January 1, 2017, placing it within the relevant domain of Music Streaming, Entertainment, Chart Data, and Time Series Analysis."
      ],
      "metadata": {
        "id": "FIXSUei25_Df"
      }
    },
    {
      "cell_type": "markdown",
      "source": [
        "## **Task 2: Load and Inspect Data**\n",
        "\n",
        "This task establishes a baseline for comparing different big data handling strategies. The primary objective was to download the Spotify Charts dataset and then perform an initial full load into a Pandas DataFrame using the standard pd.read_csv() method. This approach serves as the \"traditional method\" and helps to identify the default memory and time consumption without any optimizations. Initial inspection involves checking the DataFrame's shape, column names, and inferred data types to understand its structure and content."
      ],
      "metadata": {
        "id": "Z7vureXE6BMU"
      }
    },
    {
      "cell_type": "markdown",
      "source": [
        "### **1. Install and configure Kaggle API**\n",
        "\n",
        "\n"
      ],
      "metadata": {
        "id": "MqvD_QmR6LzL"
      }
    },
    {
      "cell_type": "code",
      "source": [
        "pip install kaggle"
      ],
      "metadata": {
        "id": "EL6zI8jG6M7E",
        "colab": {
          "base_uri": "https://localhost:8080/"
        },
        "outputId": "a0b90943-d9f1-4947-e68b-65cf46b98d34"
      },
      "execution_count": null,
      "outputs": [
        {
          "output_type": "stream",
          "name": "stdout",
          "text": [
            "Requirement already satisfied: kaggle in /usr/local/lib/python3.11/dist-packages (1.7.4.5)\n",
            "Requirement already satisfied: bleach in /usr/local/lib/python3.11/dist-packages (from kaggle) (6.2.0)\n",
            "Requirement already satisfied: certifi>=14.05.14 in /usr/local/lib/python3.11/dist-packages (from kaggle) (2025.4.26)\n",
            "Requirement already satisfied: charset-normalizer in /usr/local/lib/python3.11/dist-packages (from kaggle) (3.4.2)\n",
            "Requirement already satisfied: idna in /usr/local/lib/python3.11/dist-packages (from kaggle) (3.10)\n",
            "Requirement already satisfied: protobuf in /usr/local/lib/python3.11/dist-packages (from kaggle) (5.29.5)\n",
            "Requirement already satisfied: python-dateutil>=2.5.3 in /usr/local/lib/python3.11/dist-packages (from kaggle) (2.9.0.post0)\n",
            "Requirement already satisfied: python-slugify in /usr/local/lib/python3.11/dist-packages (from kaggle) (8.0.4)\n",
            "Requirement already satisfied: requests in /usr/local/lib/python3.11/dist-packages (from kaggle) (2.32.3)\n",
            "Requirement already satisfied: setuptools>=21.0.0 in /usr/local/lib/python3.11/dist-packages (from kaggle) (75.2.0)\n",
            "Requirement already satisfied: six>=1.10 in /usr/local/lib/python3.11/dist-packages (from kaggle) (1.17.0)\n",
            "Requirement already satisfied: text-unidecode in /usr/local/lib/python3.11/dist-packages (from kaggle) (1.3)\n",
            "Requirement already satisfied: tqdm in /usr/local/lib/python3.11/dist-packages (from kaggle) (4.67.1)\n",
            "Requirement already satisfied: urllib3>=1.15.1 in /usr/local/lib/python3.11/dist-packages (from kaggle) (2.4.0)\n",
            "Requirement already satisfied: webencodings in /usr/local/lib/python3.11/dist-packages (from kaggle) (0.5.1)\n"
          ]
        }
      ]
    },
    {
      "cell_type": "code",
      "execution_count": null,
      "metadata": {
        "id": "wh-K9AO_EIJw"
      },
      "outputs": [],
      "source": [
        "!mkdir -p ~/.kaggle\n",
        "!cp kaggle.json ~/.kaggle/\n",
        "!chmod 600 ~/.kaggle/kaggle.json"
      ]
    },
    {
      "cell_type": "markdown",
      "source": [
        "### **2. Download and Unzip**"
      ],
      "metadata": {
        "id": "cL9Hmmbu6Xz4"
      }
    },
    {
      "cell_type": "code",
      "source": [
        "!pip install -q kaggle\n",
        "!kaggle datasets download -d dhruvildave/spotify-charts"
      ],
      "metadata": {
        "colab": {
          "base_uri": "https://localhost:8080/"
        },
        "id": "6QoYTiWBE8jB",
        "outputId": "ce04f54a-5c81-4d91-cd91-6cce6c35461d"
      },
      "execution_count": null,
      "outputs": [
        {
          "output_type": "stream",
          "name": "stdout",
          "text": [
            "Dataset URL: https://www.kaggle.com/datasets/dhruvildave/spotify-charts\n",
            "License(s): ODbL-1.0\n",
            "Downloading spotify-charts.zip to /content\n",
            " 95% 902M/945M [00:07<00:00, 171MB/s]\n",
            "100% 945M/945M [00:07<00:00, 133MB/s]\n"
          ]
        }
      ]
    },
    {
      "cell_type": "code",
      "source": [
        "!unzip -q spotify-charts.zip -d spotify_data"
      ],
      "metadata": {
        "id": "K4vkPj8AFmGk"
      },
      "execution_count": null,
      "outputs": []
    },
    {
      "cell_type": "markdown",
      "source": [
        "### **3. Load into Pandas DataFrame**"
      ],
      "metadata": {
        "id": "m500ykMl6kh8"
      }
    },
    {
      "cell_type": "markdown",
      "source": [
        "This loads the entire dataset into memory at once with default settings. It is simple but can be slow and memory-heavy for large files."
      ],
      "metadata": {
        "id": "pMkghHymaP9X"
      }
    },
    {
      "cell_type": "code",
      "source": [
        "import pandas as pd\n",
        "import time\n",
        "import gc\n",
        "\n",
        "# Step 1: Start timer\n",
        "start_time = time.time()\n",
        "\n",
        "# Step 2: Load the full dataset\n",
        "df = pd.read_csv('spotify_data/charts.csv')\n",
        "\n",
        "# Step 3: End timer\n",
        "end_time = time.time()\n",
        "\n",
        "# Step 4: Memory usage\n",
        "memory_MB = df.memory_usage(deep=True).sum() / (1024 ** 2)\n",
        "\n",
        "# Step 5: Print result\n",
        "print(\"=== Traditional Full Load Metrics ===\")\n",
        "print(f\"🔹 Load Time        : {end_time - start_time:.2f} seconds\")\n",
        "print(f\"🔹 Memory Usage     : {memory_MB:.2f} MB\")"
      ],
      "metadata": {
        "id": "vVTfG5RI6oWj",
        "colab": {
          "base_uri": "https://localhost:8080/"
        },
        "outputId": "a04cec6b-1c27-48e3-d228-420d8e9d1d09"
      },
      "execution_count": null,
      "outputs": [
        {
          "output_type": "stream",
          "name": "stdout",
          "text": [
            "=== Traditional Full Load Metrics ===\n",
            "🔹 Load Time        : 81.13 seconds\n",
            "🔹 Memory Usage     : 13431.49 MB\n"
          ]
        }
      ]
    },
    {
      "cell_type": "markdown",
      "source": [
        "### **4. Initial Inspection**"
      ],
      "metadata": {
        "id": "JcY_vgKJ6tYy"
      }
    },
    {
      "cell_type": "code",
      "source": [
        "# Get number of rows and columns\n",
        "print(\"Shape:\", df.shape)\n",
        "\n",
        "# Get column names\n",
        "print(\"Columns:\", df.columns.tolist())\n",
        "\n",
        "# Get data types and non-null info\n",
        "df.info()\n",
        "\n",
        "del df\n",
        "gc.collect()"
      ],
      "metadata": {
        "id": "eLUuqRQK6qxE",
        "colab": {
          "base_uri": "https://localhost:8080/"
        },
        "outputId": "ae0080b3-2537-4616-fe30-c9643829b246"
      },
      "execution_count": null,
      "outputs": [
        {
          "output_type": "stream",
          "name": "stdout",
          "text": [
            "Shape: (26173514, 9)\n",
            "Columns: ['title', 'rank', 'date', 'artist', 'url', 'region', 'chart', 'trend', 'streams']\n",
            "<class 'pandas.core.frame.DataFrame'>\n",
            "RangeIndex: 26173514 entries, 0 to 26173513\n",
            "Data columns (total 9 columns):\n",
            " #   Column   Dtype  \n",
            "---  ------   -----  \n",
            " 0   title    object \n",
            " 1   rank     int64  \n",
            " 2   date     object \n",
            " 3   artist   object \n",
            " 4   url      object \n",
            " 5   region   object \n",
            " 6   chart    object \n",
            " 7   trend    object \n",
            " 8   streams  float64\n",
            "dtypes: float64(1), int64(1), object(7)\n",
            "memory usage: 1.8+ GB\n"
          ]
        },
        {
          "output_type": "execute_result",
          "data": {
            "text/plain": [
              "0"
            ]
          },
          "metadata": {},
          "execution_count": 6
        }
      ]
    },
    {
      "cell_type": "markdown",
      "source": [
        "## **Task 3: Apply Big Data Handling Strategies & Libraries**"
      ],
      "metadata": {
        "id": "-CWjLvaJ7UOR"
      }
    },
    {
      "cell_type": "markdown",
      "source": [
        "### **Strategy 1: Load Less Data**"
      ],
      "metadata": {
        "id": "uk5GrQWC7VfK"
      }
    },
    {
      "cell_type": "markdown",
      "source": [
        "Loads only specific important columns to reduce memory usage and speed up loading. This step is ideal when we don’t need all columns."
      ],
      "metadata": {
        "id": "7jrRt5FsaWMS"
      }
    },
    {
      "cell_type": "code",
      "source": [
        "import pandas as pd\n",
        "import time\n",
        "import gc\n",
        "\n",
        "# Define only the necessary columns to load from the CSV\n",
        "use_cols = ['title', 'rank', 'date', 'artist', 'region']\n",
        "\n",
        "# Start the timer to measure loading duration\n",
        "start_time = time.time()\n",
        "\n",
        "# Load only selected columns from the CSV to reduce memory usage\n",
        "df_less = pd.read_csv('spotify_data/charts.csv', usecols=use_cols)\n",
        "\n",
        "# Stop the timer after loading\n",
        "end_time = time.time()\n",
        "\n",
        "# Calculate memory usage of the DataFrame in megabytes (MB)\n",
        "memory_MB = df_less.memory_usage(deep=True).sum() / (1024 ** 2)\n",
        "\n",
        "# Print metrics for comparison\n",
        "print(\"=== Load Less Data Metrics ===\")\n",
        "print(f\"🔹 Load Time        : {end_time - start_time:.2f} seconds\")\n",
        "print(f\"🔹 Memory Usage     : {memory_MB:.2f} MB\")\n",
        "print(f\"🔹 DataFrame Shape  : {df_less.shape}\")\n",
        "print(f\"🔹 Column Names     : {df_less.columns.tolist()}\")\n",
        "print(f\"🔹 Data Types       :\\n{df_less.dtypes}\")\n",
        "\n",
        "# Delete DataFrame to free memory\n",
        "del df_less\n",
        "\n",
        "# Manually run garbage collector to clear up memory\n",
        "gc.collect()"
      ],
      "metadata": {
        "colab": {
          "base_uri": "https://localhost:8080/"
        },
        "id": "9zuUnk5yHO_Y",
        "outputId": "b619cfef-04a2-492e-d2b1-6f4bd1370e08"
      },
      "execution_count": null,
      "outputs": [
        {
          "output_type": "stream",
          "name": "stdout",
          "text": [
            "=== Load Less Data Metrics ===\n",
            "🔹 Load Time        : 69.64 seconds\n",
            "🔹 Memory Usage     : 7266.65 MB\n",
            "🔹 DataFrame Shape  : (26173514, 5)\n",
            "🔹 Column Names     : ['title', 'rank', 'date', 'artist', 'region']\n",
            "🔹 Data Types       :\n",
            "title     object\n",
            "rank       int64\n",
            "date      object\n",
            "artist    object\n",
            "region    object\n",
            "dtype: object\n"
          ]
        },
        {
          "output_type": "execute_result",
          "data": {
            "text/plain": [
              "0"
            ]
          },
          "metadata": {},
          "execution_count": 9
        }
      ]
    },
    {
      "cell_type": "markdown",
      "source": [
        "### **Strategy 2: Use Chunking**"
      ],
      "metadata": {
        "id": "9F61lPyc7axu"
      }
    },
    {
      "cell_type": "code",
      "source": [
        "import pandas as pd\n",
        "import time\n",
        "import gc\n",
        "\n",
        "chunk_size = 500000\n",
        "chunks = []\n",
        "total_processed_rows = 0\n",
        "chunk_count = 0\n",
        "\n",
        "# Start timing\n",
        "start_time = time.time()\n",
        "\n",
        "# Read chunks only (timer measures this part only)\n",
        "for i, chunk in enumerate(pd.read_csv('spotify_data/charts.csv', chunksize=chunk_size)):\n",
        "    chunk_count += 1\n",
        "    total_processed_rows += len(chunk)\n",
        "    chunks.append(chunk)\n",
        "    print(f\"✅ Chunk {i+1}: {len(chunk)} rows. Total rows: {total_processed_rows}\")\n",
        "\n",
        "# End timing after load\n",
        "end_time = time.time()\n",
        "\n",
        "# Now concatenate and calculate memory after end_time (like your other strategies)\n",
        "df_full = pd.concat(chunks, ignore_index=True)\n",
        "memory_MB = df_full.memory_usage(deep=True).sum() / 1024 ** 2\n",
        "\n",
        "# Print results\n",
        "print(\"\\n=== Chunking Load Metrics ===\")\n",
        "print(f\"🔹 Chunks Processed       : {chunk_count}\")\n",
        "print(f\"🔹 Total Rows Processed   : {total_processed_rows}\")\n",
        "print(f\"🔹 Load Time              : {end_time - start_time:.2f} seconds\")\n",
        "print(f\"🔹 Memory Usage           : {memory_MB:.2f} MB\")\n",
        "\n",
        "# Cleanup\n",
        "del df_full, chunks, chunk\n",
        "gc.collect()"
      ],
      "metadata": {
        "colab": {
          "base_uri": "https://localhost:8080/"
        },
        "id": "A3ho58ZZqqTi",
        "outputId": "73b63edd-7c44-49ba-86b1-8ffcff4bb1e2"
      },
      "execution_count": null,
      "outputs": [
        {
          "output_type": "stream",
          "name": "stdout",
          "text": [
            "✅ Chunk 1: 500000 rows. Total rows: 500000\n",
            "✅ Chunk 2: 500000 rows. Total rows: 1000000\n",
            "✅ Chunk 3: 500000 rows. Total rows: 1500000\n",
            "✅ Chunk 4: 500000 rows. Total rows: 2000000\n",
            "✅ Chunk 5: 500000 rows. Total rows: 2500000\n",
            "✅ Chunk 6: 500000 rows. Total rows: 3000000\n",
            "✅ Chunk 7: 500000 rows. Total rows: 3500000\n",
            "✅ Chunk 8: 500000 rows. Total rows: 4000000\n",
            "✅ Chunk 9: 500000 rows. Total rows: 4500000\n",
            "✅ Chunk 10: 500000 rows. Total rows: 5000000\n",
            "✅ Chunk 11: 500000 rows. Total rows: 5500000\n",
            "✅ Chunk 12: 500000 rows. Total rows: 6000000\n",
            "✅ Chunk 13: 500000 rows. Total rows: 6500000\n",
            "✅ Chunk 14: 500000 rows. Total rows: 7000000\n",
            "✅ Chunk 15: 500000 rows. Total rows: 7500000\n",
            "✅ Chunk 16: 500000 rows. Total rows: 8000000\n",
            "✅ Chunk 17: 500000 rows. Total rows: 8500000\n",
            "✅ Chunk 18: 500000 rows. Total rows: 9000000\n",
            "✅ Chunk 19: 500000 rows. Total rows: 9500000\n",
            "✅ Chunk 20: 500000 rows. Total rows: 10000000\n",
            "✅ Chunk 21: 500000 rows. Total rows: 10500000\n",
            "✅ Chunk 22: 500000 rows. Total rows: 11000000\n",
            "✅ Chunk 23: 500000 rows. Total rows: 11500000\n",
            "✅ Chunk 24: 500000 rows. Total rows: 12000000\n",
            "✅ Chunk 25: 500000 rows. Total rows: 12500000\n",
            "✅ Chunk 26: 500000 rows. Total rows: 13000000\n",
            "✅ Chunk 27: 500000 rows. Total rows: 13500000\n",
            "✅ Chunk 28: 500000 rows. Total rows: 14000000\n",
            "✅ Chunk 29: 500000 rows. Total rows: 14500000\n",
            "✅ Chunk 30: 500000 rows. Total rows: 15000000\n",
            "✅ Chunk 31: 500000 rows. Total rows: 15500000\n",
            "✅ Chunk 32: 500000 rows. Total rows: 16000000\n",
            "✅ Chunk 33: 500000 rows. Total rows: 16500000\n",
            "✅ Chunk 34: 500000 rows. Total rows: 17000000\n",
            "✅ Chunk 35: 500000 rows. Total rows: 17500000\n",
            "✅ Chunk 36: 500000 rows. Total rows: 18000000\n",
            "✅ Chunk 37: 500000 rows. Total rows: 18500000\n",
            "✅ Chunk 38: 500000 rows. Total rows: 19000000\n",
            "✅ Chunk 39: 500000 rows. Total rows: 19500000\n",
            "✅ Chunk 40: 500000 rows. Total rows: 20000000\n",
            "✅ Chunk 41: 500000 rows. Total rows: 20500000\n",
            "✅ Chunk 42: 500000 rows. Total rows: 21000000\n",
            "✅ Chunk 43: 500000 rows. Total rows: 21500000\n",
            "✅ Chunk 44: 500000 rows. Total rows: 22000000\n",
            "✅ Chunk 45: 500000 rows. Total rows: 22500000\n",
            "✅ Chunk 46: 500000 rows. Total rows: 23000000\n",
            "✅ Chunk 47: 500000 rows. Total rows: 23500000\n",
            "✅ Chunk 48: 500000 rows. Total rows: 24000000\n",
            "✅ Chunk 49: 500000 rows. Total rows: 24500000\n",
            "✅ Chunk 50: 500000 rows. Total rows: 25000000\n",
            "✅ Chunk 51: 500000 rows. Total rows: 25500000\n",
            "✅ Chunk 52: 500000 rows. Total rows: 26000000\n",
            "✅ Chunk 53: 173514 rows. Total rows: 26173514\n",
            "\n",
            "=== Chunking Load Metrics ===\n",
            "🔹 Chunks Processed       : 53\n",
            "🔹 Total Rows Processed   : 26173514\n",
            "🔹 Load Time              : 77.43 seconds\n",
            "🔹 Memory Usage           : 13431.49 MB\n"
          ]
        },
        {
          "output_type": "execute_result",
          "data": {
            "text/plain": [
              "0"
            ]
          },
          "metadata": {},
          "execution_count": 16
        }
      ]
    },
    {
      "cell_type": "markdown",
      "source": [
        "### **Strategy 3: Optimize Data Types**"
      ],
      "metadata": {
        "id": "yTPLteDN7AKo"
      }
    },
    {
      "cell_type": "markdown",
      "source": [
        "This strategy focuses on memory optimization by explicitly defining more efficient data types for columns during the pd.read_csv() operation using the dtype and parse_dates parameters. By converting columns like rank to int16, streams to float32, date to datetime, and string columns like region and chart to category (where unique values are limited), less memory is required to store the data, as smaller data types are used and categorical data is stored efficiently as integers with a lookup table."
      ],
      "metadata": {
        "id": "qg77wqnKgLzH"
      }
    },
    {
      "cell_type": "code",
      "source": [
        "import pandas as pd\n",
        "import time\n",
        "import gc\n",
        "\n",
        "# Define dtypes to optimize memory usage\n",
        "dtypes = {\n",
        "    'rank': 'int16',\n",
        "    'chart': 'category',\n",
        "    'region': 'category',\n",
        "    'streams': 'float32'\n",
        "}\n",
        "\n",
        "# Start timer\n",
        "start_time = time.time()\n",
        "\n",
        "# Load data with optimized types\n",
        "df_opt = pd.read_csv(\n",
        "    'spotify_data/charts.csv',\n",
        "    dtype=dtypes,\n",
        "    parse_dates=['date']\n",
        ")\n",
        "\n",
        "end_time = time.time()\n",
        "\n",
        "# Calculate memory usage\n",
        "memory_MB = df_opt.memory_usage(deep=True).sum() / (1024 ** 2)\n",
        "\n",
        "# Print metrics\n",
        "print(\"=== Optimized During Load Metrics ===\")\n",
        "print(f\"🔹 Load Time           : {end_time - start_time:.2f} seconds\")\n",
        "print(f\"🔹 Memory Usage        : {memory_MB:.2f} MB\")\n",
        "print(f\"🔹 DataFrame Shape     : {df_opt.shape}\")\n",
        "print(f\"🔹 Column Data Types:\\n{df_opt.dtypes}\")\n",
        "\n",
        "# Cleanup\n",
        "del df_opt\n",
        "gc.collect()"
      ],
      "metadata": {
        "colab": {
          "base_uri": "https://localhost:8080/"
        },
        "id": "D69b5SBEImEI",
        "outputId": "32b42679-426c-42ef-dac0-1b2447af9f7a"
      },
      "execution_count": null,
      "outputs": [
        {
          "output_type": "stream",
          "name": "stdout",
          "text": [
            "=== Optimized During Load Metrics ===\n",
            "🔹 Load Time           : 191.54 seconds\n",
            "🔹 Memory Usage        : 8557.44 MB\n",
            "🔹 DataFrame Shape     : (26173514, 9)\n",
            "🔹 Column Data Types:\n",
            "title              object\n",
            "rank                int16\n",
            "date       datetime64[ns]\n",
            "artist             object\n",
            "url                object\n",
            "region           category\n",
            "chart            category\n",
            "trend              object\n",
            "streams           float32\n",
            "dtype: object\n"
          ]
        },
        {
          "output_type": "execute_result",
          "data": {
            "text/plain": [
              "0"
            ]
          },
          "metadata": {},
          "execution_count": 17
        }
      ]
    },
    {
      "cell_type": "markdown",
      "source": [
        "### **Strategy 4: Sampling**"
      ],
      "metadata": {
        "id": "bWYXn882_B93"
      }
    },
    {
      "cell_type": "markdown",
      "source": [
        "Loads the full dataset but keeps only a random sample. It is useful for testing or exploring data patterns without using the full dataset."
      ],
      "metadata": {
        "id": "IJqYKDMQa9L6"
      }
    },
    {
      "cell_type": "code",
      "source": [
        "import random\n",
        "import pandas as pd\n",
        "import time\n",
        "import gc\n",
        "\n",
        "# Start timer\n",
        "start_time = time.time()\n",
        "\n",
        "# Sample 5% of rows randomly\n",
        "df_sample = pd.read_csv('spotify_data/charts.csv', skiprows=lambda i: i > 0 and random.random() > 0.05)\n",
        "end_time = time.time()\n",
        "\n",
        "# Calculate memory usage\n",
        "memory_MB = df_sample.memory_usage(deep=True).sum() / (1024 ** 2)\n",
        "\n",
        "print(\"=== Sampling Metrics ===\")\n",
        "print(f\"🔹 Load Time        : {end_time - start_time:.2f} seconds\")\n",
        "print(f\"🔹 Memory Usage     : {memory_MB:.2f} MB\")\n",
        "print(f\"🔹 DataFrame Shape  : {df_sample.shape}\")\n",
        "\n",
        "# Cleanup\n",
        "del df_sample\n",
        "gc.collect()"
      ],
      "metadata": {
        "colab": {
          "base_uri": "https://localhost:8080/"
        },
        "id": "tb4Y1XmiJk7I",
        "outputId": "ae392132-aae1-4676-e7c0-2b5b3e92785f"
      },
      "execution_count": null,
      "outputs": [
        {
          "output_type": "stream",
          "name": "stdout",
          "text": [
            "=== Sampling Metrics ===\n",
            "🔹 Load Time        : 36.32 seconds\n",
            "🔹 Memory Usage     : 672.75 MB\n",
            "🔹 DataFrame Shape  : (1311034, 9)\n"
          ]
        },
        {
          "output_type": "execute_result",
          "data": {
            "text/plain": [
              "0"
            ]
          },
          "metadata": {},
          "execution_count": 7
        }
      ]
    },
    {
      "cell_type": "markdown",
      "source": [
        "### **Library 1: Dask**"
      ],
      "metadata": {
        "id": "GKtVSEdXk_2d"
      }
    },
    {
      "cell_type": "code",
      "source": [
        "!pip install -q dask polars\n"
      ],
      "metadata": {
        "id": "Im6yy04bGWRi"
      },
      "execution_count": null,
      "outputs": []
    },
    {
      "cell_type": "code",
      "source": [
        "!pip install dask --quiet\n",
        "\n",
        "import dask.dataframe as dd\n",
        "import time\n",
        "import gc\n",
        "\n",
        "# Clear memory\n",
        "gc.collect()\n",
        "\n",
        "# Step 1: Start timer\n",
        "start_time = time.time()\n",
        "\n",
        "# Step 2: Load the dataset (fixing dtype warning)\n",
        "dask_df = dd.read_csv('spotify_data/charts.csv', dtype={'streams': 'float64'})\n",
        "dask_df = dask_df.compute()\n",
        "\n",
        "# Step 3: End timer\n",
        "end_time = time.time()\n",
        "\n",
        "# Step 4: Calculate metrics\n",
        "dask_time = end_time - start_time\n",
        "dask_mem = dask_df.memory_usage(deep=True).sum() / (1024 ** 2)\n",
        "\n",
        "# Step 5: Shape\n",
        "dask_shape = dask_df.shape\n",
        "\n",
        "# Step 5: Print result\n",
        "print(\"=== Dask Metrics ===\")\n",
        "print(f\"🔹 Load Time    : {dask_time:.2f} seconds\")\n",
        "print(f\"🔹 Memory Usage : {dask_mem:.2f} MB\")\n",
        "print(f\"🔹 Shape        : {dask_shape}\")"
      ],
      "metadata": {
        "colab": {
          "base_uri": "https://localhost:8080/"
        },
        "id": "ROUnSa6N4Tih",
        "outputId": "4efa472f-401f-42b9-f501-f82368de7704"
      },
      "execution_count": null,
      "outputs": [
        {
          "output_type": "stream",
          "name": "stdout",
          "text": [
            "=== Dask Metrics ===\n",
            "🔹 Load Time    : 97.38 seconds\n",
            "🔹 Memory Usage : 4932.25 MB\n",
            "🔹 Shape        : (26173514, 9)\n"
          ]
        }
      ]
    },
    {
      "cell_type": "markdown",
      "source": [
        "### **Library 2: Polar**"
      ],
      "metadata": {
        "id": "yss6FgaQlPJt"
      }
    },
    {
      "cell_type": "code",
      "source": [
        "import polars as pl\n",
        "import time\n",
        "\n",
        "# Step 1: Start timer\n",
        "start_time = time.time()\n",
        "\n",
        "# Step 2: Load dataset\n",
        "polars_df = pl.read_csv('spotify_data/charts.csv')\n",
        "\n",
        "# Step 3: End timer\n",
        "end_time = time.time()\n",
        "polars_time = end_time - start_time\n",
        "\n",
        "# Step 4: Memory usage\n",
        "polars_mem = polars_df.estimated_size(\"mb\")\n",
        "\n",
        "# Step 5: Shape\n",
        "polars_shape = (polars_df.height, polars_df.width)\n",
        "\n",
        "# Step 6: Print result\n",
        "print(\"=== Polars ===\")\n",
        "print(f\"🔹 Load Time        : {polars_time:.2f} seconds\")\n",
        "print(f\"🔹 Memory Usage     : {polars_mem:.2f} MB\")\n",
        "print(f\"🔹 Shape            : {polars_shape}\")\n"
      ],
      "metadata": {
        "colab": {
          "base_uri": "https://localhost:8080/"
        },
        "id": "slP0zyPQ4fdu",
        "outputId": "6555c9e5-e9e5-4292-d387-6a0029b25fa8"
      },
      "execution_count": null,
      "outputs": [
        {
          "output_type": "stream",
          "name": "stdout",
          "text": [
            "=== Polars ===\n",
            "🔹 Load Time        : 22.47 seconds\n",
            "🔹 Memory Usage     : 3335.75 MB\n",
            "🔹 Shape            : (26173514, 9)\n"
          ]
        }
      ]
    },
    {
      "cell_type": "markdown",
      "source": [
        "## **Task 4: Comparative Analysis**"
      ],
      "metadata": {
        "id": "74UttxFH3bpA"
      }
    },
    {
      "cell_type": "markdown",
      "source": [
        "### **Compare Strategies**"
      ],
      "metadata": {
        "id": "hbwEc1MVlrqe"
      }
    },
    {
      "cell_type": "markdown",
      "source": [
        "**Evaluation Chart**"
      ],
      "metadata": {
        "id": "rhidXBEa3rS3"
      }
    },
    {
      "cell_type": "code",
      "source": [
        "import pandas as pd\n",
        "import matplotlib.pyplot as plt\n",
        "import seaborn as sns\n",
        "\n",
        "# Strategy metrics\n",
        "data = {\n",
        "    'Strategy': [\n",
        "        'Full Load',\n",
        "        'Load Less Data',\n",
        "        'Chunking',\n",
        "        'Optimized dtypes',\n",
        "        'Sampling',\n",
        "    ],\n",
        "    'Load Time (s)': [\n",
        "        81.13,\n",
        "        69.64,\n",
        "        77.43,\n",
        "        191.54,\n",
        "        36.32,\n",
        "    ],\n",
        "    'Memory Usage (MB)': [\n",
        "        13431.49,\n",
        "        7266.65,\n",
        "        13431.49,\n",
        "        8557.44,\n",
        "        672.75,\n",
        "    ]\n",
        "}\n",
        "\n",
        "df = pd.DataFrame(data)\n",
        "\n",
        "sns.set(style=\"whitegrid\")\n",
        "palette = sns.color_palette(\"Set2\", len(df))\n",
        "\n",
        "# Create plots\n",
        "fig, axes = plt.subplots(1, 2, figsize=(14, 6))\n",
        "\n",
        "# Chart 1: Load Time\n",
        "sns.barplot(x='Strategy', y='Load Time (s)', data=df, ax=axes[0], hue='Strategy', palette=palette, legend=False)\n",
        "axes[0].set_title(\"Load Time by Strategy\")\n",
        "axes[0].set_ylabel(\"Load Time (s)\")\n",
        "axes[0].tick_params(axis='x', rotation=45)\n",
        "\n",
        "# Chart 2: Memory Usage\n",
        "sns.barplot(x='Strategy', y='Memory Usage (MB)', data=df, ax=axes[1], hue='Strategy', palette=palette, legend=False)\n",
        "axes[1].set_title(\"Memory Usage by Strategy\")\n",
        "axes[1].set_ylabel(\"Memory Usage (MB)\")\n",
        "axes[1].tick_params(axis='x', rotation=45)\n",
        "\n",
        "# Add shared legend\n",
        "handles = [plt.Rectangle((0, 0), 1, 1, color=palette[i]) for i in range(len(df))]\n",
        "labels = df['Strategy'].tolist()\n",
        "fig.legend(handles, labels, loc='upper center', ncol=len(df), title=\"Strategy\")\n",
        "\n",
        "# Save the figure\n",
        "plt.tight_layout(rect=[0, 0, 1, 0.93])\n",
        "plt.savefig(\"strategy_comparison.png\", dpi=300)  # ← Saves the image\n",
        "plt.show()"
      ],
      "metadata": {
        "colab": {
          "base_uri": "https://localhost:8080/",
          "height": 490
        },
        "id": "grM-t1d98g3t",
        "outputId": "b81af06e-71cd-4c6b-c955-f2bec4f165cf"
      },
      "execution_count": null,
      "outputs": [
        {
          "output_type": "display_data",
          "data": {
            "text/plain": [
              "<Figure size 1400x600 with 2 Axes>"
            ],
            "image/png": "[encoded data removed]"
          },
          "metadata": {}
        }
      ]
    },
    {
      "cell_type": "markdown",
      "source": [
        "**\"Load Time by Strategy\" Graph**\n",
        "\n",
        "---\n",
        "\n",
        "*   The Full Load took 81.13 seconds, which is highest as no strategy was applied.\n",
        "*   Sampling is the fastest, completing its task in 36.32 seconds.\n",
        "*   Load Less Data (69.64 seconds) and Chunking (77.43 seconds) are notably efficient.\n",
        "*   Optimized dtypes is the slowest at 191.54 seconds due to the overhead of type conversions during loading."
      ],
      "metadata": {
        "id": "Xc-3dC2DCOI7"
      }
    },
    {
      "cell_type": "markdown",
      "source": [
        "**\"Memory Usage by Strategy\" Graph**\n",
        "\n",
        "---\n",
        "\n",
        "\n",
        "*  Sampling uses the least memory at 672.75 MB, making it highly efficient.\n",
        "*  Load Less Data (7266.65 MB) and Optimized dtypes (8557.44 MB) show significant memory reductions compared to the full load.\n",
        "*  The Full Load and Chunking both show 13431.49 MB.\n",
        "*  For Chunking, while it processes data around 256 MB per chunk, this high final memory usage indicates that all processed chunks were combined into a single DataFrame for the final measurement, resulting in memory usage equivalent to the full dataset. The graph's lower bar for Chunking might represent its low peak memory usage during the iterative process."
      ],
      "metadata": {
        "id": "Sr8X9JPICW1c"
      }
    },
    {
      "cell_type": "markdown",
      "source": [
        "### ⚙️ Ease of Processing\n",
        "\n",
        "Beyond speed and memory, each strategy differs in how easy it is to implement and work with:\n",
        "\n",
        "- **Full Load:** Easiest to write (`pd.read_csv()`), but impractical for large files. Risk of crashes and slowdowns if RAM is exceeded.\n",
        "\n",
        "- **Load Less Data:** Simple to implement using `usecols` or `nrows`. Reduces memory and speeds up analysis, as long as partial data is sufficient.\n",
        "\n",
        "- **Chunking:** More complex due to looping and combining results. However, it handles large files well without memory issues.\n",
        "\n",
        "- **Optimized dtypes:** Requires some prep (knowing column types) but greatly improves efficiency once set. Slightly harder to implement.\n",
        "\n",
        "- **Sampling:** Very easy using `skiprows` or `sample(frac=...)`. Great for testing or exploration, but may miss important data patterns.\n"
      ],
      "metadata": {
        "id": "qOBkvpJxP4BS"
      }
    },
    {
      "cell_type": "markdown",
      "source": [
        "### **Compare Libraries**"
      ],
      "metadata": {
        "id": "y7NGJ68Ul5aN"
      }
    },
    {
      "cell_type": "code",
      "source": [
        "import pandas as pd\n",
        "import matplotlib.pyplot as plt\n",
        "import seaborn as sns\n",
        "\n",
        "# Data for Pandas, Dask, and Polars\n",
        "data = {\n",
        "    'Library': ['Pandas', 'Dask', 'Polars'],\n",
        "    'Load Time (s)': [81.13, 97.38, 22.47],\n",
        "    'Memory Usage (MB)': [13431.49, 4932.25, 3335.75]\n",
        "}\n",
        "\n",
        "df = pd.DataFrame(data)\n",
        "\n",
        "# Set Seaborn style and color palette\n",
        "sns.set(style=\"whitegrid\")\n",
        "palette = sns.color_palette(\"Set2\", len(df))\n",
        "\n",
        "# Create side-by-side plots\n",
        "fig, axes = plt.subplots(1, 2, figsize=(14, 6))\n",
        "\n",
        "# Chart 1: Load Time\n",
        "sns.barplot(x='Library', y='Load Time (s)', data=df, ax=axes[0], hue='Library', palette=palette, legend=False)\n",
        "axes[0].set_title(\"Load Time by Library\", fontsize=13)\n",
        "axes[0].set_ylabel(\"Load Time (s)\")\n",
        "axes[0].tick_params(axis='x', rotation=0)\n",
        "\n",
        "# Chart 2: Memory Usage\n",
        "sns.barplot(x='Library', y='Memory Usage (MB)', data=df, ax=axes[1], hue='Library', palette=palette, legend=False)\n",
        "axes[1].set_title(\"Memory Usage by Library\", fontsize=13)\n",
        "axes[1].set_ylabel(\"Memory Usage (MB)\")\n",
        "axes[1].tick_params(axis='x', rotation=0)\n",
        "\n",
        "# Add common legend at the top\n",
        "handles = [plt.Rectangle((0, 0), 1, 1, color=palette[i]) for i in range(len(df))]\n",
        "labels = df['Library'].tolist()\n",
        "fig.legend(handles, labels, loc='upper center', ncol=len(df), title=\"Library\")\n",
        "\n",
        "# Layout and Save\n",
        "plt.tight_layout(rect=[0, 0, 1, 0.93])\n",
        "plt.savefig(\"library_comparison.png\", dpi=300)\n",
        "plt.show()\n"
      ],
      "metadata": {
        "colab": {
          "base_uri": "https://localhost:8080/",
          "height": 294
        },
        "id": "HnLH1CP05VRM",
        "outputId": "85d2c9a9-4c71-4d2b-bc57-27e374c0ef12"
      },
      "execution_count": null,
      "outputs": [
        {
          "output_type": "display_data",
          "data": {
            "text/plain": [
              "<Figure size 1400x600 with 2 Axes>"
            ],
            "image/png": "[encoded data removed]"
          },
          "metadata": {}
        }
      ]
    },
    {
      "cell_type": "markdown",
      "source": [
        "**\"Load Time by Library\" Graph**\n",
        "\n",
        "---\n",
        "\n",
        "*   Dask takes the longest to load, clocking in at about 97 seconds. This delay likely comes from the overhead associated with its parallel computation framework\n",
        "*   Pandas isn't far behind, needing around 81 seconds. This slower performance highlights its limitations as a single-threaded, in-memory solution for handling large datasets.\n",
        "\n",
        "*   On the other hand, Polars shines as the fastest option, completing the data loading in just 22 seconds."
      ],
      "metadata": {
        "id": "f_t7bw1r7YJg"
      }
    },
    {
      "cell_type": "markdown",
      "source": [
        "**\"Memory Usage by Library\" Graph**\n",
        "\n",
        "---\n",
        "\n",
        "\n",
        "*  Pandas takes the lead in memory usage, reaching a hefty 13,431.49 MB. This is pretty much expected due to its uncompressed data structures that occupy a lot of space in memory.\n",
        "*  On the other hand, Dask does a great job of cutting down memory usage to 4,932.25 MB by processing data in smaller chunks. However, it still requires some overhead for managing tasks and coordination.\n",
        "*  Then there's Polars, which really shines with the lowest memory consumption at just 3,335.75 MB. This highlights its efficiency in handling large datasets thanks to its zero-copy structures and lazy evaluation techniques."
      ],
      "metadata": {
        "id": "W095CFAt8tlS"
      }
    },
    {
      "cell_type": "markdown",
      "source": [
        "### **Ease of Processing & Practicality**\n",
        "\n",
        "| Library | Ease of Use                                          | Efficiency                                  | Ideal Use Case                                                   |\n",
        "|---------|------------------------------------------------------|---------------------------------------------|------------------------------------------------------------------|\n",
        "| Pandas  | Very simple to use and well-documented               | Poor memory efficiency; moderate speed      | Best for small to medium datasets or when rapid prototyping      |\n",
        "| Dask    | Moderate complexity; requires understanding of parallelism | Better memory usage; slower load time due to overhead | Useful for scaling Pandas-like syntax on larger datasets         |\n",
        "| Polars  | Learning curve due to new syntax; evolving library   | Extremely fast and memory-efficient         | Excellent for big data processing with tight resource constraints |\n"
      ],
      "metadata": {
        "id": "igeXOyaQ_Mw3"
      }
    },
    {
      "cell_type": "markdown",
      "source": [
        "## **Conclusion & Reflection**"
      ],
      "metadata": {
        "id": "iHiJWqHUNu-0"
      }
    },
    {
      "cell_type": "markdown",
      "source": [
        "This assignment offered hands-on exposure to both **strategies** for handling large datasets using Pandas and a comparative analysis of **libraries** designed for big data processing — Pandas, Dask, and Polars.\n",
        "\n",
        "We found that while Pandas offers powerful tools, raw performance heavily depends on how it's used. Applying techniques like sampling, chunking, or data type optimization made a significant difference in memory and load time. On the other hand, using specialized libraries like Polars and Dask further elevated performance by introducing better memory efficiency and parallelism.\n",
        "\n",
        "---\n",
        "\n",
        "### ✅ Summary of Benefits and Limitations\n",
        "\n",
        "| Approach                  | Benefits                                                                 | Limitations                                                                 |\n",
        "|---------------------------|--------------------------------------------------------------------------|------------------------------------------------------------------------------|\n",
        "| **Full Load (Pandas)**    | Simple to implement                                                      | High memory usage; prone to crashing on large files                          |\n",
        "| **Load Less Data**        | Fast and lightweight for partial analysis                                | Not suitable for full-data workflows                                        |\n",
        "| **Chunking**              | Handles very large files without crashing                                | More complex; requires aggregation logic                                    |\n",
        "| **Optimized dtypes**      | Reduces memory significantly; better for post-load operations            | Requires upfront data understanding                                         |\n",
        "| **Sampling**              | Extremely fast; great for testing/EDA                                    | May miss important patterns; not ideal for full analysis                    |\n",
        "| **Pandas (Library)**      | Beginner-friendly and widely supported                                   | Not memory-efficient; poor performance on big data                          |\n",
        "| **Dask (Library)**        | Supports parallelism; handles large data beyond RAM                      | Slower startup; some overhead; more setup                                   |\n",
        "| **Polars (Library)**      | Fastest and most memory-efficient overall                                | Smaller community; syntax may require learning curve                        |\n",
        "\n",
        "---\n",
        "\n",
        "### 🧠 Final Reflection\n",
        "\n",
        "We learned that **efficient big data handling is not just about the tool, but how it's used**. Strategic data loading methods within Pandas already provide notable performance improvements, but tools like **Dask** and especially **Polars** further optimize operations at scale. This project built a strong foundation for selecting the right combination of **strategy and tool** based on the task, data size, and hardware constraints — a crucial skill for modern data analytics.\n"
      ],
      "metadata": {
        "id": "qv9c13zQo0JO"
      }
    }
  ]
}