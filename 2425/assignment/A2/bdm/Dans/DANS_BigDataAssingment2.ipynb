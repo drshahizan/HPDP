{
  "nbformat": 4,
  "nbformat_minor": 0,
  "metadata": {
    "colab": {
      "provenance": []
    },
    "kernelspec": {
      "name": "python3",
      "display_name": "Python 3"
    },
    "language_info": {
      "name": "python"
    }
  },
  "cells": [
    {
      "cell_type": "code",
      "execution_count": 1,
      "metadata": {
        "colab": {
          "base_uri": "https://localhost:8080/",
          "height": 92
        },
        "id": "lc1hDghnz6JL",
        "outputId": "e07ad8b2-0697-4187-fa51-a1b53f68658a"
      },
      "outputs": [
        {
          "output_type": "display_data",
          "data": {
            "text/plain": [
              "<IPython.core.display.HTML object>"
            ],
            "text/html": [
              "\n",
              "     <input type=\"file\" id=\"files-1040908d-1716-4238-a86c-0a380af128a7\" name=\"files[]\" multiple disabled\n",
              "        style=\"border:none\" />\n",
              "     <output id=\"result-1040908d-1716-4238-a86c-0a380af128a7\">\n",
              "      Upload widget is only available when the cell has been executed in the\n",
              "      current browser session. Please rerun this cell to enable.\n",
              "      </output>\n",
              "      <script>// Copyright 2017 Google LLC\n",
              "//\n",
              "// Licensed under the Apache License, Version 2.0 (the \"License\");\n",
              "// you may not use this file except in compliance with the License.\n",
              "// You may obtain a copy of the License at\n",
              "//\n",
              "//      http://www.apache.org/licenses/LICENSE-2.0\n",
              "//\n",
              "// Unless required by applicable law or agreed to in writing, software\n",
              "// distributed under the License is distributed on an \"AS IS\" BASIS,\n",
              "// WITHOUT WARRANTIES OR CONDITIONS OF ANY KIND, either express or implied.\n",
              "// See the License for the specific language governing permissions and\n",
              "// limitations under the License.\n",
              "\n",
              "/**\n",
              " * @fileoverview Helpers for google.colab Python module.\n",
              " */\n",
              "(function(scope) {\n",
              "function span(text, styleAttributes = {}) {\n",
              "  const element = document.createElement('span');\n",
              "  element.textContent = text;\n",
              "  for (const key of Object.keys(styleAttributes)) {\n",
              "    element.style[key] = styleAttributes[key];\n",
              "  }\n",
              "  return element;\n",
              "}\n",
              "\n",
              "// Max number of bytes which will be uploaded at a time.\n",
              "const MAX_PAYLOAD_SIZE = 100 * 1024;\n",
              "\n",
              "function _uploadFiles(inputId, outputId) {\n",
              "  const steps = uploadFilesStep(inputId, outputId);\n",
              "  const outputElement = document.getElementById(outputId);\n",
              "  // Cache steps on the outputElement to make it available for the next call\n",
              "  // to uploadFilesContinue from Python.\n",
              "  outputElement.steps = steps;\n",
              "\n",
              "  return _uploadFilesContinue(outputId);\n",
              "}\n",
              "\n",
              "// This is roughly an async generator (not supported in the browser yet),\n",
              "// where there are multiple asynchronous steps and the Python side is going\n",
              "// to poll for completion of each step.\n",
              "// This uses a Promise to block the python side on completion of each step,\n",
              "// then passes the result of the previous step as the input to the next step.\n",
              "function _uploadFilesContinue(outputId) {\n",
              "  const outputElement = document.getElementById(outputId);\n",
              "  const steps = outputElement.steps;\n",
              "\n",
              "  const next = steps.next(outputElement.lastPromiseValue);\n",
              "  return Promise.resolve(next.value.promise).then((value) => {\n",
              "    // Cache the last promise value to make it available to the next\n",
              "    // step of the generator.\n",
              "    outputElement.lastPromiseValue = value;\n",
              "    return next.value.response;\n",
              "  });\n",
              "}\n",
              "\n",
              "/**\n",
              " * Generator function which is called between each async step of the upload\n",
              " * process.\n",
              " * @param {string} inputId Element ID of the input file picker element.\n",
              " * @param {string} outputId Element ID of the output display.\n",
              " * @return {!Iterable<!Object>} Iterable of next steps.\n",
              " */\n",
              "function* uploadFilesStep(inputId, outputId) {\n",
              "  const inputElement = document.getElementById(inputId);\n",
              "  inputElement.disabled = false;\n",
              "\n",
              "  const outputElement = document.getElementById(outputId);\n",
              "  outputElement.innerHTML = '';\n",
              "\n",
              "  const pickedPromise = new Promise((resolve) => {\n",
              "    inputElement.addEventListener('change', (e) => {\n",
              "      resolve(e.target.files);\n",
              "    });\n",
              "  });\n",
              "\n",
              "  const cancel = document.createElement('button');\n",
              "  inputElement.parentElement.appendChild(cancel);\n",
              "  cancel.textContent = 'Cancel upload';\n",
              "  const cancelPromise = new Promise((resolve) => {\n",
              "    cancel.onclick = () => {\n",
              "      resolve(null);\n",
              "    };\n",
              "  });\n",
              "\n",
              "  // Wait for the user to pick the files.\n",
              "  const files = yield {\n",
              "    promise: Promise.race([pickedPromise, cancelPromise]),\n",
              "    response: {\n",
              "      action: 'starting',\n",
              "    }\n",
              "  };\n",
              "\n",
              "  cancel.remove();\n",
              "\n",
              "  // Disable the input element since further picks are not allowed.\n",
              "  inputElement.disabled = true;\n",
              "\n",
              "  if (!files) {\n",
              "    return {\n",
              "      response: {\n",
              "        action: 'complete',\n",
              "      }\n",
              "    };\n",
              "  }\n",
              "\n",
              "  for (const file of files) {\n",
              "    const li = document.createElement('li');\n",
              "    li.append(span(file.name, {fontWeight: 'bold'}));\n",
              "    li.append(span(\n",
              "        `(${file.type || 'n/a'}) - ${file.size} bytes, ` +\n",
              "        `last modified: ${\n",
              "            file.lastModifiedDate ? file.lastModifiedDate.toLocaleDateString() :\n",
              "                                    'n/a'} - `));\n",
              "    const percent = span('0% done');\n",
              "    li.appendChild(percent);\n",
              "\n",
              "    outputElement.appendChild(li);\n",
              "\n",
              "    const fileDataPromise = new Promise((resolve) => {\n",
              "      const reader = new FileReader();\n",
              "      reader.onload = (e) => {\n",
              "        resolve(e.target.result);\n",
              "      };\n",
              "      reader.readAsArrayBuffer(file);\n",
              "    });\n",
              "    // Wait for the data to be ready.\n",
              "    let fileData = yield {\n",
              "      promise: fileDataPromise,\n",
              "      response: {\n",
              "        action: 'continue',\n",
              "      }\n",
              "    };\n",
              "\n",
              "    // Use a chunked sending to avoid message size limits. See b/62115660.\n",
              "    let position = 0;\n",
              "    do {\n",
              "      const length = Math.min(fileData.byteLength - position, MAX_PAYLOAD_SIZE);\n",
              "      const chunk = new Uint8Array(fileData, position, length);\n",
              "      position += length;\n",
              "\n",
              "      const base64 = btoa(String.fromCharCode.apply(null, chunk));\n",
              "      yield {\n",
              "        response: {\n",
              "          action: 'append',\n",
              "          file: file.name,\n",
              "          data: base64,\n",
              "        },\n",
              "      };\n",
              "\n",
              "      let percentDone = fileData.byteLength === 0 ?\n",
              "          100 :\n",
              "          Math.round((position / fileData.byteLength) * 100);\n",
              "      percent.textContent = `${percentDone}% done`;\n",
              "\n",
              "    } while (position < fileData.byteLength);\n",
              "  }\n",
              "\n",
              "  // All done.\n",
              "  yield {\n",
              "    response: {\n",
              "      action: 'complete',\n",
              "    }\n",
              "  };\n",
              "}\n",
              "\n",
              "scope.google = scope.google || {};\n",
              "scope.google.colab = scope.google.colab || {};\n",
              "scope.google.colab._files = {\n",
              "  _uploadFiles,\n",
              "  _uploadFilesContinue,\n",
              "};\n",
              "})(self);\n",
              "</script> "
            ]
          },
          "metadata": {}
        },
        {
          "output_type": "stream",
          "name": "stdout",
          "text": [
            "Saving kaggle.json to kaggle.json\n"
          ]
        },
        {
          "output_type": "execute_result",
          "data": {
            "text/plain": [
              "{'kaggle.json': b'{\"username\":\"nashhhhh13\",\"key\":\"e3a470868ecb7e7e41b26bd8b682a60e\"}'}"
            ]
          },
          "metadata": {},
          "execution_count": 1
        }
      ],
      "source": [
        "from google.colab import files\n",
        "files.upload()  # Upload kaggle.json\n"
      ]
    },
    {
      "cell_type": "code",
      "source": [
        "!mkdir -p ~/.kaggle\n",
        "!cp kaggle.json ~/.kaggle/\n",
        "!chmod 600 ~/.kaggle/kaggle.json\n"
      ],
      "metadata": {
        "id": "pWTYZhM50Szw"
      },
      "execution_count": 2,
      "outputs": []
    },
    {
      "cell_type": "code",
      "source": [
        "!kaggle datasets download -d dbdmobile/myanimelist-dataset\n"
      ],
      "metadata": {
        "colab": {
          "base_uri": "https://localhost:8080/"
        },
        "id": "Emy4ofQf0Ucd",
        "outputId": "0dcbdb34-ccc8-4ead-e405-14ee14ebcfd1"
      },
      "execution_count": 3,
      "outputs": [
        {
          "output_type": "stream",
          "name": "stdout",
          "text": [
            "Dataset URL: https://www.kaggle.com/datasets/dbdmobile/myanimelist-dataset\n",
            "License(s): DbCL-1.0\n",
            "Downloading myanimelist-dataset.zip to /content\n",
            " 99% 1.79G/1.80G [00:17<00:00, 68.6MB/s]\n",
            "100% 1.80G/1.80G [00:17<00:00, 113MB/s] \n"
          ]
        }
      ]
    },
    {
      "cell_type": "code",
      "source": [
        "!unzip -o myanimelist-dataset.zip\n"
      ],
      "metadata": {
        "colab": {
          "base_uri": "https://localhost:8080/"
        },
        "id": "8K5YUxOp0eve",
        "outputId": "094cc7a7-e704-4e00-e978-eae099d72e6d"
      },
      "execution_count": 4,
      "outputs": [
        {
          "output_type": "stream",
          "name": "stdout",
          "text": [
            "Archive:  myanimelist-dataset.zip\n",
            "  inflating: anime-dataset-2023.csv  \n",
            "  inflating: anime-filtered.csv      \n",
            "  inflating: final_animedataset.csv  \n",
            "  inflating: user-filtered.csv       \n",
            "  inflating: users-details-2023.csv  \n",
            "  inflating: users-score-2023.csv    \n"
          ]
        }
      ]
    },
    {
      "cell_type": "code",
      "source": [
        "!pip install dask pyarrow memory_profiler"
      ],
      "metadata": {
        "colab": {
          "base_uri": "https://localhost:8080/"
        },
        "id": "kgr9rgw0xS8D",
        "outputId": "7cde4e3d-012e-4402-d7a2-f626600f08e4"
      },
      "execution_count": 5,
      "outputs": [
        {
          "output_type": "stream",
          "name": "stdout",
          "text": [
            "Requirement already satisfied: dask in /usr/local/lib/python3.11/dist-packages (2024.12.1)\n",
            "Requirement already satisfied: pyarrow in /usr/local/lib/python3.11/dist-packages (18.1.0)\n",
            "Collecting memory_profiler\n",
            "  Downloading memory_profiler-0.61.0-py3-none-any.whl.metadata (20 kB)\n",
            "Requirement already satisfied: click>=8.1 in /usr/local/lib/python3.11/dist-packages (from dask) (8.2.1)\n",
            "Requirement already satisfied: cloudpickle>=3.0.0 in /usr/local/lib/python3.11/dist-packages (from dask) (3.1.1)\n",
            "Requirement already satisfied: fsspec>=2021.09.0 in /usr/local/lib/python3.11/dist-packages (from dask) (2025.3.2)\n",
            "Requirement already satisfied: packaging>=20.0 in /usr/local/lib/python3.11/dist-packages (from dask) (24.2)\n",
            "Requirement already satisfied: partd>=1.4.0 in /usr/local/lib/python3.11/dist-packages (from dask) (1.4.2)\n",
            "Requirement already satisfied: pyyaml>=5.3.1 in /usr/local/lib/python3.11/dist-packages (from dask) (6.0.2)\n",
            "Requirement already satisfied: toolz>=0.10.0 in /usr/local/lib/python3.11/dist-packages (from dask) (0.12.1)\n",
            "Requirement already satisfied: importlib_metadata>=4.13.0 in /usr/local/lib/python3.11/dist-packages (from dask) (8.7.0)\n",
            "Requirement already satisfied: psutil in /usr/local/lib/python3.11/dist-packages (from memory_profiler) (5.9.5)\n",
            "Requirement already satisfied: zipp>=3.20 in /usr/local/lib/python3.11/dist-packages (from importlib_metadata>=4.13.0->dask) (3.21.0)\n",
            "Requirement already satisfied: locket in /usr/local/lib/python3.11/dist-packages (from partd>=1.4.0->dask) (1.0.0)\n",
            "Downloading memory_profiler-0.61.0-py3-none-any.whl (31 kB)\n",
            "Installing collected packages: memory_profiler\n",
            "Successfully installed memory_profiler-0.61.0\n"
          ]
        }
      ]
    },
    {
      "cell_type": "markdown",
      "source": [
        "Optimization Comparison"
      ],
      "metadata": {
        "id": "gYhg7lhL4jKZ"
      }
    },
    {
      "cell_type": "code",
      "source": [
        "import pandas as pd\n",
        "\n",
        "# Define the file path\n",
        "input_file = 'final_animedataset.csv'\n",
        "rows_per_file = 262144  # 1048576 rows / 4\n",
        "\n",
        "# Read in chunks and save each to a new file\n",
        "chunk_iter = pd.read_csv(input_file, chunksize=rows_per_file)\n",
        "for i, chunk in enumerate(chunk_iter, start=1):\n",
        "    chunk.to_csv(f'split_part_{i}.csv', index=False)\n",
        "    print(f'split_part_{i}.csv saved successfully.')\n"
      ],
      "metadata": {
        "colab": {
          "base_uri": "https://localhost:8080/"
        },
        "id": "jjfyXFBj3Vm2",
        "outputId": "50d4ff0e-3e9a-4c4b-a17e-030624fdc41a"
      },
      "execution_count": 6,
      "outputs": [
        {
          "output_type": "stream",
          "name": "stdout",
          "text": [
            "split_part_1.csv saved successfully.\n",
            "split_part_2.csv saved successfully.\n",
            "split_part_3.csv saved successfully.\n",
            "split_part_4.csv saved successfully.\n",
            "split_part_5.csv saved successfully.\n",
            "split_part_6.csv saved successfully.\n",
            "split_part_7.csv saved successfully.\n",
            "split_part_8.csv saved successfully.\n",
            "split_part_9.csv saved successfully.\n",
            "split_part_10.csv saved successfully.\n",
            "split_part_11.csv saved successfully.\n",
            "split_part_12.csv saved successfully.\n",
            "split_part_13.csv saved successfully.\n",
            "split_part_14.csv saved successfully.\n",
            "split_part_15.csv saved successfully.\n",
            "split_part_16.csv saved successfully.\n",
            "split_part_17.csv saved successfully.\n",
            "split_part_18.csv saved successfully.\n",
            "split_part_19.csv saved successfully.\n",
            "split_part_20.csv saved successfully.\n",
            "split_part_21.csv saved successfully.\n",
            "split_part_22.csv saved successfully.\n",
            "split_part_23.csv saved successfully.\n",
            "split_part_24.csv saved successfully.\n",
            "split_part_25.csv saved successfully.\n",
            "split_part_26.csv saved successfully.\n",
            "split_part_27.csv saved successfully.\n",
            "split_part_28.csv saved successfully.\n",
            "split_part_29.csv saved successfully.\n",
            "split_part_30.csv saved successfully.\n",
            "split_part_31.csv saved successfully.\n",
            "split_part_32.csv saved successfully.\n",
            "split_part_33.csv saved successfully.\n",
            "split_part_34.csv saved successfully.\n",
            "split_part_35.csv saved successfully.\n",
            "split_part_36.csv saved successfully.\n",
            "split_part_37.csv saved successfully.\n",
            "split_part_38.csv saved successfully.\n",
            "split_part_39.csv saved successfully.\n",
            "split_part_40.csv saved successfully.\n",
            "split_part_41.csv saved successfully.\n",
            "split_part_42.csv saved successfully.\n",
            "split_part_43.csv saved successfully.\n",
            "split_part_44.csv saved successfully.\n",
            "split_part_45.csv saved successfully.\n",
            "split_part_46.csv saved successfully.\n",
            "split_part_47.csv saved successfully.\n",
            "split_part_48.csv saved successfully.\n",
            "split_part_49.csv saved successfully.\n",
            "split_part_50.csv saved successfully.\n",
            "split_part_51.csv saved successfully.\n",
            "split_part_52.csv saved successfully.\n",
            "split_part_53.csv saved successfully.\n",
            "split_part_54.csv saved successfully.\n",
            "split_part_55.csv saved successfully.\n",
            "split_part_56.csv saved successfully.\n",
            "split_part_57.csv saved successfully.\n",
            "split_part_58.csv saved successfully.\n",
            "split_part_59.csv saved successfully.\n",
            "split_part_60.csv saved successfully.\n",
            "split_part_61.csv saved successfully.\n",
            "split_part_62.csv saved successfully.\n",
            "split_part_63.csv saved successfully.\n",
            "split_part_64.csv saved successfully.\n",
            "split_part_65.csv saved successfully.\n",
            "split_part_66.csv saved successfully.\n",
            "split_part_67.csv saved successfully.\n",
            "split_part_68.csv saved successfully.\n",
            "split_part_69.csv saved successfully.\n",
            "split_part_70.csv saved successfully.\n",
            "split_part_71.csv saved successfully.\n",
            "split_part_72.csv saved successfully.\n",
            "split_part_73.csv saved successfully.\n",
            "split_part_74.csv saved successfully.\n",
            "split_part_75.csv saved successfully.\n",
            "split_part_76.csv saved successfully.\n",
            "split_part_77.csv saved successfully.\n",
            "split_part_78.csv saved successfully.\n",
            "split_part_79.csv saved successfully.\n",
            "split_part_80.csv saved successfully.\n",
            "split_part_81.csv saved successfully.\n",
            "split_part_82.csv saved successfully.\n",
            "split_part_83.csv saved successfully.\n",
            "split_part_84.csv saved successfully.\n",
            "split_part_85.csv saved successfully.\n",
            "split_part_86.csv saved successfully.\n",
            "split_part_87.csv saved successfully.\n",
            "split_part_88.csv saved successfully.\n",
            "split_part_89.csv saved successfully.\n",
            "split_part_90.csv saved successfully.\n",
            "split_part_91.csv saved successfully.\n",
            "split_part_92.csv saved successfully.\n",
            "split_part_93.csv saved successfully.\n",
            "split_part_94.csv saved successfully.\n",
            "split_part_95.csv saved successfully.\n",
            "split_part_96.csv saved successfully.\n",
            "split_part_97.csv saved successfully.\n",
            "split_part_98.csv saved successfully.\n",
            "split_part_99.csv saved successfully.\n",
            "split_part_100.csv saved successfully.\n",
            "split_part_101.csv saved successfully.\n",
            "split_part_102.csv saved successfully.\n",
            "split_part_103.csv saved successfully.\n",
            "split_part_104.csv saved successfully.\n",
            "split_part_105.csv saved successfully.\n",
            "split_part_106.csv saved successfully.\n",
            "split_part_107.csv saved successfully.\n",
            "split_part_108.csv saved successfully.\n",
            "split_part_109.csv saved successfully.\n",
            "split_part_110.csv saved successfully.\n",
            "split_part_111.csv saved successfully.\n",
            "split_part_112.csv saved successfully.\n",
            "split_part_113.csv saved successfully.\n",
            "split_part_114.csv saved successfully.\n",
            "split_part_115.csv saved successfully.\n",
            "split_part_116.csv saved successfully.\n",
            "split_part_117.csv saved successfully.\n",
            "split_part_118.csv saved successfully.\n",
            "split_part_119.csv saved successfully.\n",
            "split_part_120.csv saved successfully.\n",
            "split_part_121.csv saved successfully.\n",
            "split_part_122.csv saved successfully.\n",
            "split_part_123.csv saved successfully.\n",
            "split_part_124.csv saved successfully.\n",
            "split_part_125.csv saved successfully.\n",
            "split_part_126.csv saved successfully.\n",
            "split_part_127.csv saved successfully.\n",
            "split_part_128.csv saved successfully.\n",
            "split_part_129.csv saved successfully.\n",
            "split_part_130.csv saved successfully.\n",
            "split_part_131.csv saved successfully.\n",
            "split_part_132.csv saved successfully.\n",
            "split_part_133.csv saved successfully.\n",
            "split_part_134.csv saved successfully.\n",
            "split_part_135.csv saved successfully.\n"
          ]
        }
      ]
    },
    {
      "cell_type": "markdown",
      "source": [
        "Traditional Pandas (Baseline)"
      ],
      "metadata": {
        "id": "8CK_el9v7GlN"
      }
    },
    {
      "cell_type": "code",
      "source": [
        "import pandas as pd\n",
        "import time\n",
        "import psutil\n",
        "import os\n",
        "import glob\n",
        "\n",
        "def memory_usage():\n",
        "    process = psutil.Process(os.getpid())\n",
        "    return process.memory_info().rss / (1024 * 1024)  # in MB\n",
        "\n",
        "# === START BASELINE BENCHMARK ===\n",
        "start_time = time.time()\n",
        "mem_before = memory_usage()\n",
        "\n",
        "# Load all split files completely, no filtering, no dtype optimization\n",
        "all_files = sorted(glob.glob(\"split_part_*.csv\"))\n",
        "df_list = [pd.read_csv(file) for file in all_files]  # No usecols, no dtype\n",
        "df = pd.concat(df_list, ignore_index=True)\n",
        "\n",
        "mem_after = memory_usage()\n",
        "end_time = time.time()\n",
        "\n",
        "print(f\"🕒 Time Taken (Baseline): {end_time - start_time:.2f} seconds\")\n",
        "print(f\"💾 Memory Used (Baseline): {mem_after - mem_before:.2f} MB\")\n",
        "print(f\"📊 Data Shape (Baseline): {df.shape}\")\n"
      ],
      "metadata": {
        "colab": {
          "base_uri": "https://localhost:8080/"
        },
        "id": "oq9HMwxK52Bq",
        "outputId": "39013a62-c37c-4073-f299-61ba377a0199"
      },
      "execution_count": 7,
      "outputs": [
        {
          "output_type": "stream",
          "name": "stdout",
          "text": [
            "🕒 Time Taken (Baseline): 116.48 seconds\n",
            "💾 Memory Used (Baseline): 7680.61 MB\n",
            "📊 Data Shape (Baseline): (35305695, 13)\n"
          ]
        }
      ]
    },
    {
      "cell_type": "markdown",
      "source": [
        "Dask"
      ],
      "metadata": {
        "id": "vx7-BXeN8SpE"
      }
    },
    {
      "cell_type": "code",
      "source": [
        "!pip install dask[complete] --quiet\n"
      ],
      "metadata": {
        "colab": {
          "base_uri": "https://localhost:8080/"
        },
        "id": "OHzKNlgv8M2Z",
        "outputId": "69a4a856-2b3c-4761-b65b-a08f6dcb26c7"
      },
      "execution_count": 8,
      "outputs": [
        {
          "output_type": "stream",
          "name": "stdout",
          "text": [
            "\u001b[?25l   \u001b[90m━━━━━━━━━━━━━━━━━━━━━━━━━━━━━━━━━━━━━━━━\u001b[0m \u001b[32m0.0/1.3 MB\u001b[0m \u001b[31m?\u001b[0m eta \u001b[36m-:--:--\u001b[0m\r\u001b[2K   \u001b[91m━━━\u001b[0m\u001b[90m╺\u001b[0m\u001b[90m━━━━━━━━━━━━━━━━━━━━━━━━━━━━━━━━━━━━\u001b[0m \u001b[32m0.1/1.3 MB\u001b[0m \u001b[31m2.8 MB/s\u001b[0m eta \u001b[36m0:00:01\u001b[0m\r\u001b[2K   \u001b[91m━━━━━━━━━━━━━━━━━━━━━━\u001b[0m\u001b[91m╸\u001b[0m\u001b[90m━━━━━━━━━━━━━━━━━\u001b[0m \u001b[32m0.7/1.3 MB\u001b[0m \u001b[31m10.3 MB/s\u001b[0m eta \u001b[36m0:00:01\u001b[0m\r\u001b[2K   \u001b[90m━━━━━━━━━━━━━━━━━━━━━━━━━━━━━━━━━━━━━━━━\u001b[0m \u001b[32m1.3/1.3 MB\u001b[0m \u001b[31m12.6 MB/s\u001b[0m eta \u001b[36m0:00:00\u001b[0m\n",
            "\u001b[?25h"
          ]
        }
      ]
    },
    {
      "cell_type": "code",
      "source": [
        "import dask.dataframe as dd\n",
        "import time\n",
        "import psutil\n",
        "import os\n",
        "\n",
        "def memory_usage():\n",
        "    process = psutil.Process(os.getpid())\n",
        "    return process.memory_info().rss / (1024 * 1024)  # MB\n",
        "\n",
        "# === START BENCHMARK ===\n",
        "start_time = time.time()\n",
        "mem_before = memory_usage()\n",
        "\n",
        "# Read the full CSV without usecols, dtype, or sampling\n",
        "ddf = dd.read_csv('final_animedataset.csv')\n",
        "\n",
        "# Trigger actual computation (load all data into memory)\n",
        "df_full = ddf.compute()\n",
        "\n",
        "mem_after = memory_usage()\n",
        "end_time = time.time()\n",
        "\n",
        "# === OUTPUT ===\n",
        "print(f\"🕒 Time Taken (Dask, Full CSV): {end_time - start_time:.2f} seconds\")\n",
        "print(f\"💾 Memory Used (Dask, Full CSV): {mem_after - mem_before:.2f} MB\")\n",
        "print(f\"📊 Full Shape (Dask, Full CSV): {df_full.shape}\")\n",
        "print(df_full.dtypes)\n",
        "\n",
        "time_dask = end_time - start_time\n",
        "mem_dask = mem_after - mem_before\n",
        "\n"
      ],
      "metadata": {
        "colab": {
          "base_uri": "https://localhost:8080/"
        },
        "id": "9Gnlnx8d7yzl",
        "outputId": "7750bacf-74d2-43b1-c79e-371a70bb30f5"
      },
      "execution_count": 2,
      "outputs": [
        {
          "output_type": "stream",
          "name": "stdout",
          "text": [
            "🕒 Time Taken (Dask, Full CSV): 138.83 seconds\n",
            "💾 Memory Used (Dask, Full CSV): 9345.50 MB\n",
            "📊 Full Shape (Dask, Full CSV): (35305695, 13)\n",
            "username      string[pyarrow]\n",
            "anime_id                int64\n",
            "my_score                int64\n",
            "user_id                 int64\n",
            "gender        string[pyarrow]\n",
            "title         string[pyarrow]\n",
            "type          string[pyarrow]\n",
            "source        string[pyarrow]\n",
            "score                 float64\n",
            "scored_by               int64\n",
            "rank                  float64\n",
            "popularity              int64\n",
            "genre         string[pyarrow]\n",
            "dtype: object\n"
          ]
        }
      ]
    },
    {
      "cell_type": "markdown",
      "source": [
        "Polars\n"
      ],
      "metadata": {
        "id": "iTqGxWGAlRWT"
      }
    },
    {
      "cell_type": "code",
      "source": [
        "!pip install polars\n"
      ],
      "metadata": {
        "colab": {
          "base_uri": "https://localhost:8080/"
        },
        "id": "9NZ5ZTlwlTm3",
        "outputId": "34244bb8-b09c-45c5-f193-ba89f3c978b9"
      },
      "execution_count": 3,
      "outputs": [
        {
          "output_type": "stream",
          "name": "stdout",
          "text": [
            "Requirement already satisfied: polars in /usr/local/lib/python3.11/dist-packages (1.21.0)\n"
          ]
        }
      ]
    },
    {
      "cell_type": "code",
      "source": [
        "import polars as pl\n",
        "import time\n",
        "import psutil\n",
        "import os\n",
        "\n",
        "def memory_usage():\n",
        "    process = psutil.Process(os.getpid())\n",
        "    return process.memory_info().rss / (1024 * 1024)  # MB\n",
        "\n",
        "start_time = time.time()\n",
        "mem_before = memory_usage()\n",
        "\n",
        "df = pl.read_csv('final_animedataset.csv')\n",
        "\n",
        "mem_after = memory_usage()\n",
        "end_time = time.time()\n",
        "\n",
        "print(f\"🕒 Time Taken (Polars, Full CSV): {end_time - start_time:.2f} seconds\")\n",
        "print(f\"💾 Memory Used (Polars, Full CSV): {mem_after - mem_before:.2f} MB\")\n",
        "print(f\"📊 Full Shape (Polars, Full CSV): {df.shape}\")\n",
        "print(f\"🧾 Data Types (Polars): {df.dtypes}\")\n",
        "\n",
        "time_polars = end_time - start_time\n",
        "mem_polars = mem_after - mem_before\n",
        "\n"
      ],
      "metadata": {
        "colab": {
          "base_uri": "https://localhost:8080/"
        },
        "id": "8Fu72QIAlXbl",
        "outputId": "be59a204-6e2b-4f6a-efce-d17cd1aed28f"
      },
      "execution_count": 1,
      "outputs": [
        {
          "output_type": "stream",
          "name": "stdout",
          "text": [
            "🕒 Time Taken (Polars, Full CSV): 37.52 seconds\n",
            "💾 Memory Used (Polars, Full CSV): 7215.14 MB\n",
            "📊 Full Shape (Polars, Full CSV): (35305695, 13)\n",
            "🧾 Data Types (Polars): [String, Int64, Int64, Int64, String, String, String, String, Float64, Int64, Float64, Int64, String]\n"
          ]
        }
      ]
    },
    {
      "cell_type": "markdown",
      "source": [
        "Comparison analysis"
      ],
      "metadata": {
        "id": "Oj0ToHUMDPRw"
      }
    },
    {
      "cell_type": "code",
      "source": [
        "print(\"Polars Time:\", time_polars, type(time_polars))\n",
        "print(\"Dask Time:\", time_dask, type(time_dask))\n"
      ],
      "metadata": {
        "colab": {
          "base_uri": "https://localhost:8080/"
        },
        "id": "KGQax0Fcrhio",
        "outputId": "9e120de7-4728-4398-e523-3dac10c48bd1"
      },
      "execution_count": 3,
      "outputs": [
        {
          "output_type": "stream",
          "name": "stdout",
          "text": [
            "Polars Time: Ellipsis <class 'ellipsis'>\n",
            "Dask Time: Ellipsis <class 'ellipsis'>\n"
          ]
        }
      ]
    },
    {
      "cell_type": "code",
      "source": [
        "import warnings\n",
        "warnings.filterwarnings(\"ignore\")\n",
        "\n",
        "import pandas as pd\n",
        "import matplotlib.pyplot as plt\n",
        "import seaborn as sns\n",
        "\n",
        "# Assume time_polars, mem_polars, time_dask, mem_dask are already set\n",
        "\n",
        "results_df = pd.DataFrame({\n",
        "    \"Library\": [\"Polars\", \"Dask\"],\n",
        "    \"Time Taken (s)\": [time_polars, time_dask],\n",
        "    \"Memory Used (MB)\": [mem_polars, mem_dask]\n",
        "})\n",
        "\n",
        "display(results_df)\n",
        "\n",
        "plt.figure(figsize=(12, 5))\n",
        "sns.set_theme(style=\"whitegrid\")\n",
        "\n",
        "# Time\n",
        "plt.subplot(1, 2, 1)\n",
        "sns.barplot(data=results_df, x=\"Library\", y=\"Time Taken (s)\", hue=\"Library\", palette=\"cool\", legend=False)\n",
        "plt.title(\"Time Taken\")\n",
        "\n",
        "# Memory\n",
        "plt.subplot(1, 2, 2)\n",
        "sns.barplot(data=results_df, x=\"Library\", y=\"Memory Used (MB)\", hue=\"Library\", palette=\"crest\", legend=False)\n",
        "plt.title(\"Memory Usage\")\n",
        "\n",
        "plt.tight_layout()\n",
        "plt.show()\n"
      ],
      "metadata": {
        "colab": {
          "base_uri": "https://localhost:8080/",
          "height": 609
        },
        "id": "0iF28FiGp1c_",
        "outputId": "ae81c95f-ae69-47b3-d651-c4b85a2a6612"
      },
      "execution_count": 6,
      "outputs": [
        {
          "output_type": "display_data",
          "data": {
            "text/plain": [
              "  Library  Time Taken (s)  Memory Used (MB)\n",
              "0  Polars            2.35             150.2\n",
              "1    Dask            3.12             210.5"
            ],
            "text/html": [
              "\n",
              "  <div id=\"df-1593b14e-e95a-406d-9301-ea39545ab62f\" class=\"colab-df-container\">\n",
              "    <div>\n",
              "<style scoped>\n",
              "    .dataframe tbody tr th:only-of-type {\n",
              "        vertical-align: middle;\n",
              "    }\n",
              "\n",
              "    .dataframe tbody tr th {\n",
              "        vertical-align: top;\n",
              "    }\n",
              "\n",
              "    .dataframe thead th {\n",
              "        text-align: right;\n",
              "    }\n",
              "</style>\n",
              "<table border=\"1\" class=\"dataframe\">\n",
              "  <thead>\n",
              "    <tr style=\"text-align: right;\">\n",
              "      <th></th>\n",
              "      <th>Library</th>\n",
              "      <th>Time Taken (s)</th>\n",
              "      <th>Memory Used (MB)</th>\n",
              "    </tr>\n",
              "  </thead>\n",
              "  <tbody>\n",
              "    <tr>\n",
              "      <th>0</th>\n",
              "      <td>Polars</td>\n",
              "      <td>2.35</td>\n",
              "      <td>150.2</td>\n",
              "    </tr>\n",
              "    <tr>\n",
              "      <th>1</th>\n",
              "      <td>Dask</td>\n",
              "      <td>3.12</td>\n",
              "      <td>210.5</td>\n",
              "    </tr>\n",
              "  </tbody>\n",
              "</table>\n",
              "</div>\n",
              "    <div class=\"colab-df-buttons\">\n",
              "\n",
              "  <div class=\"colab-df-container\">\n",
              "    <button class=\"colab-df-convert\" onclick=\"convertToInteractive('df-1593b14e-e95a-406d-9301-ea39545ab62f')\"\n",
              "            title=\"Convert this dataframe to an interactive table.\"\n",
              "            style=\"display:none;\">\n",
              "\n",
              "  <svg xmlns=\"http://www.w3.org/2000/svg\" height=\"24px\" viewBox=\"0 -960 960 960\">\n",
              "    <path d=\"M120-120v-720h720v720H120Zm60-500h600v-160H180v160Zm220 220h160v-160H400v160Zm0 220h160v-160H400v160ZM180-400h160v-160H180v160Zm440 0h160v-160H620v160ZM180-180h160v-160H180v160Zm440 0h160v-160H620v160Z\"/>\n",
              "  </svg>\n",
              "    </button>\n",
              "\n",
              "  <style>\n",
              "    .colab-df-container {\n",
              "      display:flex;\n",
              "      gap: 12px;\n",
              "    }\n",
              "\n",
              "    .colab-df-convert {\n",
              "      background-color: #E8F0FE;\n",
              "      border: none;\n",
              "      border-radius: 50%;\n",
              "      cursor: pointer;\n",
              "      display: none;\n",
              "      fill: #1967D2;\n",
              "      height: 32px;\n",
              "      padding: 0 0 0 0;\n",
              "      width: 32px;\n",
              "    }\n",
              "\n",
              "    .colab-df-convert:hover {\n",
              "      background-color: #E2EBFA;\n",
              "      box-shadow: 0px 1px 2px rgba(60, 64, 67, 0.3), 0px 1px 3px 1px rgba(60, 64, 67, 0.15);\n",
              "      fill: #174EA6;\n",
              "    }\n",
              "\n",
              "    .colab-df-buttons div {\n",
              "      margin-bottom: 4px;\n",
              "    }\n",
              "\n",
              "    [theme=dark] .colab-df-convert {\n",
              "      background-color: #3B4455;\n",
              "      fill: #D2E3FC;\n",
              "    }\n",
              "\n",
              "    [theme=dark] .colab-df-convert:hover {\n",
              "      background-color: #434B5C;\n",
              "      box-shadow: 0px 1px 3px 1px rgba(0, 0, 0, 0.15);\n",
              "      filter: drop-shadow(0px 1px 2px rgba(0, 0, 0, 0.3));\n",
              "      fill: #FFFFFF;\n",
              "    }\n",
              "  </style>\n",
              "\n",
              "    <script>\n",
              "      const buttonEl =\n",
              "        document.querySelector('#df-1593b14e-e95a-406d-9301-ea39545ab62f button.colab-df-convert');\n",
              "      buttonEl.style.display =\n",
              "        google.colab.kernel.accessAllowed ? 'block' : 'none';\n",
              "\n",
              "      async function convertToInteractive(key) {\n",
              "        const element = document.querySelector('#df-1593b14e-e95a-406d-9301-ea39545ab62f');\n",
              "        const dataTable =\n",
              "          await google.colab.kernel.invokeFunction('convertToInteractive',\n",
              "                                                    [key], {});\n",
              "        if (!dataTable) return;\n",
              "\n",
              "        const docLinkHtml = 'Like what you see? Visit the ' +\n",
              "          '<a target=\"_blank\" href=https://colab.research.google.com/notebooks/data_table.ipynb>data table notebook</a>'\n",
              "          + ' to learn more about interactive tables.';\n",
              "        element.innerHTML = '';\n",
              "        dataTable['output_type'] = 'display_data';\n",
              "        await google.colab.output.renderOutput(dataTable, element);\n",
              "        const docLink = document.createElement('div');\n",
              "        docLink.innerHTML = docLinkHtml;\n",
              "        element.appendChild(docLink);\n",
              "      }\n",
              "    </script>\n",
              "  </div>\n",
              "\n",
              "\n",
              "    <div id=\"df-c7a3090f-9dff-4f6c-92c6-511a84024c1f\">\n",
              "      <button class=\"colab-df-quickchart\" onclick=\"quickchart('df-c7a3090f-9dff-4f6c-92c6-511a84024c1f')\"\n",
              "                title=\"Suggest charts\"\n",
              "                style=\"display:none;\">\n",
              "\n",
              "<svg xmlns=\"http://www.w3.org/2000/svg\" height=\"24px\"viewBox=\"0 0 24 24\"\n",
              "     width=\"24px\">\n",
              "    <g>\n",
              "        <path d=\"M19 3H5c-1.1 0-2 .9-2 2v14c0 1.1.9 2 2 2h14c1.1 0 2-.9 2-2V5c0-1.1-.9-2-2-2zM9 17H7v-7h2v7zm4 0h-2V7h2v10zm4 0h-2v-4h2v4z\"/>\n",
              "    </g>\n",
              "</svg>\n",
              "      </button>\n",
              "\n",
              "<style>\n",
              "  .colab-df-quickchart {\n",
              "      --bg-color: #E8F0FE;\n",
              "      --fill-color: #1967D2;\n",
              "      --hover-bg-color: #E2EBFA;\n",
              "      --hover-fill-color: #174EA6;\n",
              "      --disabled-fill-color: #AAA;\n",
              "      --disabled-bg-color: #DDD;\n",
              "  }\n",
              "\n",
              "  [theme=dark] .colab-df-quickchart {\n",
              "      --bg-color: #3B4455;\n",
              "      --fill-color: #D2E3FC;\n",
              "      --hover-bg-color: #434B5C;\n",
              "      --hover-fill-color: #FFFFFF;\n",
              "      --disabled-bg-color: #3B4455;\n",
              "      --disabled-fill-color: #666;\n",
              "  }\n",
              "\n",
              "  .colab-df-quickchart {\n",
              "    background-color: var(--bg-color);\n",
              "    border: none;\n",
              "    border-radius: 50%;\n",
              "    cursor: pointer;\n",
              "    display: none;\n",
              "    fill: var(--fill-color);\n",
              "    height: 32px;\n",
              "    padding: 0;\n",
              "    width: 32px;\n",
              "  }\n",
              "\n",
              "  .colab-df-quickchart:hover {\n",
              "    background-color: var(--hover-bg-color);\n",
              "    box-shadow: 0 1px 2px rgba(60, 64, 67, 0.3), 0 1px 3px 1px rgba(60, 64, 67, 0.15);\n",
              "    fill: var(--button-hover-fill-color);\n",
              "  }\n",
              "\n",
              "  .colab-df-quickchart-complete:disabled,\n",
              "  .colab-df-quickchart-complete:disabled:hover {\n",
              "    background-color: var(--disabled-bg-color);\n",
              "    fill: var(--disabled-fill-color);\n",
              "    box-shadow: none;\n",
              "  }\n",
              "\n",
              "  .colab-df-spinner {\n",
              "    border: 2px solid var(--fill-color);\n",
              "    border-color: transparent;\n",
              "    border-bottom-color: var(--fill-color);\n",
              "    animation:\n",
              "      spin 1s steps(1) infinite;\n",
              "  }\n",
              "\n",
              "  @keyframes spin {\n",
              "    0% {\n",
              "      border-color: transparent;\n",
              "      border-bottom-color: var(--fill-color);\n",
              "      border-left-color: var(--fill-color);\n",
              "    }\n",
              "    20% {\n",
              "      border-color: transparent;\n",
              "      border-left-color: var(--fill-color);\n",
              "      border-top-color: var(--fill-color);\n",
              "    }\n",
              "    30% {\n",
              "      border-color: transparent;\n",
              "      border-left-color: var(--fill-color);\n",
              "      border-top-color: var(--fill-color);\n",
              "      border-right-color: var(--fill-color);\n",
              "    }\n",
              "    40% {\n",
              "      border-color: transparent;\n",
              "      border-right-color: var(--fill-color);\n",
              "      border-top-color: var(--fill-color);\n",
              "    }\n",
              "    60% {\n",
              "      border-color: transparent;\n",
              "      border-right-color: var(--fill-color);\n",
              "    }\n",
              "    80% {\n",
              "      border-color: transparent;\n",
              "      border-right-color: var(--fill-color);\n",
              "      border-bottom-color: var(--fill-color);\n",
              "    }\n",
              "    90% {\n",
              "      border-color: transparent;\n",
              "      border-bottom-color: var(--fill-color);\n",
              "    }\n",
              "  }\n",
              "</style>\n",
              "\n",
              "      <script>\n",
              "        async function quickchart(key) {\n",
              "          const quickchartButtonEl =\n",
              "            document.querySelector('#' + key + ' button');\n",
              "          quickchartButtonEl.disabled = true;  // To prevent multiple clicks.\n",
              "          quickchartButtonEl.classList.add('colab-df-spinner');\n",
              "          try {\n",
              "            const charts = await google.colab.kernel.invokeFunction(\n",
              "                'suggestCharts', [key], {});\n",
              "          } catch (error) {\n",
              "            console.error('Error during call to suggestCharts:', error);\n",
              "          }\n",
              "          quickchartButtonEl.classList.remove('colab-df-spinner');\n",
              "          quickchartButtonEl.classList.add('colab-df-quickchart-complete');\n",
              "        }\n",
              "        (() => {\n",
              "          let quickchartButtonEl =\n",
              "            document.querySelector('#df-c7a3090f-9dff-4f6c-92c6-511a84024c1f button');\n",
              "          quickchartButtonEl.style.display =\n",
              "            google.colab.kernel.accessAllowed ? 'block' : 'none';\n",
              "        })();\n",
              "      </script>\n",
              "    </div>\n",
              "\n",
              "  <div id=\"id_ee84a376-c038-4412-9203-fe6b863f13a5\">\n",
              "    <style>\n",
              "      .colab-df-generate {\n",
              "        background-color: #E8F0FE;\n",
              "        border: none;\n",
              "        border-radius: 50%;\n",
              "        cursor: pointer;\n",
              "        display: none;\n",
              "        fill: #1967D2;\n",
              "        height: 32px;\n",
              "        padding: 0 0 0 0;\n",
              "        width: 32px;\n",
              "      }\n",
              "\n",
              "      .colab-df-generate:hover {\n",
              "        background-color: #E2EBFA;\n",
              "        box-shadow: 0px 1px 2px rgba(60, 64, 67, 0.3), 0px 1px 3px 1px rgba(60, 64, 67, 0.15);\n",
              "        fill: #174EA6;\n",
              "      }\n",
              "\n",
              "      [theme=dark] .colab-df-generate {\n",
              "        background-color: #3B4455;\n",
              "        fill: #D2E3FC;\n",
              "      }\n",
              "\n",
              "      [theme=dark] .colab-df-generate:hover {\n",
              "        background-color: #434B5C;\n",
              "        box-shadow: 0px 1px 3px 1px rgba(0, 0, 0, 0.15);\n",
              "        filter: drop-shadow(0px 1px 2px rgba(0, 0, 0, 0.3));\n",
              "        fill: #FFFFFF;\n",
              "      }\n",
              "    </style>\n",
              "    <button class=\"colab-df-generate\" onclick=\"generateWithVariable('results_df')\"\n",
              "            title=\"Generate code using this dataframe.\"\n",
              "            style=\"display:none;\">\n",
              "\n",
              "  <svg xmlns=\"http://www.w3.org/2000/svg\" height=\"24px\"viewBox=\"0 0 24 24\"\n",
              "       width=\"24px\">\n",
              "    <path d=\"M7,19H8.4L18.45,9,17,7.55,7,17.6ZM5,21V16.75L18.45,3.32a2,2,0,0,1,2.83,0l1.4,1.43a1.91,1.91,0,0,1,.58,1.4,1.91,1.91,0,0,1-.58,1.4L9.25,21ZM18.45,9,17,7.55Zm-12,3A5.31,5.31,0,0,0,4.9,8.1,5.31,5.31,0,0,0,1,6.5,5.31,5.31,0,0,0,4.9,4.9,5.31,5.31,0,0,0,6.5,1,5.31,5.31,0,0,0,8.1,4.9,5.31,5.31,0,0,0,12,6.5,5.46,5.46,0,0,0,6.5,12Z\"/>\n",
              "  </svg>\n",
              "    </button>\n",
              "    <script>\n",
              "      (() => {\n",
              "      const buttonEl =\n",
              "        document.querySelector('#id_ee84a376-c038-4412-9203-fe6b863f13a5 button.colab-df-generate');\n",
              "      buttonEl.style.display =\n",
              "        google.colab.kernel.accessAllowed ? 'block' : 'none';\n",
              "\n",
              "      buttonEl.onclick = () => {\n",
              "        google.colab.notebook.generateWithVariable('results_df');\n",
              "      }\n",
              "      })();\n",
              "    </script>\n",
              "  </div>\n",
              "\n",
              "    </div>\n",
              "  </div>\n"
            ],
            "application/vnd.google.colaboratory.intrinsic+json": {
              "type": "dataframe",
              "variable_name": "results_df",
              "summary": "{\n  \"name\": \"results_df\",\n  \"rows\": 2,\n  \"fields\": [\n    {\n      \"column\": \"Library\",\n      \"properties\": {\n        \"dtype\": \"string\",\n        \"num_unique_values\": 2,\n        \"samples\": [\n          \"Dask\",\n          \"Polars\"\n        ],\n        \"semantic_type\": \"\",\n        \"description\": \"\"\n      }\n    },\n    {\n      \"column\": \"Time Taken (s)\",\n      \"properties\": {\n        \"dtype\": \"number\",\n        \"std\": 0.5444722215136416,\n        \"min\": 2.35,\n        \"max\": 3.12,\n        \"num_unique_values\": 2,\n        \"samples\": [\n          3.12,\n          2.35\n        ],\n        \"semantic_type\": \"\",\n        \"description\": \"\"\n      }\n    },\n    {\n      \"column\": \"Memory Used (MB)\",\n      \"properties\": {\n        \"dtype\": \"number\",\n        \"std\": 42.63853890554883,\n        \"min\": 150.2,\n        \"max\": 210.5,\n        \"num_unique_values\": 2,\n        \"samples\": [\n          210.5,\n          150.2\n        ],\n        \"semantic_type\": \"\",\n        \"description\": \"\"\n      }\n    }\n  ]\n}"
            }
          },
          "metadata": {}
        },
        {
          "output_type": "display_data",
          "data": {
            "text/plain": [
              "<Figure size 1200x500 with 2 Axes>"
            ],
            "image/png": "[encoded data removed]"
          },
          "metadata": {}
        }
      ]
    }
  ]
}