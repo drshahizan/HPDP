{
  "cells": [
    {
      "cell_type": "markdown",
      "metadata": {
        "id": "ki08x_PqvMPs"
      },
      "source": [
        "## 📘 Student Information\n",
        "\n",
        "**Group Name:** Mainecoon  \n",
        "**Student Name:**\n",
        "\n",
        "1.   Aliatul Izzah Binti Jasman\n",
        "2.   Mulyani Binti Saripuddin\n",
        "\n",
        "**Subject:** High Performance Data Processing\n",
        "\n",
        "**Assignment 2 :** Mastering Big Data Handling\n",
        "\n",
        "**Dataset:**  [**NYC Parking Tickets 2017**](https://www.kaggle.com/datasets/new-york-city/nyc-parking-tickets?select=Parking_Violations_Issued_-_Fiscal_Year_2014__August_2013___June_2014_.csv)\n"
      ]
    },
    {
      "cell_type": "markdown",
      "metadata": {
        "id": "SX3eqa8vxiJl"
      },
      "source": [
        "## 📊 Big Data Handling Project: Efficient Techniques for Large-Scale Datasets\n",
        "\n",
        "## 🔍 Project Overview\n",
        "\n",
        "This project focuses on handling and processing large datasets efficiently using various techniques and Python libraries. We explore how traditional `pandas` compares to more scalable solutions like `dask` and `polars`, especially when working with a dataset over **1.4 GB** and containing more than **10 million rows**.\n",
        "\n",
        "## 🎯 Objectives\n",
        "\n",
        "- Analyze the performance of different big data processing strategies.\n",
        "- Measure memory usage and execution time of each technique.\n",
        "- Identify the most effective approach for working with massive datasets.\n",
        "\n",
        "## 🧰 Tools & Libraries\n",
        "\n",
        "- **Pandas** – Standard data manipulation\n",
        "- **Dask** – Parallel and out-of-core processing\n",
        "- **Polars** – Lightning-fast performance using Rust backend\n",
        "\n",
        "## ⚙️ Strategies Implemented\n",
        "\n",
        "1. Load Less Data (selective columns)\n",
        "2. Chunking (process in small parts)\n",
        "3. Data Type Optimization\n",
        "4. Sampling\n",
        "5. Parallel Processing using Dask\n"
      ]
    },
    {
      "cell_type": "markdown",
      "metadata": {
        "id": "MKI-GXE4w8uK"
      },
      "source": [
        "## 📁 Task 1: Dataset Selection\n",
        "\n",
        "\n",
        "For this project, we selected a dataset that meets the requirement of being larger than **700MB** and contains rich, real-world information suitable for performance benchmarking and exploratory analysis.\n",
        "\n",
        "### 📦 Dataset Details\n",
        "\n",
        "- **Title**: NYC Parking Violations Issued - Fiscal Year 2017  \n",
        "- **Source**: [NYC Open Data](https://www.kaggle.com/datasets/new-york-city/nyc-parking-tickets)  \n",
        "- **File Size**: ~1.4 GB (uncompressed CSV)  \n",
        "- **Domain**: Transportation / Government / Urban Analytics  \n",
        "- **Number of Records**: Over **10 million** parking violation entries  \n",
        "- **Number of Columns**: 43  \n",
        "- **Format**: CSV  \n",
        "- **Use Case**: Ideal for testing big data techniques such as chunking, parallel loading, sampling, and data type optimization due to its large volume and mixed data types (text, numeric, datetime).\n",
        "\n",
        "This dataset offers excellent opportunities for measuring the tradeoffs between performance and resource usage across different data handling libraries like **Pandas**, **Dask**, and **Polars**."
      ]
    },
    {
      "cell_type": "markdown",
      "metadata": {
        "id": "sQc-qVSvyu_7"
      },
      "source": [
        "## 📁 Task 2: Load and Inspect Data\n",
        "\n",
        "🔄 Data Loading from Google Drive\n",
        "\n",
        "To handle large datasets effectively in Google Colab, we first mount **Google Drive** to access the dataset stored in our drive.\n",
        "\n",
        "### 📁 File Location:\n",
        "`/content/drive/MyDrive/nyc_parking_data/Parking_Violations_Issued_-_Fiscal_Year_2017.csv`\n",
        "\n",
        "\n",
        "By loading directly from Google Drive, we avoid uploading large files repeatedly and ensure smoother integration with the Colab environment.\n"
      ]
    },
    {
      "cell_type": "markdown",
      "metadata": {
        "id": "zuRLzzGvznFx"
      },
      "source": [
        "### 🔑 Kaggle API Authentication\n",
        "\n",
        "To download datasets directly from Kaggle, we need to authenticate using the `kaggle.json` API key file.\n",
        "\n",
        "### Steps:\n",
        "1. Go to Kaggle account settings: https://www.kaggle.com/account\n",
        "2. Scroll down to the **API** section and click **Create New API Token**.\n",
        "3. This will download a file called `kaggle.json` to  computer.\n",
        "4. Upload `kaggle.json` below to authenticate and access Kaggle datasets programmatically.\n"
      ]
    },
    {
      "cell_type": "code",
      "execution_count": 1,
      "metadata": {
        "colab": {
          "base_uri": "https://localhost:8080/",
          "height": 91
        },
        "id": "6a5YP_Sa03_I",
        "outputId": "03f66317-e91b-4393-93c1-411b14c80f55"
      },
      "outputs": [
        {
          "output_type": "display_data",
          "data": {
            "text/plain": [
              "<IPython.core.display.HTML object>"
            ],
            "text/html": [
              "\n",
              "     <input type=\"file\" id=\"files-f77b036c-a3ee-4b66-86bc-f4c62f17f0a5\" name=\"files[]\" multiple disabled\n",
              "        style=\"border:none\" />\n",
              "     <output id=\"result-f77b036c-a3ee-4b66-86bc-f4c62f17f0a5\">\n",
              "      Upload widget is only available when the cell has been executed in the\n",
              "      current browser session. Please rerun this cell to enable.\n",
              "      </output>\n",
              "      <script>// Copyright 2017 Google LLC\n",
              "//\n",
              "// Licensed under the Apache License, Version 2.0 (the \"License\");\n",
              "// you may not use this file except in compliance with the License.\n",
              "// You may obtain a copy of the License at\n",
              "//\n",
              "//      http://www.apache.org/licenses/LICENSE-2.0\n",
              "//\n",
              "// Unless required by applicable law or agreed to in writing, software\n",
              "// distributed under the License is distributed on an \"AS IS\" BASIS,\n",
              "// WITHOUT WARRANTIES OR CONDITIONS OF ANY KIND, either express or implied.\n",
              "// See the License for the specific language governing permissions and\n",
              "// limitations under the License.\n",
              "\n",
              "/**\n",
              " * @fileoverview Helpers for google.colab Python module.\n",
              " */\n",
              "(function(scope) {\n",
              "function span(text, styleAttributes = {}) {\n",
              "  const element = document.createElement('span');\n",
              "  element.textContent = text;\n",
              "  for (const key of Object.keys(styleAttributes)) {\n",
              "    element.style[key] = styleAttributes[key];\n",
              "  }\n",
              "  return element;\n",
              "}\n",
              "\n",
              "// Max number of bytes which will be uploaded at a time.\n",
              "const MAX_PAYLOAD_SIZE = 100 * 1024;\n",
              "\n",
              "function _uploadFiles(inputId, outputId) {\n",
              "  const steps = uploadFilesStep(inputId, outputId);\n",
              "  const outputElement = document.getElementById(outputId);\n",
              "  // Cache steps on the outputElement to make it available for the next call\n",
              "  // to uploadFilesContinue from Python.\n",
              "  outputElement.steps = steps;\n",
              "\n",
              "  return _uploadFilesContinue(outputId);\n",
              "}\n",
              "\n",
              "// This is roughly an async generator (not supported in the browser yet),\n",
              "// where there are multiple asynchronous steps and the Python side is going\n",
              "// to poll for completion of each step.\n",
              "// This uses a Promise to block the python side on completion of each step,\n",
              "// then passes the result of the previous step as the input to the next step.\n",
              "function _uploadFilesContinue(outputId) {\n",
              "  const outputElement = document.getElementById(outputId);\n",
              "  const steps = outputElement.steps;\n",
              "\n",
              "  const next = steps.next(outputElement.lastPromiseValue);\n",
              "  return Promise.resolve(next.value.promise).then((value) => {\n",
              "    // Cache the last promise value to make it available to the next\n",
              "    // step of the generator.\n",
              "    outputElement.lastPromiseValue = value;\n",
              "    return next.value.response;\n",
              "  });\n",
              "}\n",
              "\n",
              "/**\n",
              " * Generator function which is called between each async step of the upload\n",
              " * process.\n",
              " * @param {string} inputId Element ID of the input file picker element.\n",
              " * @param {string} outputId Element ID of the output display.\n",
              " * @return {!Iterable<!Object>} Iterable of next steps.\n",
              " */\n",
              "function* uploadFilesStep(inputId, outputId) {\n",
              "  const inputElement = document.getElementById(inputId);\n",
              "  inputElement.disabled = false;\n",
              "\n",
              "  const outputElement = document.getElementById(outputId);\n",
              "  outputElement.innerHTML = '';\n",
              "\n",
              "  const pickedPromise = new Promise((resolve) => {\n",
              "    inputElement.addEventListener('change', (e) => {\n",
              "      resolve(e.target.files);\n",
              "    });\n",
              "  });\n",
              "\n",
              "  const cancel = document.createElement('button');\n",
              "  inputElement.parentElement.appendChild(cancel);\n",
              "  cancel.textContent = 'Cancel upload';\n",
              "  const cancelPromise = new Promise((resolve) => {\n",
              "    cancel.onclick = () => {\n",
              "      resolve(null);\n",
              "    };\n",
              "  });\n",
              "\n",
              "  // Wait for the user to pick the files.\n",
              "  const files = yield {\n",
              "    promise: Promise.race([pickedPromise, cancelPromise]),\n",
              "    response: {\n",
              "      action: 'starting',\n",
              "    }\n",
              "  };\n",
              "\n",
              "  cancel.remove();\n",
              "\n",
              "  // Disable the input element since further picks are not allowed.\n",
              "  inputElement.disabled = true;\n",
              "\n",
              "  if (!files) {\n",
              "    return {\n",
              "      response: {\n",
              "        action: 'complete',\n",
              "      }\n",
              "    };\n",
              "  }\n",
              "\n",
              "  for (const file of files) {\n",
              "    const li = document.createElement('li');\n",
              "    li.append(span(file.name, {fontWeight: 'bold'}));\n",
              "    li.append(span(\n",
              "        `(${file.type || 'n/a'}) - ${file.size} bytes, ` +\n",
              "        `last modified: ${\n",
              "            file.lastModifiedDate ? file.lastModifiedDate.toLocaleDateString() :\n",
              "                                    'n/a'} - `));\n",
              "    const percent = span('0% done');\n",
              "    li.appendChild(percent);\n",
              "\n",
              "    outputElement.appendChild(li);\n",
              "\n",
              "    const fileDataPromise = new Promise((resolve) => {\n",
              "      const reader = new FileReader();\n",
              "      reader.onload = (e) => {\n",
              "        resolve(e.target.result);\n",
              "      };\n",
              "      reader.readAsArrayBuffer(file);\n",
              "    });\n",
              "    // Wait for the data to be ready.\n",
              "    let fileData = yield {\n",
              "      promise: fileDataPromise,\n",
              "      response: {\n",
              "        action: 'continue',\n",
              "      }\n",
              "    };\n",
              "\n",
              "    // Use a chunked sending to avoid message size limits. See b/62115660.\n",
              "    let position = 0;\n",
              "    do {\n",
              "      const length = Math.min(fileData.byteLength - position, MAX_PAYLOAD_SIZE);\n",
              "      const chunk = new Uint8Array(fileData, position, length);\n",
              "      position += length;\n",
              "\n",
              "      const base64 = btoa(String.fromCharCode.apply(null, chunk));\n",
              "      yield {\n",
              "        response: {\n",
              "          action: 'append',\n",
              "          file: file.name,\n",
              "          data: base64,\n",
              "        },\n",
              "      };\n",
              "\n",
              "      let percentDone = fileData.byteLength === 0 ?\n",
              "          100 :\n",
              "          Math.round((position / fileData.byteLength) * 100);\n",
              "      percent.textContent = `${percentDone}% done`;\n",
              "\n",
              "    } while (position < fileData.byteLength);\n",
              "  }\n",
              "\n",
              "  // All done.\n",
              "  yield {\n",
              "    response: {\n",
              "      action: 'complete',\n",
              "    }\n",
              "  };\n",
              "}\n",
              "\n",
              "scope.google = scope.google || {};\n",
              "scope.google.colab = scope.google.colab || {};\n",
              "scope.google.colab._files = {\n",
              "  _uploadFiles,\n",
              "  _uploadFilesContinue,\n",
              "};\n",
              "})(self);\n",
              "</script> "
            ]
          },
          "metadata": {}
        },
        {
          "output_type": "stream",
          "name": "stdout",
          "text": [
            "Saving kaggle.json to kaggle.json\n"
          ]
        },
        {
          "output_type": "execute_result",
          "data": {
            "text/plain": [
              "{'kaggle.json': b'{\"username\":\"tatiezainuldin\",\"key\":\"ac84a955a9a5a236afe45028214a8408\"}'}"
            ]
          },
          "metadata": {},
          "execution_count": 1
        }
      ],
      "source": [
        "from google.colab import files\n",
        "files.upload()  # Upload kaggle.json when prompted\n"
      ]
    },
    {
      "cell_type": "markdown",
      "metadata": {
        "id": "_FQPcd67z8Pu"
      },
      "source": [
        "### 📂 Setup Kaggle API Credentials\n",
        "\n",
        "After uploading `kaggle.json`, we need to:\n",
        "\n",
        "1. Create the Kaggle configuration directory.\n",
        "2. Move the `kaggle.json` file to the proper location.\n",
        "3. Set the correct permissions for secure access.\n",
        "\n",
        "This setup allows us to use the Kaggle API commands seamlessly within Colab.\n"
      ]
    },
    {
      "cell_type": "code",
      "execution_count": 2,
      "metadata": {
        "id": "dz1YhrXA1vnp"
      },
      "outputs": [],
      "source": [
        "import os\n",
        "import zipfile\n",
        "\n",
        "# Make Kaggle directory and move json there\n",
        "os.makedirs(\"/root/.kaggle\", exist_ok=True)\n",
        "!mv kaggle.json /root/.kaggle/kaggle.json\n",
        "\n",
        "# Set permissions\n",
        "!chmod 600 /root/.kaggle/kaggle.json\n"
      ]
    },
    {
      "cell_type": "markdown",
      "metadata": {
        "id": "jlKpVqkb0U5K"
      },
      "source": [
        "### 🚀 Download the Dataset from Kaggle\n",
        "\n",
        "Now that our Kaggle API is configured, download the **NYC Parking Tickets** dataset directly into our Colab environment using the Kaggle command-line tool.\n"
      ]
    },
    {
      "cell_type": "code",
      "execution_count": 3,
      "metadata": {
        "colab": {
          "base_uri": "https://localhost:8080/"
        },
        "id": "9zgUbw-R1y1I",
        "outputId": "d5e2d82e-3bc8-460f-bc25-10bdf136400a"
      },
      "outputs": [
        {
          "output_type": "stream",
          "name": "stdout",
          "text": [
            "Dataset URL: https://www.kaggle.com/datasets/new-york-city/nyc-parking-tickets\n",
            "License(s): CC0-1.0\n",
            "Downloading nyc-parking-tickets.zip to /content\n",
            " 98% 1.98G/2.02G [00:11<00:00, 90.4MB/s]\n",
            "100% 2.02G/2.02G [00:11<00:00, 183MB/s] \n"
          ]
        }
      ],
      "source": [
        "# Download the dataset\n",
        "!kaggle datasets download -d new-york-city/nyc-parking-tickets\n"
      ]
    },
    {
      "cell_type": "markdown",
      "metadata": {
        "id": "FBqoy-5K05cM"
      },
      "source": [
        "### 📂 Extract the Dataset\n",
        "\n",
        "After downloading, we need to unzip the dataset archive so the files can be accessed and processed easily.\n",
        "\n",
        "The extracted files will be saved in the `nyc_parking_data` folder for organized storage.\n"
      ]
    },
    {
      "cell_type": "code",
      "execution_count": 4,
      "metadata": {
        "id": "zDpQnRNR18uV"
      },
      "outputs": [],
      "source": [
        "# Unzip the dataset\n",
        "with zipfile.ZipFile(\"nyc-parking-tickets.zip\", 'r') as zip_ref:\n",
        "    zip_ref.extractall(\"nyc_parking_data\")\n"
      ]
    },
    {
      "cell_type": "markdown",
      "metadata": {
        "id": "7d1RKAu81B68"
      },
      "source": [
        "### 🔗 Mount Google Drive\n",
        "\n",
        "To save our work or access data stored in Google Drive, we mount our Drive to the Colab environment.\n"
      ]
    },
    {
      "cell_type": "code",
      "execution_count": 5,
      "metadata": {
        "id": "wUcptPdr2G1o",
        "colab": {
          "base_uri": "https://localhost:8080/"
        },
        "outputId": "e6c23990-8c71-45b1-d28e-cff039c46e71"
      },
      "outputs": [
        {
          "output_type": "stream",
          "name": "stdout",
          "text": [
            "Mounted at /content/drive\n"
          ]
        }
      ],
      "source": [
        "from google.colab import drive\n",
        "drive.mount('/content/drive')\n"
      ]
    },
    {
      "cell_type": "markdown",
      "metadata": {
        "id": "A0SC8fb01Pu-"
      },
      "source": [
        "### 💾 Save Dataset to Google Drive\n",
        "\n",
        "To keep our extracted dataset safe and accessible, we create a folder in our Google Drive and copy the dataset files there.\n",
        "\n",
        "This ensures our data persists beyond the current Colab session.\n"
      ]
    },
    {
      "cell_type": "code",
      "execution_count": 6,
      "metadata": {
        "id": "tR6_2T852mZq"
      },
      "outputs": [],
      "source": [
        "# Create a directory and move dataset to Drive\n",
        "!mkdir -p \"/content/drive/My Drive/nyc_parking_data\"\n",
        "!cp -r nyc_parking_data/Parking_Violations_Issued_-_Fiscal_Year_2017.csv \"/content/drive/My Drive/nyc_parking_data/\"\n"
      ]
    },
    {
      "cell_type": "markdown",
      "metadata": {
        "id": "kWJdpFzF1db3"
      },
      "source": [
        "### 📊 Import Required Libraries\n",
        "\n",
        "Import the necessary Python libraries for data analysis.  \n",
        "We start with **pandas** for handling tabular data efficiently.\n"
      ]
    },
    {
      "cell_type": "code",
      "execution_count": 7,
      "metadata": {
        "id": "vVDBfhtIGnSn",
        "colab": {
          "base_uri": "https://localhost:8080/"
        },
        "outputId": "60081b16-ac4f-435f-e894-ecd5914e31e1"
      },
      "outputs": [
        {
          "output_type": "stream",
          "name": "stdout",
          "text": [
            "Requirement already satisfied: pandas in /usr/local/lib/python3.11/dist-packages (2.2.2)\n",
            "Requirement already satisfied: numpy>=1.23.2 in /usr/local/lib/python3.11/dist-packages (from pandas) (2.0.2)\n",
            "Requirement already satisfied: python-dateutil>=2.8.2 in /usr/local/lib/python3.11/dist-packages (from pandas) (2.9.0.post0)\n",
            "Requirement already satisfied: pytz>=2020.1 in /usr/local/lib/python3.11/dist-packages (from pandas) (2025.2)\n",
            "Requirement already satisfied: tzdata>=2022.7 in /usr/local/lib/python3.11/dist-packages (from pandas) (2025.2)\n",
            "Requirement already satisfied: six>=1.5 in /usr/local/lib/python3.11/dist-packages (from python-dateutil>=2.8.2->pandas) (1.17.0)\n"
          ]
        }
      ],
      "source": [
        "!pip install pandas\n",
        "import pandas as pd"
      ]
    },
    {
      "cell_type": "markdown",
      "metadata": {
        "id": "57JBzeDf2p4O"
      },
      "source": [
        "### 🚀 Load Dataset\n",
        "\n",
        "- Confirm our dataset file path below.\n",
        "- We specify data types for some columns to avoid errors.\n",
        "- After loading, we display the shape, first 5 rows, and column data types.\n",
        "\n"
      ]
    },
    {
      "cell_type": "code",
      "execution_count": 8,
      "metadata": {
        "id": "WC1FcC264xns"
      },
      "outputs": [],
      "source": [
        "# Load dataset with specified dtypes for problematic columns\n",
        "## dtype_spec = {'House Number': 'object', 'Time First Observed': 'object'}\n",
        "\n",
        "## df_pandas = pd.read_csv(\n",
        "##    '/content/drive/MyDrive/nyc_parking_data/Parking_Violations_Issued_-_Fiscal_Year_2017.csv',\n",
        "##    dtype=dtype_spec\n",
        "##)\n",
        "\n",
        "# Basic inspection\n",
        "## print(f\"Shape: {df_pandas.shape}\")\n",
        "## print(df_pandas.dtypes)\n"
      ]
    },
    {
      "cell_type": "markdown",
      "source": [
        "⚠️ Why Did I Switch from Pandas to Dask?\n",
        "When trying to load the dataset Parking_Violations_Issued_-_Fiscal_Year_2017.csv using Pandas, I encountered the following issue:\n",
        "\n",
        "    RuntimeError: You have used all available RAM\n",
        "\n",
        "❗ What Caused the Error?\n",
        "The dataset is very large (around 4–6 GB).\n",
        "\n",
        "- Pandas attempts to load the entire file into memory.\n",
        "\n",
        "- In Google Colab, available RAM is limited (typically 12–25 GB).\n",
        "\n",
        "- As a result, the memory usage exceeds the environment's capacity, causing the runtime to crash or throw an error.\n",
        "\n",
        "✅ Why I Chose Dask Instead\n",
        "To avoid the memory issue, I switched to Dask, a parallel computing library that works similarly to Pandas but is designed for big data.\n",
        "\n",
        "- ✔️ Benefits of Using Dask:\n",
        "- 📦 Loads data in chunks instead of all at once.\n",
        "\n",
        "- 💤 Lazy evaluation – computations only happen when needed.\n",
        "\n",
        "- 📉 Lower memory usage – prevents crashes in memory-limited environments.\n",
        "\n",
        "- ⚙️ Efficient processing – supports parallel and out-of-core computation.\n",
        "\n"
      ],
      "metadata": {
        "id": "vuRnyiS_xztx"
      }
    },
    {
      "cell_type": "code",
      "source": [
        "import dask.dataframe as dd\n",
        "\n",
        "# Define dtypes for problematic columns\n",
        "dtype_spec = {'House Number': 'object', 'Time First Observed': 'object'}\n",
        "\n",
        "# Load with Dask\n",
        "df_dask = dd.read_csv(\n",
        "    '/content/drive/MyDrive/nyc_parking_data/Parking_Violations_Issued_-_Fiscal_Year_2017.csv',\n",
        "    dtype=dtype_spec\n",
        ")\n",
        "\n",
        "# Preview a few rows (lazy loading)\n",
        "print(df_dask.head())\n"
      ],
      "metadata": {
        "id": "3TQQhqQvx_id",
        "colab": {
          "base_uri": "https://localhost:8080/"
        },
        "outputId": "c8fd76b6-9841-49c5-9566-50ba78344f9e"
      },
      "execution_count": 9,
      "outputs": [
        {
          "output_type": "stream",
          "name": "stdout",
          "text": [
            "   Summons Number Plate ID Registration State Plate Type  Issue Date  \\\n",
            "0      5092469481  GZH7067                 NY        PAS  07/10/2016   \n",
            "1      5092451658  GZH7067                 NY        PAS  07/08/2016   \n",
            "2      4006265037  FZX9232                 NY        PAS  08/23/2016   \n",
            "3      8478629828  66623ME                 NY        COM  06/14/2017   \n",
            "4      7868300310  37033JV                 NY        COM  11/21/2016   \n",
            "\n",
            "   Violation Code Vehicle Body Type Vehicle Make Issuing Agency  Street Code1  \\\n",
            "0               7              SUBN        TOYOT              V             0   \n",
            "1               7              SUBN        TOYOT              V             0   \n",
            "2               5              SUBN         FORD              V             0   \n",
            "3              47              REFG        MITSU              T         10610   \n",
            "4              69              DELV        INTER              T         10510   \n",
            "\n",
            "   ...  Vehicle Color  Unregistered Vehicle?  Vehicle Year  Meter Number  \\\n",
            "0  ...             GY                    NaN          2001          <NA>   \n",
            "1  ...             GY                    NaN          2001          <NA>   \n",
            "2  ...             BK                    NaN          2004          <NA>   \n",
            "3  ...             WH                    NaN          2007          <NA>   \n",
            "4  ...          WHITE                    NaN          2007          <NA>   \n",
            "\n",
            "   Feet From Curb  Violation Post Code          Violation Description  \\\n",
            "0               0                 <NA>   FAILURE TO STOP AT RED LIGHT   \n",
            "1               0                 <NA>   FAILURE TO STOP AT RED LIGHT   \n",
            "2               0                 <NA>             BUS LANE VIOLATION   \n",
            "3               0                   04          47-Double PKG-Midtown   \n",
            "4               0                 31 6  69-Failure to Disp Muni Recpt   \n",
            "\n",
            "  No Standing or Stopping Violation Hydrant Violation Double Parking Violation  \n",
            "0                               NaN               NaN                      NaN  \n",
            "1                               NaN               NaN                      NaN  \n",
            "2                               NaN               NaN                      NaN  \n",
            "3                               NaN               NaN                      NaN  \n",
            "4                               NaN               NaN                      NaN  \n",
            "\n",
            "[5 rows x 43 columns]\n"
          ]
        }
      ]
    },
    {
      "cell_type": "markdown",
      "metadata": {
        "id": "evhD8k8s25co"
      },
      "source": [
        "## 🔄 Task 3: Apply Big Data Handling Strategies\n",
        "\n",
        "Handling large datasets efficiently is crucial for performance and resource management. In this task, we explore five key strategies designed to optimize data processing when working with big data:\n"
      ]
    },
    {
      "cell_type": "markdown",
      "metadata": {
        "id": "VzyPxI8V3IpN"
      },
      "source": [
        "### 📉 1. Load Less Data  \n",
        "\n",
        "By selecting only the necessary columns or filtering relevant rows during the data load process, we reduce memory footprint and speed up data loading. This prevents loading unnecessary information that can slow down computations.\n"
      ]
    },
    {
      "cell_type": "code",
      "source": [
        "import gc\n",
        "import time\n",
        "import psutil\n",
        "import os\n",
        "import pandas as pd\n",
        "\n",
        "def memory_usage_mb():\n",
        "    process = psutil.Process(os.getpid())\n",
        "    return process.memory_info().rss / (1024 * 1024)"
      ],
      "metadata": {
        "id": "kuR7fHtPIUT7"
      },
      "execution_count": 10,
      "outputs": []
    },
    {
      "cell_type": "code",
      "source": [
        "results_method =[]"
      ],
      "metadata": {
        "id": "rWEaBDK2xqn6"
      },
      "execution_count": 11,
      "outputs": []
    },
    {
      "cell_type": "code",
      "execution_count": 12,
      "metadata": {
        "id": "yKQxM9uo3IOs",
        "colab": {
          "base_uri": "https://localhost:8080/"
        },
        "outputId": "c1fa60de-6591-4bd6-cd77-cd5c65904baa"
      },
      "outputs": [
        {
          "output_type": "stream",
          "name": "stdout",
          "text": [
            "\n",
            "=== Result for Pandas - Load Less Data ===\n",
            "Time (s): 51.0301\n",
            "Memory Usage (MB): 1593.63\n"
          ]
        }
      ],
      "source": [
        "# Define file path and columns to read\n",
        "file_path = '/content/drive/MyDrive/nyc_parking_data/Parking_Violations_Issued_-_Fiscal_Year_2017.csv'\n",
        "cols = ['Plate ID', 'Registration State', 'Vehicle Body Type', 'Violation Code']\n",
        "\n",
        "# 1. Load Less Data\n",
        "gc.collect()\n",
        "start_mem = memory_usage_mb()\n",
        "start = time.time()\n",
        "df_pandas = pd.read_csv(file_path, usecols=cols)\n",
        "end = time.time()\n",
        "end_mem = memory_usage_mb()\n",
        "\n",
        "\n",
        "# Store result using absolute memory usage instead of delta\n",
        "load_less_result = {\n",
        "    'Library': 'Pandas',\n",
        "    'Strategy': 'Load Less Data',\n",
        "    'Time (s)': end - start,\n",
        "    'Memory Usage (MB)': end_mem  # Total memory used at the end of the process\n",
        "}\n",
        "results_method.append(load_less_result)\n",
        "\n",
        "# Print the result\n",
        "print(\"\\n=== Result for Pandas - Load Less Data ===\")\n",
        "print(f\"Time (s): {load_less_result['Time (s)']:.4f}\")\n",
        "print(f\"Memory Usage (MB): {load_less_result['Memory Usage (MB)']:.2f}\")\n"
      ]
    },
    {
      "cell_type": "markdown",
      "metadata": {
        "id": "Ec0ZdTKz7Edc"
      },
      "source": [
        "#### Print the result"
      ]
    },
    {
      "cell_type": "code",
      "execution_count": 13,
      "metadata": {
        "id": "AqBKJzu59Lx_",
        "colab": {
          "base_uri": "https://localhost:8080/"
        },
        "outputId": "cba34058-efe7-45e7-ddcf-032ff706dd82"
      },
      "outputs": [
        {
          "output_type": "stream",
          "name": "stdout",
          "text": [
            "[{'Library': 'Pandas', 'Strategy': 'Load Less Data', 'Time (s)': 51.03005337715149, 'Memory Usage (MB)': 1593.62890625}]\n"
          ]
        }
      ],
      "source": [
        "print(results_method)"
      ]
    },
    {
      "cell_type": "markdown",
      "metadata": {
        "id": "l9b15qeM3eM4"
      },
      "source": [
        "### 🧩 2. Chunking\n",
        "\n",
        "Chunking involves reading the dataset in smaller portions (chunks) instead of loading it all at once. This helps reduce peak memory usage, making it easier to handle large files on limited-resource environments.\n"
      ]
    },
    {
      "cell_type": "code",
      "execution_count": 14,
      "metadata": {
        "id": "S3oZSpPI3im2",
        "colab": {
          "base_uri": "https://localhost:8080/"
        },
        "outputId": "99301cd6-36f6-4757-817f-51c122f47218"
      },
      "outputs": [
        {
          "output_type": "stream",
          "name": "stdout",
          "text": [
            "\n",
            "=== Result for Pandas - Chunking ===\n",
            "Time (s): 0.4096\n",
            "Memory Usage (MB): 1602.97\n"
          ]
        }
      ],
      "source": [
        "# 2. Chunking\n",
        "gc.collect()\n",
        "start_mem = memory_usage_mb()\n",
        "start = time.time()\n",
        "chunk_iter = pd.read_csv(file_path, usecols=cols, chunksize=100_000)\n",
        "first_chunk = next(chunk_iter)\n",
        "end = time.time()\n",
        "end_mem = memory_usage_mb()\n",
        "\n",
        "# Store result\n",
        "chunking_result = {\n",
        "    'Library': 'Pandas',\n",
        "    'Strategy': 'Chunking',\n",
        "    'Time (s)': end - start,\n",
        "    'Memory Usage (MB)': end_mem\n",
        "}\n",
        "results_method.append(chunking_result)\n",
        "\n",
        "# Print the result\n",
        "print(\"\\n=== Result for Pandas - Chunking ===\")\n",
        "print(f\"Time (s): {chunking_result['Time (s)']:.4f}\")\n",
        "print(f\"Memory Usage (MB): {chunking_result['Memory Usage (MB)']:.2f}\")\n"
      ]
    },
    {
      "cell_type": "markdown",
      "metadata": {
        "id": "ofeBAkta9Xx3"
      },
      "source": [
        "#### Print the result"
      ]
    },
    {
      "cell_type": "code",
      "execution_count": 15,
      "metadata": {
        "id": "ErO-pooF9Z6s",
        "colab": {
          "base_uri": "https://localhost:8080/"
        },
        "outputId": "38967d34-9263-475e-f092-61ac7a31cbe1"
      },
      "outputs": [
        {
          "output_type": "stream",
          "name": "stdout",
          "text": [
            "[{'Library': 'Pandas', 'Strategy': 'Load Less Data', 'Time (s)': 51.03005337715149, 'Memory Usage (MB)': 1593.62890625}, {'Library': 'Pandas', 'Strategy': 'Chunking', 'Time (s)': 0.40964269638061523, 'Memory Usage (MB)': 1602.97265625}]\n"
          ]
        }
      ],
      "source": [
        "print(results_method)"
      ]
    },
    {
      "cell_type": "markdown",
      "metadata": {
        "id": "JdOEH0zu3xyF"
      },
      "source": [
        "### ⚙️ 3. Optimize Data Types\n",
        "\n",
        "Optimizing data types reduces memory consumption by converting columns to more effic\n"
      ]
    },
    {
      "cell_type": "code",
      "execution_count": 16,
      "metadata": {
        "id": "3IjE-ti533nh",
        "colab": {
          "base_uri": "https://localhost:8080/"
        },
        "outputId": "e948f2e4-95f1-4b7b-dac7-8c28576b5061"
      },
      "outputs": [
        {
          "output_type": "stream",
          "name": "stdout",
          "text": [
            "\n",
            "=== Result for Pandas - Optimize Data Types ===\n",
            "Time (s): 29.2043\n",
            "Memory Usage (MB): 1362.59\n"
          ]
        }
      ],
      "source": [
        "gc.collect()\n",
        "start = time.time()\n",
        "\n",
        "# Assume df_pandas_ and cols are already defined and loaded\n",
        "for c in cols:\n",
        "    if df_pandas[c].dtype == object:\n",
        "        df_pandas[c] = df_pandas[c].astype('category')\n",
        "\n",
        "end = time.time()\n",
        "end_mem = memory_usage_mb()  # absolute memory used after operation\n",
        "\n",
        "# Store the absolute memory used (not difference)\n",
        "optimize_result = {\n",
        "    'Library': 'Pandas',\n",
        "    'Strategy': 'Optimize Data Types',\n",
        "    'Time (s)': end - start,\n",
        "    'Memory Usage (MB)': end_mem\n",
        "}\n",
        "results_method.append(optimize_result)\n",
        "\n",
        "# Print out the results\n",
        "print(\"\\n=== Result for Pandas - Optimize Data Types ===\")\n",
        "print(f\"Time (s): {optimize_result['Time (s)']:.4f}\")\n",
        "print(f\"Memory Usage (MB): {optimize_result['Memory Usage (MB)']:.2f}\")\n"
      ]
    },
    {
      "cell_type": "markdown",
      "metadata": {
        "id": "PdFwDPSS7lah"
      },
      "source": [
        "#### Print the result"
      ]
    },
    {
      "cell_type": "code",
      "execution_count": 17,
      "metadata": {
        "id": "59M13S-99erC",
        "colab": {
          "base_uri": "https://localhost:8080/"
        },
        "outputId": "0c3ee5b3-c09b-4d4b-e4aa-4d69e7ec79cd"
      },
      "outputs": [
        {
          "output_type": "stream",
          "name": "stdout",
          "text": [
            "[{'Library': 'Pandas', 'Strategy': 'Load Less Data', 'Time (s)': 51.03005337715149, 'Memory Usage (MB)': 1593.62890625}, {'Library': 'Pandas', 'Strategy': 'Chunking', 'Time (s)': 0.40964269638061523, 'Memory Usage (MB)': 1602.97265625}, {'Library': 'Pandas', 'Strategy': 'Optimize Data Types', 'Time (s)': 29.204339504241943, 'Memory Usage (MB)': 1362.5859375}]\n"
          ]
        }
      ],
      "source": [
        "print (results_method)"
      ]
    },
    {
      "cell_type": "markdown",
      "metadata": {
        "id": "RL6VLLsw36ri"
      },
      "source": [
        "### 🧪 4. Sampling\n",
        "\n",
        "Sampling reduces the dataset size by selecting a representative subset of data, which accelerates prototyping and analysis without loading the full dataset into memory. Here, we take a 10% random sample.\n"
      ]
    },
    {
      "cell_type": "code",
      "execution_count": 18,
      "metadata": {
        "id": "FEhVnN5B3-Ek",
        "colab": {
          "base_uri": "https://localhost:8080/"
        },
        "outputId": "86b786ce-5002-44b0-898b-920970ef34aa"
      },
      "outputs": [
        {
          "output_type": "stream",
          "name": "stdout",
          "text": [
            "\n",
            "=== Result for Pandas - Sampling ===\n",
            "Time (s): 0.6977\n",
            "Memory Usage (MB): 1364.19\n"
          ]
        }
      ],
      "source": [
        "# 4. Sampling\n",
        "gc.collect()\n",
        "start_mem = memory_usage_mb()\n",
        "start = time.time()\n",
        "sample = df_pandas.sample(frac=0.1, random_state=42)\n",
        "end = time.time()\n",
        "end_mem = memory_usage_mb()\n",
        "\n",
        "# Store and print result\n",
        "sampling_result = {\n",
        "    'Library': 'Pandas',\n",
        "    'Strategy': 'Sampling',\n",
        "    'Time (s)': end - start,\n",
        "    'Memory Usage (MB)': end_mem\n",
        "}\n",
        "results_method.append(sampling_result)\n",
        "\n",
        "# Print the result\n",
        "print(\"\\n=== Result for Pandas - Sampling ===\")\n",
        "print(f\"Time (s): {sampling_result['Time (s)']:.4f}\")\n",
        "print(f\"Memory Usage (MB): {sampling_result['Memory Usage (MB)']:.2f}\")\n"
      ]
    },
    {
      "cell_type": "markdown",
      "metadata": {
        "id": "pJxUs5Jj8PFZ"
      },
      "source": [
        "#### Print the results"
      ]
    },
    {
      "cell_type": "code",
      "execution_count": 19,
      "metadata": {
        "id": "6l9EpRdm9pBW",
        "colab": {
          "base_uri": "https://localhost:8080/"
        },
        "outputId": "fc97395f-fe84-44fa-ab55-5b7c707a9f23"
      },
      "outputs": [
        {
          "output_type": "stream",
          "name": "stdout",
          "text": [
            "[{'Library': 'Pandas', 'Strategy': 'Load Less Data', 'Time (s)': 51.03005337715149, 'Memory Usage (MB)': 1593.62890625}, {'Library': 'Pandas', 'Strategy': 'Chunking', 'Time (s)': 0.40964269638061523, 'Memory Usage (MB)': 1602.97265625}, {'Library': 'Pandas', 'Strategy': 'Optimize Data Types', 'Time (s)': 29.204339504241943, 'Memory Usage (MB)': 1362.5859375}, {'Library': 'Pandas', 'Strategy': 'Sampling', 'Time (s)': 0.6977283954620361, 'Memory Usage (MB)': 1364.19140625}]\n"
          ]
        }
      ],
      "source": [
        "print(results_method)"
      ]
    },
    {
      "cell_type": "markdown",
      "metadata": {
        "id": "X3jFbXDr4Uic"
      },
      "source": [
        "### 🧵 5: Parallel Processing with Dask\n",
        "To improve performance on large datasets, we apply **Parallel Processing** using **Dask**, a flexible library for parallel computing in Python.\n"
      ]
    },
    {
      "cell_type": "code",
      "execution_count": 20,
      "metadata": {
        "id": "QFzIl_3v4a2_",
        "colab": {
          "base_uri": "https://localhost:8080/"
        },
        "outputId": "465ef364-445e-4c92-caf0-e067d529f8fd"
      },
      "outputs": [
        {
          "output_type": "stream",
          "name": "stdout",
          "text": [
            "\n",
            "=== Result for Pandas - Parallel Processing (Dask) ===\n",
            "Time (s): 1.5139\n",
            "Memory Usage (MB): 1612.60\n"
          ]
        }
      ],
      "source": [
        "# 5. Parallel Processing with Dask (convert pandas to dask)\n",
        "\n",
        "import dask.dataframe as dd  #\n",
        "gc.collect()\n",
        "start_mem = memory_usage_mb()\n",
        "start = time.time()\n",
        "df_dask_from_pandas = dd.from_pandas(df_pandas, npartitions=4)\n",
        "_ = df_dask_from_pandas.head(5)\n",
        "end = time.time()\n",
        "end_mem = memory_usage_mb()\n",
        "\n",
        "# Store and print result\n",
        "pp_dask_result = {\n",
        "    'Library': 'Pandas',\n",
        "    'Strategy': 'Parallel Processing (Dask)',\n",
        "    'Time (s)': end - start,\n",
        "    'Memory Usage (MB)': end_mem\n",
        "}\n",
        "results_method.append(pp_dask_result)\n",
        "\n",
        "# Print the result\n",
        "print(\"\\n=== Result for Pandas - Parallel Processing (Dask) ===\")\n",
        "print(f\"Time (s): {pp_dask_result['Time (s)']:.4f}\")\n",
        "print(f\"Memory Usage (MB): {pp_dask_result['Memory Usage (MB)']:.2f}\")\n"
      ]
    },
    {
      "cell_type": "markdown",
      "metadata": {
        "id": "zr0lNR9H-OZx"
      },
      "source": [
        "#### Print the results"
      ]
    },
    {
      "cell_type": "code",
      "execution_count": 21,
      "metadata": {
        "id": "ZXdDP59L9sxf",
        "colab": {
          "base_uri": "https://localhost:8080/"
        },
        "outputId": "fd0ea785-0fbc-46a6-9855-819131f61b7a"
      },
      "outputs": [
        {
          "output_type": "stream",
          "name": "stdout",
          "text": [
            "[{'Library': 'Pandas', 'Strategy': 'Load Less Data', 'Time (s)': 51.03005337715149, 'Memory Usage (MB)': 1593.62890625}, {'Library': 'Pandas', 'Strategy': 'Chunking', 'Time (s)': 0.40964269638061523, 'Memory Usage (MB)': 1602.97265625}, {'Library': 'Pandas', 'Strategy': 'Optimize Data Types', 'Time (s)': 29.204339504241943, 'Memory Usage (MB)': 1362.5859375}, {'Library': 'Pandas', 'Strategy': 'Sampling', 'Time (s)': 0.6977283954620361, 'Memory Usage (MB)': 1364.19140625}, {'Library': 'Pandas', 'Strategy': 'Parallel Processing (Dask)', 'Time (s)': 1.513880729675293, 'Memory Usage (MB)': 1612.6015625}]\n"
          ]
        }
      ],
      "source": [
        "print(results_method)"
      ]
    },
    {
      "cell_type": "markdown",
      "metadata": {
        "id": "JxiCPXdOAdNe"
      },
      "source": [
        "### 📊 Overall Results Summary\n",
        "After applying all five big data handling strategies, we present a consolidated comparison of their performance. This summary includes:\n",
        "\n",
        "⏱️ Execution Time: How long each strategy took to run\n",
        "\n",
        "💾 Memory Usage: Total memory consumed after the operation\n",
        "\n",
        "🛠️ Library & Strategy: Method used and associated library\n",
        "\n",
        "The goal is to evaluate the trade-offs between memory efficiency and runtime for each approach."
      ]
    },
    {
      "cell_type": "code",
      "execution_count": 22,
      "metadata": {
        "id": "d6zv2vEJ98sY",
        "colab": {
          "base_uri": "https://localhost:8080/"
        },
        "outputId": "c1a64ec7-4b16-47c6-e98b-a7887908e488"
      },
      "outputs": [
        {
          "output_type": "stream",
          "name": "stdout",
          "text": [
            "\n",
            "=== All Results in Table ===\n",
            "Library                   Strategy  Time (s)  Memory Usage (MB)\n",
            " Pandas                   Chunking  0.409643        1602.972656\n",
            " Pandas             Load Less Data 51.030053        1593.628906\n",
            " Pandas        Optimize Data Types 29.204340        1362.585938\n",
            " Pandas Parallel Processing (Dask)  1.513881        1612.601562\n",
            " Pandas                   Sampling  0.697728        1364.191406\n"
          ]
        }
      ],
      "source": [
        "results_method = pd.DataFrame(results_method)\n",
        "\n",
        "# Print table sorted by Library and Strategy (optional)\n",
        "print(\"\\n=== All Results in Table ===\")\n",
        "print(results_method.sort_values(by=[\"Library\", \"Strategy\"]).to_string(index=False))"
      ]
    },
    {
      "cell_type": "markdown",
      "metadata": {
        "id": "TpyaJ6iGBR9j"
      },
      "source": [
        "### 🧪  Performance Benchmark – Pandas vs Dask vs Polars\n",
        "\n",
        "To identify the most efficient tool for handling large-scale CSV data, we conducted a benchmark across three popular Python data-processing libraries:\n",
        "\n",
        "🔍 Compared Libraries:\n",
        "- 🐼 Pandas: The traditional go-to library for structured data analysis.\n",
        "\n",
        "- ⚡ Dask: Designed for parallel and out-of-core computations, ideal for big data.\n",
        "\n",
        "- 🧊 Polars: A lightning-fast DataFrame library optimized in Rust.\n",
        "\n",
        "⚙️ Test Setup:\n",
        "- Dataset: NYC Parking Tickets (2017)\n",
        "\n",
        "- Columns Loaded: Plate ID, Registration State, Vehicle Body Type, Violation Code\n",
        "\n",
        "Evaluation Metrics:\n",
        "\n",
        "- ⏱ Execution Time – Total time to read and preview the dataset.\n",
        "\n",
        "- 💾 Memory Usage – Difference in memory before and after loading.\n",
        "\n",
        "- 📈 Rows/Second – Speed of row processing.\n",
        "\n",
        "- 🧮 Total Rows Processed – Verifying completeness."
      ]
    },
    {
      "cell_type": "code",
      "execution_count": 23,
      "metadata": {
        "id": "KuNNIrxZn9C8",
        "colab": {
          "base_uri": "https://localhost:8080/"
        },
        "outputId": "037b727c-1459-4791-ec7a-274e0caa3149"
      },
      "outputs": [
        {
          "output_type": "stream",
          "name": "stdout",
          "text": [
            "\n",
            "=== Pandas (Baseline)===\n",
            "Time: 39.8287 sec\n",
            "Memory Used: 463.76 MB\n",
            "Rows Processed: 10,803,028\n",
            "Rows/Second: 271,237.23\n",
            "\n",
            "=== Dask (Direct Read) ===\n",
            "Time: 47.0129 sec\n",
            "Memory Used: 626.56 MB\n",
            "Rows Processed: 10,803,028\n",
            "Rows/Second: 229,788.55\n",
            "\n",
            "=== Polars (Direct Read)===\n",
            "Time: 17.5046 sec\n",
            "Memory Used: 585.52 MB\n",
            "Rows Processed: 10,803,028\n",
            "Rows/Second: 617,152.03\n",
            "\n",
            "=== Performance Summary ===\n",
            "  Library     Strategy   Time (s)  Memory (MB)  Rows Processed    Rows/Second\n",
            "0  Pandas  Direct Read  39.828707   463.757812        10803028  271237.227715\n",
            "1    Dask  Direct Read  47.012909   626.562500        10803028  229788.546265\n",
            "2  Polars  Direct Read  17.504646   585.519531        10803028  617152.030042\n"
          ]
        }
      ],
      "source": [
        "import time\n",
        "import pandas as pd\n",
        "import psutil\n",
        "import gc\n",
        "import dask.dataframe as dd\n",
        "import polars as pl\n",
        "\n",
        "file_path = '/content/drive/MyDrive/nyc_parking_data/Parking_Violations_Issued_-_Fiscal_Year_2017.csv'\n",
        "cols = ['Plate ID', 'Registration State', 'Vehicle Body Type', 'Violation Code']\n",
        "\n",
        "results = []\n",
        "\n",
        "def memory_usage_mb():\n",
        "    process = psutil.Process()\n",
        "    return process.memory_info().rss / (1024 ** 2)\n",
        "\n",
        "# ======================\n",
        "# 1. Pandas (Baseline)\n",
        "# ======================\n",
        "print(\"\\n=== Pandas (Baseline)===\")\n",
        "gc.collect()\n",
        "start_mem = memory_usage_mb()\n",
        "start_time = time.time()\n",
        "\n",
        "df_pandas = pd.read_csv(file_path, usecols=cols)\n",
        "row_count = len(df_pandas)\n",
        "_ = df_pandas.head(5)  # Force a small operation\n",
        "\n",
        "pandas_time = time.time() - start_time\n",
        "end_mem = memory_usage_mb()\n",
        "\n",
        "rows_per_sec = row_count / pandas_time\n",
        "\n",
        "results.append({\n",
        "    'Library': 'Pandas',\n",
        "    'Strategy': 'Direct Read',\n",
        "    'Time (s)': pandas_time,\n",
        "    'Memory (MB)': end_mem - start_mem,\n",
        "    'Rows Processed': row_count,\n",
        "    'Rows/Second': rows_per_sec\n",
        "})\n",
        "\n",
        "print(f\"Time: {pandas_time:.4f} sec\")\n",
        "print(f\"Memory Used: {end_mem - start_mem:.2f} MB\")\n",
        "print(f\"Rows Processed: {row_count:,}\")\n",
        "print(f\"Rows/Second: {rows_per_sec:,.2f}\")\n",
        "\n",
        "# ======================\n",
        "# 2. Dask (Direct Read)\n",
        "# ======================\n",
        "print(\"\\n=== Dask (Direct Read) ===\")\n",
        "gc.collect()\n",
        "start_mem = memory_usage_mb()\n",
        "\n",
        "df_dask_direct = dd.read_csv(file_path, usecols=cols)\n",
        "\n",
        "start_time = time.time()\n",
        "df_pandas_from_dask = df_dask_direct.compute()\n",
        "row_count = len(df_pandas_from_dask)\n",
        "dask_direct_time = time.time() - start_time\n",
        "\n",
        "end_mem = memory_usage_mb()\n",
        "rows_per_sec = row_count / dask_direct_time\n",
        "\n",
        "results.append({\n",
        "    'Library': 'Dask',\n",
        "    'Strategy': 'Direct Read',\n",
        "    'Time (s)': dask_direct_time,\n",
        "    'Memory (MB)': end_mem - start_mem,\n",
        "    'Rows Processed': row_count,\n",
        "    'Rows/Second': rows_per_sec\n",
        "})\n",
        "print(f\"Time: {dask_direct_time:.4f} sec\")\n",
        "print(f\"Memory Used: {end_mem - start_mem:.2f} MB\")\n",
        "print(f\"Rows Processed: {row_count:,}\")\n",
        "print(f\"Rows/Second: {rows_per_sec:,.2f}\")\n",
        "\n",
        "# ======================\n",
        "# 3. Polars (Direct Read)\n",
        "# ======================\n",
        "print(\"\\n=== Polars (Direct Read)===\")\n",
        "gc.collect()\n",
        "start_mem = memory_usage_mb()\n",
        "start_time = time.time()\n",
        "\n",
        "df_polars = pl.read_csv(file_path, columns=cols)\n",
        "row_count = df_polars.height\n",
        "_ = df_polars.head(5)  # Force a small operation\n",
        "\n",
        "polars_time = time.time() - start_time\n",
        "end_mem = memory_usage_mb()\n",
        "\n",
        "rows_per_sec = row_count / polars_time\n",
        "\n",
        "results.append({\n",
        "    'Library': 'Polars',\n",
        "    'Strategy': 'Direct Read',\n",
        "    'Time (s)': polars_time,\n",
        "    'Memory (MB)': end_mem - start_mem,\n",
        "    'Rows Processed': row_count,\n",
        "    'Rows/Second': rows_per_sec\n",
        "})\n",
        "\n",
        "print(f\"Time: {polars_time:.4f} sec\")\n",
        "print(f\"Memory Used: {end_mem - start_mem:.2f} MB\")\n",
        "print(f\"Rows Processed: {row_count:,}\")\n",
        "print(f\"Rows/Second: {rows_per_sec:,.2f}\")\n",
        "\n",
        "# ======================\n",
        "# Results Summary\n",
        "# ======================\n",
        "print(\"\\n=== Performance Summary ===\")\n",
        "results = pd.DataFrame(results)\n",
        "print(results)"
      ]
    },
    {
      "cell_type": "markdown",
      "metadata": {
        "id": "tX8G8_w5AsRZ"
      },
      "source": [
        "## 📊 Task 4: Comparative Analysis"
      ]
    },
    {
      "cell_type": "markdown",
      "metadata": {
        "id": "ALv2jAnSCc9f"
      },
      "source": [
        "### 1. Comparative Results Summary for Big Data Handling Methods\n",
        "\n",
        "This section presents the performance summary of five different data handling strategies applied on the dataset using Pandas\n",
        "\n",
        "- ⏱️ Fastest Execution Time First\n",
        "Highlights which strategy completes the data loading and processing tasks most quickly. Speed is crucial when working with large datasets or under time-sensitive conditions.\n",
        "\n",
        "- 💾 Lowest Memory Usage First\n",
        "Emphasizes memory efficiency, which is vital for processing large datasets on machines with limited RAM or when optimizing resource usage.\n",
        "\n",
        "The results table includes:\n",
        "\n",
        "- Library: The library used (e.g., Pandas)\n",
        "\n",
        "- Strategy: The big data handling method (e.g., Load Less Data, Chunking, Sampling, etc.)\n",
        "\n",
        "- Time (s): Total execution time in seconds\n",
        "\n",
        "- Memory Usage (MB): Peak memory consumption during the task"
      ]
    },
    {
      "cell_type": "code",
      "execution_count": 24,
      "metadata": {
        "id": "bcR2ovFR6szK",
        "colab": {
          "base_uri": "https://localhost:8080/"
        },
        "outputId": "2a64be98-7e7b-433b-c8db-b1a79b2780e1"
      },
      "outputs": [
        {
          "output_type": "stream",
          "name": "stdout",
          "text": [
            "\n",
            "=== Results Sorted by Time (Fastest First) ===\n",
            "Library                   Strategy  Time (s)  Memory Usage (MB)\n",
            " Pandas                   Chunking  0.409643        1602.972656\n",
            " Pandas                   Sampling  0.697728        1364.191406\n",
            " Pandas Parallel Processing (Dask)  1.513881        1612.601562\n",
            " Pandas        Optimize Data Types 29.204340        1362.585938\n",
            " Pandas             Load Less Data 51.030053        1593.628906\n",
            "\n",
            "=== Results Sorted by Memory Usage (Lowest First) ===\n",
            "Library                   Strategy  Time (s)  Memory Usage (MB)\n",
            " Pandas        Optimize Data Types 29.204340        1362.585938\n",
            " Pandas                   Sampling  0.697728        1364.191406\n",
            " Pandas             Load Less Data 51.030053        1593.628906\n",
            " Pandas                   Chunking  0.409643        1602.972656\n",
            " Pandas Parallel Processing (Dask)  1.513881        1612.601562\n"
          ]
        }
      ],
      "source": [
        "\n",
        "# Sort by Time\n",
        "print(\"\\n=== Results Sorted by Time (Fastest First) ===\")\n",
        "print(results_method.sort_values(by=\"Time (s)\").to_string(index=False))\n",
        "\n",
        "# Sort by Memory\n",
        "print(\"\\n=== Results Sorted by Memory Usage (Lowest First) ===\")\n",
        "print(results_method.sort_values(by=\"Memory Usage (MB)\").to_string(index=False))\n"
      ]
    },
    {
      "cell_type": "code",
      "execution_count": 25,
      "metadata": {
        "id": "lrAQeJtl7EJF",
        "colab": {
          "base_uri": "https://localhost:8080/",
          "height": 597
        },
        "outputId": "a4d3d5ff-77e3-4dfb-c973-9eacd12ff7d7"
      },
      "outputs": [
        {
          "output_type": "display_data",
          "data": {
            "text/plain": [
              "<Figure size 700x300 with 1 Axes>"
            ],
            "image/png": "[encoded data removed]"
          },
          "metadata": {}
        },
        {
          "output_type": "display_data",
          "data": {
            "text/plain": [
              "<Figure size 700x300 with 1 Axes>"
            ],
            "image/png": "[encoded data removed]"
          },
          "metadata": {}
        }
      ],
      "source": [
        "import matplotlib.pyplot as plt\n",
        "\n",
        "# Sort for consistent plotting\n",
        "results_sorted = results_method.sort_values(by=\"Time (s)\")\n",
        "\n",
        "# Bar chart: Execution Time\n",
        "plt.figure(figsize=(7, 3))\n",
        "plt.barh(results_sorted[\"Strategy\"] + \" (\" + results_sorted[\"Library\"] + \")\", results_sorted[\"Time (s)\"], color='skyblue')\n",
        "plt.xlabel(\"Time (s)\")\n",
        "plt.title(\"Execution Time by Strategy\")\n",
        "plt.grid(True, axis='x', linestyle='--', alpha=0.5)\n",
        "plt.tight_layout()\n",
        "plt.show()\n",
        "\n",
        "# Bar chart: Memory Usage\n",
        "results_sorted = results_method.sort_values(by=\"Memory Usage (MB)\")\n",
        "\n",
        "plt.figure(figsize=(7, 3))\n",
        "plt.barh(results_sorted[\"Strategy\"] + \" (\" + results_sorted[\"Library\"] + \")\", results_sorted[\"Memory Usage (MB)\"], color='salmon')\n",
        "plt.xlabel(\"Memory Usage (MB)\")\n",
        "plt.title(\"Memory Usage by Strategy\")\n",
        "plt.grid(True, axis='x', linestyle='--', alpha=0.5)\n",
        "plt.tight_layout()\n",
        "plt.show()\n"
      ]
    },
    {
      "cell_type": "code",
      "execution_count": 26,
      "metadata": {
        "id": "IvX_UW_V6wgx",
        "colab": {
          "base_uri": "https://localhost:8080/"
        },
        "outputId": "20acbdf1-f886-4322-cb91-66f3dc5e96bc"
      },
      "outputs": [
        {
          "output_type": "stream",
          "name": "stdout",
          "text": [
            "\n",
            "=== All Results with Composite Scores ===\n",
            "Library                   Strategy  Time (s)  Memory Usage (MB)  Time Score  Memory Score  Composite Score\n",
            " Pandas                   Sampling  0.697728        1364.191406    0.005691      0.006421         0.006056\n",
            " Pandas        Optimize Data Types 29.204340        1362.585938    0.568836      0.000000         0.284418\n",
            " Pandas                   Chunking  0.409643        1602.972656    0.000000      0.961487         0.480743\n",
            " Pandas Parallel Processing (Dask)  1.513881        1612.601562    0.021814      1.000000         0.510907\n",
            " Pandas             Load Less Data 51.030053        1593.628906    1.000000      0.924114         0.962057\n",
            "\n",
            "🏆 Best Method Based on Time and Memory:\n",
            "Library: Pandas\n",
            "Strategy: Sampling\n",
            "Time (s): 0.6977\n",
            "Memory Usage (MB): 1364.19\n",
            "Composite Score: 0.0061\n"
          ]
        }
      ],
      "source": [
        "import pandas as pd\n",
        "from sklearn.preprocessing import MinMaxScaler\n",
        "\n",
        "\n",
        "# Normalize Time and Memory Usage to 0–1 scale (lower is better)\n",
        "scaler = MinMaxScaler()\n",
        "results_method[[\"Time Score\", \"Memory Score\"]] = scaler.fit_transform(\n",
        "    results_method[[\"Time (s)\", \"Memory Usage (MB)\"]]\n",
        ")\n",
        "\n",
        "# Composite Score = Weighted average (equal weight here, or adjust if needed)\n",
        "results_method[\"Composite Score\"] = (results_method[\"Time Score\"] + results_method[\"Memory Score\"]) / 2\n",
        "\n",
        "# Get best method (lowest composite score)\n",
        "best_row = results_method.loc[results_method[\"Composite Score\"].idxmin()]\n",
        "\n",
        "# Print full results with scores\n",
        "print(\"\\n=== All Results with Composite Scores ===\")\n",
        "print(results_method.sort_values(by=\"Composite Score\").to_string(index=False))\n",
        "\n",
        "# Print the best method\n",
        "print(\"\\n🏆 Best Method Based on Time and Memory:\")\n",
        "print(f\"Library: {best_row['Library']}\")\n",
        "print(f\"Strategy: {best_row['Strategy']}\")\n",
        "print(f\"Time (s): {best_row['Time (s)']:.4f}\")\n",
        "print(f\"Memory Usage (MB): {best_row['Memory Usage (MB)']:.2f}\")\n",
        "print(f\"Composite Score: {best_row['Composite Score']:.4f}\")\n"
      ]
    },
    {
      "cell_type": "markdown",
      "metadata": {
        "id": "TRNwoeIC7WCv"
      },
      "source": [
        "### 2. Comparative Results Summary for Different Library\n",
        "\n",
        "Below are to illustrating the efficiency of different data handling using pandas, dask and polars methods across the following metrics:\n",
        "\n",
        "- ⏱ Execution Time: How fast each method processes the dataset (lower is better).\n",
        "\n",
        "- 🧠 Memory Usage: Amount of memory consumed during processing (lower is better).\n",
        "\n",
        "- ⚡ Processing Speed: Number of rows processed per second (higher is better)."
      ]
    },
    {
      "cell_type": "code",
      "execution_count": 27,
      "metadata": {
        "id": "EXUlaZfyqMz-",
        "colab": {
          "base_uri": "https://localhost:8080/",
          "height": 707
        },
        "outputId": "c4bf3b81-1816-4ac3-fadb-4622de902c9e"
      },
      "outputs": [
        {
          "output_type": "display_data",
          "data": {
            "text/plain": [
              "<Figure size 500x700 with 3 Axes>"
            ],
            "image/png": "[encoded data removed]"
          },
          "metadata": {}
        }
      ],
      "source": [
        "!pip install matplotlib seaborn --quiet  # Only needed in Colab/Jupyter\n",
        "import matplotlib.pyplot as plt\n",
        "import seaborn as sns\n",
        "\n",
        "# Set style for better visuals\n",
        "sns.set_style(\"whitegrid\")\n",
        "plt.figure(figsize=(5, 7))\n",
        "\n",
        "# ======================\n",
        "# 1. Time Comparison (Lower is Better)\n",
        "# ======================\n",
        "plt.subplot(3, 1, 1)\n",
        "sns.barplot(data=results, x='Library', y='Time (s)', hue='Strategy', palette='viridis')\n",
        "plt.title('Execution Time Comparison (Lower is Better)')\n",
        "plt.ylabel('Time (seconds)')\n",
        "\n",
        "# ======================\n",
        "# 2. Memory Usage (Lower is Better)\n",
        "# ======================\n",
        "plt.subplot(3, 1, 2)\n",
        "sns.barplot(data=results, x='Library', y='Memory (MB)', hue='Strategy', palette='magma')\n",
        "plt.title('Memory Usage Comparison (Lower is Better)')\n",
        "plt.ylabel('Memory (MB)')\n",
        "\n",
        "# ======================\n",
        "# 3. Rows Processed Per Second (Higher is Better)\n",
        "# ======================\n",
        "plt.subplot(3, 1, 3)\n",
        "sns.barplot(data=results, x='Library', y='Rows/Second', hue='Strategy', palette='plasma')\n",
        "plt.title('Processing Speed (Rows/Second, Higher is Better)')\n",
        "plt.ylabel('Rows/Second')\n",
        "\n",
        "plt.tight_layout()\n",
        "plt.show()"
      ]
    },
    {
      "cell_type": "code",
      "execution_count": 28,
      "metadata": {
        "id": "GL74XWIirG6T",
        "colab": {
          "base_uri": "https://localhost:8080/"
        },
        "outputId": "9d8d716c-dbb5-47e8-fdac-d48d53456314"
      },
      "outputs": [
        {
          "output_type": "stream",
          "name": "stdout",
          "text": [
            "\n",
            "=== Detailed Scoring ===\n",
            "  Library  Time_Norm  Memory_Norm  Speed_Norm  Total_Score\n",
            "0  Pandas      0.010        0.001       0.132        0.143\n",
            "1    Dask      0.009        0.000       0.112        0.121\n",
            "2  Polars      0.023        0.001       0.300        0.323\n",
            "\n",
            "=== FINAL VERDICT ===\n",
            "🔥 BEST OVERALL LIBRARY: POLARS 🔥\n",
            "• Combined Score: 0.323\n",
            "• Time Performance: 17.50x better than average\n",
            "• Memory Efficiency: 585.52x better than average\n",
            "• Processing Speed: 1.00x better than average\n"
          ]
        }
      ],
      "source": [
        "# Calculate weighted scores (adjust weights if needed)\n",
        "TIME_WEIGHT = 0.4    # Speed is most important\n",
        "MEMORY_WEIGHT = 0.3  # Memory efficiency matters\n",
        "SPEED_WEIGHT = 0.3   # Throughput is important\n",
        "\n",
        "# Normalize and weight each metric\n",
        "results['Time_Norm'] = 1 / results['Time (s)'] * TIME_WEIGHT\n",
        "results['Memory_Norm'] = 1 / results['Memory (MB)'] * MEMORY_WEIGHT\n",
        "results['Speed_Norm'] = results['Rows/Second'] / results['Rows/Second'].max() * SPEED_WEIGHT\n",
        "\n",
        "# Calculate total score\n",
        "results['Total_Score'] = results['Time_Norm'] + results['Memory_Norm'] + results['Speed_Norm']\n",
        "\n",
        "# Find the overall winner\n",
        "overall_winner = results.loc[results['Total_Score'].idxmax()]\n",
        "\n",
        "print(\"\\n=== Detailed Scoring ===\")\n",
        "print(results[['Library', 'Time_Norm', 'Memory_Norm', 'Speed_Norm', 'Total_Score']].round(3))\n",
        "\n",
        "print(\"\\n=== FINAL VERDICT ===\")\n",
        "print(f\"🔥 BEST OVERALL LIBRARY: {overall_winner['Library'].upper()} 🔥\")\n",
        "print(f\"• Combined Score: {overall_winner['Total_Score']:.3f}\")\n",
        "print(f\"• Time Performance: {1/overall_winner['Time_Norm']*TIME_WEIGHT:.2f}x better than average\")\n",
        "print(f\"• Memory Efficiency: {1/overall_winner['Memory_Norm']*MEMORY_WEIGHT:.2f}x better than average\")\n",
        "print(f\"• Processing Speed: {overall_winner['Speed_Norm']/SPEED_WEIGHT:.2f}x better than average\")"
      ]
    }
  ],
  "metadata": {
    "colab": {
      "provenance": []
    },
    "kernelspec": {
      "display_name": "Python 3",
      "name": "python3"
    },
    "language_info": {
      "name": "python"
    }
  },
  "nbformat": 4,
  "nbformat_minor": 0
}