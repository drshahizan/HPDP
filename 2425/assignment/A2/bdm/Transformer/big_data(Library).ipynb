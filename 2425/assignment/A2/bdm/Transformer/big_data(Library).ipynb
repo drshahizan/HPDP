{
  "nbformat": 4,
  "nbformat_minor": 0,
  "metadata": {
    "colab": {
      "provenance": []
    },
    "kernelspec": {
      "name": "python3",
      "display_name": "Python 3"
    },
    "language_info": {
      "name": "python"
    }
  },
  "cells": [
    {
      "cell_type": "markdown",
      "source": [
        "# **📘 Assignment 2: Mastering Big Data Handling**\n",
        "\n",
        "TIEW CHUAN RONG\n",
        "\n",
        "DANIAL HARRIZ BIN MOHD ASINEH @MOHD ASNEH"
      ],
      "metadata": {
        "id": "6_oArT32YV00"
      }
    },
    {
      "cell_type": "markdown",
      "source": [
        "**Install kagglehub[pandas-datasets]:**\n",
        "\n",
        "-Installs the core kagglehub package, which can download and use datasets hosted on Kaggle using code and support loading datasets as Pandas DataFrames."
      ],
      "metadata": {
        "id": "nQPT6ZaAiUD5"
      }
    },
    {
      "cell_type": "code",
      "execution_count": 5,
      "metadata": {
        "colab": {
          "base_uri": "https://localhost:8080/"
        },
        "id": "yRF8XG0rg-Ix",
        "outputId": "7b1a16f8-016d-4ed8-e85f-4418e6d70fbf"
      },
      "outputs": [
        {
          "output_type": "stream",
          "name": "stdout",
          "text": [
            "Requirement already satisfied: kagglehub[pandas-datasets] in /usr/local/lib/python3.11/dist-packages (0.3.12)\n",
            "Requirement already satisfied: packaging in /usr/local/lib/python3.11/dist-packages (from kagglehub[pandas-datasets]) (24.2)\n",
            "Requirement already satisfied: pyyaml in /usr/local/lib/python3.11/dist-packages (from kagglehub[pandas-datasets]) (6.0.2)\n",
            "Requirement already satisfied: requests in /usr/local/lib/python3.11/dist-packages (from kagglehub[pandas-datasets]) (2.32.3)\n",
            "Requirement already satisfied: tqdm in /usr/local/lib/python3.11/dist-packages (from kagglehub[pandas-datasets]) (4.67.1)\n",
            "Requirement already satisfied: pandas in /usr/local/lib/python3.11/dist-packages (from kagglehub[pandas-datasets]) (2.2.2)\n",
            "Requirement already satisfied: numpy>=1.23.2 in /usr/local/lib/python3.11/dist-packages (from pandas->kagglehub[pandas-datasets]) (2.0.2)\n",
            "Requirement already satisfied: python-dateutil>=2.8.2 in /usr/local/lib/python3.11/dist-packages (from pandas->kagglehub[pandas-datasets]) (2.9.0.post0)\n",
            "Requirement already satisfied: pytz>=2020.1 in /usr/local/lib/python3.11/dist-packages (from pandas->kagglehub[pandas-datasets]) (2025.2)\n",
            "Requirement already satisfied: tzdata>=2022.7 in /usr/local/lib/python3.11/dist-packages (from pandas->kagglehub[pandas-datasets]) (2025.2)\n",
            "Requirement already satisfied: charset-normalizer<4,>=2 in /usr/local/lib/python3.11/dist-packages (from requests->kagglehub[pandas-datasets]) (3.4.2)\n",
            "Requirement already satisfied: idna<4,>=2.5 in /usr/local/lib/python3.11/dist-packages (from requests->kagglehub[pandas-datasets]) (3.10)\n",
            "Requirement already satisfied: urllib3<3,>=1.21.1 in /usr/local/lib/python3.11/dist-packages (from requests->kagglehub[pandas-datasets]) (2.4.0)\n",
            "Requirement already satisfied: certifi>=2017.4.17 in /usr/local/lib/python3.11/dist-packages (from requests->kagglehub[pandas-datasets]) (2025.4.26)\n",
            "Requirement already satisfied: six>=1.5 in /usr/local/lib/python3.11/dist-packages (from python-dateutil>=2.8.2->pandas->kagglehub[pandas-datasets]) (1.17.0)\n"
          ]
        }
      ],
      "source": [
        "!pip install kagglehub[pandas-datasets]"
      ]
    },
    {
      "cell_type": "markdown",
      "source": [
        "**Install kaggle:**\n",
        "\n",
        "This is used to install the official Kaggle API Python package called kaggle."
      ],
      "metadata": {
        "id": "w9udcABqib0F"
      }
    },
    {
      "cell_type": "code",
      "source": [
        "!pip install kaggle"
      ],
      "metadata": {
        "colab": {
          "base_uri": "https://localhost:8080/"
        },
        "id": "5nPXT9rIiMZl",
        "outputId": "e6aa2708-f78c-4634-c0c8-2f2973e4e506"
      },
      "execution_count": 6,
      "outputs": [
        {
          "output_type": "stream",
          "name": "stdout",
          "text": [
            "Requirement already satisfied: kaggle in /usr/local/lib/python3.11/dist-packages (1.7.4.5)\n",
            "Requirement already satisfied: bleach in /usr/local/lib/python3.11/dist-packages (from kaggle) (6.2.0)\n",
            "Requirement already satisfied: certifi>=14.05.14 in /usr/local/lib/python3.11/dist-packages (from kaggle) (2025.4.26)\n",
            "Requirement already satisfied: charset-normalizer in /usr/local/lib/python3.11/dist-packages (from kaggle) (3.4.2)\n",
            "Requirement already satisfied: idna in /usr/local/lib/python3.11/dist-packages (from kaggle) (3.10)\n",
            "Requirement already satisfied: protobuf in /usr/local/lib/python3.11/dist-packages (from kaggle) (5.29.4)\n",
            "Requirement already satisfied: python-dateutil>=2.5.3 in /usr/local/lib/python3.11/dist-packages (from kaggle) (2.9.0.post0)\n",
            "Requirement already satisfied: python-slugify in /usr/local/lib/python3.11/dist-packages (from kaggle) (8.0.4)\n",
            "Requirement already satisfied: requests in /usr/local/lib/python3.11/dist-packages (from kaggle) (2.32.3)\n",
            "Requirement already satisfied: setuptools>=21.0.0 in /usr/local/lib/python3.11/dist-packages (from kaggle) (75.2.0)\n",
            "Requirement already satisfied: six>=1.10 in /usr/local/lib/python3.11/dist-packages (from kaggle) (1.17.0)\n",
            "Requirement already satisfied: text-unidecode in /usr/local/lib/python3.11/dist-packages (from kaggle) (1.3)\n",
            "Requirement already satisfied: tqdm in /usr/local/lib/python3.11/dist-packages (from kaggle) (4.67.1)\n",
            "Requirement already satisfied: urllib3>=1.15.1 in /usr/local/lib/python3.11/dist-packages (from kaggle) (2.4.0)\n",
            "Requirement already satisfied: webencodings in /usr/local/lib/python3.11/dist-packages (from kaggle) (0.5.1)\n"
          ]
        }
      ]
    },
    {
      "cell_type": "markdown",
      "source": [
        "**Upload kaggle.json:**\n",
        "\n",
        "This is the API token file that contains user Kaggle credentials.As Kaggle requires authentication for most API operations to verify user. To permission to download datasets"
      ],
      "metadata": {
        "id": "GdCrNdQkiiYJ"
      }
    },
    {
      "cell_type": "code",
      "source": [
        "from google.colab import files\n",
        "files.upload()  # Select the kaggle.json file"
      ],
      "metadata": {
        "colab": {
          "base_uri": "https://localhost:8080/",
          "height": 91
        },
        "id": "VqQMp_HbiO1s",
        "outputId": "134fdcde-ea14-4faa-c3b0-e07dceb0ac35"
      },
      "execution_count": 7,
      "outputs": [
        {
          "output_type": "display_data",
          "data": {
            "text/plain": [
              "<IPython.core.display.HTML object>"
            ],
            "text/html": [
              "\n",
              "     <input type=\"file\" id=\"files-28436ff0-3be0-4662-9649-ac7ad1dc4cbd\" name=\"files[]\" multiple disabled\n",
              "        style=\"border:none\" />\n",
              "     <output id=\"result-28436ff0-3be0-4662-9649-ac7ad1dc4cbd\">\n",
              "      Upload widget is only available when the cell has been executed in the\n",
              "      current browser session. Please rerun this cell to enable.\n",
              "      </output>\n",
              "      <script>// Copyright 2017 Google LLC\n",
              "//\n",
              "// Licensed under the Apache License, Version 2.0 (the \"License\");\n",
              "// you may not use this file except in compliance with the License.\n",
              "// You may obtain a copy of the License at\n",
              "//\n",
              "//      http://www.apache.org/licenses/LICENSE-2.0\n",
              "//\n",
              "// Unless required by applicable law or agreed to in writing, software\n",
              "// distributed under the License is distributed on an \"AS IS\" BASIS,\n",
              "// WITHOUT WARRANTIES OR CONDITIONS OF ANY KIND, either express or implied.\n",
              "// See the License for the specific language governing permissions and\n",
              "// limitations under the License.\n",
              "\n",
              "/**\n",
              " * @fileoverview Helpers for google.colab Python module.\n",
              " */\n",
              "(function(scope) {\n",
              "function span(text, styleAttributes = {}) {\n",
              "  const element = document.createElement('span');\n",
              "  element.textContent = text;\n",
              "  for (const key of Object.keys(styleAttributes)) {\n",
              "    element.style[key] = styleAttributes[key];\n",
              "  }\n",
              "  return element;\n",
              "}\n",
              "\n",
              "// Max number of bytes which will be uploaded at a time.\n",
              "const MAX_PAYLOAD_SIZE = 100 * 1024;\n",
              "\n",
              "function _uploadFiles(inputId, outputId) {\n",
              "  const steps = uploadFilesStep(inputId, outputId);\n",
              "  const outputElement = document.getElementById(outputId);\n",
              "  // Cache steps on the outputElement to make it available for the next call\n",
              "  // to uploadFilesContinue from Python.\n",
              "  outputElement.steps = steps;\n",
              "\n",
              "  return _uploadFilesContinue(outputId);\n",
              "}\n",
              "\n",
              "// This is roughly an async generator (not supported in the browser yet),\n",
              "// where there are multiple asynchronous steps and the Python side is going\n",
              "// to poll for completion of each step.\n",
              "// This uses a Promise to block the python side on completion of each step,\n",
              "// then passes the result of the previous step as the input to the next step.\n",
              "function _uploadFilesContinue(outputId) {\n",
              "  const outputElement = document.getElementById(outputId);\n",
              "  const steps = outputElement.steps;\n",
              "\n",
              "  const next = steps.next(outputElement.lastPromiseValue);\n",
              "  return Promise.resolve(next.value.promise).then((value) => {\n",
              "    // Cache the last promise value to make it available to the next\n",
              "    // step of the generator.\n",
              "    outputElement.lastPromiseValue = value;\n",
              "    return next.value.response;\n",
              "  });\n",
              "}\n",
              "\n",
              "/**\n",
              " * Generator function which is called between each async step of the upload\n",
              " * process.\n",
              " * @param {string} inputId Element ID of the input file picker element.\n",
              " * @param {string} outputId Element ID of the output display.\n",
              " * @return {!Iterable<!Object>} Iterable of next steps.\n",
              " */\n",
              "function* uploadFilesStep(inputId, outputId) {\n",
              "  const inputElement = document.getElementById(inputId);\n",
              "  inputElement.disabled = false;\n",
              "\n",
              "  const outputElement = document.getElementById(outputId);\n",
              "  outputElement.innerHTML = '';\n",
              "\n",
              "  const pickedPromise = new Promise((resolve) => {\n",
              "    inputElement.addEventListener('change', (e) => {\n",
              "      resolve(e.target.files);\n",
              "    });\n",
              "  });\n",
              "\n",
              "  const cancel = document.createElement('button');\n",
              "  inputElement.parentElement.appendChild(cancel);\n",
              "  cancel.textContent = 'Cancel upload';\n",
              "  const cancelPromise = new Promise((resolve) => {\n",
              "    cancel.onclick = () => {\n",
              "      resolve(null);\n",
              "    };\n",
              "  });\n",
              "\n",
              "  // Wait for the user to pick the files.\n",
              "  const files = yield {\n",
              "    promise: Promise.race([pickedPromise, cancelPromise]),\n",
              "    response: {\n",
              "      action: 'starting',\n",
              "    }\n",
              "  };\n",
              "\n",
              "  cancel.remove();\n",
              "\n",
              "  // Disable the input element since further picks are not allowed.\n",
              "  inputElement.disabled = true;\n",
              "\n",
              "  if (!files) {\n",
              "    return {\n",
              "      response: {\n",
              "        action: 'complete',\n",
              "      }\n",
              "    };\n",
              "  }\n",
              "\n",
              "  for (const file of files) {\n",
              "    const li = document.createElement('li');\n",
              "    li.append(span(file.name, {fontWeight: 'bold'}));\n",
              "    li.append(span(\n",
              "        `(${file.type || 'n/a'}) - ${file.size} bytes, ` +\n",
              "        `last modified: ${\n",
              "            file.lastModifiedDate ? file.lastModifiedDate.toLocaleDateString() :\n",
              "                                    'n/a'} - `));\n",
              "    const percent = span('0% done');\n",
              "    li.appendChild(percent);\n",
              "\n",
              "    outputElement.appendChild(li);\n",
              "\n",
              "    const fileDataPromise = new Promise((resolve) => {\n",
              "      const reader = new FileReader();\n",
              "      reader.onload = (e) => {\n",
              "        resolve(e.target.result);\n",
              "      };\n",
              "      reader.readAsArrayBuffer(file);\n",
              "    });\n",
              "    // Wait for the data to be ready.\n",
              "    let fileData = yield {\n",
              "      promise: fileDataPromise,\n",
              "      response: {\n",
              "        action: 'continue',\n",
              "      }\n",
              "    };\n",
              "\n",
              "    // Use a chunked sending to avoid message size limits. See b/62115660.\n",
              "    let position = 0;\n",
              "    do {\n",
              "      const length = Math.min(fileData.byteLength - position, MAX_PAYLOAD_SIZE);\n",
              "      const chunk = new Uint8Array(fileData, position, length);\n",
              "      position += length;\n",
              "\n",
              "      const base64 = btoa(String.fromCharCode.apply(null, chunk));\n",
              "      yield {\n",
              "        response: {\n",
              "          action: 'append',\n",
              "          file: file.name,\n",
              "          data: base64,\n",
              "        },\n",
              "      };\n",
              "\n",
              "      let percentDone = fileData.byteLength === 0 ?\n",
              "          100 :\n",
              "          Math.round((position / fileData.byteLength) * 100);\n",
              "      percent.textContent = `${percentDone}% done`;\n",
              "\n",
              "    } while (position < fileData.byteLength);\n",
              "  }\n",
              "\n",
              "  // All done.\n",
              "  yield {\n",
              "    response: {\n",
              "      action: 'complete',\n",
              "    }\n",
              "  };\n",
              "}\n",
              "\n",
              "scope.google = scope.google || {};\n",
              "scope.google.colab = scope.google.colab || {};\n",
              "scope.google.colab._files = {\n",
              "  _uploadFiles,\n",
              "  _uploadFilesContinue,\n",
              "};\n",
              "})(self);\n",
              "</script> "
            ]
          },
          "metadata": {}
        },
        {
          "output_type": "stream",
          "name": "stdout",
          "text": [
            "Saving kaggle.json to kaggle.json\n"
          ]
        },
        {
          "output_type": "execute_result",
          "data": {
            "text/plain": [
              "{'kaggle.json': b'{\"username\":\"tiewrong\",\"key\":\"ff4f31306f849e9c50230749305a156a\"}'}"
            ]
          },
          "metadata": {},
          "execution_count": 7
        }
      ]
    },
    {
      "cell_type": "code",
      "source": [
        "!mkdir -p ~/.kaggle\n",
        "!cp kaggle.json ~/.kaggle/\n",
        "!chmod 600 ~/.kaggle/kaggle.json"
      ],
      "metadata": {
        "id": "awekBIe1iyNp"
      },
      "execution_count": 8,
      "outputs": []
    },
    {
      "cell_type": "markdown",
      "source": [
        "# **Task1: Dataset selection**"
      ],
      "metadata": {
        "id": "5XW8E0vgj1K0"
      }
    },
    {
      "cell_type": "markdown",
      "source": [
        "**Download dataset:**\n",
        "\n",
        "Dowload dataset from kaggle using kaggle command. We download from ismetsemedov/transactions. Then, unzip the zip file downloaded."
      ],
      "metadata": {
        "id": "PQmbnZQAjQ5R"
      }
    },
    {
      "cell_type": "code",
      "source": [
        "!kaggle datasets download ismetsemedov/transactions --unzip -p ./transactions"
      ],
      "metadata": {
        "colab": {
          "base_uri": "https://localhost:8080/"
        },
        "id": "oMpyWOVUjUO7",
        "outputId": "f195cbd7-7da6-439a-806e-bafb37e7056e"
      },
      "execution_count": 9,
      "outputs": [
        {
          "output_type": "stream",
          "name": "stdout",
          "text": [
            "Dataset URL: https://www.kaggle.com/datasets/ismetsemedov/transactions\n",
            "License(s): apache-2.0\n",
            "Downloading transactions.zip to ./transactions\n",
            " 91% 687M/754M [00:04<00:01, 48.4MB/s]\n",
            "100% 754M/754M [00:04<00:00, 181MB/s] \n"
          ]
        }
      ]
    },
    {
      "cell_type": "markdown",
      "source": [
        "# **Task 2: Load and Inspect Data using different library**"
      ],
      "metadata": {
        "id": "pRqymy-BkD7l"
      }
    },
    {
      "cell_type": "markdown",
      "source": [
        "**Load the data using Pandas library:**\n",
        "\n",
        "Load the data normally using pandas library with pd.read_csv(). Then record the processing time and memory usage."
      ],
      "metadata": {
        "id": "MG0HqW1sXzTj"
      }
    },
    {
      "cell_type": "code",
      "source": [
        "import pandas as pd\n",
        "import time\n",
        "import psutil\n",
        "import os\n",
        "\n",
        "file_path = './transactions/synthetic_fraud_data.csv'\n",
        "\n",
        "process = psutil.Process(os.getpid())\n",
        "\n",
        "# Measure memory before loading\n",
        "start_time = time.time()\n",
        "\n",
        "# Read in chunks\n",
        "df1 = pd.read_csv(file_path)\n",
        "\n",
        "end_time = time.time()\n",
        "time_pandas= end_time - start_time\n",
        "mem_pandas =df1.memory_usage(deep=True).sum() / (1024**2)  # in MB\n",
        "\n",
        "# Results\n",
        "\n",
        "print(f\"Processing Time: {time_pandas:.2f} seconds\")\n",
        "print(f\"Memory Usage Increase: {mem_pandas:.2f} MB\")\n"
      ],
      "metadata": {
        "colab": {
          "base_uri": "https://localhost:8080/"
        },
        "id": "zIDNiVG2YDCz",
        "outputId": "52e5413b-b978-4562-d214-92713291aab7"
      },
      "execution_count": 1,
      "outputs": [
        {
          "output_type": "stream",
          "name": "stdout",
          "text": [
            "Processing Time: 106.48 seconds\n",
            "Memory Usage Increase: 9062.15 MB\n"
          ]
        }
      ]
    },
    {
      "cell_type": "markdown",
      "source": [
        "**Load the data using Polars library:**\n",
        "\n",
        "Polars is a fast library that reads (pl.read_csv()) data quickly by using multiple CPU threads at the same time."
      ],
      "metadata": {
        "id": "SDBAHAZajdlF"
      }
    },
    {
      "cell_type": "code",
      "source": [
        "import polars as pl\n",
        "import time\n",
        "import psutil\n",
        "import os\n",
        "\n",
        "file_path = './transactions/synthetic_fraud_data.csv'\n",
        "process = psutil.Process(os.getpid())\n",
        "\n",
        "# Measure memory before loading\n",
        "\n",
        "start_time = time.time()\n",
        "\n",
        "# Read the CSV using Polars (very fast and memory-efficient)\n",
        "df2 = pl.read_csv(file_path)\n",
        "\n",
        "end_time = time.time()\n",
        "time_polars = end_time - start_time\n",
        "mem_polars = df2.estimated_size() / (1024**2)\n",
        "\n",
        "# Output results\n",
        "print(f\"DataFrame shape: {df2.shape}\")\n",
        "print(f\"Processing Time: {time_polars:.2f} seconds\")\n",
        "print(f\"Memory Usage Increase: {mem_polars:.2f} MB\")\n"
      ],
      "metadata": {
        "colab": {
          "base_uri": "https://localhost:8080/"
        },
        "id": "9znYq-G0jp7N",
        "outputId": "be967847-e8ab-4342-deb2-5acad69a1ce1"
      },
      "execution_count": 2,
      "outputs": [
        {
          "output_type": "stream",
          "name": "stdout",
          "text": [
            "DataFrame shape: (7483766, 24)\n",
            "Processing Time: 15.30 seconds\n",
            "Memory Usage Increase: 2528.16 MB\n"
          ]
        }
      ]
    },
    {
      "cell_type": "markdown",
      "source": [
        "**Load the data using Dask Library:**\n"
      ],
      "metadata": {
        "id": "2wwWrT8cYZq8"
      }
    },
    {
      "cell_type": "code",
      "source": [
        "import dask.dataframe as dd\n",
        "import time\n",
        "import psutil\n",
        "import os\n",
        "\n",
        "file_path = './transactions/synthetic_fraud_data.csv'\n",
        "process = psutil.Process(os.getpid())\n",
        "\n",
        "# Measure memory before loading\n",
        "start_time = time.time()\n",
        "\n",
        "# Read the CSV using Dask\n",
        "df3 = dd.read_csv(file_path)\n",
        "\n",
        "# Compute number of rows by counting a column (e.g., the first one)\n",
        "n_rows = df3[df3.columns[0]].count().compute()\n",
        "n_cols = len(df3.columns)\n",
        "df_shape = (n_rows, n_cols)\n",
        "\n",
        "end_time = time.time()\n",
        "time_Dask = end_time - start_time\n",
        "\n",
        "# Proper memory usage computation\n",
        "mem_Dask = df3.memory_usage(deep=True).compute().sum() / (1024**2)  # in MB\n",
        "\n",
        "# Output results\n",
        "print(f\"DataFrame shape: {df_shape}\")\n",
        "print(f\"Processing Time: {time_Dask:.2f} seconds\")\n",
        "print(f\"Memory Usage Increase: {mem_Dask:.2f} MB\")\n",
        "\n"
      ],
      "metadata": {
        "colab": {
          "base_uri": "https://localhost:8080/"
        },
        "id": "ahoMQYOQYgTq",
        "outputId": "0c2730f0-7af5-410b-f752-e41eb77cf515"
      },
      "execution_count": 4,
      "outputs": [
        {
          "output_type": "stream",
          "name": "stdout",
          "text": [
            "DataFrame shape: (np.int64(7483766), 24)\n",
            "Processing Time: 106.75 seconds\n",
            "Memory Usage Increase: 3466.69 MB\n"
          ]
        }
      ]
    },
    {
      "cell_type": "markdown",
      "source": [
        "# **Task4: Comparative Analysis**"
      ],
      "metadata": {
        "id": "CPhmxzVIdwrz"
      }
    },
    {
      "cell_type": "code",
      "source": [
        "import matplotlib.pyplot as plt\n",
        "\n",
        "# Sample data (replace with your actual measured values)\n",
        "libraries = ['Pandas', 'Polars', 'Dask']\n",
        "processing_times = [time_pandas, time_polars, time_Dask]  # in seconds\n",
        "memory_usages = [mem_pandas, mem_polars, mem_Dask]        # in MB\n",
        "\n",
        "# Create subplots\n",
        "fig, ax = plt.subplots(1, 2, figsize=(12, 5))\n",
        "\n",
        "# Bar chart for processing time\n",
        "bars1 = ax[0].bar(libraries, processing_times, color=['skyblue', 'orange', 'green'])\n",
        "ax[0].set_title('Processing Time Comparison')\n",
        "ax[0].set_ylabel('Time (seconds)')\n",
        "ax[0].set_ylim(0, max(processing_times) + 2)\n",
        "\n",
        "# Add value labels to bars for processing time\n",
        "for bar in bars1:\n",
        "    height = bar.get_height()\n",
        "    ax[0].text(bar.get_x() + bar.get_width() / 2, height + 0.1, f'{height:.2f}', ha='center', va='bottom')\n",
        "\n",
        "# Bar chart for memory usage\n",
        "bars2 = ax[1].bar(libraries, memory_usages, color=['skyblue', 'orange', 'green'])\n",
        "ax[1].set_title('Memory Usage Comparison')\n",
        "ax[1].set_ylabel('Memory (MB)')\n",
        "ax[1].set_ylim(0, max(memory_usages) + 100)\n",
        "\n",
        "# Add value labels to bars for memory usage\n",
        "for bar in bars2:\n",
        "    height = bar.get_height()\n",
        "    ax[1].text(bar.get_x() + bar.get_width() / 2, height + 5, f'{height:.2f}', ha='center', va='bottom')\n",
        "\n",
        "plt.tight_layout()\n",
        "plt.show()\n"
      ],
      "metadata": {
        "colab": {
          "base_uri": "https://localhost:8080/",
          "height": 507
        },
        "id": "Q1HS8UYPd3N0",
        "outputId": "fa1b0eec-3479-475b-928b-0113a6a415a5"
      },
      "execution_count": 6,
      "outputs": [
        {
          "output_type": "display_data",
          "data": {
            "text/plain": [
              "<Figure size 1200x500 with 2 Axes>"
            ],
            "image/png": "[encoded data removed]"
          },
          "metadata": {}
        }
      ]
    }
  ]
}