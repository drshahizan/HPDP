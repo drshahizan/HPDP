{
  "cells": [
    {
      "cell_type": "markdown",
      "source": [
        "# **📘 Assignment 2: Mastering Big Data Handling**\n",
        "\n",
        "TIEW CHUAN RONG\n",
        "\n",
        "DANIAL HARRIZ BIN MOHD ASINEH @MOHD ASNEH"
      ],
      "metadata": {
        "id": "L7Vh7Xp30um8"
      }
    },
    {
      "cell_type": "markdown",
      "metadata": {
        "id": "Wc-YBRlXHG1S"
      },
      "source": [
        "**Install kagglehub[pandas-datasets]:**\n",
        "\n",
        "-Installs the core kagglehub package, which can download and use datasets hosted on Kaggle using code and support loading datasets as Pandas DataFrames."
      ]
    },
    {
      "cell_type": "code",
      "execution_count": 4,
      "metadata": {
        "colab": {
          "base_uri": "https://localhost:8080/"
        },
        "id": "ZpWOWg7N3-d2",
        "outputId": "220e9bcd-5580-41d8-c2ba-adde43aa94bd"
      },
      "outputs": [
        {
          "output_type": "stream",
          "name": "stdout",
          "text": [
            "Requirement already satisfied: kagglehub[pandas-datasets] in /usr/local/lib/python3.11/dist-packages (0.3.12)\n",
            "Requirement already satisfied: packaging in /usr/local/lib/python3.11/dist-packages (from kagglehub[pandas-datasets]) (24.2)\n",
            "Requirement already satisfied: pyyaml in /usr/local/lib/python3.11/dist-packages (from kagglehub[pandas-datasets]) (6.0.2)\n",
            "Requirement already satisfied: requests in /usr/local/lib/python3.11/dist-packages (from kagglehub[pandas-datasets]) (2.32.3)\n",
            "Requirement already satisfied: tqdm in /usr/local/lib/python3.11/dist-packages (from kagglehub[pandas-datasets]) (4.67.1)\n",
            "Requirement already satisfied: pandas in /usr/local/lib/python3.11/dist-packages (from kagglehub[pandas-datasets]) (2.2.2)\n",
            "Requirement already satisfied: numpy>=1.23.2 in /usr/local/lib/python3.11/dist-packages (from pandas->kagglehub[pandas-datasets]) (2.0.2)\n",
            "Requirement already satisfied: python-dateutil>=2.8.2 in /usr/local/lib/python3.11/dist-packages (from pandas->kagglehub[pandas-datasets]) (2.9.0.post0)\n",
            "Requirement already satisfied: pytz>=2020.1 in /usr/local/lib/python3.11/dist-packages (from pandas->kagglehub[pandas-datasets]) (2025.2)\n",
            "Requirement already satisfied: tzdata>=2022.7 in /usr/local/lib/python3.11/dist-packages (from pandas->kagglehub[pandas-datasets]) (2025.2)\n",
            "Requirement already satisfied: charset-normalizer<4,>=2 in /usr/local/lib/python3.11/dist-packages (from requests->kagglehub[pandas-datasets]) (3.4.2)\n",
            "Requirement already satisfied: idna<4,>=2.5 in /usr/local/lib/python3.11/dist-packages (from requests->kagglehub[pandas-datasets]) (3.10)\n",
            "Requirement already satisfied: urllib3<3,>=1.21.1 in /usr/local/lib/python3.11/dist-packages (from requests->kagglehub[pandas-datasets]) (2.4.0)\n",
            "Requirement already satisfied: certifi>=2017.4.17 in /usr/local/lib/python3.11/dist-packages (from requests->kagglehub[pandas-datasets]) (2025.4.26)\n",
            "Requirement already satisfied: six>=1.5 in /usr/local/lib/python3.11/dist-packages (from python-dateutil>=2.8.2->pandas->kagglehub[pandas-datasets]) (1.17.0)\n"
          ]
        }
      ],
      "source": [
        "!pip install kagglehub[pandas-datasets]"
      ]
    },
    {
      "cell_type": "markdown",
      "metadata": {
        "id": "kWMH14VmIMH8"
      },
      "source": [
        "**Install kaggle:**\n",
        "\n",
        "This is used to install the official Kaggle API Python package called kaggle.\n"
      ]
    },
    {
      "cell_type": "code",
      "execution_count": 5,
      "metadata": {
        "colab": {
          "base_uri": "https://localhost:8080/"
        },
        "id": "qDHRiU9l6YjK",
        "outputId": "28045984-9f53-40aa-bed9-5c230d47ae2d"
      },
      "outputs": [
        {
          "output_type": "stream",
          "name": "stdout",
          "text": [
            "Requirement already satisfied: kaggle in /usr/local/lib/python3.11/dist-packages (1.7.4.5)\n",
            "Requirement already satisfied: bleach in /usr/local/lib/python3.11/dist-packages (from kaggle) (6.2.0)\n",
            "Requirement already satisfied: certifi>=14.05.14 in /usr/local/lib/python3.11/dist-packages (from kaggle) (2025.4.26)\n",
            "Requirement already satisfied: charset-normalizer in /usr/local/lib/python3.11/dist-packages (from kaggle) (3.4.2)\n",
            "Requirement already satisfied: idna in /usr/local/lib/python3.11/dist-packages (from kaggle) (3.10)\n",
            "Requirement already satisfied: protobuf in /usr/local/lib/python3.11/dist-packages (from kaggle) (5.29.4)\n",
            "Requirement already satisfied: python-dateutil>=2.5.3 in /usr/local/lib/python3.11/dist-packages (from kaggle) (2.9.0.post0)\n",
            "Requirement already satisfied: python-slugify in /usr/local/lib/python3.11/dist-packages (from kaggle) (8.0.4)\n",
            "Requirement already satisfied: requests in /usr/local/lib/python3.11/dist-packages (from kaggle) (2.32.3)\n",
            "Requirement already satisfied: setuptools>=21.0.0 in /usr/local/lib/python3.11/dist-packages (from kaggle) (75.2.0)\n",
            "Requirement already satisfied: six>=1.10 in /usr/local/lib/python3.11/dist-packages (from kaggle) (1.17.0)\n",
            "Requirement already satisfied: text-unidecode in /usr/local/lib/python3.11/dist-packages (from kaggle) (1.3)\n",
            "Requirement already satisfied: tqdm in /usr/local/lib/python3.11/dist-packages (from kaggle) (4.67.1)\n",
            "Requirement already satisfied: urllib3>=1.15.1 in /usr/local/lib/python3.11/dist-packages (from kaggle) (2.4.0)\n",
            "Requirement already satisfied: webencodings in /usr/local/lib/python3.11/dist-packages (from kaggle) (0.5.1)\n"
          ]
        }
      ],
      "source": [
        "!pip install kaggle\n"
      ]
    },
    {
      "cell_type": "code",
      "execution_count": 6,
      "metadata": {
        "colab": {
          "base_uri": "https://localhost:8080/"
        },
        "id": "29qjwZFFFMRJ",
        "outputId": "85d1e32f-df39-4784-9b2a-1e97e17de7a4"
      },
      "outputs": [
        {
          "output_type": "stream",
          "name": "stdout",
          "text": [
            "Requirement already satisfied: psutil in /usr/local/lib/python3.11/dist-packages (5.9.5)\n"
          ]
        }
      ],
      "source": [
        "!pip install psutil"
      ]
    },
    {
      "cell_type": "markdown",
      "metadata": {
        "id": "PUpWaaglIsxI"
      },
      "source": [
        "**Upload kaggle.json:**\n",
        "\n",
        "This is the API token file that contains user Kaggle credentials.As Kaggle requires authentication for most API operations to verify user. To permission to download datasets"
      ]
    },
    {
      "cell_type": "code",
      "execution_count": 7,
      "metadata": {
        "colab": {
          "base_uri": "https://localhost:8080/",
          "height": 89
        },
        "id": "gdspNXEP1kSn",
        "outputId": "dd7a7a38-014a-44fe-e8ed-052c7aeb229d"
      },
      "outputs": [
        {
          "output_type": "display_data",
          "data": {
            "text/plain": [
              "<IPython.core.display.HTML object>"
            ],
            "text/html": [
              "\n",
              "     <input type=\"file\" id=\"files-4bbfb3ff-2c52-44b2-a0da-7caab1251037\" name=\"files[]\" multiple disabled\n",
              "        style=\"border:none\" />\n",
              "     <output id=\"result-4bbfb3ff-2c52-44b2-a0da-7caab1251037\">\n",
              "      Upload widget is only available when the cell has been executed in the\n",
              "      current browser session. Please rerun this cell to enable.\n",
              "      </output>\n",
              "      <script>// Copyright 2017 Google LLC\n",
              "//\n",
              "// Licensed under the Apache License, Version 2.0 (the \"License\");\n",
              "// you may not use this file except in compliance with the License.\n",
              "// You may obtain a copy of the License at\n",
              "//\n",
              "//      http://www.apache.org/licenses/LICENSE-2.0\n",
              "//\n",
              "// Unless required by applicable law or agreed to in writing, software\n",
              "// distributed under the License is distributed on an \"AS IS\" BASIS,\n",
              "// WITHOUT WARRANTIES OR CONDITIONS OF ANY KIND, either express or implied.\n",
              "// See the License for the specific language governing permissions and\n",
              "// limitations under the License.\n",
              "\n",
              "/**\n",
              " * @fileoverview Helpers for google.colab Python module.\n",
              " */\n",
              "(function(scope) {\n",
              "function span(text, styleAttributes = {}) {\n",
              "  const element = document.createElement('span');\n",
              "  element.textContent = text;\n",
              "  for (const key of Object.keys(styleAttributes)) {\n",
              "    element.style[key] = styleAttributes[key];\n",
              "  }\n",
              "  return element;\n",
              "}\n",
              "\n",
              "// Max number of bytes which will be uploaded at a time.\n",
              "const MAX_PAYLOAD_SIZE = 100 * 1024;\n",
              "\n",
              "function _uploadFiles(inputId, outputId) {\n",
              "  const steps = uploadFilesStep(inputId, outputId);\n",
              "  const outputElement = document.getElementById(outputId);\n",
              "  // Cache steps on the outputElement to make it available for the next call\n",
              "  // to uploadFilesContinue from Python.\n",
              "  outputElement.steps = steps;\n",
              "\n",
              "  return _uploadFilesContinue(outputId);\n",
              "}\n",
              "\n",
              "// This is roughly an async generator (not supported in the browser yet),\n",
              "// where there are multiple asynchronous steps and the Python side is going\n",
              "// to poll for completion of each step.\n",
              "// This uses a Promise to block the python side on completion of each step,\n",
              "// then passes the result of the previous step as the input to the next step.\n",
              "function _uploadFilesContinue(outputId) {\n",
              "  const outputElement = document.getElementById(outputId);\n",
              "  const steps = outputElement.steps;\n",
              "\n",
              "  const next = steps.next(outputElement.lastPromiseValue);\n",
              "  return Promise.resolve(next.value.promise).then((value) => {\n",
              "    // Cache the last promise value to make it available to the next\n",
              "    // step of the generator.\n",
              "    outputElement.lastPromiseValue = value;\n",
              "    return next.value.response;\n",
              "  });\n",
              "}\n",
              "\n",
              "/**\n",
              " * Generator function which is called between each async step of the upload\n",
              " * process.\n",
              " * @param {string} inputId Element ID of the input file picker element.\n",
              " * @param {string} outputId Element ID of the output display.\n",
              " * @return {!Iterable<!Object>} Iterable of next steps.\n",
              " */\n",
              "function* uploadFilesStep(inputId, outputId) {\n",
              "  const inputElement = document.getElementById(inputId);\n",
              "  inputElement.disabled = false;\n",
              "\n",
              "  const outputElement = document.getElementById(outputId);\n",
              "  outputElement.innerHTML = '';\n",
              "\n",
              "  const pickedPromise = new Promise((resolve) => {\n",
              "    inputElement.addEventListener('change', (e) => {\n",
              "      resolve(e.target.files);\n",
              "    });\n",
              "  });\n",
              "\n",
              "  const cancel = document.createElement('button');\n",
              "  inputElement.parentElement.appendChild(cancel);\n",
              "  cancel.textContent = 'Cancel upload';\n",
              "  const cancelPromise = new Promise((resolve) => {\n",
              "    cancel.onclick = () => {\n",
              "      resolve(null);\n",
              "    };\n",
              "  });\n",
              "\n",
              "  // Wait for the user to pick the files.\n",
              "  const files = yield {\n",
              "    promise: Promise.race([pickedPromise, cancelPromise]),\n",
              "    response: {\n",
              "      action: 'starting',\n",
              "    }\n",
              "  };\n",
              "\n",
              "  cancel.remove();\n",
              "\n",
              "  // Disable the input element since further picks are not allowed.\n",
              "  inputElement.disabled = true;\n",
              "\n",
              "  if (!files) {\n",
              "    return {\n",
              "      response: {\n",
              "        action: 'complete',\n",
              "      }\n",
              "    };\n",
              "  }\n",
              "\n",
              "  for (const file of files) {\n",
              "    const li = document.createElement('li');\n",
              "    li.append(span(file.name, {fontWeight: 'bold'}));\n",
              "    li.append(span(\n",
              "        `(${file.type || 'n/a'}) - ${file.size} bytes, ` +\n",
              "        `last modified: ${\n",
              "            file.lastModifiedDate ? file.lastModifiedDate.toLocaleDateString() :\n",
              "                                    'n/a'} - `));\n",
              "    const percent = span('0% done');\n",
              "    li.appendChild(percent);\n",
              "\n",
              "    outputElement.appendChild(li);\n",
              "\n",
              "    const fileDataPromise = new Promise((resolve) => {\n",
              "      const reader = new FileReader();\n",
              "      reader.onload = (e) => {\n",
              "        resolve(e.target.result);\n",
              "      };\n",
              "      reader.readAsArrayBuffer(file);\n",
              "    });\n",
              "    // Wait for the data to be ready.\n",
              "    let fileData = yield {\n",
              "      promise: fileDataPromise,\n",
              "      response: {\n",
              "        action: 'continue',\n",
              "      }\n",
              "    };\n",
              "\n",
              "    // Use a chunked sending to avoid message size limits. See b/62115660.\n",
              "    let position = 0;\n",
              "    do {\n",
              "      const length = Math.min(fileData.byteLength - position, MAX_PAYLOAD_SIZE);\n",
              "      const chunk = new Uint8Array(fileData, position, length);\n",
              "      position += length;\n",
              "\n",
              "      const base64 = btoa(String.fromCharCode.apply(null, chunk));\n",
              "      yield {\n",
              "        response: {\n",
              "          action: 'append',\n",
              "          file: file.name,\n",
              "          data: base64,\n",
              "        },\n",
              "      };\n",
              "\n",
              "      let percentDone = fileData.byteLength === 0 ?\n",
              "          100 :\n",
              "          Math.round((position / fileData.byteLength) * 100);\n",
              "      percent.textContent = `${percentDone}% done`;\n",
              "\n",
              "    } while (position < fileData.byteLength);\n",
              "  }\n",
              "\n",
              "  // All done.\n",
              "  yield {\n",
              "    response: {\n",
              "      action: 'complete',\n",
              "    }\n",
              "  };\n",
              "}\n",
              "\n",
              "scope.google = scope.google || {};\n",
              "scope.google.colab = scope.google.colab || {};\n",
              "scope.google.colab._files = {\n",
              "  _uploadFiles,\n",
              "  _uploadFilesContinue,\n",
              "};\n",
              "})(self);\n",
              "</script> "
            ]
          },
          "metadata": {}
        },
        {
          "output_type": "stream",
          "name": "stdout",
          "text": [
            "Saving kaggle.json to kaggle.json\n"
          ]
        },
        {
          "output_type": "execute_result",
          "data": {
            "text/plain": [
              "{'kaggle.json': b'{\"username\":\"tiewrong\",\"key\":\"ff4f31306f849e9c50230749305a156a\"}'}"
            ]
          },
          "metadata": {},
          "execution_count": 7
        }
      ],
      "source": [
        "from google.colab import files\n",
        "files.upload()  # Select the kaggle.json file\n"
      ]
    },
    {
      "cell_type": "code",
      "execution_count": 8,
      "metadata": {
        "id": "QyNzBy7I5S_w"
      },
      "outputs": [],
      "source": [
        "!mkdir -p ~/.kaggle\n",
        "!cp kaggle.json ~/.kaggle/\n",
        "!chmod 600 ~/.kaggle/kaggle.json\n",
        "\n"
      ]
    },
    {
      "cell_type": "markdown",
      "metadata": {
        "id": "Ivbjd3rOG6vz"
      },
      "source": [
        "# **Task 1: Dataset Selection**"
      ]
    },
    {
      "cell_type": "markdown",
      "metadata": {
        "id": "6THPBlpyJvZY"
      },
      "source": [
        "**Download dataset:**\n",
        "\n",
        "Dowload dataset from kaggle using kaggle command. We download from `ismetsemedov/transactions`. Then, unzip the zip file downloaded."
      ]
    },
    {
      "cell_type": "code",
      "execution_count": 9,
      "metadata": {
        "colab": {
          "base_uri": "https://localhost:8080/"
        },
        "id": "t8Y0jSoT0DoW",
        "outputId": "f95bc8d3-6027-4175-86af-93b24a370765"
      },
      "outputs": [
        {
          "output_type": "stream",
          "name": "stdout",
          "text": [
            "Dataset URL: https://www.kaggle.com/datasets/ismetsemedov/transactions\n",
            "License(s): apache-2.0\n",
            "Downloading transactions.zip to ./transactions\n",
            "100% 751M/754M [00:03<00:00, 219MB/s]\n",
            "100% 754M/754M [00:03<00:00, 249MB/s]\n"
          ]
        }
      ],
      "source": [
        "!kaggle datasets download ismetsemedov/transactions --unzip -p ./transactions\n"
      ]
    },
    {
      "cell_type": "markdown",
      "metadata": {
        "id": "wbUTCmFLHJ9l"
      },
      "source": [
        "# **Task 2: Load and Inspect Data**"
      ]
    },
    {
      "cell_type": "code",
      "execution_count": 2,
      "metadata": {
        "id": "z-_XKDqAKyu6"
      },
      "outputs": [],
      "source": [
        "import pandas as pd\n",
        "import psutil\n",
        "import os\n",
        "import time"
      ]
    },
    {
      "cell_type": "markdown",
      "metadata": {
        "id": "JUZD9HSDZTa2"
      },
      "source": [
        "**Load data:**\n",
        "\n",
        "Load the data normally using pandas library with pd.read_csv(). Then record the processing time and memory usage."
      ]
    },
    {
      "cell_type": "code",
      "execution_count": 3,
      "metadata": {
        "colab": {
          "base_uri": "https://localhost:8080/"
        },
        "id": "eD1NKFFr6_2O",
        "outputId": "42de7a98-3226-4624-c2d4-e357656125f8"
      },
      "outputs": [
        {
          "output_type": "stream",
          "name": "stdout",
          "text": [
            "Processing Time: 89.09 seconds\n",
            "Memory Usage Increase: 9062.15 MB\n"
          ]
        }
      ],
      "source": [
        "file_path = './transactions/synthetic_fraud_data.csv'\n",
        "\n",
        "process = psutil.Process(os.getpid())\n",
        "\n",
        "# Measure memory before loading\n",
        "start_time = time.time()\n",
        "\n",
        "# Read in chunks\n",
        "df1 = pd.read_csv(file_path)\n",
        "\n",
        "end_time = time.time()\n",
        "mem_use =df1.memory_usage(deep=True).sum() / (1024**2)  # in MB\n",
        "\n",
        "# Results\n",
        "\n",
        "print(f\"Processing Time: {end_time - start_time:.2f} seconds\")\n",
        "print(f\"Memory Usage Increase: {mem_use:.2f} MB\")\n",
        "\n",
        "\n"
      ]
    },
    {
      "cell_type": "markdown",
      "source": [
        "### Shape of the dataset"
      ],
      "metadata": {
        "id": "7elw22w-dBH0"
      }
    },
    {
      "cell_type": "code",
      "source": [
        "df1.shape"
      ],
      "metadata": {
        "colab": {
          "base_uri": "https://localhost:8080/"
        },
        "id": "KwdrghALdPoM",
        "outputId": "63d1842a-f007-435e-e4b1-6240da13e815"
      },
      "execution_count": 4,
      "outputs": [
        {
          "output_type": "execute_result",
          "data": {
            "text/plain": [
              "(7483766, 24)"
            ]
          },
          "metadata": {},
          "execution_count": 4
        }
      ]
    },
    {
      "cell_type": "markdown",
      "metadata": {
        "id": "zqAx2U5FHYFB"
      },
      "source": [
        "### Top 5 rows of the Dataframe"
      ]
    },
    {
      "cell_type": "code",
      "execution_count": 12,
      "metadata": {
        "colab": {
          "base_uri": "https://localhost:8080/",
          "height": 429
        },
        "id": "lJwAOKcwB3sM",
        "outputId": "fa5c716b-abd8-496a-9093-65922fe92a5c"
      },
      "outputs": [
        {
          "output_type": "execute_result",
          "data": {
            "text/plain": [
              "  transaction_id customer_id       card_number  \\\n",
              "0    TX_a0ad2a2a  CUST_72886  6646734767813109   \n",
              "1    TX_3599c101  CUST_70474   376800864692727   \n",
              "2    TX_a9461c6d  CUST_10715  5251909460951913   \n",
              "3    TX_7be21fc4  CUST_16193   376079286931183   \n",
              "4    TX_150f490b  CUST_87572  6172948052178810   \n",
              "\n",
              "                          timestamp merchant_category merchant_type  \\\n",
              "0  2024-09-30 00:00:01.034820+00:00        Restaurant     fast_food   \n",
              "1  2024-09-30 00:00:01.764464+00:00     Entertainment        gaming   \n",
              "2  2024-09-30 00:00:02.273762+00:00           Grocery      physical   \n",
              "3  2024-09-30 00:00:02.297466+00:00               Gas         major   \n",
              "4  2024-09-30 00:00:02.544063+00:00        Healthcare       medical   \n",
              "\n",
              "         merchant     amount currency    country  ...   device channel  \\\n",
              "0       Taco Bell     294.87      GBP         UK  ...  iOS App  mobile   \n",
              "1           Steam    3368.97      BRL     Brazil  ...     Edge     web   \n",
              "2     Whole Foods  102582.38      JPY      Japan  ...  Firefox     web   \n",
              "3           Exxon     630.60      AUD  Australia  ...  iOS App  mobile   \n",
              "4  Medical Center  724949.27      NGN    Nigeria  ...   Chrome     web   \n",
              "\n",
              "                 device_fingerprint       ip_address distance_from_home  \\\n",
              "0  e8e6160445c935fd0001501e4cbac8bc   197.153.60.199                  0   \n",
              "1  a73043a57091e775af37f252b3a32af9  208.123.221.203                  1   \n",
              "2  218864e94ceaa41577d216b149722261   10.194.159.204                  0   \n",
              "3  70423fa3a1e74d01203cf93b51b9631d   17.230.177.225                  0   \n",
              "4  9880776c7b6038f2af86bd4e18a1b1a4  136.241.219.151                  1   \n",
              "\n",
              "  high_risk_merchant transaction_hour weekend_transaction  \\\n",
              "0              False                0               False   \n",
              "1               True                0               False   \n",
              "2              False                0               False   \n",
              "3              False                0               False   \n",
              "4              False                0               False   \n",
              "\n",
              "                                  velocity_last_hour  is_fraud  \n",
              "0  {'num_transactions': 1197, 'total_amount': 334...     False  \n",
              "1  {'num_transactions': 509, 'total_amount': 2011...      True  \n",
              "2  {'num_transactions': 332, 'total_amount': 3916...     False  \n",
              "3  {'num_transactions': 764, 'total_amount': 2201...     False  \n",
              "4  {'num_transactions': 218, 'total_amount': 4827...      True  \n",
              "\n",
              "[5 rows x 24 columns]"
            ],
            "text/html": [
              "\n",
              "  <div id=\"df-0a95634d-b39b-4d41-a5f7-298e4ec6f3fb\" class=\"colab-df-container\">\n",
              "    <div>\n",
              "<style scoped>\n",
              "    .dataframe tbody tr th:only-of-type {\n",
              "        vertical-align: middle;\n",
              "    }\n",
              "\n",
              "    .dataframe tbody tr th {\n",
              "        vertical-align: top;\n",
              "    }\n",
              "\n",
              "    .dataframe thead th {\n",
              "        text-align: right;\n",
              "    }\n",
              "</style>\n",
              "<table border=\"1\" class=\"dataframe\">\n",
              "  <thead>\n",
              "    <tr style=\"text-align: right;\">\n",
              "      <th></th>\n",
              "      <th>transaction_id</th>\n",
              "      <th>customer_id</th>\n",
              "      <th>card_number</th>\n",
              "      <th>timestamp</th>\n",
              "      <th>merchant_category</th>\n",
              "      <th>merchant_type</th>\n",
              "      <th>merchant</th>\n",
              "      <th>amount</th>\n",
              "      <th>currency</th>\n",
              "      <th>country</th>\n",
              "      <th>...</th>\n",
              "      <th>device</th>\n",
              "      <th>channel</th>\n",
              "      <th>device_fingerprint</th>\n",
              "      <th>ip_address</th>\n",
              "      <th>distance_from_home</th>\n",
              "      <th>high_risk_merchant</th>\n",
              "      <th>transaction_hour</th>\n",
              "      <th>weekend_transaction</th>\n",
              "      <th>velocity_last_hour</th>\n",
              "      <th>is_fraud</th>\n",
              "    </tr>\n",
              "  </thead>\n",
              "  <tbody>\n",
              "    <tr>\n",
              "      <th>0</th>\n",
              "      <td>TX_a0ad2a2a</td>\n",
              "      <td>CUST_72886</td>\n",
              "      <td>6646734767813109</td>\n",
              "      <td>2024-09-30 00:00:01.034820+00:00</td>\n",
              "      <td>Restaurant</td>\n",
              "      <td>fast_food</td>\n",
              "      <td>Taco Bell</td>\n",
              "      <td>294.87</td>\n",
              "      <td>GBP</td>\n",
              "      <td>UK</td>\n",
              "      <td>...</td>\n",
              "      <td>iOS App</td>\n",
              "      <td>mobile</td>\n",
              "      <td>e8e6160445c935fd0001501e4cbac8bc</td>\n",
              "      <td>197.153.60.199</td>\n",
              "      <td>0</td>\n",
              "      <td>False</td>\n",
              "      <td>0</td>\n",
              "      <td>False</td>\n",
              "      <td>{'num_transactions': 1197, 'total_amount': 334...</td>\n",
              "      <td>False</td>\n",
              "    </tr>\n",
              "    <tr>\n",
              "      <th>1</th>\n",
              "      <td>TX_3599c101</td>\n",
              "      <td>CUST_70474</td>\n",
              "      <td>376800864692727</td>\n",
              "      <td>2024-09-30 00:00:01.764464+00:00</td>\n",
              "      <td>Entertainment</td>\n",
              "      <td>gaming</td>\n",
              "      <td>Steam</td>\n",
              "      <td>3368.97</td>\n",
              "      <td>BRL</td>\n",
              "      <td>Brazil</td>\n",
              "      <td>...</td>\n",
              "      <td>Edge</td>\n",
              "      <td>web</td>\n",
              "      <td>a73043a57091e775af37f252b3a32af9</td>\n",
              "      <td>208.123.221.203</td>\n",
              "      <td>1</td>\n",
              "      <td>True</td>\n",
              "      <td>0</td>\n",
              "      <td>False</td>\n",
              "      <td>{'num_transactions': 509, 'total_amount': 2011...</td>\n",
              "      <td>True</td>\n",
              "    </tr>\n",
              "    <tr>\n",
              "      <th>2</th>\n",
              "      <td>TX_a9461c6d</td>\n",
              "      <td>CUST_10715</td>\n",
              "      <td>5251909460951913</td>\n",
              "      <td>2024-09-30 00:00:02.273762+00:00</td>\n",
              "      <td>Grocery</td>\n",
              "      <td>physical</td>\n",
              "      <td>Whole Foods</td>\n",
              "      <td>102582.38</td>\n",
              "      <td>JPY</td>\n",
              "      <td>Japan</td>\n",
              "      <td>...</td>\n",
              "      <td>Firefox</td>\n",
              "      <td>web</td>\n",
              "      <td>218864e94ceaa41577d216b149722261</td>\n",
              "      <td>10.194.159.204</td>\n",
              "      <td>0</td>\n",
              "      <td>False</td>\n",
              "      <td>0</td>\n",
              "      <td>False</td>\n",
              "      <td>{'num_transactions': 332, 'total_amount': 3916...</td>\n",
              "      <td>False</td>\n",
              "    </tr>\n",
              "    <tr>\n",
              "      <th>3</th>\n",
              "      <td>TX_7be21fc4</td>\n",
              "      <td>CUST_16193</td>\n",
              "      <td>376079286931183</td>\n",
              "      <td>2024-09-30 00:00:02.297466+00:00</td>\n",
              "      <td>Gas</td>\n",
              "      <td>major</td>\n",
              "      <td>Exxon</td>\n",
              "      <td>630.60</td>\n",
              "      <td>AUD</td>\n",
              "      <td>Australia</td>\n",
              "      <td>...</td>\n",
              "      <td>iOS App</td>\n",
              "      <td>mobile</td>\n",
              "      <td>70423fa3a1e74d01203cf93b51b9631d</td>\n",
              "      <td>17.230.177.225</td>\n",
              "      <td>0</td>\n",
              "      <td>False</td>\n",
              "      <td>0</td>\n",
              "      <td>False</td>\n",
              "      <td>{'num_transactions': 764, 'total_amount': 2201...</td>\n",
              "      <td>False</td>\n",
              "    </tr>\n",
              "    <tr>\n",
              "      <th>4</th>\n",
              "      <td>TX_150f490b</td>\n",
              "      <td>CUST_87572</td>\n",
              "      <td>6172948052178810</td>\n",
              "      <td>2024-09-30 00:00:02.544063+00:00</td>\n",
              "      <td>Healthcare</td>\n",
              "      <td>medical</td>\n",
              "      <td>Medical Center</td>\n",
              "      <td>724949.27</td>\n",
              "      <td>NGN</td>\n",
              "      <td>Nigeria</td>\n",
              "      <td>...</td>\n",
              "      <td>Chrome</td>\n",
              "      <td>web</td>\n",
              "      <td>9880776c7b6038f2af86bd4e18a1b1a4</td>\n",
              "      <td>136.241.219.151</td>\n",
              "      <td>1</td>\n",
              "      <td>False</td>\n",
              "      <td>0</td>\n",
              "      <td>False</td>\n",
              "      <td>{'num_transactions': 218, 'total_amount': 4827...</td>\n",
              "      <td>True</td>\n",
              "    </tr>\n",
              "  </tbody>\n",
              "</table>\n",
              "<p>5 rows × 24 columns</p>\n",
              "</div>\n",
              "    <div class=\"colab-df-buttons\">\n",
              "\n",
              "  <div class=\"colab-df-container\">\n",
              "    <button class=\"colab-df-convert\" onclick=\"convertToInteractive('df-0a95634d-b39b-4d41-a5f7-298e4ec6f3fb')\"\n",
              "            title=\"Convert this dataframe to an interactive table.\"\n",
              "            style=\"display:none;\">\n",
              "\n",
              "  <svg xmlns=\"http://www.w3.org/2000/svg\" height=\"24px\" viewBox=\"0 -960 960 960\">\n",
              "    <path d=\"M120-120v-720h720v720H120Zm60-500h600v-160H180v160Zm220 220h160v-160H400v160Zm0 220h160v-160H400v160ZM180-400h160v-160H180v160Zm440 0h160v-160H620v160ZM180-180h160v-160H180v160Zm440 0h160v-160H620v160Z\"/>\n",
              "  </svg>\n",
              "    </button>\n",
              "\n",
              "  <style>\n",
              "    .colab-df-container {\n",
              "      display:flex;\n",
              "      gap: 12px;\n",
              "    }\n",
              "\n",
              "    .colab-df-convert {\n",
              "      background-color: #E8F0FE;\n",
              "      border: none;\n",
              "      border-radius: 50%;\n",
              "      cursor: pointer;\n",
              "      display: none;\n",
              "      fill: #1967D2;\n",
              "      height: 32px;\n",
              "      padding: 0 0 0 0;\n",
              "      width: 32px;\n",
              "    }\n",
              "\n",
              "    .colab-df-convert:hover {\n",
              "      background-color: #E2EBFA;\n",
              "      box-shadow: 0px 1px 2px rgba(60, 64, 67, 0.3), 0px 1px 3px 1px rgba(60, 64, 67, 0.15);\n",
              "      fill: #174EA6;\n",
              "    }\n",
              "\n",
              "    .colab-df-buttons div {\n",
              "      margin-bottom: 4px;\n",
              "    }\n",
              "\n",
              "    [theme=dark] .colab-df-convert {\n",
              "      background-color: #3B4455;\n",
              "      fill: #D2E3FC;\n",
              "    }\n",
              "\n",
              "    [theme=dark] .colab-df-convert:hover {\n",
              "      background-color: #434B5C;\n",
              "      box-shadow: 0px 1px 3px 1px rgba(0, 0, 0, 0.15);\n",
              "      filter: drop-shadow(0px 1px 2px rgba(0, 0, 0, 0.3));\n",
              "      fill: #FFFFFF;\n",
              "    }\n",
              "  </style>\n",
              "\n",
              "    <script>\n",
              "      const buttonEl =\n",
              "        document.querySelector('#df-0a95634d-b39b-4d41-a5f7-298e4ec6f3fb button.colab-df-convert');\n",
              "      buttonEl.style.display =\n",
              "        google.colab.kernel.accessAllowed ? 'block' : 'none';\n",
              "\n",
              "      async function convertToInteractive(key) {\n",
              "        const element = document.querySelector('#df-0a95634d-b39b-4d41-a5f7-298e4ec6f3fb');\n",
              "        const dataTable =\n",
              "          await google.colab.kernel.invokeFunction('convertToInteractive',\n",
              "                                                    [key], {});\n",
              "        if (!dataTable) return;\n",
              "\n",
              "        const docLinkHtml = 'Like what you see? Visit the ' +\n",
              "          '<a target=\"_blank\" href=https://colab.research.google.com/notebooks/data_table.ipynb>data table notebook</a>'\n",
              "          + ' to learn more about interactive tables.';\n",
              "        element.innerHTML = '';\n",
              "        dataTable['output_type'] = 'display_data';\n",
              "        await google.colab.output.renderOutput(dataTable, element);\n",
              "        const docLink = document.createElement('div');\n",
              "        docLink.innerHTML = docLinkHtml;\n",
              "        element.appendChild(docLink);\n",
              "      }\n",
              "    </script>\n",
              "  </div>\n",
              "\n",
              "\n",
              "    <div id=\"df-98242ced-0492-46f9-a4a1-1e153580846e\">\n",
              "      <button class=\"colab-df-quickchart\" onclick=\"quickchart('df-98242ced-0492-46f9-a4a1-1e153580846e')\"\n",
              "                title=\"Suggest charts\"\n",
              "                style=\"display:none;\">\n",
              "\n",
              "<svg xmlns=\"http://www.w3.org/2000/svg\" height=\"24px\"viewBox=\"0 0 24 24\"\n",
              "     width=\"24px\">\n",
              "    <g>\n",
              "        <path d=\"M19 3H5c-1.1 0-2 .9-2 2v14c0 1.1.9 2 2 2h14c1.1 0 2-.9 2-2V5c0-1.1-.9-2-2-2zM9 17H7v-7h2v7zm4 0h-2V7h2v10zm4 0h-2v-4h2v4z\"/>\n",
              "    </g>\n",
              "</svg>\n",
              "      </button>\n",
              "\n",
              "<style>\n",
              "  .colab-df-quickchart {\n",
              "      --bg-color: #E8F0FE;\n",
              "      --fill-color: #1967D2;\n",
              "      --hover-bg-color: #E2EBFA;\n",
              "      --hover-fill-color: #174EA6;\n",
              "      --disabled-fill-color: #AAA;\n",
              "      --disabled-bg-color: #DDD;\n",
              "  }\n",
              "\n",
              "  [theme=dark] .colab-df-quickchart {\n",
              "      --bg-color: #3B4455;\n",
              "      --fill-color: #D2E3FC;\n",
              "      --hover-bg-color: #434B5C;\n",
              "      --hover-fill-color: #FFFFFF;\n",
              "      --disabled-bg-color: #3B4455;\n",
              "      --disabled-fill-color: #666;\n",
              "  }\n",
              "\n",
              "  .colab-df-quickchart {\n",
              "    background-color: var(--bg-color);\n",
              "    border: none;\n",
              "    border-radius: 50%;\n",
              "    cursor: pointer;\n",
              "    display: none;\n",
              "    fill: var(--fill-color);\n",
              "    height: 32px;\n",
              "    padding: 0;\n",
              "    width: 32px;\n",
              "  }\n",
              "\n",
              "  .colab-df-quickchart:hover {\n",
              "    background-color: var(--hover-bg-color);\n",
              "    box-shadow: 0 1px 2px rgba(60, 64, 67, 0.3), 0 1px 3px 1px rgba(60, 64, 67, 0.15);\n",
              "    fill: var(--button-hover-fill-color);\n",
              "  }\n",
              "\n",
              "  .colab-df-quickchart-complete:disabled,\n",
              "  .colab-df-quickchart-complete:disabled:hover {\n",
              "    background-color: var(--disabled-bg-color);\n",
              "    fill: var(--disabled-fill-color);\n",
              "    box-shadow: none;\n",
              "  }\n",
              "\n",
              "  .colab-df-spinner {\n",
              "    border: 2px solid var(--fill-color);\n",
              "    border-color: transparent;\n",
              "    border-bottom-color: var(--fill-color);\n",
              "    animation:\n",
              "      spin 1s steps(1) infinite;\n",
              "  }\n",
              "\n",
              "  @keyframes spin {\n",
              "    0% {\n",
              "      border-color: transparent;\n",
              "      border-bottom-color: var(--fill-color);\n",
              "      border-left-color: var(--fill-color);\n",
              "    }\n",
              "    20% {\n",
              "      border-color: transparent;\n",
              "      border-left-color: var(--fill-color);\n",
              "      border-top-color: var(--fill-color);\n",
              "    }\n",
              "    30% {\n",
              "      border-color: transparent;\n",
              "      border-left-color: var(--fill-color);\n",
              "      border-top-color: var(--fill-color);\n",
              "      border-right-color: var(--fill-color);\n",
              "    }\n",
              "    40% {\n",
              "      border-color: transparent;\n",
              "      border-right-color: var(--fill-color);\n",
              "      border-top-color: var(--fill-color);\n",
              "    }\n",
              "    60% {\n",
              "      border-color: transparent;\n",
              "      border-right-color: var(--fill-color);\n",
              "    }\n",
              "    80% {\n",
              "      border-color: transparent;\n",
              "      border-right-color: var(--fill-color);\n",
              "      border-bottom-color: var(--fill-color);\n",
              "    }\n",
              "    90% {\n",
              "      border-color: transparent;\n",
              "      border-bottom-color: var(--fill-color);\n",
              "    }\n",
              "  }\n",
              "</style>\n",
              "\n",
              "      <script>\n",
              "        async function quickchart(key) {\n",
              "          const quickchartButtonEl =\n",
              "            document.querySelector('#' + key + ' button');\n",
              "          quickchartButtonEl.disabled = true;  // To prevent multiple clicks.\n",
              "          quickchartButtonEl.classList.add('colab-df-spinner');\n",
              "          try {\n",
              "            const charts = await google.colab.kernel.invokeFunction(\n",
              "                'suggestCharts', [key], {});\n",
              "          } catch (error) {\n",
              "            console.error('Error during call to suggestCharts:', error);\n",
              "          }\n",
              "          quickchartButtonEl.classList.remove('colab-df-spinner');\n",
              "          quickchartButtonEl.classList.add('colab-df-quickchart-complete');\n",
              "        }\n",
              "        (() => {\n",
              "          let quickchartButtonEl =\n",
              "            document.querySelector('#df-98242ced-0492-46f9-a4a1-1e153580846e button');\n",
              "          quickchartButtonEl.style.display =\n",
              "            google.colab.kernel.accessAllowed ? 'block' : 'none';\n",
              "        })();\n",
              "      </script>\n",
              "    </div>\n",
              "\n",
              "    </div>\n",
              "  </div>\n"
            ],
            "application/vnd.google.colaboratory.intrinsic+json": {
              "type": "dataframe",
              "variable_name": "df1"
            }
          },
          "metadata": {},
          "execution_count": 12
        }
      ],
      "source": [
        "df1.head(5)"
      ]
    },
    {
      "cell_type": "markdown",
      "metadata": {
        "id": "c_WKYIXBHo7J"
      },
      "source": [
        "### Column names of the DataFrame"
      ]
    },
    {
      "cell_type": "code",
      "execution_count": 13,
      "metadata": {
        "colab": {
          "base_uri": "https://localhost:8080/"
        },
        "id": "3GM6binsH2El",
        "outputId": "48c9f0ce-7b6f-461e-eef6-7562092553f5"
      },
      "outputs": [
        {
          "output_type": "execute_result",
          "data": {
            "text/plain": [
              "Index(['transaction_id', 'customer_id', 'card_number', 'timestamp',\n",
              "       'merchant_category', 'merchant_type', 'merchant', 'amount', 'currency',\n",
              "       'country', 'city', 'city_size', 'card_type', 'card_present', 'device',\n",
              "       'channel', 'device_fingerprint', 'ip_address', 'distance_from_home',\n",
              "       'high_risk_merchant', 'transaction_hour', 'weekend_transaction',\n",
              "       'velocity_last_hour', 'is_fraud'],\n",
              "      dtype='object')"
            ]
          },
          "metadata": {},
          "execution_count": 13
        }
      ],
      "source": [
        "df1.columns"
      ]
    },
    {
      "cell_type": "markdown",
      "metadata": {
        "id": "11J50ZgzH_5H"
      },
      "source": [
        "### Datatypes of each column in the DataFrame"
      ]
    },
    {
      "cell_type": "code",
      "execution_count": 14,
      "metadata": {
        "colab": {
          "base_uri": "https://localhost:8080/"
        },
        "id": "4BBCxRQ5IDmO",
        "outputId": "e99833b9-e8b3-4595-d4bb-16fca449490f"
      },
      "outputs": [
        {
          "output_type": "stream",
          "name": "stdout",
          "text": [
            "transaction_id          object\n",
            "customer_id             object\n",
            "card_number              int64\n",
            "timestamp               object\n",
            "merchant_category       object\n",
            "merchant_type           object\n",
            "merchant                object\n",
            "amount                 float64\n",
            "currency                object\n",
            "country                 object\n",
            "city                    object\n",
            "city_size               object\n",
            "card_type               object\n",
            "card_present              bool\n",
            "device                  object\n",
            "channel                 object\n",
            "device_fingerprint      object\n",
            "ip_address              object\n",
            "distance_from_home       int64\n",
            "high_risk_merchant        bool\n",
            "transaction_hour         int64\n",
            "weekend_transaction       bool\n",
            "velocity_last_hour      object\n",
            "is_fraud                  bool\n",
            "dtype: object\n"
          ]
        }
      ],
      "source": [
        "print(df1.dtypes)"
      ]
    },
    {
      "cell_type": "markdown",
      "metadata": {
        "id": "RNHMs9VMLwgb"
      },
      "source": [
        "# **Task3: Apply Big Data Handling Strategies**"
      ]
    },
    {
      "cell_type": "markdown",
      "metadata": {
        "id": "HlEAWOQKsmIx"
      },
      "source": [
        "**Load Less data:**\n",
        "\n",
        "We applied the technique of loading less data by selecting columns that we will be using only. This loading less dataset will improve the efficiency of loading dataset. We loading less data by using usecol parameter in the pd.read_csv() to read only required columns data.\n",
        "\n"
      ]
    },
    {
      "cell_type": "code",
      "execution_count": 3,
      "metadata": {
        "colab": {
          "base_uri": "https://localhost:8080/"
        },
        "id": "3R5QnPwksXZJ",
        "outputId": "54fe4911-6116-4ed1-ee50-e46a32099f60"
      },
      "outputs": [
        {
          "output_type": "stream",
          "name": "stdout",
          "text": [
            "\n",
            "🟢 Load Less Data: Loading SELECTED columns...\n",
            "[Selected Columns] Time: 62.19s | Memory: 4347.03MB\n"
          ]
        }
      ],
      "source": [
        "import pandas as pd\n",
        "import time\n",
        "import os\n",
        "import psutil\n",
        "\n",
        "# -------------------------\n",
        "# 1. Load Less Data\n",
        "# -------------------------\n",
        "file_path = './transactions/synthetic_fraud_data.csv'\n",
        "print(\"\\n🟢 Load Less Data: Loading SELECTED columns...\")\n",
        "use_columns = [\n",
        "    'transaction_id', 'customer_id', 'merchant_category',\n",
        "    'merchant_type', 'merchant', 'amount', 'country',\n",
        "    'high_risk_merchant', 'velocity_last_hour', 'is_fraud'\n",
        "]\n",
        "\n",
        "start_time_sel = time.time()\n",
        "df_sel = pd.read_csv(file_path, usecols=use_columns)\n",
        "end_time_sel = time.time()\n",
        "mem_use = df_sel.memory_usage(deep=True).sum() / (1024**2)\n",
        "time_sel = end_time_sel - start_time_sel\n",
        "mem_sel = mem_use\n",
        "print(f\"[Selected Columns] Time: {time_sel:.2f}s | Memory: {mem_sel:.2f}MB\")\n",
        "\n"
      ]
    },
    {
      "cell_type": "markdown",
      "metadata": {
        "id": "7DFiAfCUwO1r"
      },
      "source": [
        "**Use Chunking:**\n",
        "\n",
        " The data was read in chunks using the chunksize parameter of pandas.read_csv(). This approach allows loading and processing the data in smaller, manageable portions rather than reading the entire file at once. The chunk size is set to 100000 for every chunk"
      ]
    },
    {
      "cell_type": "code",
      "execution_count": 10,
      "metadata": {
        "colab": {
          "base_uri": "https://localhost:8080/"
        },
        "id": "fi7Vo1Wq9FSk",
        "outputId": "432d5b08-8290-434d-8cfe-ec195191279a"
      },
      "outputs": [
        {
          "output_type": "stream",
          "name": "stdout",
          "text": [
            "\n",
            "🟢 Use Chunking: Reading in chunks...\n",
            "[Chunking] Time: 162.15s | Memory: 48.51MB\n"
          ]
        }
      ],
      "source": [
        "import pandas as pd\n",
        "import psutil\n",
        "import os\n",
        "import time\n",
        "import tracemalloc\n",
        "\n",
        "file_path = './transactions/synthetic_fraud_data.csv'\n",
        "chunk_size = 100000\n",
        "process = psutil.Process(os.getpid())\n",
        "# -------------------------\n",
        "# 2. Use Chunking\n",
        "# -------------------------\n",
        "print(\"\\n🟢 Use Chunking: Reading in chunks...\")\n",
        "tracemalloc.start()\n",
        "start_time_chunk = time.time()\n",
        "for chunk in pd.read_csv(file_path, chunksize=chunk_size):\n",
        "    pass\n",
        "\n",
        "end_time_chunk = time.time()\n",
        "current, peak = tracemalloc.get_traced_memory()\n",
        "tracemalloc.stop()\n",
        "mem_chunk = current/(1024 ** 2)\n",
        "\n",
        "time_chunk = end_time_chunk - start_time_chunk\n",
        "print(f\"[Chunking] Time: {time_chunk:.2f}s | Memory: {mem_chunk:.2f}MB\")\n",
        "\n"
      ]
    },
    {
      "cell_type": "markdown",
      "metadata": {
        "id": "BdSeUFsz20R3"
      },
      "source": [
        "**Optimize Data Type:**\n",
        "\n",
        "We using the optimize data type by converting the data type to a smaller data type. Optimized data types were specified explicitly when reading the dataset using the dtype parameter in pandas.read_csv(). Columns were assigned the most appropriate and memory-efficient data types"
      ]
    },
    {
      "cell_type": "code",
      "execution_count": 6,
      "metadata": {
        "id": "os_xFMqG28k7",
        "colab": {
          "base_uri": "https://localhost:8080/"
        },
        "outputId": "8249c81d-5120-450a-c568-ee4a6cbb4a0a"
      },
      "outputs": [
        {
          "output_type": "stream",
          "name": "stdout",
          "text": [
            "\n",
            "🟢 Optimize Data Types...\n",
            "[Optimized Dtypes] Time: 229.73s | Memory: 3981.57MB\n"
          ]
        }
      ],
      "source": [
        "import pandas as pd\n",
        "import psutil\n",
        "import os\n",
        "import time\n",
        "\n",
        "file_path = './transactions/synthetic_fraud_data.csv'\n",
        "process = psutil.Process(os.getpid())\n",
        "\n",
        "# -------------------------\n",
        "# 3. Optimize Data Types\n",
        "# -------------------------\n",
        "print(\"\\n🟢 Optimize Data Types...\")\n",
        "dtypes = {\n",
        "    'transaction_id': 'category',\n",
        "    'customer_id': 'category',\n",
        "    'card_number': 'int32',\n",
        "    'merchant_category': 'category',\n",
        "    'merchant_type': 'category',\n",
        "    'merchant': 'category',\n",
        "    'amount': 'float32',\n",
        "    'currency': 'category',\n",
        "    'country': 'category',\n",
        "    'city': 'category',\n",
        "    'city_size': 'category',\n",
        "    'card_type': 'category',\n",
        "    'card_present': 'bool',\n",
        "    'device': 'category',\n",
        "    'channel': 'category',\n",
        "    'device_fingerprint': 'category',\n",
        "    'ip_address': 'category',\n",
        "    'distance_from_home': 'int32',\n",
        "    'high_risk_merchant': 'bool',\n",
        "    'transaction_hour': 'int8',\n",
        "    'weekend_transaction': 'bool',\n",
        "    'is_fraud': 'bool'\n",
        "}\n",
        "parse_dates = ['timestamp']\n",
        "\n",
        "start_time_opt = time.time()\n",
        "df_opt = pd.read_csv(file_path, dtype=dtypes, parse_dates=parse_dates)\n",
        "end_time_opt = time.time()\n",
        "mem_opt = df_opt.memory_usage(deep=True).sum() / (1024**2)\n",
        "time_opt = end_time_opt - start_time_opt\n",
        "\n",
        "print(f\"[Optimized Dtypes] Time: {time_opt:.2f}s | Memory: {mem_opt:.2f}MB\")"
      ]
    },
    {
      "cell_type": "markdown",
      "metadata": {
        "id": "L9zCcDBDfaTf"
      },
      "source": [
        "**Sampling:**\n",
        "\n",
        " A random sampling technique was applied to the dataset. A 10% sample of the original data was extracted using the pandas.read_csv() function with randomly selected rows."
      ]
    },
    {
      "cell_type": "code",
      "execution_count": 7,
      "metadata": {
        "id": "92_cj0SVfvSu",
        "colab": {
          "base_uri": "https://localhost:8080/"
        },
        "outputId": "499186df-1d32-47c7-afac-852690bd5c14"
      },
      "outputs": [
        {
          "output_type": "stream",
          "name": "stdout",
          "text": [
            "\n",
            "🟢 Sampling 10% of the dataset...\n",
            "[Sampling] Time: 27.03s | Memory: 906.22MB\n"
          ]
        }
      ],
      "source": [
        "import pandas as pd\n",
        "import numpy as np\n",
        "import psutil\n",
        "import os\n",
        "import time\n",
        "\n",
        "file_path = './transactions/synthetic_fraud_data.csv'\n",
        "process = psutil.Process(os.getpid())\n",
        "\n",
        "# -------------------------\n",
        "# 4. Sampling\n",
        "# -------------------------\n",
        "print(\"\\n🟢 Sampling 10% of the dataset...\")\n",
        "sample_frac = 0.1\n",
        "n_total = sum(1 for _ in open(file_path)) - 1\n",
        "n_sample = int(n_total * sample_frac)\n",
        "skip = sorted(np.random.choice(np.arange(1, n_total + 1), size=n_total - n_sample, replace=False))\n",
        "start_time_sample = time.time()\n",
        "df_sample = pd.read_csv(file_path, skiprows=skip)\n",
        "end_time_sample = time.time()\n",
        "time_sample = end_time_sample - start_time_sample\n",
        "mem_sample = df_sample.memory_usage(deep=True).sum() / (1024**2)\n",
        "print(f\"[Sampling] Time: {time_sample:.2f}s | Memory: {mem_sample:.2f}MB\")\n"
      ]
    },
    {
      "cell_type": "markdown",
      "source": [
        "# **Task4: Comparative Analysis**"
      ],
      "metadata": {
        "id": "QyEP6hoTnS8D"
      }
    },
    {
      "cell_type": "markdown",
      "source": [
        "**Graphs**\n",
        "\n",
        "In this part we used matplotlib to plot bar chart to visualize the comparison between different optimize technique used in terms of processing time and memory usage."
      ],
      "metadata": {
        "id": "5I2W34Dc16Oo"
      }
    },
    {
      "cell_type": "code",
      "source": [
        "import pandas as pd\n",
        "import numpy as np\n",
        "import psutil\n",
        "import os\n",
        "import time\n",
        "import tracemalloc\n",
        "import matplotlib.pyplot as plt\n",
        "\n",
        "# -------------------------\n",
        "# Plotting Results\n",
        "# -------------------------\n",
        "methods = ['Load Less Data', 'Use Chunking', 'Optimize Data Types', 'Sampling']\n",
        "processing_times = [time_sel, time_chunk, time_opt, time_sample]\n",
        "memory_usages = [mem_sel, mem_chunk, mem_opt, mem_sample]\n",
        "\n",
        "fig, ax = plt.subplots(1, 2, figsize=(14, 6))\n",
        "\n",
        "# Bar chart: Processing Time\n",
        "ax[0].bar(methods, processing_times, color='skyblue')\n",
        "ax[0].set_title('Processing Time Comparison')\n",
        "ax[0].set_ylabel('Time (seconds)')\n",
        "ax[0].set_xticklabels(methods, rotation=15, ha='right')\n",
        "for i, v in enumerate(processing_times):\n",
        "    ax[0].text(i, v + 0.1, f\"{v:.2f}s\", ha='center')\n",
        "\n",
        "# Bar chart: Memory Usage\n",
        "ax[1].bar(methods, memory_usages, color='lightgreen')\n",
        "ax[1].set_title('Memory Usage Comparison')\n",
        "ax[1].set_ylabel('Memory (MB)')\n",
        "ax[1].set_xticklabels(methods, rotation=15, ha='right')\n",
        "for i, v in enumerate(memory_usages):\n",
        "    ax[1].text(i, v + 1, f\"{v:.2f}MB\", ha='center')\n",
        "\n",
        "plt.tight_layout()\n",
        "plt.show()\n"
      ],
      "metadata": {
        "colab": {
          "base_uri": "https://localhost:8080/",
          "height": 676
        },
        "id": "22XAGOYU14t6",
        "outputId": "f9f1cf26-a67e-43cc-b88f-20bd0e6b6772"
      },
      "execution_count": 11,
      "outputs": [
        {
          "output_type": "stream",
          "name": "stderr",
          "text": [
            "<ipython-input-11-5e9ff343c2eb>:22: UserWarning: set_ticklabels() should only be used with a fixed number of ticks, i.e. after set_ticks() or using a FixedLocator.\n",
            "  ax[0].set_xticklabels(methods, rotation=15, ha='right')\n",
            "<ipython-input-11-5e9ff343c2eb>:30: UserWarning: set_ticklabels() should only be used with a fixed number of ticks, i.e. after set_ticks() or using a FixedLocator.\n",
            "  ax[1].set_xticklabels(methods, rotation=15, ha='right')\n"
          ]
        },
        {
          "output_type": "display_data",
          "data": {
            "text/plain": [
              "<Figure size 1400x600 with 2 Axes>"
            ],
            "image/png": "[encoded data removed]"
          },
          "metadata": {}
        }
      ]
    }
  ],
  "metadata": {
    "colab": {
      "provenance": []
    },
    "kernelspec": {
      "display_name": "Python 3",
      "name": "python3"
    },
    "language_info": {
      "name": "python"
    }
  },
  "nbformat": 4,
  "nbformat_minor": 0
}