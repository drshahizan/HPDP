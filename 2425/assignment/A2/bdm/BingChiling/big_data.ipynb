{
  "cells": [
    {
      "cell_type": "markdown",
      "metadata": {
        "id": "mm-LKwXeJLsp"
      },
      "source": [
        "# HPDP Assignment 2: Mastering Big Data Handling\n",
        "CHEN PYNG HAW\n"
      ]
    },
    {
      "cell_type": "code",
      "execution_count": 1,
      "metadata": {
        "id": "wLfj--t2K4XN"
      },
      "outputs": [],
      "source": [
        "import os\n",
        "os.environ['KAGGLE_USERNAME'] = \"pynghawchen\"\n",
        "os.environ['KAGGLE_KEY'] = \"e7932c54737f55a09ae2db9f2ed97004\""
      ]
    },
    {
      "cell_type": "markdown",
      "metadata": {
        "id": "dyD92OYCMJE-"
      },
      "source": [
        "Load and inspect data from Kaggle"
      ]
    },
    {
      "cell_type": "code",
      "execution_count": 2,
      "metadata": {
        "colab": {
          "base_uri": "https://localhost:8080/"
        },
        "id": "roEykj_PMM4W",
        "outputId": "9e40adec-e97c-4f1b-ab4a-13d39c7d8124"
      },
      "outputs": [
        {
          "output_type": "stream",
          "name": "stderr",
          "text": [
            "<ipython-input-2-9b04f30c144c>:8: DeprecationWarning: load_dataset is deprecated and will be removed in a future version.\n",
            "  df = kagglehub.load_dataset(\n"
          ]
        },
        {
          "output_type": "stream",
          "name": "stdout",
          "text": [
            "Downloading from https://www.kaggle.com/api/v1/datasets/download/ebiswas/imdb-review-dataset?dataset_version_number=1&file_name=part-01.json...\n"
          ]
        },
        {
          "output_type": "stream",
          "name": "stderr",
          "text": [
            "100%|██████████| 379M/379M [00:03<00:00, 126MB/s]"
          ]
        },
        {
          "output_type": "stream",
          "name": "stdout",
          "text": [
            "Extracting zip of part-01.json...\n"
          ]
        },
        {
          "output_type": "stream",
          "name": "stderr",
          "text": [
            "\n"
          ]
        },
        {
          "output_type": "stream",
          "name": "stdout",
          "text": [
            "First 5 records:\n",
            "    review_id         reviewer                          movie  rating  \\\n",
            "0  rw5704482    raeldor-96879            After Life (2019– )     9.0   \n",
            "1  rw5704483          dosleeb  The Valhalla Murders (2019– )     6.0   \n",
            "2  rw5704484  brightconscious           Special OPS (2020– )     7.0   \n",
            "3  rw5704485       gasconyway              #BlackAF (2020– )     8.0   \n",
            "4  rw5704487     mmason-15867             The Droving (2020)     2.0   \n",
            "\n",
            "          review_summary review_date  spoiler_tag  \\\n",
            "0   Very Strong Season 2  3 May 2020            0   \n",
            "1  Icelandic detectives?  3 May 2020            0   \n",
            "2        Nothing special  3 May 2020            0   \n",
            "3               Good but  3 May 2020            0   \n",
            "4       An honest review  3 May 2020            0   \n",
            "\n",
            "                                       review_detail   helpful  \n",
            "0  I enjoyed the first season, but I must say I t...    [1, 1]  \n",
            "1  I know Iceland is a small country and police d...    [2, 2]  \n",
            "2  Except K K , no other actor looks comfortable ...    [0, 0]  \n",
            "3  I'm guessing that as a 62 year old white woman...    [5, 9]  \n",
            "4  Here's the truth. There's not much to this mov...  [26, 41]  \n",
            "Dataset shape: (1010293, 9)\n",
            "Columns and dtypes:\n",
            " review_id          object\n",
            "reviewer           object\n",
            "movie              object\n",
            "rating            float64\n",
            "review_summary     object\n",
            "review_date        object\n",
            "spoiler_tag         int64\n",
            "review_detail      object\n",
            "helpful            object\n",
            "dtype: object\n"
          ]
        }
      ],
      "source": [
        "import kagglehub\n",
        "from kagglehub import KaggleDatasetAdapter\n",
        "\n",
        "# relative path inside the dataset to load\n",
        "file_path = \"part-01.json\"  # based on typical file names in that dataset\n",
        "\n",
        "# Load the dataset as a pandas DataFrame\n",
        "df = kagglehub.load_dataset(\n",
        "    KaggleDatasetAdapter.PANDAS,\n",
        "    \"ebiswas/imdb-review-dataset\",\n",
        "    file_path\n",
        ")\n",
        "\n",
        "df.to_json(\"part-01.json\", orient=\"records\", lines=True)\n",
        "\n",
        "# View basic info\n",
        "print(\"First 5 records:\\n\", df.head())\n",
        "print(\"Dataset shape:\", df.shape)\n",
        "print(\"Columns and dtypes:\\n\", df.dtypes)\n"
      ]
    },
    {
      "cell_type": "markdown",
      "source": [
        "## A. Comparison of Data Handling Techniques (Pandas + Dask)"
      ],
      "metadata": {
        "id": "2vy6aRHv_W1b"
      }
    },
    {
      "cell_type": "markdown",
      "metadata": {
        "id": "KqCok-RSOn3d"
      },
      "source": [
        "1. **Load Less Data**  \n",
        "In this step, we reduced the memory footprint by loading only 5 relevant columns instead of the full 9-column dataset. This helps optimize performance during initial data exploration or modeling phases where not all data is needed."
      ]
    },
    {
      "cell_type": "code",
      "execution_count": 3,
      "metadata": {
        "colab": {
          "base_uri": "https://localhost:8080/"
        },
        "id": "LpFchWqILgkG",
        "outputId": "f81568b8-d5ba-4b87-e299-2b38129d1331"
      },
      "outputs": [
        {
          "output_type": "stream",
          "name": "stdout",
          "text": [
            "Dataset shape: (1010293, 5)\n",
            "First 5 records:\n",
            "    review_id         reviewer                          movie  rating  \\\n",
            "0  rw5704482    raeldor-96879            After Life (2019– )     9.0   \n",
            "1  rw5704483          dosleeb  The Valhalla Murders (2019– )     6.0   \n",
            "2  rw5704484  brightconscious           Special OPS (2020– )     7.0   \n",
            "3  rw5704485       gasconyway              #BlackAF (2020– )     8.0   \n",
            "4  rw5704487     mmason-15867             The Droving (2020)     2.0   \n",
            "\n",
            "   spoiler_tag  \n",
            "0            0  \n",
            "1            0  \n",
            "2            0  \n",
            "3            0  \n",
            "4            0  \n",
            "\n",
            "Memory usage: 235.14 MB\n",
            "Execution time: 16.92 seconds\n"
          ]
        }
      ],
      "source": [
        "import pandas as pd\n",
        "import time\n",
        "\n",
        "# Select only the necessary columns to reduce memory usage\n",
        "cols_to_use = ['review_id', 'reviewer', 'movie', 'rating', 'spoiler_tag']\n",
        "\n",
        "# Measure execution time\n",
        "start_time = time.time()\n",
        "\n",
        "# Load only the selected columns\n",
        "df_selected = pd.read_json(\"part-01.json\", lines=True)[cols_to_use]\n",
        "\n",
        "# Execution time\n",
        "load_time = time.time() - start_time\n",
        "\n",
        "# Display basic info\n",
        "print(\"Dataset shape:\", df_selected.shape)\n",
        "print(\"First 5 records:\\n\", df_selected.head())\n",
        "\n",
        "# Memory usage\n",
        "mem_usage = df_selected.memory_usage(deep=True).sum() / (1024**2)  # in MB\n",
        "print(f\"\\nMemory usage: {mem_usage:.2f} MB\")\n",
        "print(f\"Execution time: {load_time:.2f} seconds\")"
      ]
    },
    {
      "cell_type": "markdown",
      "metadata": {
        "id": "KpqJgXWgOtJY"
      },
      "source": [
        "2. **Use Chunking**  \n",
        "Chunking allows us to read large files without overloading memory. By setting a chunksize, we create an iterator that reads the file in parts. This is especially useful for preprocessing, aggregation, or transformation steps before full dataset loading."
      ]
    },
    {
      "cell_type": "code",
      "execution_count": 4,
      "metadata": {
        "colab": {
          "base_uri": "https://localhost:8080/"
        },
        "id": "v62QXhzwPHNC",
        "outputId": "03b0cb60-7db5-4caf-eb83-2f37535d4639"
      },
      "outputs": [
        {
          "output_type": "stream",
          "name": "stdout",
          "text": [
            "Chunk 1: (200000, 9)\n",
            "   review_id       reviewer                          movie  rating  \\\n",
            "0  rw5704482  raeldor-96879            After Life (2019– )     9.0   \n",
            "1  rw5704483        dosleeb  The Valhalla Murders (2019– )     6.0   \n",
            "\n",
            "          review_summary review_date  spoiler_tag  \\\n",
            "0   Very Strong Season 2  3 May 2020            0   \n",
            "1  Icelandic detectives?  3 May 2020            0   \n",
            "\n",
            "                                       review_detail helpful  \n",
            "0  I enjoyed the first season, but I must say I t...  [1, 1]  \n",
            "1  I know Iceland is a small country and police d...  [2, 2]  \n",
            "--------------------------------------------------\n",
            "Chunk 2: (200000, 9)\n",
            "        review_id         reviewer  \\\n",
            "200000  rw6302053  PavithraMishra1   \n",
            "200001  rw6302054        ubilstein   \n",
            "\n",
            "                                                    movie  rating  \\\n",
            "200000                                  Mum Bhai (2020– )    10.0   \n",
            "200001  The Walking Dead: World Beyond: The Sky Is a G...     6.0   \n",
            "\n",
            "                     review_summary       review_date  spoiler_tag  \\\n",
            "200000                     Mum Bhai  23 November 2020            0   \n",
            "200001  Mildly enjoyable but flawed  23 November 2020            1   \n",
            "\n",
            "                                            review_detail  helpful  \n",
            "200000  I'm looking here at the list of series that I ...   [1, 2]  \n",
            "200001  In my view the last 2 episode were ok. I think...  [5, 12]  \n",
            "--------------------------------------------------\n",
            "Chunk 3: (200000, 9)\n",
            "        review_id       reviewer  \\\n",
            "400000  rw6327441     Agent_Iris   \n",
            "400001  rw6327442  TheFearmakers   \n",
            "\n",
            "                                                    movie  rating  \\\n",
            "400000                           The Man Show (1999–2014)     1.0   \n",
            "400001  Breaking Bad: Say My Name (2012) Season 5, Epi...     9.0   \n",
            "\n",
            "                                review_summary      review_date  spoiler_tag  \\\n",
            "400000                      What a stupid show  1 December 2020            0   \n",
            "400001  This is MY Last Straw for Walter White  1 December 2020            1   \n",
            "\n",
            "                                            review_detail helpful  \n",
            "400000  I completely understand that this show was ton...  [1, 1]  \n",
            "400001  Exit the best character on the series, Mike, a...  [0, 0]  \n",
            "--------------------------------------------------\n",
            "Chunk 4: (200000, 9)\n",
            "        review_id          reviewer  \\\n",
            "600000  rw5187863  JordanThomasHall   \n",
            "600001  rw5187864     emranyo-28624   \n",
            "\n",
            "                                                    movie  rating  \\\n",
            "600000  Mayberry R.F.D.: Emmett's 50th Birthday (1968)...     7.0   \n",
            "600001                                          小丑 (2019)    10.0   \n",
            "\n",
            "           review_summary      review_date  spoiler_tag  \\\n",
            "600000      Over the Hill  14 October 2019            0   \n",
            "600001  Film of the year!  14 October 2019            0   \n",
            "\n",
            "                                            review_detail helpful  \n",
            "600000  Emmett is being playfully teased by his friend...  [3, 3]  \n",
            "600001  People will remember this joker for long long ...  [1, 3]  \n",
            "--------------------------------------------------\n",
            "Chunk 5: (200000, 9)\n",
            "        review_id       reviewer  \\\n",
            "800000  rw6381224  matt-d-hammar   \n",
            "800001  rw6381223      wdstarr-1   \n",
            "\n",
            "                                                    movie  rating  \\\n",
            "800000                                    Geostorm (2017)     1.0   \n",
            "800001  Law & Order: Special Victims Unit: Avatar (200...     2.0   \n",
            "\n",
            "                     review_summary       review_date  spoiler_tag  \\\n",
            "800000             One of the worst  19 December 2020            0   \n",
            "800001  Yes, it really is that bad.  19 December 2020            0   \n",
            "\n",
            "                                            review_detail helpful  \n",
            "800000  Terrible - please do yourself a favor and skip...  [0, 0]  \n",
            "800001  Another reviewer has labeled this episode the ...  [0, 0]  \n",
            "--------------------------------------------------\n",
            "Chunk 6: (10293, 9)\n",
            "         review_id         reviewer                     movie  rating  \\\n",
            "1000000  rw0970788           hubick  The Thin Red Line (1998)     NaN   \n",
            "1000001  rw0970789  HumanoidOfFlesh      Satan's Blood (1978)    10.0   \n",
            "\n",
            "                                 review_summary      review_date  spoiler_tag  \\\n",
            "1000000                     It's akin to poetry  1 December 2004            0   \n",
            "1000001  Very creepy and sleazy Spanish horror.  1 December 2004            0   \n",
            "\n",
            "                                             review_detail   helpful  \n",
            "1000000  If you are the type of person who appreciates ...    [1, 2]  \n",
            "1000001  \"Satan's Blood\" has to be one of the most unde...  [25, 35]  \n",
            "--------------------------------------------------\n",
            "Finished processing all chunks!\n",
            "Total rows processed: 1010293\n",
            "\n",
            "First 5 records from first chunk:\n",
            "    review_id         reviewer                          movie  rating  \\\n",
            "0  rw5704482    raeldor-96879            After Life (2019– )     9.0   \n",
            "1  rw5704483          dosleeb  The Valhalla Murders (2019– )     6.0   \n",
            "2  rw5704484  brightconscious           Special OPS (2020– )     7.0   \n",
            "3  rw5704485       gasconyway              #BlackAF (2020– )     8.0   \n",
            "4  rw5704487     mmason-15867             The Droving (2020)     2.0   \n",
            "\n",
            "          review_summary review_date  spoiler_tag  \\\n",
            "0   Very Strong Season 2  3 May 2020            0   \n",
            "1  Icelandic detectives?  3 May 2020            0   \n",
            "2        Nothing special  3 May 2020            0   \n",
            "3               Good but  3 May 2020            0   \n",
            "4       An honest review  3 May 2020            0   \n",
            "\n",
            "                                       review_detail   helpful  \n",
            "0  I enjoyed the first season, but I must say I t...    [1, 1]  \n",
            "1  I know Iceland is a small country and police d...    [2, 2]  \n",
            "2  Except K K , no other actor looks comfortable ...    [0, 0]  \n",
            "3  I'm guessing that as a 62 year old white woman...    [5, 9]  \n",
            "4  Here's the truth. There's not much to this mov...  [26, 41]  \n",
            "\n",
            "Memory usage of first chunk: 301.95 MB\n",
            "Total execution time: 16.37 seconds\n"
          ]
        }
      ],
      "source": [
        "import pandas as pd\n",
        "import time\n",
        "\n",
        "chunksize = 200_000\n",
        "chunk_iter = pd.read_json(\"part-01.json\", lines=True, chunksize=chunksize)\n",
        "\n",
        "total_rows = 0\n",
        "first_chunk_preview = None\n",
        "first_chunk_memory = 0\n",
        "\n",
        "# Measure execution time\n",
        "start_time = time.time()\n",
        "\n",
        "# Process chunks\n",
        "for i, chunk in enumerate(chunk_iter):\n",
        "    print(f\"Chunk {i+1}: {chunk.shape}\")\n",
        "    print(chunk.head(2))\n",
        "    print(\"-\" * 50)\n",
        "\n",
        "    total_rows += chunk.shape[0]\n",
        "\n",
        "    # Store preview and memory usage from first chunk only\n",
        "    if i == 0:\n",
        "        first_chunk_preview = chunk.head()\n",
        "        first_chunk_memory = chunk.memory_usage(deep=True).sum() / (1024**2)\n",
        "\n",
        "print(\"Finished processing all chunks!\")\n",
        "\n",
        "# Execution time\n",
        "load_time = time.time() - start_time\n",
        "\n",
        "# Display basic info\n",
        "print(f\"Total rows processed: {total_rows}\")\n",
        "print(\"\\nFirst 5 records from first chunk:\\n\", first_chunk_preview)\n",
        "print(f\"\\nMemory usage of first chunk: {first_chunk_memory:.2f} MB\")\n",
        "print(f\"Total execution time: {load_time:.2f} seconds\")\n"
      ]
    },
    {
      "cell_type": "markdown",
      "metadata": {
        "id": "-Zw30EZGPIE1"
      },
      "source": [
        "3. **Optimize Data Types**  \n",
        "By converting high-cardinality string columns (review_id, reviewer, movie) to category, and numeric columns to smaller types, we significantly reduce memory usage. This is vital when scaling data operations or loading multiple files."
      ]
    },
    {
      "cell_type": "code",
      "execution_count": 5,
      "metadata": {
        "colab": {
          "base_uri": "https://localhost:8080/"
        },
        "id": "VUalYFaOPLBK",
        "outputId": "3122a269-4eac-4882-d585-2f29cdc09947"
      },
      "outputs": [
        {
          "output_type": "stream",
          "name": "stdout",
          "text": [
            "Memory usage: 1249.70 MB\n",
            "Execution time: 20.66 seconds\n",
            "\n",
            "Schema:\n",
            " review_id               category\n",
            "reviewer                category\n",
            "movie                   category\n",
            "rating                   float32\n",
            "review_summary    string[python]\n",
            "review_date       datetime64[ns]\n",
            "spoiler_tag                 int8\n",
            "review_detail     string[python]\n",
            "helpful                   object\n",
            "dtype: object\n",
            "\n",
            "Sample:\n",
            "    review_id       reviewer                          movie  rating  \\\n",
            "0  rw5704482  raeldor-96879            After Life (2019– )     9.0   \n",
            "1  rw5704483        dosleeb  The Valhalla Murders (2019– )     6.0   \n",
            "\n",
            "          review_summary review_date  spoiler_tag  \\\n",
            "0   Very Strong Season 2  2020-05-03            0   \n",
            "1  Icelandic detectives?  2020-05-03            0   \n",
            "\n",
            "                                       review_detail helpful  \n",
            "0  I enjoyed the first season, but I must say I t...  [1, 1]  \n",
            "1  I know Iceland is a small country and police d...  [2, 2]  \n"
          ]
        }
      ],
      "source": [
        "import pandas as pd\n",
        "import time\n",
        "\n",
        "# Start timing\n",
        "start = time.time()\n",
        "\n",
        "# Load the dataset\n",
        "df = pd.read_json(\"part-01.json\", lines=True)\n",
        "\n",
        "# Optimize data types during loading\n",
        "df[\"review_id\"] = df[\"review_id\"].astype(\"category\")\n",
        "df[\"reviewer\"] = df[\"reviewer\"].astype(\"category\")\n",
        "df[\"movie\"] = df[\"movie\"].astype(\"category\")\n",
        "df[\"rating\"] = df[\"rating\"].astype(\"float32\")\n",
        "df[\"spoiler_tag\"] = df[\"spoiler_tag\"].astype(\"int8\")\n",
        "df[\"review_summary\"] = df[\"review_summary\"].astype(\"string\")\n",
        "df[\"review_detail\"] = df[\"review_detail\"].astype(\"string\")\n",
        "df[\"review_date\"] = pd.to_datetime(df[\"review_date\"], errors=\"coerce\")\n",
        "\n",
        "# End timing\n",
        "end = time.time()\n",
        "\n",
        "# Measure memory usage\n",
        "mem_usage = df.memory_usage(deep=True).sum() / (1024**2)  # in MB\n",
        "\n",
        "# Output\n",
        "print(f\"Memory usage: {mem_usage:.2f} MB\")\n",
        "print(f\"Execution time: {end - start:.2f} seconds\")\n",
        "print(\"\\nSchema:\\n\", df.dtypes)\n",
        "print(\"\\nSample:\\n\", df.head(2))\n"
      ]
    },
    {
      "cell_type": "markdown",
      "metadata": {
        "id": "vIGkd_PiPNgD"
      },
      "source": [
        "4. **Sampling**  \n",
        "Sampling reduces memory and compute costs during initial development. A 10% random sample (with random_state for reproducibility) provides a representative subset of the data for quicker analysis."
      ]
    },
    {
      "cell_type": "code",
      "execution_count": 6,
      "metadata": {
        "colab": {
          "base_uri": "https://localhost:8080/"
        },
        "id": "QIU3YJ30POXe",
        "outputId": "f64e0ede-4d58-47ef-a99a-aa5597502bc1"
      },
      "outputs": [
        {
          "output_type": "stream",
          "name": "stdout",
          "text": [
            "Dataset shape: (101029, 9)\n",
            "First 5 records:\n",
            "         review_id     reviewer                     movie  rating  \\\n",
            "132473  rw5159986    alidortaj               Poms (2019)     8.0   \n",
            "662071  rw5799756  ridi-arahan    Love and Shukla (2017)     8.0   \n",
            "307447  rw5549932  SnoopyStyle      Bombshell (I) (2019)     7.0   \n",
            "819809  rw2974388    agmoldham                Her (2013)     5.0   \n",
            "517600  rw5580986    steveo122  Bad Boys for Life (2020)     4.0   \n",
            "\n",
            "                                           review_summary     review_date  \\\n",
            "132473            Sweet, Heart Warming , and Entertaining  4 October 2019   \n",
            "662071  You marry not only your spouse but spouse's fa...     5 June 2020   \n",
            "307447                                   one out of three   14 March 2020   \n",
            "819809          Not really sure whether I liked it or not    5 March 2014   \n",
            "517600                              ...unmitigated drivel   27 March 2020   \n",
            "\n",
            "        spoiler_tag                                      review_detail  \\\n",
            "132473            0  I'm a guy, and this film didn't have all that ...   \n",
            "662071            0  What worked:\\nrealistic and simple screenplay ...   \n",
            "307447            0  It's 2015 at Fox News headed by Roger Ailes (J...   \n",
            "819809            0  The film is set in the future and you could sa...   \n",
            "517600            0  Bright and stupid shiny filled with unmitigate...   \n",
            "\n",
            "        helpful  \n",
            "132473   [7, 9]  \n",
            "662071   [1, 1]  \n",
            "307447   [3, 6]  \n",
            "819809   [2, 4]  \n",
            "517600  [9, 19]  \n",
            "\n",
            "Memory usage: 138.07 MB\n",
            "Execution time: 0.07 seconds\n"
          ]
        }
      ],
      "source": [
        "import pandas as pd\n",
        "import time\n",
        "\n",
        "# Load full dataset\n",
        "df_full = pd.read_json(\"part-01.json\", lines=True)\n",
        "\n",
        "# Measure execution time\n",
        "start_time = time.time()\n",
        "\n",
        "# Take a 10% random sample\n",
        "df_sampled = df_full.sample(frac=0.1, random_state=42)\n",
        "\n",
        "# Execution time\n",
        "load_time = time.time() - start_time\n",
        "\n",
        "# Display basic info\n",
        "print(\"Dataset shape:\", df_sampled.shape)\n",
        "print(\"First 5 records:\\n\", df_sampled.head())\n",
        "\n",
        "# Memory usage\n",
        "mem_usage = df_sampled.memory_usage(deep=True).sum() / (1024**2)  # in MB\n",
        "print(f\"\\nMemory usage: {mem_usage:.2f} MB\")\n",
        "print(f\"Execution time: {load_time:.2f} seconds\")"
      ]
    },
    {
      "cell_type": "markdown",
      "source": [
        "5. Parallel Processing with Dask\n",
        "\n",
        "Use Dask DataFrame to read and process large files in parallel."
      ],
      "metadata": {
        "id": "UNPm7r5B_qXT"
      }
    },
    {
      "cell_type": "code",
      "execution_count": 7,
      "metadata": {
        "id": "uVTshrgsh7j9",
        "colab": {
          "base_uri": "https://localhost:8080/"
        },
        "outputId": "ede440b6-d248-49ff-c4cb-968273ea5647"
      },
      "outputs": [
        {
          "output_type": "stream",
          "name": "stdout",
          "text": [
            "First 5 records:\n",
            "    review_id         reviewer                          movie  rating  \\\n",
            "0  rw5704482    raeldor-96879            After Life (2019– )     9.0   \n",
            "1  rw5704483          dosleeb  The Valhalla Murders (2019– )     6.0   \n",
            "2  rw5704484  brightconscious           Special OPS (2020– )     7.0   \n",
            "3  rw5704485       gasconyway              #BlackAF (2020– )     8.0   \n",
            "4  rw5704487     mmason-15867             The Droving (2020)     2.0   \n",
            "\n",
            "          review_summary review_date  spoiler_tag  \\\n",
            "0   Very Strong Season 2  3 May 2020            0   \n",
            "1  Icelandic detectives?  3 May 2020            0   \n",
            "2        Nothing special  3 May 2020            0   \n",
            "3               Good but  3 May 2020            0   \n",
            "4       An honest review  3 May 2020            0   \n",
            "\n",
            "                                       review_detail       helpful  \n",
            "0  I enjoyed the first season, but I must say I t...    ['1', '1']  \n",
            "1  I know Iceland is a small country and police d...    ['2', '2']  \n",
            "2  Except K K , no other actor looks comfortable ...    ['0', '0']  \n",
            "3  I'm guessing that as a 62 year old white woman...    ['5', '9']  \n",
            "4  Here's the truth. There's not much to this mov...  ['26', '41']  \n",
            "Dataset shape: (1010293, 9)\n",
            "Memory usage: 967.74 MB\n",
            "Execution time: 23.62 seconds\n"
          ]
        }
      ],
      "source": [
        "import dask.dataframe as dd\n",
        "import time\n",
        "\n",
        "# Start timing\n",
        "start = time.time()\n",
        "\n",
        "# Load selected columns and trigger full computation\n",
        "df = dd.read_json(\"part-01.json\", lines=True, blocksize=\"64MB\")\n",
        "\n",
        "df_computed = df.compute()\n",
        "\n",
        "# End timing\n",
        "end = time.time()\n",
        "\n",
        "# Basic info\n",
        "n_rows = df_computed.shape[0]\n",
        "n_cols = df_computed.shape[1]\n",
        "head = df_computed.head()\n",
        "\n",
        "# Memory usage\n",
        "mem_mb = df_computed.memory_usage(deep=True).sum() / (1024**2)\n",
        "\n",
        "# Output\n",
        "print(\"First 5 records:\\n\", head)\n",
        "print(f\"Dataset shape: ({n_rows}, {n_cols})\")\n",
        "print(f\"Memory usage: {mem_mb:.2f} MB\")\n",
        "print(f\"Execution time: {end - start:.2f} seconds\")"
      ]
    },
    {
      "cell_type": "markdown",
      "source": [
        "## B. Normal Load Performance Across Libraries"
      ],
      "metadata": {
        "id": "iDJhp5Rm_0AE"
      }
    },
    {
      "cell_type": "markdown",
      "source": [
        "1. Pandas"
      ],
      "metadata": {
        "id": "XsJAEt7eACXi"
      }
    },
    {
      "cell_type": "code",
      "execution_count": 8,
      "metadata": {
        "colab": {
          "base_uri": "https://localhost:8080/"
        },
        "id": "Sn0N-iKuckWU",
        "outputId": "50b4bb1d-b600-49f1-bc5e-56a68aed1c9c"
      },
      "outputs": [
        {
          "output_type": "stream",
          "name": "stdout",
          "text": [
            "Dataset shape: (1010293, 9)\n",
            "First 5 records:\n",
            "    review_id         reviewer                          movie  rating  \\\n",
            "0  rw5704482    raeldor-96879            After Life (2019– )     9.0   \n",
            "1  rw5704483          dosleeb  The Valhalla Murders (2019– )     6.0   \n",
            "2  rw5704484  brightconscious           Special OPS (2020– )     7.0   \n",
            "3  rw5704485       gasconyway              #BlackAF (2020– )     8.0   \n",
            "4  rw5704487     mmason-15867             The Droving (2020)     2.0   \n",
            "\n",
            "          review_summary review_date  spoiler_tag  \\\n",
            "0   Very Strong Season 2  3 May 2020            0   \n",
            "1  Icelandic detectives?  3 May 2020            0   \n",
            "2        Nothing special  3 May 2020            0   \n",
            "3               Good but  3 May 2020            0   \n",
            "4       An honest review  3 May 2020            0   \n",
            "\n",
            "                                       review_detail   helpful  \n",
            "0  I enjoyed the first season, but I must say I t...    [1, 1]  \n",
            "1  I know Iceland is a small country and police d...    [2, 2]  \n",
            "2  Except K K , no other actor looks comfortable ...    [0, 0]  \n",
            "3  I'm guessing that as a 62 year old white woman...    [5, 9]  \n",
            "4  Here's the truth. There's not much to this mov...  [26, 41]  \n",
            "\n",
            "Memory usage: 1370.75 MB\n",
            "Execution time: 16.52 seconds\n"
          ]
        }
      ],
      "source": [
        "import pandas as pd\n",
        "import time\n",
        "\n",
        "# Measure execution time\n",
        "start_time = time.time()\n",
        "\n",
        "# Load JSON file\n",
        "df = pd.read_json('part-01.json', lines=True)\n",
        "\n",
        "# Execution time\n",
        "load_time = time.time() - start_time\n",
        "\n",
        "# Display basic info\n",
        "print(\"Dataset shape:\", df.shape)\n",
        "print(\"First 5 records:\\n\", df.head())\n",
        "\n",
        "# Memory usage\n",
        "mem_usage = df.memory_usage(deep=True).sum() / (1024**2)  # in MB\n",
        "print(f\"\\nMemory usage: {mem_usage:.2f} MB\")\n",
        "print(f\"Execution time: {load_time:.2f} seconds\")"
      ]
    },
    {
      "cell_type": "markdown",
      "source": [
        "2. Polars"
      ],
      "metadata": {
        "id": "7zfc0ZbP__63"
      }
    },
    {
      "cell_type": "code",
      "source": [
        "import polars as pl\n",
        "import time\n",
        "\n",
        "# Measure time\n",
        "start = time.time()\n",
        "\n",
        "# Load only selected columns\n",
        "df_polars = pl.read_ndjson(\"part-01.json\")\n",
        "\n",
        "end = time.time()\n",
        "\n",
        "# Show basic info\n",
        "print(df_polars.head(5))\n",
        "print(\"Shape:\", df_polars.shape)\n",
        "print(f\"Execution Time: {end - start:.2f} seconds\")\n",
        "print(f\"Memory usage: {df_polars.estimated_size('mb'):.2f} MB\")"
      ],
      "metadata": {
        "id": "Krx0reI6AAQc",
        "colab": {
          "base_uri": "https://localhost:8080/"
        },
        "outputId": "9befc9b9-f3c8-479a-b645-e51ec5cc779e"
      },
      "execution_count": 9,
      "outputs": [
        {
          "output_type": "stream",
          "name": "stdout",
          "text": [
            "shape: (5, 9)\n",
            "┌───────────┬────────────┬────────────┬────────┬───┬───────────┬───────────┬───────────┬───────────┐\n",
            "│ review_id ┆ reviewer   ┆ movie      ┆ rating ┆ … ┆ review_da ┆ spoiler_t ┆ review_de ┆ helpful   │\n",
            "│ ---       ┆ ---        ┆ ---        ┆ ---    ┆   ┆ te        ┆ ag        ┆ tail      ┆ ---       │\n",
            "│ str       ┆ str        ┆ str        ┆ f64    ┆   ┆ ---       ┆ ---       ┆ ---       ┆ list[str] │\n",
            "│           ┆            ┆            ┆        ┆   ┆ str       ┆ i64       ┆ str       ┆           │\n",
            "╞═══════════╪════════════╪════════════╪════════╪═══╪═══════════╪═══════════╪═══════════╪═══════════╡\n",
            "│ rw5704482 ┆ raeldor-96 ┆ After Life ┆ 9.0    ┆ … ┆ 3 May     ┆ 0         ┆ I enjoyed ┆ [\"1\",     │\n",
            "│           ┆ 879        ┆ (2019– )   ┆        ┆   ┆ 2020      ┆           ┆ the first ┆ \"1\"]      │\n",
            "│           ┆            ┆            ┆        ┆   ┆           ┆           ┆ season,   ┆           │\n",
            "│           ┆            ┆            ┆        ┆   ┆           ┆           ┆ bu…       ┆           │\n",
            "│ rw5704483 ┆ dosleeb    ┆ The        ┆ 6.0    ┆ … ┆ 3 May     ┆ 0         ┆ I know    ┆ [\"2\",     │\n",
            "│           ┆            ┆ Valhalla   ┆        ┆   ┆ 2020      ┆           ┆ Iceland   ┆ \"2\"]      │\n",
            "│           ┆            ┆ Murders    ┆        ┆   ┆           ┆           ┆ is a      ┆           │\n",
            "│           ┆            ┆ (2019– )   ┆        ┆   ┆           ┆           ┆ small     ┆           │\n",
            "│           ┆            ┆            ┆        ┆   ┆           ┆           ┆ coun…     ┆           │\n",
            "│ rw5704484 ┆ brightcons ┆ Special    ┆ 7.0    ┆ … ┆ 3 May     ┆ 0         ┆ Except K  ┆ [\"0\",     │\n",
            "│           ┆ cious      ┆ OPS (2020– ┆        ┆   ┆ 2020      ┆           ┆ K , no    ┆ \"0\"]      │\n",
            "│           ┆            ┆ )          ┆        ┆   ┆           ┆           ┆ other     ┆           │\n",
            "│           ┆            ┆            ┆        ┆   ┆           ┆           ┆ actor lo… ┆           │\n",
            "│ rw5704485 ┆ gasconyway ┆ #BlackAF   ┆ 8.0    ┆ … ┆ 3 May     ┆ 0         ┆ I'm       ┆ [\"5\",     │\n",
            "│           ┆            ┆ (2020– )   ┆        ┆   ┆ 2020      ┆           ┆ guessing  ┆ \"9\"]      │\n",
            "│           ┆            ┆            ┆        ┆   ┆           ┆           ┆ that as a ┆           │\n",
            "│           ┆            ┆            ┆        ┆   ┆           ┆           ┆ 62 year…  ┆           │\n",
            "│ rw5704487 ┆ mmason-158 ┆ The        ┆ 2.0    ┆ … ┆ 3 May     ┆ 0         ┆ Here's    ┆ [\"26\",    │\n",
            "│           ┆ 67         ┆ Droving    ┆        ┆   ┆ 2020      ┆           ┆ the       ┆ \"41\"]     │\n",
            "│           ┆            ┆ (2020)     ┆        ┆   ┆           ┆           ┆ truth.    ┆           │\n",
            "│           ┆            ┆            ┆        ┆   ┆           ┆           ┆ There's   ┆           │\n",
            "│           ┆            ┆            ┆        ┆   ┆           ┆           ┆ not …     ┆           │\n",
            "└───────────┴────────────┴────────────┴────────┴───┴───────────┴───────────┴───────────┴───────────┘\n",
            "Shape: (1010293, 9)\n",
            "Execution Time: 2.19 seconds\n",
            "Memory usage: 906.20 MB\n"
          ]
        }
      ]
    },
    {
      "cell_type": "markdown",
      "source": [
        "3. Dask"
      ],
      "metadata": {
        "id": "i_CAPp5SAGXA"
      }
    },
    {
      "cell_type": "code",
      "source": [
        "import dask.dataframe as dd\n",
        "import time\n",
        "\n",
        "# Start timing\n",
        "start = time.time()\n",
        "\n",
        "# Load selected columns and trigger full computation\n",
        "df = dd.read_json(\"part-01.json\", lines=True, blocksize=\"64MB\")\n",
        "\n",
        "df_computed = df.compute()\n",
        "\n",
        "# End timing\n",
        "end = time.time()\n",
        "\n",
        "# Basic info\n",
        "n_rows = df_computed.shape[0]\n",
        "n_cols = df_computed.shape[1]\n",
        "head = df_computed.head()\n",
        "\n",
        "# Memory usage\n",
        "mem_mb = df_computed.memory_usage(deep=True).sum() / (1024**2)\n",
        "\n",
        "# Output\n",
        "print(\"First 5 records:\\n\", head)\n",
        "print(f\"Dataset shape: ({n_rows}, {n_cols})\")\n",
        "print(f\"Memory usage: {mem_mb:.2f} MB\")\n",
        "print(f\"Execution time: {end - start:.2f} seconds\")"
      ],
      "metadata": {
        "id": "WQWgBezMAHpZ",
        "colab": {
          "base_uri": "https://localhost:8080/"
        },
        "outputId": "a678981f-2647-4c8f-e5df-178a0957fbfd"
      },
      "execution_count": 10,
      "outputs": [
        {
          "output_type": "stream",
          "name": "stdout",
          "text": [
            "First 5 records:\n",
            "    review_id         reviewer                          movie  rating  \\\n",
            "0  rw5704482    raeldor-96879            After Life (2019– )     9.0   \n",
            "1  rw5704483          dosleeb  The Valhalla Murders (2019– )     6.0   \n",
            "2  rw5704484  brightconscious           Special OPS (2020– )     7.0   \n",
            "3  rw5704485       gasconyway              #BlackAF (2020– )     8.0   \n",
            "4  rw5704487     mmason-15867             The Droving (2020)     2.0   \n",
            "\n",
            "          review_summary review_date  spoiler_tag  \\\n",
            "0   Very Strong Season 2  3 May 2020            0   \n",
            "1  Icelandic detectives?  3 May 2020            0   \n",
            "2        Nothing special  3 May 2020            0   \n",
            "3               Good but  3 May 2020            0   \n",
            "4       An honest review  3 May 2020            0   \n",
            "\n",
            "                                       review_detail       helpful  \n",
            "0  I enjoyed the first season, but I must say I t...    ['1', '1']  \n",
            "1  I know Iceland is a small country and police d...    ['2', '2']  \n",
            "2  Except K K , no other actor looks comfortable ...    ['0', '0']  \n",
            "3  I'm guessing that as a 62 year old white woman...    ['5', '9']  \n",
            "4  Here's the truth. There's not much to this mov...  ['26', '41']  \n",
            "Dataset shape: (1010293, 9)\n",
            "Memory usage: 967.74 MB\n",
            "Execution time: 22.78 seconds\n"
          ]
        }
      ]
    },
    {
      "cell_type": "markdown",
      "source": [
        "## C. Comparative Analysis"
      ],
      "metadata": {
        "id": "nNnC8gStWszM"
      }
    },
    {
      "cell_type": "markdown",
      "source": [
        "###📊 Part 1: Comparison of Data Handling Techniques (Pandas + Dask)\n",
        "\n",
        "This section visualizes the performance of five data handling strategies applied to a large dataset. The first four strategies—Load Less Data, Use Chunking, Optimize Data Types, and Sampling—are implemented using Pandas, while the fifth strategy—Parallel Processing with Dask—uses Dask with normal loading.   \n",
        "\n",
        "Two bar charts are generated:\n",
        "\n",
        "1. One compares the execution time (in seconds).\n",
        "\n",
        "2. The other compares the memory usage (in MB).\n",
        "\n",
        "This analysis helps identify which technique offers the best trade-off between speed and memory efficiency when using traditional vs. parallelized approaches."
      ],
      "metadata": {
        "id": "eeR66YRvWA3W"
      }
    },
    {
      "cell_type": "code",
      "source": [
        "import matplotlib.pyplot as plt\n",
        "import pandas as pd\n",
        "\n",
        "# Define comparison data\n",
        "techniques = [\n",
        "    \"Load Less Data\",\n",
        "    \"Use Chunking\",\n",
        "    \"Optimize Data Types\",\n",
        "    \"Sampling\",\n",
        "    \"Parallel Processing with Dask\"\n",
        "]\n",
        "\n",
        "execution_time = [\n",
        "    16.92,   # Pandas: Load Less Data\n",
        "    16.37,   # Pandas: Use Chunking\n",
        "    20.66,   # Pandas: Optimize Data Types\n",
        "    0.07,    # Pandas: Sampling\n",
        "    23.62    # Dask: Normal Load as Parallel\n",
        "]\n",
        "\n",
        "memory_usage = [\n",
        "    235.14,  # Pandas: Load Less Data\n",
        "    301.95,  # Pandas: Use Chunking\n",
        "    1249.7,  # Pandas: Optimize Data Types\n",
        "    138.07,  # Pandas: Sampling\n",
        "    967.74   # Dask: Normal Load as Parallel\n",
        "]\n",
        "\n",
        "# Create DataFrames\n",
        "df_comparison = pd.DataFrame({\n",
        "    \"Technique\": techniques,\n",
        "    \"Execution Time (s)\": execution_time,\n",
        "    \"Memory Usage (MB)\": memory_usage\n",
        "}).set_index(\"Technique\")\n",
        "\n",
        "# Plot execution time\n",
        "fig1, ax1 = plt.subplots(figsize=(10, 5))\n",
        "df_comparison[\"Execution Time (s)\"].plot(kind=\"bar\", ax=ax1, color='skyblue')\n",
        "ax1.set_title(\"Execution Time for Different Data Handling Techniques\", fontweight='bold')\n",
        "ax1.set_ylabel(\"Time (seconds)\", fontweight='bold')\n",
        "ax1.set_xlabel(\"Technique\", fontweight='bold')\n",
        "plt.xticks(rotation=15, ha='right')\n",
        "plt.tight_layout()\n",
        "plt.subplots_adjust(bottom=0.2)\n",
        "\n",
        "# Plot memory usage\n",
        "fig2, ax2 = plt.subplots(figsize=(10, 5))\n",
        "df_comparison[\"Memory Usage (MB)\"].plot(kind=\"bar\", ax=ax2, color='salmon')\n",
        "ax2.set_title(\"Memory Usage for Different Data Handling Techniques\", fontweight='bold')\n",
        "ax2.set_ylabel(\"Memory (MB)\", fontweight='bold')\n",
        "ax2.set_xlabel(\"Technique\", fontweight='bold')\n",
        "plt.xticks(rotation=15, ha='right')\n",
        "plt.tight_layout()\n",
        "plt.subplots_adjust(bottom=0.2)\n",
        "\n",
        "plt.show()\n"
      ],
      "metadata": {
        "id": "jkFoa4TQATF8",
        "colab": {
          "base_uri": "https://localhost:8080/",
          "height": 1000
        },
        "outputId": "603b779c-aba7-4906-fb6b-8270402d9012"
      },
      "execution_count": 13,
      "outputs": [
        {
          "output_type": "display_data",
          "data": {
            "text/plain": [
              "<Figure size 1000x500 with 1 Axes>"
            ],
            "image/png": "[encoded data removed]"
          },
          "metadata": {}
        },
        {
          "output_type": "display_data",
          "data": {
            "text/plain": [
              "<Figure size 1000x500 with 1 Axes>"
            ],
            "image/png": "[encoded data removed]"
          },
          "metadata": {}
        }
      ]
    },
    {
      "cell_type": "markdown",
      "source": [
        "#### Ease of Processing\n",
        "From a usability perspective, Pandas offers a very intuitive and beginner-friendly interface for implementing strategies like Load Less Data, Chunking, Type Optimization, and Sampling. These methods require only minor adjustments to the typical Pandas workflow, such as:\n",
        "\n",
        "- Adding a usecols parameter for column filtering,\n",
        "\n",
        "- Iterating over read_csv(..., chunksize=...),\n",
        "\n",
        "- Converting data types with .astype() or pd.to_numeric(),\n",
        "\n",
        "- Applying .sample() for downsampling.\n",
        "\n",
        "However, Dask—used here as the parallel processing tool—has a slightly steeper learning curve. It requires understanding of lazy evaluation and compute() calls to trigger actual operations. While it closely mimics the Pandas API, users need to be more deliberate with operations due to Dask's deferred execution model.\n",
        "\n",
        "In summary:\n",
        "\n",
        "- Pandas techniques are easier to apply and debug for most users.\n",
        "\n",
        "- Dask provides power and scalability but requires more care in planning and execution, especially when chaining transformations."
      ],
      "metadata": {
        "id": "kYFzB_TGWcOs"
      }
    },
    {
      "cell_type": "markdown",
      "source": [
        "### 📊 Part 2: Normal Load Performance Across Libraries\n",
        "\n",
        "In this comparison, the dataset is loaded normally (without optimization) using three different libraries: Pandas, Polars, and Dask. The two resulting bar charts show:\n",
        "\n",
        "1. The execution time taken by each library to load the full dataset.\n",
        "\n",
        "2. The memory consumed during the loading process.\n",
        "\n",
        "This highlights the baseline efficiency of each library, helping to inform which tool might be the most suitable for large-scale data handling in its default configuration."
      ],
      "metadata": {
        "id": "oZ4iUzHRWjYx"
      }
    },
    {
      "cell_type": "code",
      "source": [
        "import matplotlib.pyplot as plt\n",
        "import pandas as pd\n",
        "\n",
        "# Data for normal load across libraries\n",
        "libraries = [\"Pandas\", \"Polars\", \"Dask\"]\n",
        "\n",
        "execution_time = [16.52, 2.19, 22.78]\n",
        "memory_usage = [1370.75, 906.2, 967.74]\n",
        "\n",
        "# Create DataFrame\n",
        "df_normal_load = pd.DataFrame({\n",
        "    \"Library\": libraries,\n",
        "    \"Execution Time (s)\": execution_time,\n",
        "    \"Memory Usage (MB)\": memory_usage\n",
        "}).set_index(\"Library\")\n",
        "\n",
        "# Plot execution time\n",
        "fig1, ax1 = plt.subplots(figsize=(8, 5))\n",
        "df_normal_load[\"Execution Time (s)\"].plot(kind=\"bar\", ax=ax1, color='lightgreen')\n",
        "ax1.set_title(\"Execution Time for Normal Load by Library\", fontweight='bold')\n",
        "ax1.set_ylabel(\"Time (seconds)\", fontweight='bold')\n",
        "ax1.set_xlabel(\"Library\", fontweight='bold')\n",
        "plt.xticks(rotation=0)\n",
        "plt.tight_layout()\n",
        "\n",
        "# Plot memory usage\n",
        "fig2, ax2 = plt.subplots(figsize=(8, 5))\n",
        "df_normal_load[\"Memory Usage (MB)\"].plot(kind=\"bar\", ax=ax2, color='lightcoral')\n",
        "ax2.set_title(\"Memory Usage for Normal Load by Library\", fontweight='bold')\n",
        "ax2.set_ylabel(\"Memory (MB)\", fontweight='bold')\n",
        "ax2.set_xlabel(\"Library\", fontweight='bold')\n",
        "plt.xticks(rotation=0)\n",
        "plt.tight_layout()\n",
        "\n",
        "plt.show()"
      ],
      "metadata": {
        "colab": {
          "base_uri": "https://localhost:8080/",
          "height": 997
        },
        "id": "Q1xDdvYUWbsj",
        "outputId": "ffd31873-8a00-45db-81c6-fb5eb033d88a"
      },
      "execution_count": 14,
      "outputs": [
        {
          "output_type": "display_data",
          "data": {
            "text/plain": [
              "<Figure size 800x500 with 1 Axes>"
            ],
            "image/png": "[encoded data removed]"
          },
          "metadata": {}
        },
        {
          "output_type": "display_data",
          "data": {
            "text/plain": [
              "<Figure size 800x500 with 1 Axes>"
            ],
            "image/png": "[encoded data removed]"
          },
          "metadata": {}
        }
      ]
    },
    {
      "cell_type": "markdown",
      "source": [
        "#### Ease of Processing\n",
        "Loading data normally with Pandas is straightforward and well-documented. It has the broadest community support and the most mature ecosystem, making it the easiest for most users.\n",
        "\n",
        "Polars, on the other hand, is newer but optimized for speed and memory. While it uses a different syntax based on expressions and lazy evaluation, its documentation is growing, and once familiar, it can be just as productive. It may take a little more effort initially for those coming from a Pandas background.\n",
        "\n",
        "Dask, as previously noted, introduces complexity due to lazy execution and the need to explicitly compute() results. For normal loading, it is still simple, but integrating it into more complex workflows requires deeper knowledge of task graphs and memory partitions.\n",
        "\n",
        "In summary:\n",
        "\n",
        "- Pandas is easiest for direct use and familiarity.\n",
        "\n",
        "- Polars is fast but slightly different in syntax, requiring adaptation.\n",
        "\n",
        "- Dask is the most scalable but requires the most care in design."
      ],
      "metadata": {
        "id": "VIxuFerbW10f"
      }
    }
  ],
  "metadata": {
    "colab": {
      "provenance": []
    },
    "kernelspec": {
      "display_name": "Python 3",
      "name": "python3"
    },
    "language_info": {
      "name": "python"
    }
  },
  "nbformat": 4,
  "nbformat_minor": 0
}
